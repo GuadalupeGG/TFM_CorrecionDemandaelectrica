{
 "cells": [
  {
   "cell_type": "markdown",
   "metadata": {},
   "source": [
    "## Instalo las librerías necesarias"
   ]
  },
  {
   "cell_type": "code",
   "execution_count": 1,
   "metadata": {},
   "outputs": [],
   "source": [
    "import pandas as pd\n",
    "import pyodbc"
   ]
  },
  {
   "cell_type": "markdown",
   "metadata": {},
   "source": [
    "## Me conecto a la BBDD\n",
    "\n",
    "Esto no es reproducible ya que es una BBDD de mi trabajo"
   ]
  },
  {
   "cell_type": "code",
   "execution_count": 15,
   "metadata": {},
   "outputs": [],
   "source": [
    "def connect_to_SGE():\n",
    "    conn = pyodbc.connect(r'DRIVER={SQL Server Native Client 11.0};'\n",
    "                          r'SERVER=62.93.187.183;'\n",
    "                          r'DATABASE=SGE;'\n",
    "                          r'UID=Python;'\n",
    "                          r'PWD=Ff5UJ+S9sgk'\n",
    "                         )\n",
    "\n",
    "    return conn\n",
    "\n",
    "def simple_query(sql):    \n",
    "    conn = connect_to_SGE()    \n",
    "    data = pd.read_sql(sql,conn)\n",
    "    return data"
   ]
  },
  {
   "cell_type": "markdown",
   "metadata": {},
   "source": [
    "Defino tanto las fechas para la que quiero realizar la consulta como la ruta donde quiero que me deje el fichero de temperaturas"
   ]
  },
  {
   "cell_type": "code",
   "execution_count": 27,
   "metadata": {},
   "outputs": [],
   "source": [
    "fecha_ini, fecha_fin = '20161231', '20170131'\n",
    "ruta = r'C:\\Users\\guadguer\\Notebook\\Temperaturas\\\\'"
   ]
  },
  {
   "cell_type": "markdown",
   "metadata": {},
   "source": [
    "Esta BBDD tiene tanto medidas de temperaturas reales como temperaturas previstas a futuro, en el notebook tengo tanto la opción de apuntar a la tabla de previsiones como a la de medidas reales"
   ]
  },
  {
   "cell_type": "markdown",
   "metadata": {},
   "source": [
    "Para descargar previsiones"
   ]
  },
  {
   "cell_type": "code",
   "execution_count": 28,
   "metadata": {},
   "outputs": [
    {
     "data": {
      "text/html": [
       "<div>\n",
       "<style scoped>\n",
       "    .dataframe tbody tr th:only-of-type {\n",
       "        vertical-align: middle;\n",
       "    }\n",
       "\n",
       "    .dataframe tbody tr th {\n",
       "        vertical-align: top;\n",
       "    }\n",
       "\n",
       "    .dataframe thead th {\n",
       "        text-align: right;\n",
       "    }\n",
       "</style>\n",
       "<table border=\"1\" class=\"dataframe\">\n",
       "  <thead>\n",
       "    <tr style=\"text-align: right;\">\n",
       "      <th></th>\n",
       "      <th>Fecha</th>\n",
       "      <th>Localidad</th>\n",
       "      <th>Temperatura</th>\n",
       "    </tr>\n",
       "  </thead>\n",
       "  <tbody>\n",
       "    <tr>\n",
       "      <th>0</th>\n",
       "      <td>2017-01-11 07:00:00</td>\n",
       "      <td>A Coruña-Cambre</td>\n",
       "      <td>11.0</td>\n",
       "    </tr>\n",
       "    <tr>\n",
       "      <th>1</th>\n",
       "      <td>2017-01-11 07:00:00</td>\n",
       "      <td>A Coruña-Culleredo</td>\n",
       "      <td>11.0</td>\n",
       "    </tr>\n",
       "    <tr>\n",
       "      <th>2</th>\n",
       "      <td>2017-01-11 07:00:00</td>\n",
       "      <td>Albacete-Albacete</td>\n",
       "      <td>4.0</td>\n",
       "    </tr>\n",
       "    <tr>\n",
       "      <th>3</th>\n",
       "      <td>2017-01-11 07:00:00</td>\n",
       "      <td>Albacete-Chinchilla de Monte-Aragón</td>\n",
       "      <td>3.0</td>\n",
       "    </tr>\n",
       "    <tr>\n",
       "      <th>4</th>\n",
       "      <td>2017-01-11 07:00:00</td>\n",
       "      <td>Badajoz-Badajoz</td>\n",
       "      <td>5.0</td>\n",
       "    </tr>\n",
       "  </tbody>\n",
       "</table>\n",
       "</div>"
      ],
      "text/plain": [
       "                Fecha                            Localidad  Temperatura\n",
       "0 2017-01-11 07:00:00                      A Coruña-Cambre         11.0\n",
       "1 2017-01-11 07:00:00                   A Coruña-Culleredo         11.0\n",
       "2 2017-01-11 07:00:00                    Albacete-Albacete          4.0\n",
       "3 2017-01-11 07:00:00  Albacete-Chinchilla de Monte-Aragón          3.0\n",
       "4 2017-01-11 07:00:00                      Badajoz-Badajoz          5.0"
      ]
     },
     "execution_count": 28,
     "metadata": {},
     "output_type": "execute_result"
    }
   ],
   "source": [
    "sql_prevs = \"\"\"select Fecha\n",
    "                      , Localidad\n",
    "                      , Temperatura\n",
    "               from [SGE].[aemet].[Forecast]\n",
    "               where Fecha >= '{0}'\n",
    "                     and Fecha < '{1}'\"\"\".format(fecha_ini, fecha_fin)\n",
    "\n",
    "prevs = simple_query(sql_prevs)\n",
    "\n",
    "nombre = 'prevs_temp_{0}_{1}.csv'.format(fecha_ini, fecha_fin)\n",
    "prevs.to_csv(ruta + nombre, encoding='latin1', sep=';', decimal=',', index=False)\n",
    "\n",
    "prevs.head()"
   ]
  },
  {
   "cell_type": "markdown",
   "metadata": {},
   "source": [
    "Para descargar medidas realaes"
   ]
  },
  {
   "cell_type": "code",
   "execution_count": 29,
   "metadata": {},
   "outputs": [
    {
     "data": {
      "text/html": [
       "<div>\n",
       "<style scoped>\n",
       "    .dataframe tbody tr th:only-of-type {\n",
       "        vertical-align: middle;\n",
       "    }\n",
       "\n",
       "    .dataframe tbody tr th {\n",
       "        vertical-align: top;\n",
       "    }\n",
       "\n",
       "    .dataframe thead th {\n",
       "        text-align: right;\n",
       "    }\n",
       "</style>\n",
       "<table border=\"1\" class=\"dataframe\">\n",
       "  <thead>\n",
       "    <tr style=\"text-align: right;\">\n",
       "      <th></th>\n",
       "      <th>Fecha</th>\n",
       "      <th>Localidad</th>\n",
       "      <th>Temperatura</th>\n",
       "    </tr>\n",
       "  </thead>\n",
       "  <tbody>\n",
       "    <tr>\n",
       "      <th>0</th>\n",
       "      <td>2017-01-11 07:00:00</td>\n",
       "      <td>A Coruña-Cambre</td>\n",
       "      <td>11.0</td>\n",
       "    </tr>\n",
       "    <tr>\n",
       "      <th>1</th>\n",
       "      <td>2017-01-11 07:00:00</td>\n",
       "      <td>A Coruña-Culleredo</td>\n",
       "      <td>11.0</td>\n",
       "    </tr>\n",
       "    <tr>\n",
       "      <th>2</th>\n",
       "      <td>2017-01-11 07:00:00</td>\n",
       "      <td>Albacete-Albacete</td>\n",
       "      <td>4.0</td>\n",
       "    </tr>\n",
       "    <tr>\n",
       "      <th>3</th>\n",
       "      <td>2017-01-11 07:00:00</td>\n",
       "      <td>Albacete-Chinchilla de Monte-Aragón</td>\n",
       "      <td>3.0</td>\n",
       "    </tr>\n",
       "    <tr>\n",
       "      <th>4</th>\n",
       "      <td>2017-01-11 07:00:00</td>\n",
       "      <td>Badajoz-Badajoz</td>\n",
       "      <td>5.0</td>\n",
       "    </tr>\n",
       "  </tbody>\n",
       "</table>\n",
       "</div>"
      ],
      "text/plain": [
       "                Fecha                            Localidad  Temperatura\n",
       "0 2017-01-11 07:00:00                      A Coruña-Cambre         11.0\n",
       "1 2017-01-11 07:00:00                   A Coruña-Culleredo         11.0\n",
       "2 2017-01-11 07:00:00                    Albacete-Albacete          4.0\n",
       "3 2017-01-11 07:00:00  Albacete-Chinchilla de Monte-Aragón          3.0\n",
       "4 2017-01-11 07:00:00                      Badajoz-Badajoz          5.0"
      ]
     },
     "execution_count": 29,
     "metadata": {},
     "output_type": "execute_result"
    }
   ],
   "source": [
    "sql_temps = \"\"\"select Fecha\n",
    "                      , Localidad\n",
    "                      , Temperatura\n",
    "               from [SGE].[aemet].[measure]\n",
    "               where Fecha >= '{0}'\n",
    "                     and Fecha < '{1}'\"\"\".format(fecha_ini, fecha_fin)\n",
    "\n",
    "temps = simple_query(sql_prevs)\n",
    "\n",
    "\n",
    "nombre = 'medidas_temp_{0}_{1}.csv'.format(fecha_ini, fecha_fin)\n",
    "temps.to_csv(ruta + nombre, encoding='latin1', sep=';', decimal=',', index=False)\n",
    "\n",
    "temps.head()"
   ]
  }
 ],
 "metadata": {
  "kernelspec": {
   "display_name": "Python 3",
   "language": "python",
   "name": "python3"
  },
  "language_info": {
   "codemirror_mode": {
    "name": "ipython",
    "version": 3
   },
   "file_extension": ".py",
   "mimetype": "text/x-python",
   "name": "python",
   "nbconvert_exporter": "python",
   "pygments_lexer": "ipython3",
   "version": "3.6.8"
  }
 },
 "nbformat": 4,
 "nbformat_minor": 2
}
