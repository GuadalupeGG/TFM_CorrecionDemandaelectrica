{
 "cells": [
  {
   "cell_type": "markdown",
   "metadata": {},
   "source": [
    "# Tratamiento de curvas v2"
   ]
  },
  {
   "cell_type": "markdown",
   "metadata": {},
   "source": [
    "Tras muchos problemas tratando los datos de medida, me veo obligada a simplificar la vida de una comercializadora y reducir mi data set.\n",
    "\n",
    "Me voy a quedar solamente con aquellos puntos de los que tengo curva horaria completa para el periodo de dos años (2017-2018), y lo voy a reducir a tres zonas geograficas (Norte, Centro y Sur)\n",
    "\n",
    "Empiezo igual que con el notebook anterior, pero voy rodeando problemas y buscando soluciones alternativas"
   ]
  },
  {
   "cell_type": "markdown",
   "metadata": {},
   "source": [
    "# Importar librerias necesarias"
   ]
  },
  {
   "cell_type": "code",
   "execution_count": 49,
   "metadata": {
    "collapsed": true
   },
   "outputs": [],
   "source": [
    "import pandas as pd\n",
    "import openpyxl\n",
    "import matplotlib.pyplot as plt\n",
    "%matplotlib inline\n",
    "from matplotlib import colors\n",
    "import numpy as np\n",
    "import numpy.ma as ma\n",
    "import seaborn as sns\n",
    "import datetime as dt\n",
    "from datetime import timedelta\n"
   ]
  },
  {
   "cell_type": "markdown",
   "metadata": {},
   "source": [
    "# Lectura de los datos\n",
    "\n",
    "Tengo toda la información de curvas de medida en dos ficheros excel, cada uno de los ficheros tiene varias pestañas por lo que tengo que unir toda la información en un solo data frame.\n",
    "\n",
    "No voy a leer las columnas del fichero, son las mismas y me ahorro el tiempo que tardo en acceder al fichero y leer las pestañas"
   ]
  },
  {
   "cell_type": "code",
   "execution_count": null,
   "metadata": {},
   "outputs": [],
   "source": [
    "# excel_document_17 = openpyxl.load_workbook('./data/Cups2017.xlsx')"
   ]
  },
  {
   "cell_type": "code",
   "execution_count": null,
   "metadata": {},
   "outputs": [],
   "source": [
    "# excel_document_17.get_sheet_names()"
   ]
  },
  {
   "cell_type": "markdown",
   "metadata": {},
   "source": [
    "### Unificar los datos. \n",
    "\n",
    "Accedemos al fichero excel y creamos un data frame de cada una de las pestaña, a continuación unimos todos los data frame en uno solo."
   ]
  },
  {
   "cell_type": "code",
   "execution_count": 49,
   "metadata": {},
   "outputs": [],
   "source": [
    "xlsx_2017 = pd.ExcelFile('./data/Cups2017.xlsx') \n",
    "\n",
    "df1 = pd.read_excel(xlsx_2017, 'Page 1') \n",
    "df2 = pd.read_excel(xlsx_2017, 'Page 2') \n",
    "df3 = pd.read_excel(xlsx_2017, 'Page 3') \n",
    "df4 = pd.read_excel(xlsx_2017, 'Page 4')"
   ]
  },
  {
   "cell_type": "code",
   "execution_count": 69,
   "metadata": {},
   "outputs": [
    {
     "data": {
      "text/html": [
       "<div>\n",
       "<style scoped>\n",
       "    .dataframe tbody tr th:only-of-type {\n",
       "        vertical-align: middle;\n",
       "    }\n",
       "\n",
       "    .dataframe tbody tr th {\n",
       "        vertical-align: top;\n",
       "    }\n",
       "\n",
       "    .dataframe thead th {\n",
       "        text-align: right;\n",
       "    }\n",
       "</style>\n",
       "<table border=\"1\" class=\"dataframe\">\n",
       "  <thead>\n",
       "    <tr style=\"text-align: right;\">\n",
       "      <th></th>\n",
       "      <th>--Cups20--</th>\n",
       "      <th>--Line--</th>\n",
       "      <th>--Fecha--</th>\n",
       "      <th>--Hora--</th>\n",
       "      <th>--Active--</th>\n",
       "      <th>--Active With Transport Loss--</th>\n",
       "      <th>--Active With Transform Loss--</th>\n",
       "    </tr>\n",
       "  </thead>\n",
       "  <tbody>\n",
       "    <tr>\n",
       "      <th>0</th>\n",
       "      <td>ES0021000000274345SK</td>\n",
       "      <td>0P</td>\n",
       "      <td>2017-01-01</td>\n",
       "      <td>1</td>\n",
       "      <td>0.330</td>\n",
       "      <td>0.42207</td>\n",
       "      <td>0.330</td>\n",
       "    </tr>\n",
       "    <tr>\n",
       "      <th>1</th>\n",
       "      <td>ES0021000000274345SK</td>\n",
       "      <td>0P</td>\n",
       "      <td>2017-01-01</td>\n",
       "      <td>2</td>\n",
       "      <td>0.152</td>\n",
       "      <td>0.19456</td>\n",
       "      <td>0.152</td>\n",
       "    </tr>\n",
       "    <tr>\n",
       "      <th>2</th>\n",
       "      <td>ES0021000000274345SK</td>\n",
       "      <td>0P</td>\n",
       "      <td>2017-01-01</td>\n",
       "      <td>3</td>\n",
       "      <td>0.273</td>\n",
       "      <td>0.34944</td>\n",
       "      <td>0.273</td>\n",
       "    </tr>\n",
       "    <tr>\n",
       "      <th>3</th>\n",
       "      <td>ES0021000000274345SK</td>\n",
       "      <td>0P</td>\n",
       "      <td>2017-01-01</td>\n",
       "      <td>4</td>\n",
       "      <td>0.156</td>\n",
       "      <td>0.19968</td>\n",
       "      <td>0.156</td>\n",
       "    </tr>\n",
       "    <tr>\n",
       "      <th>4</th>\n",
       "      <td>ES0021000000274345SK</td>\n",
       "      <td>0P</td>\n",
       "      <td>2017-01-01</td>\n",
       "      <td>5</td>\n",
       "      <td>0.311</td>\n",
       "      <td>0.39808</td>\n",
       "      <td>0.311</td>\n",
       "    </tr>\n",
       "  </tbody>\n",
       "</table>\n",
       "</div>"
      ],
      "text/plain": [
       "             --Cups20-- --Line--  --Fecha--  --Hora--  --Active--  \\\n",
       "0  ES0021000000274345SK       0P 2017-01-01         1       0.330   \n",
       "1  ES0021000000274345SK       0P 2017-01-01         2       0.152   \n",
       "2  ES0021000000274345SK       0P 2017-01-01         3       0.273   \n",
       "3  ES0021000000274345SK       0P 2017-01-01         4       0.156   \n",
       "4  ES0021000000274345SK       0P 2017-01-01         5       0.311   \n",
       "\n",
       "   --Active With Transport Loss--  --Active With Transform Loss--  \n",
       "0                         0.42207                           0.330  \n",
       "1                         0.19456                           0.152  \n",
       "2                         0.34944                           0.273  \n",
       "3                         0.19968                           0.156  \n",
       "4                         0.39808                           0.311  "
      ]
     },
     "execution_count": 69,
     "metadata": {},
     "output_type": "execute_result"
    }
   ],
   "source": [
    "df_2017 = pd.concat([df1, df2, df3, df4])\n",
    "df_2017.head(5)"
   ]
  },
  {
   "cell_type": "markdown",
   "metadata": {},
   "source": [
    "Comprobamos que la unión de los ficheros es correcta y que el resultado df_2017 es la suma de los cuatro df anteriores"
   ]
  },
  {
   "cell_type": "code",
   "execution_count": 52,
   "metadata": {},
   "outputs": [
    {
     "data": {
      "text/plain": [
       "--Cups20--                        1018179\n",
       "--Line--                          1018179\n",
       "--Fecha--                         1018179\n",
       "--Hora--                          1018179\n",
       "--Active--                        1018179\n",
       "--Active With Transport Loss--    1018179\n",
       "--Active With Transform Loss--    1018179\n",
       "dtype: int64"
      ]
     },
     "execution_count": 52,
     "metadata": {},
     "output_type": "execute_result"
    }
   ],
   "source": [
    "df1.count()"
   ]
  },
  {
   "cell_type": "code",
   "execution_count": 53,
   "metadata": {},
   "outputs": [
    {
     "data": {
      "text/plain": [
       "--Cups20--                        1030560\n",
       "--Line--                          1030560\n",
       "--Fecha--                         1030560\n",
       "--Hora--                          1030560\n",
       "--Active--                        1030560\n",
       "--Active With Transport Loss--    1030560\n",
       "--Active With Transform Loss--    1030560\n",
       "dtype: int64"
      ]
     },
     "execution_count": 53,
     "metadata": {},
     "output_type": "execute_result"
    }
   ],
   "source": [
    "df2.count()"
   ]
  },
  {
   "cell_type": "code",
   "execution_count": 54,
   "metadata": {},
   "outputs": [
    {
     "data": {
      "text/plain": [
       "--Cups20--                        820335\n",
       "--Line--                          820335\n",
       "--Fecha--                         820335\n",
       "--Hora--                          820335\n",
       "--Active--                        820335\n",
       "--Active With Transport Loss--    820335\n",
       "--Active With Transform Loss--    820335\n",
       "dtype: int64"
      ]
     },
     "execution_count": 54,
     "metadata": {},
     "output_type": "execute_result"
    }
   ],
   "source": [
    "df3.count()"
   ]
  },
  {
   "cell_type": "code",
   "execution_count": 55,
   "metadata": {},
   "outputs": [
    {
     "data": {
      "text/plain": [
       "--Cups20--                        837613\n",
       "--Line--                          837613\n",
       "--Fecha--                         837613\n",
       "--Hora--                          837613\n",
       "--Active--                        837613\n",
       "--Active With Transport Loss--    837613\n",
       "--Active With Transform Loss--    837613\n",
       "dtype: int64"
      ]
     },
     "execution_count": 55,
     "metadata": {},
     "output_type": "execute_result"
    }
   ],
   "source": [
    "df4.count()"
   ]
  },
  {
   "cell_type": "code",
   "execution_count": 56,
   "metadata": {},
   "outputs": [
    {
     "data": {
      "text/plain": [
       "--Cups20--                        3706687\n",
       "--Line--                          3706687\n",
       "--Fecha--                         3706687\n",
       "--Hora--                          3706687\n",
       "--Active--                        3706687\n",
       "--Active With Transport Loss--    3706687\n",
       "--Active With Transform Loss--    3706687\n",
       "dtype: int64"
      ]
     },
     "execution_count": 56,
     "metadata": {},
     "output_type": "execute_result"
    }
   ],
   "source": [
    "df_2017.count()"
   ]
  },
  {
   "cell_type": "markdown",
   "metadata": {},
   "source": [
    "Vamos a crear el data set CUPS_2017 que contiene los CUPS que tengo en mi data set de medidas (df_2017) y el número de horas que tiene para cada uno de los puntos. Con esto lo que vamos a hacer es quedarnos solamente con aquellos CUPS que tengan una curva completa durante 2017."
   ]
  },
  {
   "cell_type": "code",
   "execution_count": 57,
   "metadata": {},
   "outputs": [],
   "source": [
    "Cups_2017 = df_2017.groupby(['--Cups20--']).count()\n"
   ]
  },
  {
   "cell_type": "code",
   "execution_count": 58,
   "metadata": {},
   "outputs": [],
   "source": [
    "Cups_2017=Cups_2017.reset_index()"
   ]
  },
  {
   "cell_type": "code",
   "execution_count": 59,
   "metadata": {},
   "outputs": [],
   "source": [
    "Cups_2017=Cups_2017[['--Cups20--', '--Hora--']]"
   ]
  },
  {
   "cell_type": "code",
   "execution_count": 60,
   "metadata": {},
   "outputs": [
    {
     "data": {
      "text/html": [
       "<div>\n",
       "<style scoped>\n",
       "    .dataframe tbody tr th:only-of-type {\n",
       "        vertical-align: middle;\n",
       "    }\n",
       "\n",
       "    .dataframe tbody tr th {\n",
       "        vertical-align: top;\n",
       "    }\n",
       "\n",
       "    .dataframe thead th {\n",
       "        text-align: right;\n",
       "    }\n",
       "</style>\n",
       "<table border=\"1\" class=\"dataframe\">\n",
       "  <thead>\n",
       "    <tr style=\"text-align: right;\">\n",
       "      <th></th>\n",
       "      <th>--Cups20--</th>\n",
       "      <th>NºHoras</th>\n",
       "    </tr>\n",
       "  </thead>\n",
       "  <tbody>\n",
       "    <tr>\n",
       "      <th>0</th>\n",
       "      <td>ES0021000000274345SK</td>\n",
       "      <td>8686</td>\n",
       "    </tr>\n",
       "    <tr>\n",
       "      <th>1</th>\n",
       "      <td>ES0021000000274602GW</td>\n",
       "      <td>8018</td>\n",
       "    </tr>\n",
       "    <tr>\n",
       "      <th>2</th>\n",
       "      <td>ES0021000000274886QX</td>\n",
       "      <td>8590</td>\n",
       "    </tr>\n",
       "    <tr>\n",
       "      <th>3</th>\n",
       "      <td>ES0021000000304938NR</td>\n",
       "      <td>8736</td>\n",
       "    </tr>\n",
       "    <tr>\n",
       "      <th>4</th>\n",
       "      <td>ES0021000000506201EZ</td>\n",
       "      <td>8712</td>\n",
       "    </tr>\n",
       "  </tbody>\n",
       "</table>\n",
       "</div>"
      ],
      "text/plain": [
       "             --Cups20--  NºHoras\n",
       "0  ES0021000000274345SK     8686\n",
       "1  ES0021000000274602GW     8018\n",
       "2  ES0021000000274886QX     8590\n",
       "3  ES0021000000304938NR     8736\n",
       "4  ES0021000000506201EZ     8712"
      ]
     },
     "execution_count": 60,
     "metadata": {},
     "output_type": "execute_result"
    }
   ],
   "source": [
    "Cups_2017=Cups_2017.rename(columns={'--Hora--' : 'NºHoras'})\n",
    "Cups_2017.head()"
   ]
  },
  {
   "cell_type": "code",
   "execution_count": 61,
   "metadata": {},
   "outputs": [
    {
     "data": {
      "text/plain": [
       "(3706687, 7)"
      ]
     },
     "execution_count": 61,
     "metadata": {},
     "output_type": "execute_result"
    }
   ],
   "source": [
    "df_2017.shape"
   ]
  },
  {
   "cell_type": "code",
   "execution_count": 70,
   "metadata": {},
   "outputs": [],
   "source": [
    "df_2017=df_2017.merge(Cups_2017, on='--Cups20--', sort=True)"
   ]
  },
  {
   "cell_type": "code",
   "execution_count": 63,
   "metadata": {},
   "outputs": [
    {
     "data": {
      "text/plain": [
       "(3706687, 8)"
      ]
     },
     "execution_count": 63,
     "metadata": {},
     "output_type": "execute_result"
    }
   ],
   "source": [
    "df_2017.shape"
   ]
  },
  {
   "cell_type": "code",
   "execution_count": 71,
   "metadata": {},
   "outputs": [
    {
     "data": {
      "text/html": [
       "<div>\n",
       "<style scoped>\n",
       "    .dataframe tbody tr th:only-of-type {\n",
       "        vertical-align: middle;\n",
       "    }\n",
       "\n",
       "    .dataframe tbody tr th {\n",
       "        vertical-align: top;\n",
       "    }\n",
       "\n",
       "    .dataframe thead th {\n",
       "        text-align: right;\n",
       "    }\n",
       "</style>\n",
       "<table border=\"1\" class=\"dataframe\">\n",
       "  <thead>\n",
       "    <tr style=\"text-align: right;\">\n",
       "      <th></th>\n",
       "      <th>--Cups20--</th>\n",
       "      <th>--Line--</th>\n",
       "      <th>--Fecha--</th>\n",
       "      <th>--Hora--</th>\n",
       "      <th>--Active--</th>\n",
       "      <th>--Active With Transport Loss--</th>\n",
       "      <th>--Active With Transform Loss--</th>\n",
       "      <th>NºHoras</th>\n",
       "    </tr>\n",
       "  </thead>\n",
       "  <tbody>\n",
       "    <tr>\n",
       "      <th>0</th>\n",
       "      <td>ES0021000000274345SK</td>\n",
       "      <td>0P</td>\n",
       "      <td>2017-01-01</td>\n",
       "      <td>1</td>\n",
       "      <td>0.330</td>\n",
       "      <td>0.42207</td>\n",
       "      <td>0.330</td>\n",
       "      <td>8686</td>\n",
       "    </tr>\n",
       "    <tr>\n",
       "      <th>1</th>\n",
       "      <td>ES0021000000274345SK</td>\n",
       "      <td>0P</td>\n",
       "      <td>2017-01-01</td>\n",
       "      <td>2</td>\n",
       "      <td>0.152</td>\n",
       "      <td>0.19456</td>\n",
       "      <td>0.152</td>\n",
       "      <td>8686</td>\n",
       "    </tr>\n",
       "    <tr>\n",
       "      <th>2</th>\n",
       "      <td>ES0021000000274345SK</td>\n",
       "      <td>0P</td>\n",
       "      <td>2017-01-01</td>\n",
       "      <td>3</td>\n",
       "      <td>0.273</td>\n",
       "      <td>0.34944</td>\n",
       "      <td>0.273</td>\n",
       "      <td>8686</td>\n",
       "    </tr>\n",
       "    <tr>\n",
       "      <th>3</th>\n",
       "      <td>ES0021000000274345SK</td>\n",
       "      <td>0P</td>\n",
       "      <td>2017-01-01</td>\n",
       "      <td>4</td>\n",
       "      <td>0.156</td>\n",
       "      <td>0.19968</td>\n",
       "      <td>0.156</td>\n",
       "      <td>8686</td>\n",
       "    </tr>\n",
       "    <tr>\n",
       "      <th>4</th>\n",
       "      <td>ES0021000000274345SK</td>\n",
       "      <td>0P</td>\n",
       "      <td>2017-01-01</td>\n",
       "      <td>5</td>\n",
       "      <td>0.311</td>\n",
       "      <td>0.39808</td>\n",
       "      <td>0.311</td>\n",
       "      <td>8686</td>\n",
       "    </tr>\n",
       "  </tbody>\n",
       "</table>\n",
       "</div>"
      ],
      "text/plain": [
       "             --Cups20-- --Line--  --Fecha--  --Hora--  --Active--  \\\n",
       "0  ES0021000000274345SK       0P 2017-01-01         1       0.330   \n",
       "1  ES0021000000274345SK       0P 2017-01-01         2       0.152   \n",
       "2  ES0021000000274345SK       0P 2017-01-01         3       0.273   \n",
       "3  ES0021000000274345SK       0P 2017-01-01         4       0.156   \n",
       "4  ES0021000000274345SK       0P 2017-01-01         5       0.311   \n",
       "\n",
       "   --Active With Transport Loss--  --Active With Transform Loss--  NºHoras  \n",
       "0                         0.42207                           0.330     8686  \n",
       "1                         0.19456                           0.152     8686  \n",
       "2                         0.34944                           0.273     8686  \n",
       "3                         0.19968                           0.156     8686  \n",
       "4                         0.39808                           0.311     8686  "
      ]
     },
     "execution_count": 71,
     "metadata": {},
     "output_type": "execute_result"
    }
   ],
   "source": [
    "df_2017.head()"
   ]
  },
  {
   "cell_type": "markdown",
   "metadata": {},
   "source": [
    "Me quedo solamente con aquellos puntos que tienen una curva de medida completa para todo el año, eso es, aquellos que tengan 8760 horas\n"
   ]
  },
  {
   "cell_type": "code",
   "execution_count": 103,
   "metadata": {},
   "outputs": [
    {
     "data": {
      "text/plain": [
       "<BarContainer object of 553 artists>"
      ]
     },
     "execution_count": 103,
     "metadata": {},
     "output_type": "execute_result"
    },
    {
     "data": {
      "image/png": "[encoded data removed]",
      "text/plain": [
       "<Figure size 432x288 with 1 Axes>"
      ]
     },
     "metadata": {},
     "output_type": "display_data"
    }
   ],
   "source": [
    "plt.bar(Cups_2017['--Cups20--'], Cups_2017['NºHoras'], width=1/1.5, color='blue')"
   ]
  },
  {
   "cell_type": "markdown",
   "metadata": {},
   "source": [
    "En el grafico podemos ver que para algunos puntos tenemos medida duplicada porque tienen un número de horas anuales mayor del esperado, esto es algo que suele pasar.\n",
    "\n",
    "Para evitar este problema, vamos a descartar también estos puntos y nos quedamos solo con aquellos que tienen curva completa y sin duplicados."
   ]
  },
  {
   "cell_type": "code",
   "execution_count": 77,
   "metadata": {},
   "outputs": [],
   "source": [
    "df_2017=df_2017[(df_2017['NºHoras']==8760)]"
   ]
  },
  {
   "cell_type": "code",
   "execution_count": 78,
   "metadata": {},
   "outputs": [
    {
     "data": {
      "text/html": [
       "<div>\n",
       "<style scoped>\n",
       "    .dataframe tbody tr th:only-of-type {\n",
       "        vertical-align: middle;\n",
       "    }\n",
       "\n",
       "    .dataframe tbody tr th {\n",
       "        vertical-align: top;\n",
       "    }\n",
       "\n",
       "    .dataframe thead th {\n",
       "        text-align: right;\n",
       "    }\n",
       "</style>\n",
       "<table border=\"1\" class=\"dataframe\">\n",
       "  <thead>\n",
       "    <tr style=\"text-align: right;\">\n",
       "      <th></th>\n",
       "      <th>--Hora--</th>\n",
       "      <th>--Active--</th>\n",
       "      <th>--Active With Transport Loss--</th>\n",
       "      <th>--Active With Transform Loss--</th>\n",
       "      <th>NºHoras</th>\n",
       "    </tr>\n",
       "  </thead>\n",
       "  <tbody>\n",
       "    <tr>\n",
       "      <th>count</th>\n",
       "      <td>595680.000000</td>\n",
       "      <td>595680.000000</td>\n",
       "      <td>595680.000000</td>\n",
       "      <td>595680.000000</td>\n",
       "      <td>595680.0</td>\n",
       "    </tr>\n",
       "    <tr>\n",
       "      <th>mean</th>\n",
       "      <td>12.500000</td>\n",
       "      <td>0.747121</td>\n",
       "      <td>0.872294</td>\n",
       "      <td>0.747121</td>\n",
       "      <td>8760.0</td>\n",
       "    </tr>\n",
       "    <tr>\n",
       "      <th>std</th>\n",
       "      <td>6.922192</td>\n",
       "      <td>1.678621</td>\n",
       "      <td>1.952005</td>\n",
       "      <td>1.678621</td>\n",
       "      <td>0.0</td>\n",
       "    </tr>\n",
       "    <tr>\n",
       "      <th>min</th>\n",
       "      <td>1.000000</td>\n",
       "      <td>0.000000</td>\n",
       "      <td>0.000000</td>\n",
       "      <td>0.000000</td>\n",
       "      <td>8760.0</td>\n",
       "    </tr>\n",
       "    <tr>\n",
       "      <th>25%</th>\n",
       "      <td>6.750000</td>\n",
       "      <td>0.029000</td>\n",
       "      <td>0.034100</td>\n",
       "      <td>0.029000</td>\n",
       "      <td>8760.0</td>\n",
       "    </tr>\n",
       "    <tr>\n",
       "      <th>50%</th>\n",
       "      <td>12.500000</td>\n",
       "      <td>0.187000</td>\n",
       "      <td>0.221155</td>\n",
       "      <td>0.187000</td>\n",
       "      <td>8760.0</td>\n",
       "    </tr>\n",
       "    <tr>\n",
       "      <th>75%</th>\n",
       "      <td>18.250000</td>\n",
       "      <td>0.668000</td>\n",
       "      <td>0.786310</td>\n",
       "      <td>0.668000</td>\n",
       "      <td>8760.0</td>\n",
       "    </tr>\n",
       "    <tr>\n",
       "      <th>max</th>\n",
       "      <td>24.000000</td>\n",
       "      <td>46.653000</td>\n",
       "      <td>55.936950</td>\n",
       "      <td>46.653000</td>\n",
       "      <td>8760.0</td>\n",
       "    </tr>\n",
       "  </tbody>\n",
       "</table>\n",
       "</div>"
      ],
      "text/plain": [
       "            --Hora--     --Active--  --Active With Transport Loss--  \\\n",
       "count  595680.000000  595680.000000                   595680.000000   \n",
       "mean       12.500000       0.747121                        0.872294   \n",
       "std         6.922192       1.678621                        1.952005   \n",
       "min         1.000000       0.000000                        0.000000   \n",
       "25%         6.750000       0.029000                        0.034100   \n",
       "50%        12.500000       0.187000                        0.221155   \n",
       "75%        18.250000       0.668000                        0.786310   \n",
       "max        24.000000      46.653000                       55.936950   \n",
       "\n",
       "       --Active With Transform Loss--   NºHoras  \n",
       "count                   595680.000000  595680.0  \n",
       "mean                         0.747121    8760.0  \n",
       "std                          1.678621       0.0  \n",
       "min                          0.000000    8760.0  \n",
       "25%                          0.029000    8760.0  \n",
       "50%                          0.187000    8760.0  \n",
       "75%                          0.668000    8760.0  \n",
       "max                         46.653000    8760.0  "
      ]
     },
     "execution_count": 78,
     "metadata": {},
     "output_type": "execute_result"
    }
   ],
   "source": [
    "df_2017.describe()"
   ]
  },
  {
   "cell_type": "markdown",
   "metadata": {},
   "source": [
    "## Hacemos el mismo proceso con el excel de 2018"
   ]
  },
  {
   "cell_type": "code",
   "execution_count": 79,
   "metadata": {},
   "outputs": [
    {
     "name": "stderr",
     "output_type": "stream",
     "text": [
      "/anaconda3/lib/python3.6/site-packages/ipykernel_launcher.py:2: DeprecationWarning: Call to deprecated function get_sheet_names (Use wb.sheetnames).\n",
      "  \n"
     ]
    },
    {
     "data": {
      "text/plain": [
       "['Page 1', 'Page 2', 'Page 3', 'Page 4', 'Page 5']"
      ]
     },
     "execution_count": 79,
     "metadata": {},
     "output_type": "execute_result"
    }
   ],
   "source": [
    "#excel_document_18 = openpyxl.load_workbook('./data/Cups2018.xlsx')\n",
    "#excel_document_18.get_sheet_names()"
   ]
  },
  {
   "cell_type": "code",
   "execution_count": 115,
   "metadata": {},
   "outputs": [
    {
     "data": {
      "text/html": [
       "<div>\n",
       "<style scoped>\n",
       "    .dataframe tbody tr th:only-of-type {\n",
       "        vertical-align: middle;\n",
       "    }\n",
       "\n",
       "    .dataframe tbody tr th {\n",
       "        vertical-align: top;\n",
       "    }\n",
       "\n",
       "    .dataframe thead th {\n",
       "        text-align: right;\n",
       "    }\n",
       "</style>\n",
       "<table border=\"1\" class=\"dataframe\">\n",
       "  <thead>\n",
       "    <tr style=\"text-align: right;\">\n",
       "      <th></th>\n",
       "      <th>--Cups20--</th>\n",
       "      <th>--Line--</th>\n",
       "      <th>--Fecha--</th>\n",
       "      <th>--Hora--</th>\n",
       "      <th>--Active--</th>\n",
       "      <th>--Active With Transport Loss--</th>\n",
       "      <th>--Active With Transform Loss--</th>\n",
       "    </tr>\n",
       "  </thead>\n",
       "  <tbody>\n",
       "    <tr>\n",
       "      <th>0</th>\n",
       "      <td>ES0021000004654210GL</td>\n",
       "      <td>0P</td>\n",
       "      <td>2018-01-01</td>\n",
       "      <td>1</td>\n",
       "      <td>0.0</td>\n",
       "      <td>0.0</td>\n",
       "      <td>0.0</td>\n",
       "    </tr>\n",
       "    <tr>\n",
       "      <th>1</th>\n",
       "      <td>ES0021000004654210GL</td>\n",
       "      <td>0P</td>\n",
       "      <td>2018-01-01</td>\n",
       "      <td>2</td>\n",
       "      <td>0.0</td>\n",
       "      <td>0.0</td>\n",
       "      <td>0.0</td>\n",
       "    </tr>\n",
       "    <tr>\n",
       "      <th>2</th>\n",
       "      <td>ES0021000004654210GL</td>\n",
       "      <td>0P</td>\n",
       "      <td>2018-01-01</td>\n",
       "      <td>3</td>\n",
       "      <td>0.0</td>\n",
       "      <td>0.0</td>\n",
       "      <td>0.0</td>\n",
       "    </tr>\n",
       "    <tr>\n",
       "      <th>3</th>\n",
       "      <td>ES0021000004654210GL</td>\n",
       "      <td>0P</td>\n",
       "      <td>2018-01-01</td>\n",
       "      <td>4</td>\n",
       "      <td>0.0</td>\n",
       "      <td>0.0</td>\n",
       "      <td>0.0</td>\n",
       "    </tr>\n",
       "    <tr>\n",
       "      <th>4</th>\n",
       "      <td>ES0021000004654210GL</td>\n",
       "      <td>0P</td>\n",
       "      <td>2018-01-01</td>\n",
       "      <td>5</td>\n",
       "      <td>0.0</td>\n",
       "      <td>0.0</td>\n",
       "      <td>0.0</td>\n",
       "    </tr>\n",
       "  </tbody>\n",
       "</table>\n",
       "</div>"
      ],
      "text/plain": [
       "             --Cups20-- --Line--  --Fecha--  --Hora--  --Active--  \\\n",
       "0  ES0021000004654210GL       0P 2018-01-01         1         0.0   \n",
       "1  ES0021000004654210GL       0P 2018-01-01         2         0.0   \n",
       "2  ES0021000004654210GL       0P 2018-01-01         3         0.0   \n",
       "3  ES0021000004654210GL       0P 2018-01-01         4         0.0   \n",
       "4  ES0021000004654210GL       0P 2018-01-01         5         0.0   \n",
       "\n",
       "   --Active With Transport Loss--  --Active With Transform Loss--  \n",
       "0                             0.0                             0.0  \n",
       "1                             0.0                             0.0  \n",
       "2                             0.0                             0.0  \n",
       "3                             0.0                             0.0  \n",
       "4                             0.0                             0.0  "
      ]
     },
     "execution_count": 115,
     "metadata": {},
     "output_type": "execute_result"
    }
   ],
   "source": [
    "xlsx_18 = pd.ExcelFile('./data/Cups2018.xlsx') \n",
    "df11 = pd.read_excel(xlsx_18, 'Page 1') \n",
    "df22 = pd.read_excel(xlsx_18, 'Page 2') \n",
    "df33 = pd.read_excel(xlsx_18, 'Page 3') \n",
    "df44 = pd.read_excel(xlsx_18, 'Page 4') \n",
    "df55 = pd.read_excel(xlsx_18, 'Page 5')\n",
    "df_2018 = pd.concat([df11, df22, df33, df44, df55])\n",
    "df_2018.head(5)"
   ]
  },
  {
   "cell_type": "code",
   "execution_count": 116,
   "metadata": {},
   "outputs": [],
   "source": [
    "Cups_2018 = df_2018.groupby(['--Cups20--']).count()\n",
    "Cups_2018=Cups_2018.reset_index()\n"
   ]
  },
  {
   "cell_type": "code",
   "execution_count": 117,
   "metadata": {},
   "outputs": [
    {
     "data": {
      "text/html": [
       "<div>\n",
       "<style scoped>\n",
       "    .dataframe tbody tr th:only-of-type {\n",
       "        vertical-align: middle;\n",
       "    }\n",
       "\n",
       "    .dataframe tbody tr th {\n",
       "        vertical-align: top;\n",
       "    }\n",
       "\n",
       "    .dataframe thead th {\n",
       "        text-align: right;\n",
       "    }\n",
       "</style>\n",
       "<table border=\"1\" class=\"dataframe\">\n",
       "  <thead>\n",
       "    <tr style=\"text-align: right;\">\n",
       "      <th></th>\n",
       "      <th>--Cups20--</th>\n",
       "      <th>NºHoras</th>\n",
       "    </tr>\n",
       "  </thead>\n",
       "  <tbody>\n",
       "    <tr>\n",
       "      <th>0</th>\n",
       "      <td>ES0021000000274345SK</td>\n",
       "      <td>7896</td>\n",
       "    </tr>\n",
       "    <tr>\n",
       "      <th>1</th>\n",
       "      <td>ES0021000000274602GW</td>\n",
       "      <td>7224</td>\n",
       "    </tr>\n",
       "    <tr>\n",
       "      <th>2</th>\n",
       "      <td>ES0021000000274886QX</td>\n",
       "      <td>7872</td>\n",
       "    </tr>\n",
       "    <tr>\n",
       "      <th>3</th>\n",
       "      <td>ES0021000000304938NR</td>\n",
       "      <td>7896</td>\n",
       "    </tr>\n",
       "    <tr>\n",
       "      <th>4</th>\n",
       "      <td>ES0021000000506201EZ</td>\n",
       "      <td>7872</td>\n",
       "    </tr>\n",
       "  </tbody>\n",
       "</table>\n",
       "</div>"
      ],
      "text/plain": [
       "             --Cups20--  NºHoras\n",
       "0  ES0021000000274345SK     7896\n",
       "1  ES0021000000274602GW     7224\n",
       "2  ES0021000000274886QX     7872\n",
       "3  ES0021000000304938NR     7896\n",
       "4  ES0021000000506201EZ     7872"
      ]
     },
     "execution_count": 117,
     "metadata": {},
     "output_type": "execute_result"
    }
   ],
   "source": [
    "Cups_2018=Cups_2018[['--Cups20--', '--Hora--']]\n",
    "Cups_2018=Cups_2018.rename(columns={'--Hora--' : 'NºHoras'})\n",
    "Cups_2018.head()\n"
   ]
  },
  {
   "cell_type": "code",
   "execution_count": 118,
   "metadata": {},
   "outputs": [
    {
     "data": {
      "text/plain": [
       "(4118516, 7)"
      ]
     },
     "execution_count": 118,
     "metadata": {},
     "output_type": "execute_result"
    }
   ],
   "source": [
    "df_2018.shape\n"
   ]
  },
  {
   "cell_type": "code",
   "execution_count": 119,
   "metadata": {},
   "outputs": [],
   "source": [
    "df_2018=df_2018.merge(Cups_2018, on='--Cups20--', sort=True)\n"
   ]
  },
  {
   "cell_type": "code",
   "execution_count": 120,
   "metadata": {},
   "outputs": [
    {
     "data": {
      "text/plain": [
       "(4118516, 8)"
      ]
     },
     "execution_count": 120,
     "metadata": {},
     "output_type": "execute_result"
    }
   ],
   "source": [
    "df_2018.shape\n"
   ]
  },
  {
   "cell_type": "code",
   "execution_count": 121,
   "metadata": {},
   "outputs": [
    {
     "data": {
      "text/html": [
       "<div>\n",
       "<style scoped>\n",
       "    .dataframe tbody tr th:only-of-type {\n",
       "        vertical-align: middle;\n",
       "    }\n",
       "\n",
       "    .dataframe tbody tr th {\n",
       "        vertical-align: top;\n",
       "    }\n",
       "\n",
       "    .dataframe thead th {\n",
       "        text-align: right;\n",
       "    }\n",
       "</style>\n",
       "<table border=\"1\" class=\"dataframe\">\n",
       "  <thead>\n",
       "    <tr style=\"text-align: right;\">\n",
       "      <th></th>\n",
       "      <th>--Cups20--</th>\n",
       "      <th>--Line--</th>\n",
       "      <th>--Fecha--</th>\n",
       "      <th>--Hora--</th>\n",
       "      <th>--Active--</th>\n",
       "      <th>--Active With Transport Loss--</th>\n",
       "      <th>--Active With Transform Loss--</th>\n",
       "      <th>NºHoras</th>\n",
       "    </tr>\n",
       "  </thead>\n",
       "  <tbody>\n",
       "    <tr>\n",
       "      <th>0</th>\n",
       "      <td>ES0021000000274345SK</td>\n",
       "      <td>0P</td>\n",
       "      <td>2018-01-01</td>\n",
       "      <td>1</td>\n",
       "      <td>0.467</td>\n",
       "      <td>0.59776</td>\n",
       "      <td>0.467</td>\n",
       "      <td>7896</td>\n",
       "    </tr>\n",
       "    <tr>\n",
       "      <th>1</th>\n",
       "      <td>ES0021000000274345SK</td>\n",
       "      <td>0P</td>\n",
       "      <td>2018-01-01</td>\n",
       "      <td>2</td>\n",
       "      <td>0.479</td>\n",
       "      <td>0.61312</td>\n",
       "      <td>0.479</td>\n",
       "      <td>7896</td>\n",
       "    </tr>\n",
       "    <tr>\n",
       "      <th>2</th>\n",
       "      <td>ES0021000000274345SK</td>\n",
       "      <td>0P</td>\n",
       "      <td>2018-01-01</td>\n",
       "      <td>3</td>\n",
       "      <td>0.500</td>\n",
       "      <td>0.64000</td>\n",
       "      <td>0.500</td>\n",
       "      <td>7896</td>\n",
       "    </tr>\n",
       "    <tr>\n",
       "      <th>3</th>\n",
       "      <td>ES0021000000274345SK</td>\n",
       "      <td>0P</td>\n",
       "      <td>2018-01-01</td>\n",
       "      <td>4</td>\n",
       "      <td>0.457</td>\n",
       "      <td>0.58496</td>\n",
       "      <td>0.457</td>\n",
       "      <td>7896</td>\n",
       "    </tr>\n",
       "    <tr>\n",
       "      <th>4</th>\n",
       "      <td>ES0021000000274345SK</td>\n",
       "      <td>0P</td>\n",
       "      <td>2018-01-01</td>\n",
       "      <td>5</td>\n",
       "      <td>0.499</td>\n",
       "      <td>0.63872</td>\n",
       "      <td>0.499</td>\n",
       "      <td>7896</td>\n",
       "    </tr>\n",
       "  </tbody>\n",
       "</table>\n",
       "</div>"
      ],
      "text/plain": [
       "             --Cups20-- --Line--  --Fecha--  --Hora--  --Active--  \\\n",
       "0  ES0021000000274345SK       0P 2018-01-01         1       0.467   \n",
       "1  ES0021000000274345SK       0P 2018-01-01         2       0.479   \n",
       "2  ES0021000000274345SK       0P 2018-01-01         3       0.500   \n",
       "3  ES0021000000274345SK       0P 2018-01-01         4       0.457   \n",
       "4  ES0021000000274345SK       0P 2018-01-01         5       0.499   \n",
       "\n",
       "   --Active With Transport Loss--  --Active With Transform Loss--  NºHoras  \n",
       "0                         0.59776                           0.467     7896  \n",
       "1                         0.61312                           0.479     7896  \n",
       "2                         0.64000                           0.500     7896  \n",
       "3                         0.58496                           0.457     7896  \n",
       "4                         0.63872                           0.499     7896  "
      ]
     },
     "execution_count": 121,
     "metadata": {},
     "output_type": "execute_result"
    }
   ],
   "source": [
    "df_2018.head()\n"
   ]
  },
  {
   "cell_type": "markdown",
   "metadata": {},
   "source": [
    "Para 2018 solo tengo datos de medidas hasta noviembre, por lo que el número medidas horarias que debe tener cada punto es de 8016"
   ]
  },
  {
   "cell_type": "code",
   "execution_count": 123,
   "metadata": {},
   "outputs": [],
   "source": [
    "df_2018=df_2018[(df_2018['NºHoras']==8016)]\n"
   ]
  },
  {
   "cell_type": "code",
   "execution_count": 124,
   "metadata": {},
   "outputs": [
    {
     "data": {
      "text/html": [
       "<div>\n",
       "<style scoped>\n",
       "    .dataframe tbody tr th:only-of-type {\n",
       "        vertical-align: middle;\n",
       "    }\n",
       "\n",
       "    .dataframe tbody tr th {\n",
       "        vertical-align: top;\n",
       "    }\n",
       "\n",
       "    .dataframe thead th {\n",
       "        text-align: right;\n",
       "    }\n",
       "</style>\n",
       "<table border=\"1\" class=\"dataframe\">\n",
       "  <thead>\n",
       "    <tr style=\"text-align: right;\">\n",
       "      <th></th>\n",
       "      <th>--Hora--</th>\n",
       "      <th>--Active--</th>\n",
       "      <th>--Active With Transport Loss--</th>\n",
       "      <th>--Active With Transform Loss--</th>\n",
       "      <th>NºHoras</th>\n",
       "    </tr>\n",
       "  </thead>\n",
       "  <tbody>\n",
       "    <tr>\n",
       "      <th>count</th>\n",
       "      <td>280560.000000</td>\n",
       "      <td>280560.000000</td>\n",
       "      <td>280560.000000</td>\n",
       "      <td>280560.000000</td>\n",
       "      <td>280560.0</td>\n",
       "    </tr>\n",
       "    <tr>\n",
       "      <th>mean</th>\n",
       "      <td>12.500000</td>\n",
       "      <td>0.994323</td>\n",
       "      <td>1.152116</td>\n",
       "      <td>0.994320</td>\n",
       "      <td>8016.0</td>\n",
       "    </tr>\n",
       "    <tr>\n",
       "      <th>std</th>\n",
       "      <td>6.922199</td>\n",
       "      <td>1.460470</td>\n",
       "      <td>1.688435</td>\n",
       "      <td>1.460472</td>\n",
       "      <td>0.0</td>\n",
       "    </tr>\n",
       "    <tr>\n",
       "      <th>min</th>\n",
       "      <td>1.000000</td>\n",
       "      <td>0.000000</td>\n",
       "      <td>0.000000</td>\n",
       "      <td>0.000000</td>\n",
       "      <td>8016.0</td>\n",
       "    </tr>\n",
       "    <tr>\n",
       "      <th>25%</th>\n",
       "      <td>6.750000</td>\n",
       "      <td>0.112000</td>\n",
       "      <td>0.131040</td>\n",
       "      <td>0.112000</td>\n",
       "      <td>8016.0</td>\n",
       "    </tr>\n",
       "    <tr>\n",
       "      <th>50%</th>\n",
       "      <td>12.500000</td>\n",
       "      <td>0.351000</td>\n",
       "      <td>0.410700</td>\n",
       "      <td>0.351000</td>\n",
       "      <td>8016.0</td>\n",
       "    </tr>\n",
       "    <tr>\n",
       "      <th>75%</th>\n",
       "      <td>18.250000</td>\n",
       "      <td>1.337000</td>\n",
       "      <td>1.561932</td>\n",
       "      <td>1.337000</td>\n",
       "      <td>8016.0</td>\n",
       "    </tr>\n",
       "    <tr>\n",
       "      <th>max</th>\n",
       "      <td>24.000000</td>\n",
       "      <td>19.628000</td>\n",
       "      <td>22.998280</td>\n",
       "      <td>19.628000</td>\n",
       "      <td>8016.0</td>\n",
       "    </tr>\n",
       "  </tbody>\n",
       "</table>\n",
       "</div>"
      ],
      "text/plain": [
       "            --Hora--     --Active--  --Active With Transport Loss--  \\\n",
       "count  280560.000000  280560.000000                   280560.000000   \n",
       "mean       12.500000       0.994323                        1.152116   \n",
       "std         6.922199       1.460470                        1.688435   \n",
       "min         1.000000       0.000000                        0.000000   \n",
       "25%         6.750000       0.112000                        0.131040   \n",
       "50%        12.500000       0.351000                        0.410700   \n",
       "75%        18.250000       1.337000                        1.561932   \n",
       "max        24.000000      19.628000                       22.998280   \n",
       "\n",
       "       --Active With Transform Loss--   NºHoras  \n",
       "count                   280560.000000  280560.0  \n",
       "mean                         0.994320    8016.0  \n",
       "std                          1.460472       0.0  \n",
       "min                          0.000000    8016.0  \n",
       "25%                          0.112000    8016.0  \n",
       "50%                          0.351000    8016.0  \n",
       "75%                          1.337000    8016.0  \n",
       "max                         19.628000    8016.0  "
      ]
     },
     "execution_count": 124,
     "metadata": {},
     "output_type": "execute_result"
    }
   ],
   "source": [
    "df_2018.describe()"
   ]
  },
  {
   "cell_type": "code",
   "execution_count": 72,
   "metadata": {},
   "outputs": [
    {
     "ename": "NameError",
     "evalue": "name 'Cups_2018' is not defined",
     "output_type": "error",
     "traceback": [
      "\u001b[0;31m---------------------------------------------------------------------------\u001b[0m",
      "\u001b[0;31mNameError\u001b[0m                                 Traceback (most recent call last)",
      "\u001b[0;32m<ipython-input-72-cabe0ca1327f>\u001b[0m in \u001b[0;36m<module>\u001b[0;34m()\u001b[0m\n\u001b[1;32m      1\u001b[0m \u001b[0mplt\u001b[0m\u001b[0;34m.\u001b[0m\u001b[0mfigure\u001b[0m\u001b[0;34m(\u001b[0m\u001b[0mfigsize\u001b[0m\u001b[0;34m=\u001b[0m\u001b[0;34m(\u001b[0m\u001b[0;36m25\u001b[0m\u001b[0;34m,\u001b[0m\u001b[0;36m10\u001b[0m\u001b[0;34m)\u001b[0m\u001b[0;34m)\u001b[0m\u001b[0;34m\u001b[0m\u001b[0;34m\u001b[0m\u001b[0m\n\u001b[0;32m----> 2\u001b[0;31m \u001b[0mplt\u001b[0m\u001b[0;34m.\u001b[0m\u001b[0mbar\u001b[0m\u001b[0;34m(\u001b[0m\u001b[0mCups_2018\u001b[0m\u001b[0;34m[\u001b[0m\u001b[0;34m'--Cups20--'\u001b[0m\u001b[0;34m]\u001b[0m\u001b[0;34m,\u001b[0m \u001b[0mCups_2018\u001b[0m\u001b[0;34m[\u001b[0m\u001b[0;34m'NºHoras'\u001b[0m\u001b[0;34m]\u001b[0m\u001b[0;34m,\u001b[0m \u001b[0mwidth\u001b[0m\u001b[0;34m=\u001b[0m\u001b[0;36m1\u001b[0m\u001b[0;34m/\u001b[0m\u001b[0;36m1.5\u001b[0m\u001b[0;34m,\u001b[0m \u001b[0mcolor\u001b[0m\u001b[0;34m=\u001b[0m\u001b[0;34m'blue'\u001b[0m\u001b[0;34m)\u001b[0m\u001b[0;34m\u001b[0m\u001b[0;34m\u001b[0m\u001b[0m\n\u001b[0m",
      "\u001b[0;31mNameError\u001b[0m: name 'Cups_2018' is not defined"
     ]
    },
    {
     "data": {
      "text/plain": [
       "<Figure size 1800x720 with 0 Axes>"
      ]
     },
     "metadata": {},
     "output_type": "display_data"
    }
   ],
   "source": [
    "plt.figure(figsize=(25,10))\n",
    "plt.bar(Cups_2018['--Cups20--'], Cups_2018['NºHoras'], width=1/1.5, color='blue')\n"
   ]
  },
  {
   "cell_type": "markdown",
   "metadata": {},
   "source": [
    "En este caso vemos que hay menos puntos con medidas duplicadas, pero que tenemos un gran número de puntos con muy pocas en este periodo."
   ]
  },
  {
   "cell_type": "markdown",
   "metadata": {},
   "source": [
    "# Unimos tanto el fichero de 2017 como el de 2018 y creamos un único fichero con las medidas de 2017 y 2018\n",
    "\n",
    "Comprobamos que el fichero final es efectivamente la suma de los dos ficheros originales."
   ]
  },
  {
   "cell_type": "code",
   "execution_count": 126,
   "metadata": {},
   "outputs": [],
   "source": [
    "Medidas = pd.concat([df_2017, df_2018])"
   ]
  },
  {
   "cell_type": "code",
   "execution_count": 127,
   "metadata": {},
   "outputs": [
    {
     "data": {
      "text/plain": [
       "(595680, 8)"
      ]
     },
     "execution_count": 127,
     "metadata": {},
     "output_type": "execute_result"
    }
   ],
   "source": [
    "df_2017.shape"
   ]
  },
  {
   "cell_type": "code",
   "execution_count": 128,
   "metadata": {},
   "outputs": [
    {
     "data": {
      "text/plain": [
       "(280560, 8)"
      ]
     },
     "execution_count": 128,
     "metadata": {},
     "output_type": "execute_result"
    }
   ],
   "source": [
    "df_2018.shape"
   ]
  },
  {
   "cell_type": "code",
   "execution_count": 129,
   "metadata": {},
   "outputs": [
    {
     "data": {
      "text/plain": [
       "(876240, 8)"
      ]
     },
     "execution_count": 129,
     "metadata": {},
     "output_type": "execute_result"
    }
   ],
   "source": [
    "Medidas.shape"
   ]
  },
  {
   "cell_type": "code",
   "execution_count": 130,
   "metadata": {},
   "outputs": [
    {
     "data": {
      "text/html": [
       "<div>\n",
       "<style scoped>\n",
       "    .dataframe tbody tr th:only-of-type {\n",
       "        vertical-align: middle;\n",
       "    }\n",
       "\n",
       "    .dataframe tbody tr th {\n",
       "        vertical-align: top;\n",
       "    }\n",
       "\n",
       "    .dataframe thead th {\n",
       "        text-align: right;\n",
       "    }\n",
       "</style>\n",
       "<table border=\"1\" class=\"dataframe\">\n",
       "  <thead>\n",
       "    <tr style=\"text-align: right;\">\n",
       "      <th></th>\n",
       "      <th>--Hora--</th>\n",
       "      <th>--Active--</th>\n",
       "      <th>--Active With Transport Loss--</th>\n",
       "      <th>--Active With Transform Loss--</th>\n",
       "      <th>NºHoras</th>\n",
       "    </tr>\n",
       "  </thead>\n",
       "  <tbody>\n",
       "    <tr>\n",
       "      <th>count</th>\n",
       "      <td>876240.000000</td>\n",
       "      <td>876240.000000</td>\n",
       "      <td>876240.000000</td>\n",
       "      <td>876240.000000</td>\n",
       "      <td>876240.000000</td>\n",
       "    </tr>\n",
       "    <tr>\n",
       "      <th>mean</th>\n",
       "      <td>12.500000</td>\n",
       "      <td>0.826272</td>\n",
       "      <td>0.961889</td>\n",
       "      <td>0.826271</td>\n",
       "      <td>8521.781430</td>\n",
       "    </tr>\n",
       "    <tr>\n",
       "      <th>std</th>\n",
       "      <td>6.922191</td>\n",
       "      <td>1.616108</td>\n",
       "      <td>1.876204</td>\n",
       "      <td>1.616109</td>\n",
       "      <td>347.111893</td>\n",
       "    </tr>\n",
       "    <tr>\n",
       "      <th>min</th>\n",
       "      <td>1.000000</td>\n",
       "      <td>0.000000</td>\n",
       "      <td>0.000000</td>\n",
       "      <td>0.000000</td>\n",
       "      <td>8016.000000</td>\n",
       "    </tr>\n",
       "    <tr>\n",
       "      <th>25%</th>\n",
       "      <td>6.750000</td>\n",
       "      <td>0.045000</td>\n",
       "      <td>0.052990</td>\n",
       "      <td>0.045000</td>\n",
       "      <td>8016.000000</td>\n",
       "    </tr>\n",
       "    <tr>\n",
       "      <th>50%</th>\n",
       "      <td>12.500000</td>\n",
       "      <td>0.223000</td>\n",
       "      <td>0.263120</td>\n",
       "      <td>0.223000</td>\n",
       "      <td>8760.000000</td>\n",
       "    </tr>\n",
       "    <tr>\n",
       "      <th>75%</th>\n",
       "      <td>18.250000</td>\n",
       "      <td>0.885000</td>\n",
       "      <td>1.039192</td>\n",
       "      <td>0.885000</td>\n",
       "      <td>8760.000000</td>\n",
       "    </tr>\n",
       "    <tr>\n",
       "      <th>max</th>\n",
       "      <td>24.000000</td>\n",
       "      <td>46.653000</td>\n",
       "      <td>55.936950</td>\n",
       "      <td>46.653000</td>\n",
       "      <td>8760.000000</td>\n",
       "    </tr>\n",
       "  </tbody>\n",
       "</table>\n",
       "</div>"
      ],
      "text/plain": [
       "            --Hora--     --Active--  --Active With Transport Loss--  \\\n",
       "count  876240.000000  876240.000000                   876240.000000   \n",
       "mean       12.500000       0.826272                        0.961889   \n",
       "std         6.922191       1.616108                        1.876204   \n",
       "min         1.000000       0.000000                        0.000000   \n",
       "25%         6.750000       0.045000                        0.052990   \n",
       "50%        12.500000       0.223000                        0.263120   \n",
       "75%        18.250000       0.885000                        1.039192   \n",
       "max        24.000000      46.653000                       55.936950   \n",
       "\n",
       "       --Active With Transform Loss--        NºHoras  \n",
       "count                   876240.000000  876240.000000  \n",
       "mean                         0.826271    8521.781430  \n",
       "std                          1.616109     347.111893  \n",
       "min                          0.000000    8016.000000  \n",
       "25%                          0.045000    8016.000000  \n",
       "50%                          0.223000    8760.000000  \n",
       "75%                          0.885000    8760.000000  \n",
       "max                         46.653000    8760.000000  "
      ]
     },
     "execution_count": 130,
     "metadata": {},
     "output_type": "execute_result"
    }
   ],
   "source": [
    "Medidas.describe()"
   ]
  },
  {
   "cell_type": "code",
   "execution_count": 131,
   "metadata": {},
   "outputs": [
    {
     "data": {
      "text/html": [
       "<div>\n",
       "<style scoped>\n",
       "    .dataframe tbody tr th:only-of-type {\n",
       "        vertical-align: middle;\n",
       "    }\n",
       "\n",
       "    .dataframe tbody tr th {\n",
       "        vertical-align: top;\n",
       "    }\n",
       "\n",
       "    .dataframe thead th {\n",
       "        text-align: right;\n",
       "    }\n",
       "</style>\n",
       "<table border=\"1\" class=\"dataframe\">\n",
       "  <thead>\n",
       "    <tr style=\"text-align: right;\">\n",
       "      <th></th>\n",
       "      <th>--Cups20--</th>\n",
       "      <th>--Line--</th>\n",
       "      <th>--Fecha--</th>\n",
       "      <th>--Hora--</th>\n",
       "      <th>--Active--</th>\n",
       "      <th>--Active With Transport Loss--</th>\n",
       "      <th>--Active With Transform Loss--</th>\n",
       "      <th>NºHoras</th>\n",
       "    </tr>\n",
       "  </thead>\n",
       "  <tbody>\n",
       "    <tr>\n",
       "      <th>60214</th>\n",
       "      <td>ES0021000000930682DF</td>\n",
       "      <td>0P</td>\n",
       "      <td>2017-01-01</td>\n",
       "      <td>1</td>\n",
       "      <td>0.225</td>\n",
       "      <td>0.28778</td>\n",
       "      <td>0.225</td>\n",
       "      <td>8760</td>\n",
       "    </tr>\n",
       "    <tr>\n",
       "      <th>60215</th>\n",
       "      <td>ES0021000000930682DF</td>\n",
       "      <td>0P</td>\n",
       "      <td>2017-01-01</td>\n",
       "      <td>2</td>\n",
       "      <td>0.197</td>\n",
       "      <td>0.25216</td>\n",
       "      <td>0.197</td>\n",
       "      <td>8760</td>\n",
       "    </tr>\n",
       "    <tr>\n",
       "      <th>60216</th>\n",
       "      <td>ES0021000000930682DF</td>\n",
       "      <td>0P</td>\n",
       "      <td>2017-01-01</td>\n",
       "      <td>3</td>\n",
       "      <td>0.201</td>\n",
       "      <td>0.25728</td>\n",
       "      <td>0.201</td>\n",
       "      <td>8760</td>\n",
       "    </tr>\n",
       "    <tr>\n",
       "      <th>60217</th>\n",
       "      <td>ES0021000000930682DF</td>\n",
       "      <td>0P</td>\n",
       "      <td>2017-01-01</td>\n",
       "      <td>4</td>\n",
       "      <td>0.201</td>\n",
       "      <td>0.25728</td>\n",
       "      <td>0.201</td>\n",
       "      <td>8760</td>\n",
       "    </tr>\n",
       "    <tr>\n",
       "      <th>60218</th>\n",
       "      <td>ES0021000000930682DF</td>\n",
       "      <td>0P</td>\n",
       "      <td>2017-01-01</td>\n",
       "      <td>5</td>\n",
       "      <td>0.198</td>\n",
       "      <td>0.25344</td>\n",
       "      <td>0.198</td>\n",
       "      <td>8760</td>\n",
       "    </tr>\n",
       "  </tbody>\n",
       "</table>\n",
       "</div>"
      ],
      "text/plain": [
       "                 --Cups20-- --Line--  --Fecha--  --Hora--  --Active--  \\\n",
       "60214  ES0021000000930682DF       0P 2017-01-01         1       0.225   \n",
       "60215  ES0021000000930682DF       0P 2017-01-01         2       0.197   \n",
       "60216  ES0021000000930682DF       0P 2017-01-01         3       0.201   \n",
       "60217  ES0021000000930682DF       0P 2017-01-01         4       0.201   \n",
       "60218  ES0021000000930682DF       0P 2017-01-01         5       0.198   \n",
       "\n",
       "       --Active With Transport Loss--  --Active With Transform Loss--  NºHoras  \n",
       "60214                         0.28778                           0.225     8760  \n",
       "60215                         0.25216                           0.197     8760  \n",
       "60216                         0.25728                           0.201     8760  \n",
       "60217                         0.25728                           0.201     8760  \n",
       "60218                         0.25344                           0.198     8760  "
      ]
     },
     "execution_count": 131,
     "metadata": {},
     "output_type": "execute_result"
    }
   ],
   "source": [
    "Medidas.head()"
   ]
  },
  {
   "cell_type": "markdown",
   "metadata": {},
   "source": [
    "### Formato\n",
    "\n",
    "Damos un formato mas amigable al fichero cambiando los nombres de las columnas y dando formato fecha correcto.\n"
   ]
  },
  {
   "cell_type": "code",
   "execution_count": 132,
   "metadata": {},
   "outputs": [],
   "source": [
    "Medidas = Medidas.rename(columns={'--Cups20--' : 'Cups20',\n",
    "                                  '--Line--' : 'Line', \n",
    "                                  '--Fecha--' : 'Fecha', \n",
    "                                  '--Hora--' : 'Hora', \n",
    "                                  '--Active--' : 'Active' , \n",
    "                                  '--Active With Transport Loss--' : 'Active With Transport Loss', \n",
    "                                  '--Active With Transform Loss--' : 'Active With Transform Loss'})"
   ]
  },
  {
   "cell_type": "code",
   "execution_count": 133,
   "metadata": {},
   "outputs": [
    {
     "data": {
      "text/html": [
       "<div>\n",
       "<style scoped>\n",
       "    .dataframe tbody tr th:only-of-type {\n",
       "        vertical-align: middle;\n",
       "    }\n",
       "\n",
       "    .dataframe tbody tr th {\n",
       "        vertical-align: top;\n",
       "    }\n",
       "\n",
       "    .dataframe thead th {\n",
       "        text-align: right;\n",
       "    }\n",
       "</style>\n",
       "<table border=\"1\" class=\"dataframe\">\n",
       "  <thead>\n",
       "    <tr style=\"text-align: right;\">\n",
       "      <th></th>\n",
       "      <th>Cups20</th>\n",
       "      <th>Line</th>\n",
       "      <th>Fecha</th>\n",
       "      <th>Hora</th>\n",
       "      <th>Active</th>\n",
       "      <th>Active With Transport Loss</th>\n",
       "      <th>Active With Transform Loss</th>\n",
       "      <th>NºHoras</th>\n",
       "    </tr>\n",
       "  </thead>\n",
       "  <tbody>\n",
       "    <tr>\n",
       "      <th>60214</th>\n",
       "      <td>ES0021000000930682DF</td>\n",
       "      <td>0P</td>\n",
       "      <td>2017-01-01</td>\n",
       "      <td>1</td>\n",
       "      <td>0.225</td>\n",
       "      <td>0.28778</td>\n",
       "      <td>0.225</td>\n",
       "      <td>8760</td>\n",
       "    </tr>\n",
       "    <tr>\n",
       "      <th>60215</th>\n",
       "      <td>ES0021000000930682DF</td>\n",
       "      <td>0P</td>\n",
       "      <td>2017-01-01</td>\n",
       "      <td>2</td>\n",
       "      <td>0.197</td>\n",
       "      <td>0.25216</td>\n",
       "      <td>0.197</td>\n",
       "      <td>8760</td>\n",
       "    </tr>\n",
       "    <tr>\n",
       "      <th>60216</th>\n",
       "      <td>ES0021000000930682DF</td>\n",
       "      <td>0P</td>\n",
       "      <td>2017-01-01</td>\n",
       "      <td>3</td>\n",
       "      <td>0.201</td>\n",
       "      <td>0.25728</td>\n",
       "      <td>0.201</td>\n",
       "      <td>8760</td>\n",
       "    </tr>\n",
       "    <tr>\n",
       "      <th>60217</th>\n",
       "      <td>ES0021000000930682DF</td>\n",
       "      <td>0P</td>\n",
       "      <td>2017-01-01</td>\n",
       "      <td>4</td>\n",
       "      <td>0.201</td>\n",
       "      <td>0.25728</td>\n",
       "      <td>0.201</td>\n",
       "      <td>8760</td>\n",
       "    </tr>\n",
       "    <tr>\n",
       "      <th>60218</th>\n",
       "      <td>ES0021000000930682DF</td>\n",
       "      <td>0P</td>\n",
       "      <td>2017-01-01</td>\n",
       "      <td>5</td>\n",
       "      <td>0.198</td>\n",
       "      <td>0.25344</td>\n",
       "      <td>0.198</td>\n",
       "      <td>8760</td>\n",
       "    </tr>\n",
       "  </tbody>\n",
       "</table>\n",
       "</div>"
      ],
      "text/plain": [
       "                     Cups20 Line      Fecha  Hora  Active  \\\n",
       "60214  ES0021000000930682DF   0P 2017-01-01     1   0.225   \n",
       "60215  ES0021000000930682DF   0P 2017-01-01     2   0.197   \n",
       "60216  ES0021000000930682DF   0P 2017-01-01     3   0.201   \n",
       "60217  ES0021000000930682DF   0P 2017-01-01     4   0.201   \n",
       "60218  ES0021000000930682DF   0P 2017-01-01     5   0.198   \n",
       "\n",
       "       Active With Transport Loss  Active With Transform Loss  NºHoras  \n",
       "60214                     0.28778                       0.225     8760  \n",
       "60215                     0.25216                       0.197     8760  \n",
       "60216                     0.25728                       0.201     8760  \n",
       "60217                     0.25728                       0.201     8760  \n",
       "60218                     0.25344                       0.198     8760  "
      ]
     },
     "execution_count": 133,
     "metadata": {},
     "output_type": "execute_result"
    }
   ],
   "source": [
    "Medidas.head(5)"
   ]
  },
  {
   "cell_type": "code",
   "execution_count": 134,
   "metadata": {},
   "outputs": [],
   "source": [
    "Medidas['Fecha']=pd.to_datetime(Medidas['Fecha'], yearfirst=True,format='%Y-%m-%d')\n"
   ]
  },
  {
   "cell_type": "code",
   "execution_count": 135,
   "metadata": {},
   "outputs": [
    {
     "data": {
      "text/plain": [
       "Cups20                                object\n",
       "Line                                  object\n",
       "Fecha                         datetime64[ns]\n",
       "Hora                                   int64\n",
       "Active                               float64\n",
       "Active With Transport Loss           float64\n",
       "Active With Transform Loss           float64\n",
       "NºHoras                                int64\n",
       "dtype: object"
      ]
     },
     "execution_count": 135,
     "metadata": {},
     "output_type": "execute_result"
    }
   ],
   "source": [
    "Medidas.dtypes"
   ]
  },
  {
   "cell_type": "code",
   "execution_count": 136,
   "metadata": {},
   "outputs": [
    {
     "data": {
      "text/html": [
       "<div>\n",
       "<style scoped>\n",
       "    .dataframe tbody tr th:only-of-type {\n",
       "        vertical-align: middle;\n",
       "    }\n",
       "\n",
       "    .dataframe tbody tr th {\n",
       "        vertical-align: top;\n",
       "    }\n",
       "\n",
       "    .dataframe thead th {\n",
       "        text-align: right;\n",
       "    }\n",
       "</style>\n",
       "<table border=\"1\" class=\"dataframe\">\n",
       "  <thead>\n",
       "    <tr style=\"text-align: right;\">\n",
       "      <th></th>\n",
       "      <th>Cups20</th>\n",
       "      <th>Line</th>\n",
       "      <th>Fecha</th>\n",
       "      <th>Hora</th>\n",
       "      <th>Active</th>\n",
       "      <th>Active With Transport Loss</th>\n",
       "      <th>Active With Transform Loss</th>\n",
       "      <th>NºHoras</th>\n",
       "    </tr>\n",
       "  </thead>\n",
       "  <tbody>\n",
       "    <tr>\n",
       "      <th>60214</th>\n",
       "      <td>ES0021000000930682DF</td>\n",
       "      <td>0P</td>\n",
       "      <td>2017-01-01</td>\n",
       "      <td>1</td>\n",
       "      <td>0.225</td>\n",
       "      <td>0.28778</td>\n",
       "      <td>0.225</td>\n",
       "      <td>8760</td>\n",
       "    </tr>\n",
       "    <tr>\n",
       "      <th>60215</th>\n",
       "      <td>ES0021000000930682DF</td>\n",
       "      <td>0P</td>\n",
       "      <td>2017-01-01</td>\n",
       "      <td>2</td>\n",
       "      <td>0.197</td>\n",
       "      <td>0.25216</td>\n",
       "      <td>0.197</td>\n",
       "      <td>8760</td>\n",
       "    </tr>\n",
       "    <tr>\n",
       "      <th>60216</th>\n",
       "      <td>ES0021000000930682DF</td>\n",
       "      <td>0P</td>\n",
       "      <td>2017-01-01</td>\n",
       "      <td>3</td>\n",
       "      <td>0.201</td>\n",
       "      <td>0.25728</td>\n",
       "      <td>0.201</td>\n",
       "      <td>8760</td>\n",
       "    </tr>\n",
       "    <tr>\n",
       "      <th>60217</th>\n",
       "      <td>ES0021000000930682DF</td>\n",
       "      <td>0P</td>\n",
       "      <td>2017-01-01</td>\n",
       "      <td>4</td>\n",
       "      <td>0.201</td>\n",
       "      <td>0.25728</td>\n",
       "      <td>0.201</td>\n",
       "      <td>8760</td>\n",
       "    </tr>\n",
       "    <tr>\n",
       "      <th>60218</th>\n",
       "      <td>ES0021000000930682DF</td>\n",
       "      <td>0P</td>\n",
       "      <td>2017-01-01</td>\n",
       "      <td>5</td>\n",
       "      <td>0.198</td>\n",
       "      <td>0.25344</td>\n",
       "      <td>0.198</td>\n",
       "      <td>8760</td>\n",
       "    </tr>\n",
       "  </tbody>\n",
       "</table>\n",
       "</div>"
      ],
      "text/plain": [
       "                     Cups20 Line      Fecha  Hora  Active  \\\n",
       "60214  ES0021000000930682DF   0P 2017-01-01     1   0.225   \n",
       "60215  ES0021000000930682DF   0P 2017-01-01     2   0.197   \n",
       "60216  ES0021000000930682DF   0P 2017-01-01     3   0.201   \n",
       "60217  ES0021000000930682DF   0P 2017-01-01     4   0.201   \n",
       "60218  ES0021000000930682DF   0P 2017-01-01     5   0.198   \n",
       "\n",
       "       Active With Transport Loss  Active With Transform Loss  NºHoras  \n",
       "60214                     0.28778                       0.225     8760  \n",
       "60215                     0.25216                       0.197     8760  \n",
       "60216                     0.25728                       0.201     8760  \n",
       "60217                     0.25728                       0.201     8760  \n",
       "60218                     0.25344                       0.198     8760  "
      ]
     },
     "execution_count": 136,
     "metadata": {},
     "output_type": "execute_result"
    }
   ],
   "source": [
    "Medidas.head(5)"
   ]
  },
  {
   "cell_type": "markdown",
   "metadata": {},
   "source": [
    "# Contratos\n",
    "\n",
    "A este fichero de medidas le falta información como la provincia por cliente, la tarifa contratada, o la potencia. Todos estos datos los conseguimos del excel de contratos que vamos a unir a este fichero según el CUPS."
   ]
  },
  {
   "cell_type": "code",
   "execution_count": 137,
   "metadata": {},
   "outputs": [
    {
     "data": {
      "text/html": [
       "<div>\n",
       "<style scoped>\n",
       "    .dataframe tbody tr th:only-of-type {\n",
       "        vertical-align: middle;\n",
       "    }\n",
       "\n",
       "    .dataframe tbody tr th {\n",
       "        vertical-align: top;\n",
       "    }\n",
       "\n",
       "    .dataframe thead th {\n",
       "        text-align: right;\n",
       "    }\n",
       "</style>\n",
       "<table border=\"1\" class=\"dataframe\">\n",
       "  <thead>\n",
       "    <tr style=\"text-align: right;\">\n",
       "      <th></th>\n",
       "      <th>CUPS 20</th>\n",
       "      <th>Tarifa</th>\n",
       "      <th>Provincia</th>\n",
       "      <th>Potencia</th>\n",
       "    </tr>\n",
       "  </thead>\n",
       "  <tbody>\n",
       "    <tr>\n",
       "      <th>0</th>\n",
       "      <td>ES0021000000472013PG</td>\n",
       "      <td>2.0.A</td>\n",
       "      <td>Alicante</td>\n",
       "      <td>6.60</td>\n",
       "    </tr>\n",
       "    <tr>\n",
       "      <th>1</th>\n",
       "      <td>ES0021000000951307DR</td>\n",
       "      <td>2.1.A</td>\n",
       "      <td>Alicante</td>\n",
       "      <td>13.20</td>\n",
       "    </tr>\n",
       "    <tr>\n",
       "      <th>2</th>\n",
       "      <td>ES0021000003992036XS</td>\n",
       "      <td>2.0.A</td>\n",
       "      <td>Madrid</td>\n",
       "      <td>3.30</td>\n",
       "    </tr>\n",
       "    <tr>\n",
       "      <th>3</th>\n",
       "      <td>ES0021000004049366LY</td>\n",
       "      <td>2.0.A</td>\n",
       "      <td>Madrid</td>\n",
       "      <td>3.45</td>\n",
       "    </tr>\n",
       "    <tr>\n",
       "      <th>4</th>\n",
       "      <td>ES0021000004146547NN</td>\n",
       "      <td>2.0.A</td>\n",
       "      <td>Madrid</td>\n",
       "      <td>3.45</td>\n",
       "    </tr>\n",
       "  </tbody>\n",
       "</table>\n",
       "</div>"
      ],
      "text/plain": [
       "                CUPS 20 Tarifa Provincia  Potencia \n",
       "0  ES0021000000472013PG  2.0.A  Alicante       6.60\n",
       "1  ES0021000000951307DR  2.1.A  Alicante      13.20\n",
       "2  ES0021000003992036XS  2.0.A    Madrid       3.30\n",
       "3  ES0021000004049366LY  2.0.A    Madrid       3.45\n",
       "4  ES0021000004146547NN  2.0.A    Madrid       3.45"
      ]
     },
     "execution_count": 137,
     "metadata": {},
     "output_type": "execute_result"
    }
   ],
   "source": [
    "contratos = pd.read_excel('./data/Contratos.xlsx')\n",
    "contratos.head(5)"
   ]
  },
  {
   "cell_type": "code",
   "execution_count": 138,
   "metadata": {},
   "outputs": [
    {
     "data": {
      "text/html": [
       "<div>\n",
       "<style scoped>\n",
       "    .dataframe tbody tr th:only-of-type {\n",
       "        vertical-align: middle;\n",
       "    }\n",
       "\n",
       "    .dataframe tbody tr th {\n",
       "        vertical-align: top;\n",
       "    }\n",
       "\n",
       "    .dataframe thead th {\n",
       "        text-align: right;\n",
       "    }\n",
       "</style>\n",
       "<table border=\"1\" class=\"dataframe\">\n",
       "  <thead>\n",
       "    <tr style=\"text-align: right;\">\n",
       "      <th></th>\n",
       "      <th>Cups20</th>\n",
       "      <th>Tarifa</th>\n",
       "      <th>Provincia</th>\n",
       "      <th>Potencia</th>\n",
       "    </tr>\n",
       "  </thead>\n",
       "  <tbody>\n",
       "    <tr>\n",
       "      <th>0</th>\n",
       "      <td>ES0021000000472013PG</td>\n",
       "      <td>2.0.A</td>\n",
       "      <td>Alicante</td>\n",
       "      <td>6.60</td>\n",
       "    </tr>\n",
       "    <tr>\n",
       "      <th>1</th>\n",
       "      <td>ES0021000000951307DR</td>\n",
       "      <td>2.1.A</td>\n",
       "      <td>Alicante</td>\n",
       "      <td>13.20</td>\n",
       "    </tr>\n",
       "    <tr>\n",
       "      <th>2</th>\n",
       "      <td>ES0021000003992036XS</td>\n",
       "      <td>2.0.A</td>\n",
       "      <td>Madrid</td>\n",
       "      <td>3.30</td>\n",
       "    </tr>\n",
       "    <tr>\n",
       "      <th>3</th>\n",
       "      <td>ES0021000004049366LY</td>\n",
       "      <td>2.0.A</td>\n",
       "      <td>Madrid</td>\n",
       "      <td>3.45</td>\n",
       "    </tr>\n",
       "    <tr>\n",
       "      <th>4</th>\n",
       "      <td>ES0021000004146547NN</td>\n",
       "      <td>2.0.A</td>\n",
       "      <td>Madrid</td>\n",
       "      <td>3.45</td>\n",
       "    </tr>\n",
       "  </tbody>\n",
       "</table>\n",
       "</div>"
      ],
      "text/plain": [
       "                 Cups20 Tarifa Provincia  Potencia \n",
       "0  ES0021000000472013PG  2.0.A  Alicante       6.60\n",
       "1  ES0021000000951307DR  2.1.A  Alicante      13.20\n",
       "2  ES0021000003992036XS  2.0.A    Madrid       3.30\n",
       "3  ES0021000004049366LY  2.0.A    Madrid       3.45\n",
       "4  ES0021000004146547NN  2.0.A    Madrid       3.45"
      ]
     },
     "execution_count": 138,
     "metadata": {},
     "output_type": "execute_result"
    }
   ],
   "source": [
    "contratos = contratos.rename(columns={'CUPS 20' : 'Cups20'})\n",
    "contratos.head(5)"
   ]
  },
  {
   "cell_type": "code",
   "execution_count": 139,
   "metadata": {},
   "outputs": [
    {
     "data": {
      "text/plain": [
       "(876240, 8)"
      ]
     },
     "execution_count": 139,
     "metadata": {},
     "output_type": "execute_result"
    }
   ],
   "source": [
    "Medidas.shape"
   ]
  },
  {
   "cell_type": "markdown",
   "metadata": {},
   "source": [
    "Comprobamos que despues del merge tengo las mismas líneas que tenía antes, y que no tengo ningún valor NaN"
   ]
  },
  {
   "cell_type": "code",
   "execution_count": 140,
   "metadata": {},
   "outputs": [],
   "source": [
    "Medidas = Medidas.merge(contratos, on='Cups20', how='left')\n"
   ]
  },
  {
   "cell_type": "code",
   "execution_count": 141,
   "metadata": {},
   "outputs": [
    {
     "data": {
      "text/plain": [
       "(876240, 11)"
      ]
     },
     "execution_count": 141,
     "metadata": {},
     "output_type": "execute_result"
    }
   ],
   "source": [
    "Medidas.shape"
   ]
  },
  {
   "cell_type": "code",
   "execution_count": 142,
   "metadata": {},
   "outputs": [
    {
     "data": {
      "text/plain": [
       "False"
      ]
     },
     "execution_count": 142,
     "metadata": {},
     "output_type": "execute_result"
    }
   ],
   "source": [
    "Medidas.isnull().any().any()"
   ]
  },
  {
   "cell_type": "markdown",
   "metadata": {},
   "source": [
    "\n",
    "### Limpieza de datos\n",
    "\n",
    "Vamos a ver las columnas que tiene el data frame y vamos a quedarnos solo con las necesarias para el analisis.\n"
   ]
  },
  {
   "cell_type": "code",
   "execution_count": 143,
   "metadata": {},
   "outputs": [
    {
     "data": {
      "text/plain": [
       "Index(['Cups20', 'Line', 'Fecha', 'Hora', 'Active',\n",
       "       'Active With Transport Loss', 'Active With Transform Loss', 'NºHoras',\n",
       "       'Tarifa', 'Provincia', 'Potencia '],\n",
       "      dtype='object')"
      ]
     },
     "execution_count": 143,
     "metadata": {},
     "output_type": "execute_result"
    }
   ],
   "source": [
    "Medidas.columns"
   ]
  },
  {
   "cell_type": "code",
   "execution_count": 144,
   "metadata": {},
   "outputs": [
    {
     "data": {
      "text/html": [
       "<div>\n",
       "<style scoped>\n",
       "    .dataframe tbody tr th:only-of-type {\n",
       "        vertical-align: middle;\n",
       "    }\n",
       "\n",
       "    .dataframe tbody tr th {\n",
       "        vertical-align: top;\n",
       "    }\n",
       "\n",
       "    .dataframe thead th {\n",
       "        text-align: right;\n",
       "    }\n",
       "</style>\n",
       "<table border=\"1\" class=\"dataframe\">\n",
       "  <thead>\n",
       "    <tr style=\"text-align: right;\">\n",
       "      <th></th>\n",
       "      <th>Provincia</th>\n",
       "      <th>Cups20</th>\n",
       "      <th>Tarifa</th>\n",
       "      <th>Fecha</th>\n",
       "      <th>Hora</th>\n",
       "      <th>Active</th>\n",
       "      <th>NºHoras</th>\n",
       "    </tr>\n",
       "  </thead>\n",
       "  <tbody>\n",
       "    <tr>\n",
       "      <th>0</th>\n",
       "      <td>Alicante</td>\n",
       "      <td>ES0021000000930682DF</td>\n",
       "      <td>2.0.A</td>\n",
       "      <td>2017-01-01</td>\n",
       "      <td>1</td>\n",
       "      <td>0.225</td>\n",
       "      <td>8760</td>\n",
       "    </tr>\n",
       "    <tr>\n",
       "      <th>1</th>\n",
       "      <td>Alicante</td>\n",
       "      <td>ES0021000000930682DF</td>\n",
       "      <td>2.0.A</td>\n",
       "      <td>2017-01-01</td>\n",
       "      <td>2</td>\n",
       "      <td>0.197</td>\n",
       "      <td>8760</td>\n",
       "    </tr>\n",
       "    <tr>\n",
       "      <th>2</th>\n",
       "      <td>Alicante</td>\n",
       "      <td>ES0021000000930682DF</td>\n",
       "      <td>2.0.A</td>\n",
       "      <td>2017-01-01</td>\n",
       "      <td>3</td>\n",
       "      <td>0.201</td>\n",
       "      <td>8760</td>\n",
       "    </tr>\n",
       "    <tr>\n",
       "      <th>3</th>\n",
       "      <td>Alicante</td>\n",
       "      <td>ES0021000000930682DF</td>\n",
       "      <td>2.0.A</td>\n",
       "      <td>2017-01-01</td>\n",
       "      <td>4</td>\n",
       "      <td>0.201</td>\n",
       "      <td>8760</td>\n",
       "    </tr>\n",
       "    <tr>\n",
       "      <th>4</th>\n",
       "      <td>Alicante</td>\n",
       "      <td>ES0021000000930682DF</td>\n",
       "      <td>2.0.A</td>\n",
       "      <td>2017-01-01</td>\n",
       "      <td>5</td>\n",
       "      <td>0.198</td>\n",
       "      <td>8760</td>\n",
       "    </tr>\n",
       "  </tbody>\n",
       "</table>\n",
       "</div>"
      ],
      "text/plain": [
       "  Provincia                Cups20 Tarifa      Fecha  Hora  Active  NºHoras\n",
       "0  Alicante  ES0021000000930682DF  2.0.A 2017-01-01     1   0.225     8760\n",
       "1  Alicante  ES0021000000930682DF  2.0.A 2017-01-01     2   0.197     8760\n",
       "2  Alicante  ES0021000000930682DF  2.0.A 2017-01-01     3   0.201     8760\n",
       "3  Alicante  ES0021000000930682DF  2.0.A 2017-01-01     4   0.201     8760\n",
       "4  Alicante  ES0021000000930682DF  2.0.A 2017-01-01     5   0.198     8760"
      ]
     },
     "execution_count": 144,
     "metadata": {},
     "output_type": "execute_result"
    }
   ],
   "source": [
    "Medidas = Medidas[[ 'Provincia', 'Cups20', 'Tarifa','Fecha', 'Hora', 'Active', 'NºHoras']]\n",
    "Medidas.head(5)"
   ]
  },
  {
   "cell_type": "code",
   "execution_count": 208,
   "metadata": {},
   "outputs": [],
   "source": [
    "Medidas.to_csv('Medidas.csv')"
   ]
  },
  {
   "cell_type": "markdown",
   "metadata": {},
   "source": [
    "Para que un CUPS tenga medida completa en los dos años de estudio debe tener 16.776 horas de consumo, vamos a analizar cuantos puntos tenemos y de cuantos de ellos tenemos medida completa."
   ]
  },
  {
   "cell_type": "code",
   "execution_count": 159,
   "metadata": {},
   "outputs": [
    {
     "data": {
      "text/plain": [
       "Index(['Provincia', 'Cups20', 'Tarifa', 'Fecha', 'Hora', 'Active', 'NºHoras'], dtype='object')"
      ]
     },
     "execution_count": 159,
     "metadata": {},
     "output_type": "execute_result"
    }
   ],
   "source": [
    "Medidas.columns"
   ]
  },
  {
   "cell_type": "code",
   "execution_count": 172,
   "metadata": {},
   "outputs": [],
   "source": [
    "Cups = Medidas.groupby(['Cups20']).count()"
   ]
  },
  {
   "cell_type": "code",
   "execution_count": 173,
   "metadata": {},
   "outputs": [],
   "source": [
    "Cups=Cups.reset_index()"
   ]
  },
  {
   "cell_type": "code",
   "execution_count": 174,
   "metadata": {},
   "outputs": [
    {
     "data": {
      "text/html": [
       "<div>\n",
       "<style scoped>\n",
       "    .dataframe tbody tr th:only-of-type {\n",
       "        vertical-align: middle;\n",
       "    }\n",
       "\n",
       "    .dataframe tbody tr th {\n",
       "        vertical-align: top;\n",
       "    }\n",
       "\n",
       "    .dataframe thead th {\n",
       "        text-align: right;\n",
       "    }\n",
       "</style>\n",
       "<table border=\"1\" class=\"dataframe\">\n",
       "  <thead>\n",
       "    <tr style=\"text-align: right;\">\n",
       "      <th></th>\n",
       "      <th>Cups20</th>\n",
       "      <th>Provincia</th>\n",
       "      <th>Tarifa</th>\n",
       "      <th>Fecha</th>\n",
       "      <th>Hora</th>\n",
       "      <th>Active</th>\n",
       "      <th>NºHoras</th>\n",
       "    </tr>\n",
       "  </thead>\n",
       "  <tbody>\n",
       "    <tr>\n",
       "      <th>0</th>\n",
       "      <td>ES0021000000930682DF</td>\n",
       "      <td>8760</td>\n",
       "      <td>8760</td>\n",
       "      <td>8760</td>\n",
       "      <td>8760</td>\n",
       "      <td>8760</td>\n",
       "      <td>8760</td>\n",
       "    </tr>\n",
       "    <tr>\n",
       "      <th>1</th>\n",
       "      <td>ES0021000000930683DP</td>\n",
       "      <td>8760</td>\n",
       "      <td>8760</td>\n",
       "      <td>8760</td>\n",
       "      <td>8760</td>\n",
       "      <td>8760</td>\n",
       "      <td>8760</td>\n",
       "    </tr>\n",
       "    <tr>\n",
       "      <th>2</th>\n",
       "      <td>ES0021000000930684DD</td>\n",
       "      <td>8760</td>\n",
       "      <td>8760</td>\n",
       "      <td>8760</td>\n",
       "      <td>8760</td>\n",
       "      <td>8760</td>\n",
       "      <td>8760</td>\n",
       "    </tr>\n",
       "    <tr>\n",
       "      <th>3</th>\n",
       "      <td>ES0021000000930685DX</td>\n",
       "      <td>8760</td>\n",
       "      <td>8760</td>\n",
       "      <td>8760</td>\n",
       "      <td>8760</td>\n",
       "      <td>8760</td>\n",
       "      <td>8760</td>\n",
       "    </tr>\n",
       "    <tr>\n",
       "      <th>4</th>\n",
       "      <td>ES0021000000930686DB</td>\n",
       "      <td>8760</td>\n",
       "      <td>8760</td>\n",
       "      <td>8760</td>\n",
       "      <td>8760</td>\n",
       "      <td>8760</td>\n",
       "      <td>8760</td>\n",
       "    </tr>\n",
       "  </tbody>\n",
       "</table>\n",
       "</div>"
      ],
      "text/plain": [
       "                 Cups20  Provincia  Tarifa  Fecha  Hora  Active  NºHoras\n",
       "0  ES0021000000930682DF       8760    8760   8760  8760    8760     8760\n",
       "1  ES0021000000930683DP       8760    8760   8760  8760    8760     8760\n",
       "2  ES0021000000930684DD       8760    8760   8760  8760    8760     8760\n",
       "3  ES0021000000930685DX       8760    8760   8760  8760    8760     8760\n",
       "4  ES0021000000930686DB       8760    8760   8760  8760    8760     8760"
      ]
     },
     "execution_count": 174,
     "metadata": {},
     "output_type": "execute_result"
    }
   ],
   "source": [
    "Cups.head()"
   ]
  },
  {
   "cell_type": "code",
   "execution_count": 175,
   "metadata": {},
   "outputs": [],
   "source": [
    "Cups=Cups[['Cups20', 'Hora']]\n",
    "Cups=Cups.rename(columns={'Hora' : 'NºHoras'})\n"
   ]
  },
  {
   "cell_type": "code",
   "execution_count": 177,
   "metadata": {},
   "outputs": [
    {
     "data": {
      "text/html": [
       "<div>\n",
       "<style scoped>\n",
       "    .dataframe tbody tr th:only-of-type {\n",
       "        vertical-align: middle;\n",
       "    }\n",
       "\n",
       "    .dataframe tbody tr th {\n",
       "        vertical-align: top;\n",
       "    }\n",
       "\n",
       "    .dataframe thead th {\n",
       "        text-align: right;\n",
       "    }\n",
       "</style>\n",
       "<table border=\"1\" class=\"dataframe\">\n",
       "  <thead>\n",
       "    <tr style=\"text-align: right;\">\n",
       "      <th></th>\n",
       "      <th>NºHoras</th>\n",
       "    </tr>\n",
       "  </thead>\n",
       "  <tbody>\n",
       "    <tr>\n",
       "      <th>count</th>\n",
       "      <td>103.000000</td>\n",
       "    </tr>\n",
       "    <tr>\n",
       "      <th>mean</th>\n",
       "      <td>8507.184466</td>\n",
       "    </tr>\n",
       "    <tr>\n",
       "      <th>std</th>\n",
       "      <td>354.113689</td>\n",
       "    </tr>\n",
       "    <tr>\n",
       "      <th>min</th>\n",
       "      <td>8016.000000</td>\n",
       "    </tr>\n",
       "    <tr>\n",
       "      <th>25%</th>\n",
       "      <td>8016.000000</td>\n",
       "    </tr>\n",
       "    <tr>\n",
       "      <th>50%</th>\n",
       "      <td>8760.000000</td>\n",
       "    </tr>\n",
       "    <tr>\n",
       "      <th>75%</th>\n",
       "      <td>8760.000000</td>\n",
       "    </tr>\n",
       "    <tr>\n",
       "      <th>max</th>\n",
       "      <td>8760.000000</td>\n",
       "    </tr>\n",
       "  </tbody>\n",
       "</table>\n",
       "</div>"
      ],
      "text/plain": [
       "           NºHoras\n",
       "count   103.000000\n",
       "mean   8507.184466\n",
       "std     354.113689\n",
       "min    8016.000000\n",
       "25%    8016.000000\n",
       "50%    8760.000000\n",
       "75%    8760.000000\n",
       "max    8760.000000"
      ]
     },
     "execution_count": 177,
     "metadata": {},
     "output_type": "execute_result"
    }
   ],
   "source": [
    "Cups.describe()"
   ]
  },
  {
   "cell_type": "markdown",
   "metadata": {},
   "source": [
    "He cogido mi fichero Medidas.csv que contenía la medida de todos los CUPS que ya habíamos filtrado, he creado el fichero Cups con el que he contado las horas de consumo para cada uno de los CUPS, y realizado un Cups.describe, donde veo que el valor minimo de horas es de 8.016, pero valor maximo de horas es de 8.760.\n",
    "\n",
    "Lo que vemos con esto, es que no tenemos níngún punto para el que tengamos medida comleta para 2017 y para 2018, lo cual es un problema en nuestro planteamiento inicial. Ya que, o tenemos medida completa de 2017, o de 2018, pero no para los dos años.\n",
    "\n",
    "Por tanto replanteamos y nos quedamos solo con las medidas que tenemos desde el 01/01/2018 al 30/11/2018, descartando toda la medida de 2017, para, poro un lado, simplificar el problema, y por otro lado poder obtener una solución a nuestro planteamiento inicial."
   ]
  },
  {
   "cell_type": "markdown",
   "metadata": {},
   "source": [
    "### Volvemos a nuestro fichero de medidas de 2018."
   ]
  },
  {
   "cell_type": "code",
   "execution_count": 179,
   "metadata": {},
   "outputs": [
    {
     "data": {
      "text/html": [
       "<div>\n",
       "<style scoped>\n",
       "    .dataframe tbody tr th:only-of-type {\n",
       "        vertical-align: middle;\n",
       "    }\n",
       "\n",
       "    .dataframe tbody tr th {\n",
       "        vertical-align: top;\n",
       "    }\n",
       "\n",
       "    .dataframe thead th {\n",
       "        text-align: right;\n",
       "    }\n",
       "</style>\n",
       "<table border=\"1\" class=\"dataframe\">\n",
       "  <thead>\n",
       "    <tr style=\"text-align: right;\">\n",
       "      <th></th>\n",
       "      <th>--Cups20--</th>\n",
       "      <th>--Line--</th>\n",
       "      <th>--Fecha--</th>\n",
       "      <th>--Hora--</th>\n",
       "      <th>--Active--</th>\n",
       "      <th>--Active With Transport Loss--</th>\n",
       "      <th>--Active With Transform Loss--</th>\n",
       "      <th>NºHoras</th>\n",
       "    </tr>\n",
       "  </thead>\n",
       "  <tbody>\n",
       "    <tr>\n",
       "      <th>2378357</th>\n",
       "      <td>ES0022000004023788QV</td>\n",
       "      <td>1P</td>\n",
       "      <td>2018-01-01</td>\n",
       "      <td>1</td>\n",
       "      <td>0.206</td>\n",
       "      <td>0.26368</td>\n",
       "      <td>0.206</td>\n",
       "      <td>8016</td>\n",
       "    </tr>\n",
       "    <tr>\n",
       "      <th>2378358</th>\n",
       "      <td>ES0022000004023788QV</td>\n",
       "      <td>1P</td>\n",
       "      <td>2018-01-01</td>\n",
       "      <td>2</td>\n",
       "      <td>0.205</td>\n",
       "      <td>0.26240</td>\n",
       "      <td>0.205</td>\n",
       "      <td>8016</td>\n",
       "    </tr>\n",
       "    <tr>\n",
       "      <th>2378359</th>\n",
       "      <td>ES0022000004023788QV</td>\n",
       "      <td>1P</td>\n",
       "      <td>2018-01-01</td>\n",
       "      <td>3</td>\n",
       "      <td>0.207</td>\n",
       "      <td>0.26496</td>\n",
       "      <td>0.207</td>\n",
       "      <td>8016</td>\n",
       "    </tr>\n",
       "    <tr>\n",
       "      <th>2378360</th>\n",
       "      <td>ES0022000004023788QV</td>\n",
       "      <td>1P</td>\n",
       "      <td>2018-01-01</td>\n",
       "      <td>4</td>\n",
       "      <td>0.206</td>\n",
       "      <td>0.26368</td>\n",
       "      <td>0.206</td>\n",
       "      <td>8016</td>\n",
       "    </tr>\n",
       "    <tr>\n",
       "      <th>2378361</th>\n",
       "      <td>ES0022000004023788QV</td>\n",
       "      <td>1P</td>\n",
       "      <td>2018-01-01</td>\n",
       "      <td>5</td>\n",
       "      <td>0.205</td>\n",
       "      <td>0.26240</td>\n",
       "      <td>0.205</td>\n",
       "      <td>8016</td>\n",
       "    </tr>\n",
       "  </tbody>\n",
       "</table>\n",
       "</div>"
      ],
      "text/plain": [
       "                   --Cups20-- --Line--  --Fecha--  --Hora--  --Active--  \\\n",
       "2378357  ES0022000004023788QV       1P 2018-01-01         1       0.206   \n",
       "2378358  ES0022000004023788QV       1P 2018-01-01         2       0.205   \n",
       "2378359  ES0022000004023788QV       1P 2018-01-01         3       0.207   \n",
       "2378360  ES0022000004023788QV       1P 2018-01-01         4       0.206   \n",
       "2378361  ES0022000004023788QV       1P 2018-01-01         5       0.205   \n",
       "\n",
       "         --Active With Transport Loss--  --Active With Transform Loss--  \\\n",
       "2378357                         0.26368                           0.206   \n",
       "2378358                         0.26240                           0.205   \n",
       "2378359                         0.26496                           0.207   \n",
       "2378360                         0.26368                           0.206   \n",
       "2378361                         0.26240                           0.205   \n",
       "\n",
       "         NºHoras  \n",
       "2378357     8016  \n",
       "2378358     8016  \n",
       "2378359     8016  \n",
       "2378360     8016  \n",
       "2378361     8016  "
      ]
     },
     "execution_count": 179,
     "metadata": {},
     "output_type": "execute_result"
    }
   ],
   "source": [
    "df_2018.head()"
   ]
  },
  {
   "cell_type": "code",
   "execution_count": 180,
   "metadata": {},
   "outputs": [
    {
     "data": {
      "text/html": [
       "<div>\n",
       "<style scoped>\n",
       "    .dataframe tbody tr th:only-of-type {\n",
       "        vertical-align: middle;\n",
       "    }\n",
       "\n",
       "    .dataframe tbody tr th {\n",
       "        vertical-align: top;\n",
       "    }\n",
       "\n",
       "    .dataframe thead th {\n",
       "        text-align: right;\n",
       "    }\n",
       "</style>\n",
       "<table border=\"1\" class=\"dataframe\">\n",
       "  <thead>\n",
       "    <tr style=\"text-align: right;\">\n",
       "      <th></th>\n",
       "      <th>--Hora--</th>\n",
       "      <th>--Active--</th>\n",
       "      <th>--Active With Transport Loss--</th>\n",
       "      <th>--Active With Transform Loss--</th>\n",
       "      <th>NºHoras</th>\n",
       "    </tr>\n",
       "  </thead>\n",
       "  <tbody>\n",
       "    <tr>\n",
       "      <th>count</th>\n",
       "      <td>280560.000000</td>\n",
       "      <td>280560.000000</td>\n",
       "      <td>280560.000000</td>\n",
       "      <td>280560.000000</td>\n",
       "      <td>280560.0</td>\n",
       "    </tr>\n",
       "    <tr>\n",
       "      <th>mean</th>\n",
       "      <td>12.500000</td>\n",
       "      <td>0.994323</td>\n",
       "      <td>1.152116</td>\n",
       "      <td>0.994320</td>\n",
       "      <td>8016.0</td>\n",
       "    </tr>\n",
       "    <tr>\n",
       "      <th>std</th>\n",
       "      <td>6.922199</td>\n",
       "      <td>1.460470</td>\n",
       "      <td>1.688435</td>\n",
       "      <td>1.460472</td>\n",
       "      <td>0.0</td>\n",
       "    </tr>\n",
       "    <tr>\n",
       "      <th>min</th>\n",
       "      <td>1.000000</td>\n",
       "      <td>0.000000</td>\n",
       "      <td>0.000000</td>\n",
       "      <td>0.000000</td>\n",
       "      <td>8016.0</td>\n",
       "    </tr>\n",
       "    <tr>\n",
       "      <th>25%</th>\n",
       "      <td>6.750000</td>\n",
       "      <td>0.112000</td>\n",
       "      <td>0.131040</td>\n",
       "      <td>0.112000</td>\n",
       "      <td>8016.0</td>\n",
       "    </tr>\n",
       "    <tr>\n",
       "      <th>50%</th>\n",
       "      <td>12.500000</td>\n",
       "      <td>0.351000</td>\n",
       "      <td>0.410700</td>\n",
       "      <td>0.351000</td>\n",
       "      <td>8016.0</td>\n",
       "    </tr>\n",
       "    <tr>\n",
       "      <th>75%</th>\n",
       "      <td>18.250000</td>\n",
       "      <td>1.337000</td>\n",
       "      <td>1.561932</td>\n",
       "      <td>1.337000</td>\n",
       "      <td>8016.0</td>\n",
       "    </tr>\n",
       "    <tr>\n",
       "      <th>max</th>\n",
       "      <td>24.000000</td>\n",
       "      <td>19.628000</td>\n",
       "      <td>22.998280</td>\n",
       "      <td>19.628000</td>\n",
       "      <td>8016.0</td>\n",
       "    </tr>\n",
       "  </tbody>\n",
       "</table>\n",
       "</div>"
      ],
      "text/plain": [
       "            --Hora--     --Active--  --Active With Transport Loss--  \\\n",
       "count  280560.000000  280560.000000                   280560.000000   \n",
       "mean       12.500000       0.994323                        1.152116   \n",
       "std         6.922199       1.460470                        1.688435   \n",
       "min         1.000000       0.000000                        0.000000   \n",
       "25%         6.750000       0.112000                        0.131040   \n",
       "50%        12.500000       0.351000                        0.410700   \n",
       "75%        18.250000       1.337000                        1.561932   \n",
       "max        24.000000      19.628000                       22.998280   \n",
       "\n",
       "       --Active With Transform Loss--   NºHoras  \n",
       "count                   280560.000000  280560.0  \n",
       "mean                         0.994320    8016.0  \n",
       "std                          1.460472       0.0  \n",
       "min                          0.000000    8016.0  \n",
       "25%                          0.112000    8016.0  \n",
       "50%                          0.351000    8016.0  \n",
       "75%                          1.337000    8016.0  \n",
       "max                         19.628000    8016.0  "
      ]
     },
     "execution_count": 180,
     "metadata": {},
     "output_type": "execute_result"
    }
   ],
   "source": [
    "df_2018.describe()"
   ]
  },
  {
   "cell_type": "code",
   "execution_count": 54,
   "metadata": {},
   "outputs": [
    {
     "data": {
      "text/plain": [
       "[<matplotlib.lines.Line2D at 0x1114724a8>]"
      ]
     },
     "execution_count": 54,
     "metadata": {},
     "output_type": "execute_result"
    },
    {
     "data": {
      "image/png": "[encoded data removed]",
      "text/plain": [
       "<Figure size 432x288 with 1 Axes>"
      ]
     },
     "metadata": {},
     "output_type": "display_data"
    }
   ],
   "source": [
    "\n",
    "plt.plot(df_2018['--Active--'], type='l')\n"
   ]
  },
  {
   "cell_type": "code",
   "execution_count": 211,
   "metadata": {},
   "outputs": [
    {
     "data": {
      "text/plain": [
       "Index(['--Cups20--', '--Line--', '--Fecha--', '--Hora--', '--Active--',\n",
       "       '--Active With Transport Loss--', '--Active With Transform Loss--',\n",
       "       'NºHoras'],\n",
       "      dtype='object')"
      ]
     },
     "execution_count": 211,
     "metadata": {},
     "output_type": "execute_result"
    }
   ],
   "source": [
    "df_2018.columns"
   ]
  },
  {
   "cell_type": "code",
   "execution_count": 212,
   "metadata": {},
   "outputs": [],
   "source": [
    "df_2018 = df_2018.rename(columns={'--Cups20--' : 'Cups20',\n",
    "                                  '--Line--' : 'Line', \n",
    "                                  '--Fecha--' : 'Fecha', \n",
    "                                  '--Hora--' : 'Hora', \n",
    "                                  '--Active--' : 'Active' , \n",
    "                                  '--Active With Transport Loss--' : 'Active With Transport Loss', \n",
    "                                  '--Active With Transform Loss--' : 'Active With Transform Loss'})"
   ]
  },
  {
   "cell_type": "code",
   "execution_count": 213,
   "metadata": {},
   "outputs": [
    {
     "data": {
      "text/plain": [
       "Index(['Cups20', 'Line', 'Fecha', 'Hora', 'Active',\n",
       "       'Active With Transport Loss', 'Active With Transform Loss', 'NºHoras'],\n",
       "      dtype='object')"
      ]
     },
     "execution_count": 213,
     "metadata": {},
     "output_type": "execute_result"
    }
   ],
   "source": [
    "df_2018.columns"
   ]
  },
  {
   "cell_type": "code",
   "execution_count": 215,
   "metadata": {},
   "outputs": [
    {
     "data": {
      "text/plain": [
       "(280560, 8)"
      ]
     },
     "execution_count": 215,
     "metadata": {},
     "output_type": "execute_result"
    }
   ],
   "source": [
    "df_2018.shape"
   ]
  },
  {
   "cell_type": "code",
   "execution_count": 216,
   "metadata": {},
   "outputs": [],
   "source": [
    "df_2018 = df_2018.merge(contratos, on='Cups20', how='left')"
   ]
  },
  {
   "cell_type": "code",
   "execution_count": 218,
   "metadata": {},
   "outputs": [
    {
     "data": {
      "text/plain": [
       "(280560, 11)"
      ]
     },
     "execution_count": 218,
     "metadata": {},
     "output_type": "execute_result"
    }
   ],
   "source": [
    "df_2018.shape"
   ]
  },
  {
   "cell_type": "code",
   "execution_count": 219,
   "metadata": {},
   "outputs": [
    {
     "data": {
      "text/html": [
       "<div>\n",
       "<style scoped>\n",
       "    .dataframe tbody tr th:only-of-type {\n",
       "        vertical-align: middle;\n",
       "    }\n",
       "\n",
       "    .dataframe tbody tr th {\n",
       "        vertical-align: top;\n",
       "    }\n",
       "\n",
       "    .dataframe thead th {\n",
       "        text-align: right;\n",
       "    }\n",
       "</style>\n",
       "<table border=\"1\" class=\"dataframe\">\n",
       "  <thead>\n",
       "    <tr style=\"text-align: right;\">\n",
       "      <th></th>\n",
       "      <th>Cups20</th>\n",
       "      <th>Line</th>\n",
       "      <th>Fecha</th>\n",
       "      <th>Hora</th>\n",
       "      <th>Active</th>\n",
       "      <th>Active With Transport Loss</th>\n",
       "      <th>Active With Transform Loss</th>\n",
       "      <th>NºHoras</th>\n",
       "      <th>Tarifa</th>\n",
       "      <th>Provincia</th>\n",
       "      <th>Potencia</th>\n",
       "    </tr>\n",
       "  </thead>\n",
       "  <tbody>\n",
       "    <tr>\n",
       "      <th>0</th>\n",
       "      <td>ES0022000004023788QV</td>\n",
       "      <td>1P</td>\n",
       "      <td>2018-01-01</td>\n",
       "      <td>1</td>\n",
       "      <td>0.206</td>\n",
       "      <td>0.26368</td>\n",
       "      <td>0.206</td>\n",
       "      <td>8016</td>\n",
       "      <td>2.0.A</td>\n",
       "      <td>La Coruña</td>\n",
       "      <td>5.75</td>\n",
       "    </tr>\n",
       "    <tr>\n",
       "      <th>1</th>\n",
       "      <td>ES0022000004023788QV</td>\n",
       "      <td>1P</td>\n",
       "      <td>2018-01-01</td>\n",
       "      <td>2</td>\n",
       "      <td>0.205</td>\n",
       "      <td>0.26240</td>\n",
       "      <td>0.205</td>\n",
       "      <td>8016</td>\n",
       "      <td>2.0.A</td>\n",
       "      <td>La Coruña</td>\n",
       "      <td>5.75</td>\n",
       "    </tr>\n",
       "    <tr>\n",
       "      <th>2</th>\n",
       "      <td>ES0022000004023788QV</td>\n",
       "      <td>1P</td>\n",
       "      <td>2018-01-01</td>\n",
       "      <td>3</td>\n",
       "      <td>0.207</td>\n",
       "      <td>0.26496</td>\n",
       "      <td>0.207</td>\n",
       "      <td>8016</td>\n",
       "      <td>2.0.A</td>\n",
       "      <td>La Coruña</td>\n",
       "      <td>5.75</td>\n",
       "    </tr>\n",
       "    <tr>\n",
       "      <th>3</th>\n",
       "      <td>ES0022000004023788QV</td>\n",
       "      <td>1P</td>\n",
       "      <td>2018-01-01</td>\n",
       "      <td>4</td>\n",
       "      <td>0.206</td>\n",
       "      <td>0.26368</td>\n",
       "      <td>0.206</td>\n",
       "      <td>8016</td>\n",
       "      <td>2.0.A</td>\n",
       "      <td>La Coruña</td>\n",
       "      <td>5.75</td>\n",
       "    </tr>\n",
       "    <tr>\n",
       "      <th>4</th>\n",
       "      <td>ES0022000004023788QV</td>\n",
       "      <td>1P</td>\n",
       "      <td>2018-01-01</td>\n",
       "      <td>5</td>\n",
       "      <td>0.205</td>\n",
       "      <td>0.26240</td>\n",
       "      <td>0.205</td>\n",
       "      <td>8016</td>\n",
       "      <td>2.0.A</td>\n",
       "      <td>La Coruña</td>\n",
       "      <td>5.75</td>\n",
       "    </tr>\n",
       "  </tbody>\n",
       "</table>\n",
       "</div>"
      ],
      "text/plain": [
       "                 Cups20 Line      Fecha  Hora  Active  \\\n",
       "0  ES0022000004023788QV   1P 2018-01-01     1   0.206   \n",
       "1  ES0022000004023788QV   1P 2018-01-01     2   0.205   \n",
       "2  ES0022000004023788QV   1P 2018-01-01     3   0.207   \n",
       "3  ES0022000004023788QV   1P 2018-01-01     4   0.206   \n",
       "4  ES0022000004023788QV   1P 2018-01-01     5   0.205   \n",
       "\n",
       "   Active With Transport Loss  Active With Transform Loss  NºHoras Tarifa  \\\n",
       "0                     0.26368                       0.206     8016  2.0.A   \n",
       "1                     0.26240                       0.205     8016  2.0.A   \n",
       "2                     0.26496                       0.207     8016  2.0.A   \n",
       "3                     0.26368                       0.206     8016  2.0.A   \n",
       "4                     0.26240                       0.205     8016  2.0.A   \n",
       "\n",
       "   Provincia  Potencia   \n",
       "0  La Coruña       5.75  \n",
       "1  La Coruña       5.75  \n",
       "2  La Coruña       5.75  \n",
       "3  La Coruña       5.75  \n",
       "4  La Coruña       5.75  "
      ]
     },
     "execution_count": 219,
     "metadata": {},
     "output_type": "execute_result"
    }
   ],
   "source": [
    "df_2018.head()"
   ]
  },
  {
   "cell_type": "code",
   "execution_count": 247,
   "metadata": {},
   "outputs": [],
   "source": [
    "df_2018=df_2018[['Cups20', 'Provincia', 'Tarifa', 'Fecha', 'Hora', 'Active']]"
   ]
  },
  {
   "cell_type": "code",
   "execution_count": 248,
   "metadata": {},
   "outputs": [
    {
     "data": {
      "text/html": [
       "<div>\n",
       "<style scoped>\n",
       "    .dataframe tbody tr th:only-of-type {\n",
       "        vertical-align: middle;\n",
       "    }\n",
       "\n",
       "    .dataframe tbody tr th {\n",
       "        vertical-align: top;\n",
       "    }\n",
       "\n",
       "    .dataframe thead th {\n",
       "        text-align: right;\n",
       "    }\n",
       "</style>\n",
       "<table border=\"1\" class=\"dataframe\">\n",
       "  <thead>\n",
       "    <tr style=\"text-align: right;\">\n",
       "      <th></th>\n",
       "      <th>Cups20</th>\n",
       "      <th>Provincia</th>\n",
       "      <th>Tarifa</th>\n",
       "      <th>Fecha</th>\n",
       "      <th>Hora</th>\n",
       "      <th>Active</th>\n",
       "    </tr>\n",
       "  </thead>\n",
       "  <tbody>\n",
       "    <tr>\n",
       "      <th>0</th>\n",
       "      <td>ES0022000004023788QV</td>\n",
       "      <td>La Coruña</td>\n",
       "      <td>2.0.A</td>\n",
       "      <td>2018-01-01</td>\n",
       "      <td>1</td>\n",
       "      <td>0.206</td>\n",
       "    </tr>\n",
       "    <tr>\n",
       "      <th>1</th>\n",
       "      <td>ES0022000004023788QV</td>\n",
       "      <td>La Coruña</td>\n",
       "      <td>2.0.A</td>\n",
       "      <td>2018-01-01</td>\n",
       "      <td>2</td>\n",
       "      <td>0.205</td>\n",
       "    </tr>\n",
       "    <tr>\n",
       "      <th>2</th>\n",
       "      <td>ES0022000004023788QV</td>\n",
       "      <td>La Coruña</td>\n",
       "      <td>2.0.A</td>\n",
       "      <td>2018-01-01</td>\n",
       "      <td>3</td>\n",
       "      <td>0.207</td>\n",
       "    </tr>\n",
       "    <tr>\n",
       "      <th>3</th>\n",
       "      <td>ES0022000004023788QV</td>\n",
       "      <td>La Coruña</td>\n",
       "      <td>2.0.A</td>\n",
       "      <td>2018-01-01</td>\n",
       "      <td>4</td>\n",
       "      <td>0.206</td>\n",
       "    </tr>\n",
       "    <tr>\n",
       "      <th>4</th>\n",
       "      <td>ES0022000004023788QV</td>\n",
       "      <td>La Coruña</td>\n",
       "      <td>2.0.A</td>\n",
       "      <td>2018-01-01</td>\n",
       "      <td>5</td>\n",
       "      <td>0.205</td>\n",
       "    </tr>\n",
       "  </tbody>\n",
       "</table>\n",
       "</div>"
      ],
      "text/plain": [
       "                 Cups20  Provincia Tarifa       Fecha  Hora  Active\n",
       "0  ES0022000004023788QV  La Coruña  2.0.A  2018-01-01     1   0.206\n",
       "1  ES0022000004023788QV  La Coruña  2.0.A  2018-01-01     2   0.205\n",
       "2  ES0022000004023788QV  La Coruña  2.0.A  2018-01-01     3   0.207\n",
       "3  ES0022000004023788QV  La Coruña  2.0.A  2018-01-01     4   0.206\n",
       "4  ES0022000004023788QV  La Coruña  2.0.A  2018-01-01     5   0.205"
      ]
     },
     "execution_count": 248,
     "metadata": {},
     "output_type": "execute_result"
    }
   ],
   "source": [
    "df_2018.head()"
   ]
  },
  {
   "cell_type": "code",
   "execution_count": 249,
   "metadata": {},
   "outputs": [
    {
     "data": {
      "text/plain": [
       "Cups20        object\n",
       "Provincia     object\n",
       "Tarifa        object\n",
       "Fecha         object\n",
       "Hora           int64\n",
       "Active       float64\n",
       "dtype: object"
      ]
     },
     "execution_count": 249,
     "metadata": {},
     "output_type": "execute_result"
    }
   ],
   "source": [
    "df_2018.dtypes"
   ]
  },
  {
   "cell_type": "markdown",
   "metadata": {},
   "source": [
    "Antes de agrupar vamos a reducir las tarifas a dos tipos. El comportamiento en cuanto a consumo de la tarifa 2.0A y de la tarifa 2.1A es similar, y lo mismo pasa con las tarifas 2.0DHA y 2.1DHA\n",
    "\n",
    "A partir de ahora: \n",
    "\n",
    "    -Las tarifas 2.0A y 2.1A pasan a ser 2A\n",
    "    -Las tarifas 2.0DHA y 2.1DHA pasan a ser 2DHA"
   ]
  },
  {
   "cell_type": "code",
   "execution_count": 253,
   "metadata": {},
   "outputs": [
    {
     "data": {
      "text/html": [
       "<div>\n",
       "<style scoped>\n",
       "    .dataframe tbody tr th:only-of-type {\n",
       "        vertical-align: middle;\n",
       "    }\n",
       "\n",
       "    .dataframe tbody tr th {\n",
       "        vertical-align: top;\n",
       "    }\n",
       "\n",
       "    .dataframe thead th {\n",
       "        text-align: right;\n",
       "    }\n",
       "</style>\n",
       "<table border=\"1\" class=\"dataframe\">\n",
       "  <thead>\n",
       "    <tr style=\"text-align: right;\">\n",
       "      <th></th>\n",
       "      <th>Unnamed: 0</th>\n",
       "      <th>Cups20</th>\n",
       "      <th>Provincia</th>\n",
       "      <th>Fecha</th>\n",
       "      <th>Hora</th>\n",
       "      <th>Active</th>\n",
       "    </tr>\n",
       "    <tr>\n",
       "      <th>Tarifa</th>\n",
       "      <th></th>\n",
       "      <th></th>\n",
       "      <th></th>\n",
       "      <th></th>\n",
       "      <th></th>\n",
       "      <th></th>\n",
       "    </tr>\n",
       "  </thead>\n",
       "  <tbody>\n",
       "    <tr>\n",
       "      <th>2.0.A</th>\n",
       "      <td>160320</td>\n",
       "      <td>160320</td>\n",
       "      <td>160320</td>\n",
       "      <td>160320</td>\n",
       "      <td>160320</td>\n",
       "      <td>160320</td>\n",
       "    </tr>\n",
       "    <tr>\n",
       "      <th>2.0DHA</th>\n",
       "      <td>64128</td>\n",
       "      <td>64128</td>\n",
       "      <td>64128</td>\n",
       "      <td>64128</td>\n",
       "      <td>64128</td>\n",
       "      <td>64128</td>\n",
       "    </tr>\n",
       "    <tr>\n",
       "      <th>2.1.A</th>\n",
       "      <td>48096</td>\n",
       "      <td>48096</td>\n",
       "      <td>48096</td>\n",
       "      <td>48096</td>\n",
       "      <td>48096</td>\n",
       "      <td>48096</td>\n",
       "    </tr>\n",
       "    <tr>\n",
       "      <th>2.1.DHA</th>\n",
       "      <td>8016</td>\n",
       "      <td>8016</td>\n",
       "      <td>8016</td>\n",
       "      <td>8016</td>\n",
       "      <td>8016</td>\n",
       "      <td>8016</td>\n",
       "    </tr>\n",
       "  </tbody>\n",
       "</table>\n",
       "</div>"
      ],
      "text/plain": [
       "         Unnamed: 0  Cups20  Provincia   Fecha    Hora  Active\n",
       "Tarifa                                                        \n",
       "2.0.A        160320  160320     160320  160320  160320  160320\n",
       "2.0DHA        64128   64128      64128   64128   64128   64128\n",
       "2.1.A         48096   48096      48096   48096   48096   48096\n",
       "2.1.DHA        8016    8016       8016    8016    8016    8016"
      ]
     },
     "execution_count": 253,
     "metadata": {},
     "output_type": "execute_result"
    }
   ],
   "source": [
    "df_2018.groupby(['Tarifa']).count()"
   ]
  },
  {
   "cell_type": "code",
   "execution_count": 254,
   "metadata": {},
   "outputs": [],
   "source": [
    "df_2018.replace({'Tarifa' : '2.0.A'}, '2A', inplace=True)\n",
    "df_2018.replace({'Tarifa' : '2.1.A'}, '2A', inplace=True)\n",
    "df_2018.replace({'Tarifa' : '2.0DHA'}, '2DHA', inplace=True)\n",
    "df_2018.replace({'Tarifa' : '2.1.DHA'}, '2DHA', inplace=True)"
   ]
  },
  {
   "cell_type": "code",
   "execution_count": 255,
   "metadata": {},
   "outputs": [
    {
     "data": {
      "text/html": [
       "<div>\n",
       "<style scoped>\n",
       "    .dataframe tbody tr th:only-of-type {\n",
       "        vertical-align: middle;\n",
       "    }\n",
       "\n",
       "    .dataframe tbody tr th {\n",
       "        vertical-align: top;\n",
       "    }\n",
       "\n",
       "    .dataframe thead th {\n",
       "        text-align: right;\n",
       "    }\n",
       "</style>\n",
       "<table border=\"1\" class=\"dataframe\">\n",
       "  <thead>\n",
       "    <tr style=\"text-align: right;\">\n",
       "      <th></th>\n",
       "      <th>Unnamed: 0</th>\n",
       "      <th>Cups20</th>\n",
       "      <th>Provincia</th>\n",
       "      <th>Fecha</th>\n",
       "      <th>Hora</th>\n",
       "      <th>Active</th>\n",
       "    </tr>\n",
       "    <tr>\n",
       "      <th>Tarifa</th>\n",
       "      <th></th>\n",
       "      <th></th>\n",
       "      <th></th>\n",
       "      <th></th>\n",
       "      <th></th>\n",
       "      <th></th>\n",
       "    </tr>\n",
       "  </thead>\n",
       "  <tbody>\n",
       "    <tr>\n",
       "      <th>2A</th>\n",
       "      <td>208416</td>\n",
       "      <td>208416</td>\n",
       "      <td>208416</td>\n",
       "      <td>208416</td>\n",
       "      <td>208416</td>\n",
       "      <td>208416</td>\n",
       "    </tr>\n",
       "    <tr>\n",
       "      <th>2DHA</th>\n",
       "      <td>72144</td>\n",
       "      <td>72144</td>\n",
       "      <td>72144</td>\n",
       "      <td>72144</td>\n",
       "      <td>72144</td>\n",
       "      <td>72144</td>\n",
       "    </tr>\n",
       "  </tbody>\n",
       "</table>\n",
       "</div>"
      ],
      "text/plain": [
       "        Unnamed: 0  Cups20  Provincia   Fecha    Hora  Active\n",
       "Tarifa                                                       \n",
       "2A          208416  208416     208416  208416  208416  208416\n",
       "2DHA         72144   72144      72144   72144   72144   72144"
      ]
     },
     "execution_count": 255,
     "metadata": {},
     "output_type": "execute_result"
    }
   ],
   "source": [
    "df_2018.groupby(['Tarifa']).count()"
   ]
  },
  {
   "cell_type": "code",
   "execution_count": 256,
   "metadata": {},
   "outputs": [
    {
     "data": {
      "text/html": [
       "<div>\n",
       "<style scoped>\n",
       "    .dataframe tbody tr th:only-of-type {\n",
       "        vertical-align: middle;\n",
       "    }\n",
       "\n",
       "    .dataframe tbody tr th {\n",
       "        vertical-align: top;\n",
       "    }\n",
       "\n",
       "    .dataframe thead th {\n",
       "        text-align: right;\n",
       "    }\n",
       "</style>\n",
       "<table border=\"1\" class=\"dataframe\">\n",
       "  <thead>\n",
       "    <tr style=\"text-align: right;\">\n",
       "      <th></th>\n",
       "      <th>Unnamed: 0</th>\n",
       "      <th>Cups20</th>\n",
       "      <th>Provincia</th>\n",
       "      <th>Tarifa</th>\n",
       "      <th>Fecha</th>\n",
       "      <th>Hora</th>\n",
       "      <th>Active</th>\n",
       "    </tr>\n",
       "  </thead>\n",
       "  <tbody>\n",
       "    <tr>\n",
       "      <th>0</th>\n",
       "      <td>0</td>\n",
       "      <td>ES0022000004023788QV</td>\n",
       "      <td>La Coruña</td>\n",
       "      <td>2A</td>\n",
       "      <td>2018-01-01</td>\n",
       "      <td>1</td>\n",
       "      <td>0.206</td>\n",
       "    </tr>\n",
       "    <tr>\n",
       "      <th>1</th>\n",
       "      <td>1</td>\n",
       "      <td>ES0022000004023788QV</td>\n",
       "      <td>La Coruña</td>\n",
       "      <td>2A</td>\n",
       "      <td>2018-01-01</td>\n",
       "      <td>2</td>\n",
       "      <td>0.205</td>\n",
       "    </tr>\n",
       "    <tr>\n",
       "      <th>2</th>\n",
       "      <td>2</td>\n",
       "      <td>ES0022000004023788QV</td>\n",
       "      <td>La Coruña</td>\n",
       "      <td>2A</td>\n",
       "      <td>2018-01-01</td>\n",
       "      <td>3</td>\n",
       "      <td>0.207</td>\n",
       "    </tr>\n",
       "    <tr>\n",
       "      <th>3</th>\n",
       "      <td>3</td>\n",
       "      <td>ES0022000004023788QV</td>\n",
       "      <td>La Coruña</td>\n",
       "      <td>2A</td>\n",
       "      <td>2018-01-01</td>\n",
       "      <td>4</td>\n",
       "      <td>0.206</td>\n",
       "    </tr>\n",
       "    <tr>\n",
       "      <th>4</th>\n",
       "      <td>4</td>\n",
       "      <td>ES0022000004023788QV</td>\n",
       "      <td>La Coruña</td>\n",
       "      <td>2A</td>\n",
       "      <td>2018-01-01</td>\n",
       "      <td>5</td>\n",
       "      <td>0.205</td>\n",
       "    </tr>\n",
       "  </tbody>\n",
       "</table>\n",
       "</div>"
      ],
      "text/plain": [
       "   Unnamed: 0                Cups20  Provincia Tarifa       Fecha  Hora  \\\n",
       "0           0  ES0022000004023788QV  La Coruña     2A  2018-01-01     1   \n",
       "1           1  ES0022000004023788QV  La Coruña     2A  2018-01-01     2   \n",
       "2           2  ES0022000004023788QV  La Coruña     2A  2018-01-01     3   \n",
       "3           3  ES0022000004023788QV  La Coruña     2A  2018-01-01     4   \n",
       "4           4  ES0022000004023788QV  La Coruña     2A  2018-01-01     5   \n",
       "\n",
       "   Active  \n",
       "0   0.206  \n",
       "1   0.205  \n",
       "2   0.207  \n",
       "3   0.206  \n",
       "4   0.205  "
      ]
     },
     "execution_count": 256,
     "metadata": {},
     "output_type": "execute_result"
    }
   ],
   "source": [
    "df_2018.head()"
   ]
  },
  {
   "cell_type": "markdown",
   "metadata": {},
   "source": [
    "En vez de quedarnos con la segmentación por provincia, vamos a resumir en tres zonas geograficas: Norte, Centro y Sur.\n",
    "\n",
    "Tenemos el data set Comunidades donde tenemos segmetados las provincias por estas tres zonas geograficas. Vamos a leerlo y unirlos."
   ]
  },
  {
   "cell_type": "code",
   "execution_count": 258,
   "metadata": {},
   "outputs": [],
   "source": [
    "Comunidades =pd.read_excel('./data/Comunidades.xlsx')"
   ]
  },
  {
   "cell_type": "code",
   "execution_count": 261,
   "metadata": {},
   "outputs": [],
   "source": [
    "df_2018 = df_2018.merge(Comunidades, on='Provincia')"
   ]
  },
  {
   "cell_type": "code",
   "execution_count": 263,
   "metadata": {},
   "outputs": [
    {
     "data": {
      "text/html": [
       "<div>\n",
       "<style scoped>\n",
       "    .dataframe tbody tr th:only-of-type {\n",
       "        vertical-align: middle;\n",
       "    }\n",
       "\n",
       "    .dataframe tbody tr th {\n",
       "        vertical-align: top;\n",
       "    }\n",
       "\n",
       "    .dataframe thead th {\n",
       "        text-align: right;\n",
       "    }\n",
       "</style>\n",
       "<table border=\"1\" class=\"dataframe\">\n",
       "  <thead>\n",
       "    <tr style=\"text-align: right;\">\n",
       "      <th></th>\n",
       "      <th>Unnamed: 0</th>\n",
       "      <th>Cups20</th>\n",
       "      <th>Provincia</th>\n",
       "      <th>Tarifa</th>\n",
       "      <th>Fecha</th>\n",
       "      <th>Hora</th>\n",
       "      <th>Active</th>\n",
       "      <th>Comunidad</th>\n",
       "      <th>Zona</th>\n",
       "    </tr>\n",
       "  </thead>\n",
       "  <tbody>\n",
       "    <tr>\n",
       "      <th>0</th>\n",
       "      <td>0</td>\n",
       "      <td>ES0022000004023788QV</td>\n",
       "      <td>La Coruña</td>\n",
       "      <td>2A</td>\n",
       "      <td>2018-01-01</td>\n",
       "      <td>1</td>\n",
       "      <td>0.206</td>\n",
       "      <td>Galicia</td>\n",
       "      <td>Norte</td>\n",
       "    </tr>\n",
       "    <tr>\n",
       "      <th>1</th>\n",
       "      <td>1</td>\n",
       "      <td>ES0022000004023788QV</td>\n",
       "      <td>La Coruña</td>\n",
       "      <td>2A</td>\n",
       "      <td>2018-01-01</td>\n",
       "      <td>2</td>\n",
       "      <td>0.205</td>\n",
       "      <td>Galicia</td>\n",
       "      <td>Norte</td>\n",
       "    </tr>\n",
       "    <tr>\n",
       "      <th>2</th>\n",
       "      <td>2</td>\n",
       "      <td>ES0022000004023788QV</td>\n",
       "      <td>La Coruña</td>\n",
       "      <td>2A</td>\n",
       "      <td>2018-01-01</td>\n",
       "      <td>3</td>\n",
       "      <td>0.207</td>\n",
       "      <td>Galicia</td>\n",
       "      <td>Norte</td>\n",
       "    </tr>\n",
       "    <tr>\n",
       "      <th>3</th>\n",
       "      <td>3</td>\n",
       "      <td>ES0022000004023788QV</td>\n",
       "      <td>La Coruña</td>\n",
       "      <td>2A</td>\n",
       "      <td>2018-01-01</td>\n",
       "      <td>4</td>\n",
       "      <td>0.206</td>\n",
       "      <td>Galicia</td>\n",
       "      <td>Norte</td>\n",
       "    </tr>\n",
       "    <tr>\n",
       "      <th>4</th>\n",
       "      <td>4</td>\n",
       "      <td>ES0022000004023788QV</td>\n",
       "      <td>La Coruña</td>\n",
       "      <td>2A</td>\n",
       "      <td>2018-01-01</td>\n",
       "      <td>5</td>\n",
       "      <td>0.205</td>\n",
       "      <td>Galicia</td>\n",
       "      <td>Norte</td>\n",
       "    </tr>\n",
       "  </tbody>\n",
       "</table>\n",
       "</div>"
      ],
      "text/plain": [
       "   Unnamed: 0                Cups20  Provincia Tarifa       Fecha  Hora  \\\n",
       "0           0  ES0022000004023788QV  La Coruña     2A  2018-01-01     1   \n",
       "1           1  ES0022000004023788QV  La Coruña     2A  2018-01-01     2   \n",
       "2           2  ES0022000004023788QV  La Coruña     2A  2018-01-01     3   \n",
       "3           3  ES0022000004023788QV  La Coruña     2A  2018-01-01     4   \n",
       "4           4  ES0022000004023788QV  La Coruña     2A  2018-01-01     5   \n",
       "\n",
       "   Active Comunidad   Zona  \n",
       "0   0.206   Galicia  Norte  \n",
       "1   0.205   Galicia  Norte  \n",
       "2   0.207   Galicia  Norte  \n",
       "3   0.206   Galicia  Norte  \n",
       "4   0.205   Galicia  Norte  "
      ]
     },
     "execution_count": 263,
     "metadata": {},
     "output_type": "execute_result"
    }
   ],
   "source": [
    "df_2018.head()"
   ]
  },
  {
   "cell_type": "code",
   "execution_count": 265,
   "metadata": {},
   "outputs": [
    {
     "data": {
      "text/html": [
       "<div>\n",
       "<style scoped>\n",
       "    .dataframe tbody tr th:only-of-type {\n",
       "        vertical-align: middle;\n",
       "    }\n",
       "\n",
       "    .dataframe tbody tr th {\n",
       "        vertical-align: top;\n",
       "    }\n",
       "\n",
       "    .dataframe thead th {\n",
       "        text-align: right;\n",
       "    }\n",
       "</style>\n",
       "<table border=\"1\" class=\"dataframe\">\n",
       "  <thead>\n",
       "    <tr style=\"text-align: right;\">\n",
       "      <th></th>\n",
       "      <th>Zona</th>\n",
       "      <th>Tarifa</th>\n",
       "      <th>Fecha</th>\n",
       "      <th>Hora</th>\n",
       "      <th>Unnamed: 0</th>\n",
       "      <th>Active</th>\n",
       "    </tr>\n",
       "  </thead>\n",
       "  <tbody>\n",
       "    <tr>\n",
       "      <th>0</th>\n",
       "      <td>Centro</td>\n",
       "      <td>2A</td>\n",
       "      <td>2018-01-01</td>\n",
       "      <td>1</td>\n",
       "      <td>1170336</td>\n",
       "      <td>7.401</td>\n",
       "    </tr>\n",
       "    <tr>\n",
       "      <th>1</th>\n",
       "      <td>Centro</td>\n",
       "      <td>2A</td>\n",
       "      <td>2018-01-01</td>\n",
       "      <td>2</td>\n",
       "      <td>1170345</td>\n",
       "      <td>7.510</td>\n",
       "    </tr>\n",
       "    <tr>\n",
       "      <th>2</th>\n",
       "      <td>Centro</td>\n",
       "      <td>2A</td>\n",
       "      <td>2018-01-01</td>\n",
       "      <td>3</td>\n",
       "      <td>1170354</td>\n",
       "      <td>6.951</td>\n",
       "    </tr>\n",
       "    <tr>\n",
       "      <th>3</th>\n",
       "      <td>Centro</td>\n",
       "      <td>2A</td>\n",
       "      <td>2018-01-01</td>\n",
       "      <td>4</td>\n",
       "      <td>1170363</td>\n",
       "      <td>5.876</td>\n",
       "    </tr>\n",
       "    <tr>\n",
       "      <th>4</th>\n",
       "      <td>Centro</td>\n",
       "      <td>2A</td>\n",
       "      <td>2018-01-01</td>\n",
       "      <td>5</td>\n",
       "      <td>1170372</td>\n",
       "      <td>6.667</td>\n",
       "    </tr>\n",
       "    <tr>\n",
       "      <th>5</th>\n",
       "      <td>Centro</td>\n",
       "      <td>2A</td>\n",
       "      <td>2018-01-01</td>\n",
       "      <td>6</td>\n",
       "      <td>1170381</td>\n",
       "      <td>4.560</td>\n",
       "    </tr>\n",
       "    <tr>\n",
       "      <th>6</th>\n",
       "      <td>Centro</td>\n",
       "      <td>2A</td>\n",
       "      <td>2018-01-01</td>\n",
       "      <td>7</td>\n",
       "      <td>1170390</td>\n",
       "      <td>4.709</td>\n",
       "    </tr>\n",
       "    <tr>\n",
       "      <th>7</th>\n",
       "      <td>Centro</td>\n",
       "      <td>2A</td>\n",
       "      <td>2018-01-01</td>\n",
       "      <td>8</td>\n",
       "      <td>1170399</td>\n",
       "      <td>5.225</td>\n",
       "    </tr>\n",
       "    <tr>\n",
       "      <th>8</th>\n",
       "      <td>Centro</td>\n",
       "      <td>2A</td>\n",
       "      <td>2018-01-01</td>\n",
       "      <td>9</td>\n",
       "      <td>1170408</td>\n",
       "      <td>4.185</td>\n",
       "    </tr>\n",
       "    <tr>\n",
       "      <th>9</th>\n",
       "      <td>Centro</td>\n",
       "      <td>2A</td>\n",
       "      <td>2018-01-01</td>\n",
       "      <td>10</td>\n",
       "      <td>1170417</td>\n",
       "      <td>8.045</td>\n",
       "    </tr>\n",
       "    <tr>\n",
       "      <th>10</th>\n",
       "      <td>Centro</td>\n",
       "      <td>2A</td>\n",
       "      <td>2018-01-01</td>\n",
       "      <td>11</td>\n",
       "      <td>1170426</td>\n",
       "      <td>5.820</td>\n",
       "    </tr>\n",
       "    <tr>\n",
       "      <th>11</th>\n",
       "      <td>Centro</td>\n",
       "      <td>2A</td>\n",
       "      <td>2018-01-01</td>\n",
       "      <td>12</td>\n",
       "      <td>1170435</td>\n",
       "      <td>8.299</td>\n",
       "    </tr>\n",
       "    <tr>\n",
       "      <th>12</th>\n",
       "      <td>Centro</td>\n",
       "      <td>2A</td>\n",
       "      <td>2018-01-01</td>\n",
       "      <td>13</td>\n",
       "      <td>1170444</td>\n",
       "      <td>7.692</td>\n",
       "    </tr>\n",
       "    <tr>\n",
       "      <th>13</th>\n",
       "      <td>Centro</td>\n",
       "      <td>2A</td>\n",
       "      <td>2018-01-01</td>\n",
       "      <td>14</td>\n",
       "      <td>1170453</td>\n",
       "      <td>9.679</td>\n",
       "    </tr>\n",
       "    <tr>\n",
       "      <th>14</th>\n",
       "      <td>Centro</td>\n",
       "      <td>2A</td>\n",
       "      <td>2018-01-01</td>\n",
       "      <td>15</td>\n",
       "      <td>1170462</td>\n",
       "      <td>6.860</td>\n",
       "    </tr>\n",
       "    <tr>\n",
       "      <th>15</th>\n",
       "      <td>Centro</td>\n",
       "      <td>2A</td>\n",
       "      <td>2018-01-01</td>\n",
       "      <td>16</td>\n",
       "      <td>1170471</td>\n",
       "      <td>9.942</td>\n",
       "    </tr>\n",
       "    <tr>\n",
       "      <th>16</th>\n",
       "      <td>Centro</td>\n",
       "      <td>2A</td>\n",
       "      <td>2018-01-01</td>\n",
       "      <td>17</td>\n",
       "      <td>1170480</td>\n",
       "      <td>8.797</td>\n",
       "    </tr>\n",
       "    <tr>\n",
       "      <th>17</th>\n",
       "      <td>Centro</td>\n",
       "      <td>2A</td>\n",
       "      <td>2018-01-01</td>\n",
       "      <td>18</td>\n",
       "      <td>1170489</td>\n",
       "      <td>8.376</td>\n",
       "    </tr>\n",
       "    <tr>\n",
       "      <th>18</th>\n",
       "      <td>Centro</td>\n",
       "      <td>2A</td>\n",
       "      <td>2018-01-01</td>\n",
       "      <td>19</td>\n",
       "      <td>1170498</td>\n",
       "      <td>7.273</td>\n",
       "    </tr>\n",
       "    <tr>\n",
       "      <th>19</th>\n",
       "      <td>Centro</td>\n",
       "      <td>2A</td>\n",
       "      <td>2018-01-01</td>\n",
       "      <td>20</td>\n",
       "      <td>1170507</td>\n",
       "      <td>10.326</td>\n",
       "    </tr>\n",
       "    <tr>\n",
       "      <th>20</th>\n",
       "      <td>Centro</td>\n",
       "      <td>2A</td>\n",
       "      <td>2018-01-01</td>\n",
       "      <td>21</td>\n",
       "      <td>1170516</td>\n",
       "      <td>9.704</td>\n",
       "    </tr>\n",
       "    <tr>\n",
       "      <th>21</th>\n",
       "      <td>Centro</td>\n",
       "      <td>2A</td>\n",
       "      <td>2018-01-01</td>\n",
       "      <td>22</td>\n",
       "      <td>1170525</td>\n",
       "      <td>8.288</td>\n",
       "    </tr>\n",
       "    <tr>\n",
       "      <th>22</th>\n",
       "      <td>Centro</td>\n",
       "      <td>2A</td>\n",
       "      <td>2018-01-01</td>\n",
       "      <td>23</td>\n",
       "      <td>1170534</td>\n",
       "      <td>7.847</td>\n",
       "    </tr>\n",
       "    <tr>\n",
       "      <th>23</th>\n",
       "      <td>Centro</td>\n",
       "      <td>2A</td>\n",
       "      <td>2018-01-01</td>\n",
       "      <td>24</td>\n",
       "      <td>1170543</td>\n",
       "      <td>8.732</td>\n",
       "    </tr>\n",
       "    <tr>\n",
       "      <th>24</th>\n",
       "      <td>Centro</td>\n",
       "      <td>2A</td>\n",
       "      <td>2018-01-02</td>\n",
       "      <td>1</td>\n",
       "      <td>1170552</td>\n",
       "      <td>7.163</td>\n",
       "    </tr>\n",
       "    <tr>\n",
       "      <th>25</th>\n",
       "      <td>Centro</td>\n",
       "      <td>2A</td>\n",
       "      <td>2018-01-02</td>\n",
       "      <td>2</td>\n",
       "      <td>1170561</td>\n",
       "      <td>5.132</td>\n",
       "    </tr>\n",
       "    <tr>\n",
       "      <th>26</th>\n",
       "      <td>Centro</td>\n",
       "      <td>2A</td>\n",
       "      <td>2018-01-02</td>\n",
       "      <td>3</td>\n",
       "      <td>1170570</td>\n",
       "      <td>4.859</td>\n",
       "    </tr>\n",
       "    <tr>\n",
       "      <th>27</th>\n",
       "      <td>Centro</td>\n",
       "      <td>2A</td>\n",
       "      <td>2018-01-02</td>\n",
       "      <td>4</td>\n",
       "      <td>1170579</td>\n",
       "      <td>5.556</td>\n",
       "    </tr>\n",
       "    <tr>\n",
       "      <th>28</th>\n",
       "      <td>Centro</td>\n",
       "      <td>2A</td>\n",
       "      <td>2018-01-02</td>\n",
       "      <td>5</td>\n",
       "      <td>1170588</td>\n",
       "      <td>7.219</td>\n",
       "    </tr>\n",
       "    <tr>\n",
       "      <th>29</th>\n",
       "      <td>Centro</td>\n",
       "      <td>2A</td>\n",
       "      <td>2018-01-02</td>\n",
       "      <td>6</td>\n",
       "      <td>1170597</td>\n",
       "      <td>14.772</td>\n",
       "    </tr>\n",
       "    <tr>\n",
       "      <th>...</th>\n",
       "      <td>...</td>\n",
       "      <td>...</td>\n",
       "      <td>...</td>\n",
       "      <td>...</td>\n",
       "      <td>...</td>\n",
       "      <td>...</td>\n",
       "    </tr>\n",
       "    <tr>\n",
       "      <th>32034</th>\n",
       "      <td>Norte</td>\n",
       "      <td>2DHA</td>\n",
       "      <td>2018-11-29</td>\n",
       "      <td>19</td>\n",
       "      <td>673194</td>\n",
       "      <td>7.864</td>\n",
       "    </tr>\n",
       "    <tr>\n",
       "      <th>32035</th>\n",
       "      <td>Norte</td>\n",
       "      <td>2DHA</td>\n",
       "      <td>2018-11-29</td>\n",
       "      <td>20</td>\n",
       "      <td>673199</td>\n",
       "      <td>8.092</td>\n",
       "    </tr>\n",
       "    <tr>\n",
       "      <th>32036</th>\n",
       "      <td>Norte</td>\n",
       "      <td>2DHA</td>\n",
       "      <td>2018-11-29</td>\n",
       "      <td>21</td>\n",
       "      <td>673204</td>\n",
       "      <td>4.933</td>\n",
       "    </tr>\n",
       "    <tr>\n",
       "      <th>32037</th>\n",
       "      <td>Norte</td>\n",
       "      <td>2DHA</td>\n",
       "      <td>2018-11-29</td>\n",
       "      <td>22</td>\n",
       "      <td>673209</td>\n",
       "      <td>3.415</td>\n",
       "    </tr>\n",
       "    <tr>\n",
       "      <th>32038</th>\n",
       "      <td>Norte</td>\n",
       "      <td>2DHA</td>\n",
       "      <td>2018-11-29</td>\n",
       "      <td>23</td>\n",
       "      <td>673214</td>\n",
       "      <td>4.705</td>\n",
       "    </tr>\n",
       "    <tr>\n",
       "      <th>32039</th>\n",
       "      <td>Norte</td>\n",
       "      <td>2DHA</td>\n",
       "      <td>2018-11-29</td>\n",
       "      <td>24</td>\n",
       "      <td>673219</td>\n",
       "      <td>4.881</td>\n",
       "    </tr>\n",
       "    <tr>\n",
       "      <th>32040</th>\n",
       "      <td>Norte</td>\n",
       "      <td>2DHA</td>\n",
       "      <td>2018-11-30</td>\n",
       "      <td>1</td>\n",
       "      <td>673224</td>\n",
       "      <td>2.520</td>\n",
       "    </tr>\n",
       "    <tr>\n",
       "      <th>32041</th>\n",
       "      <td>Norte</td>\n",
       "      <td>2DHA</td>\n",
       "      <td>2018-11-30</td>\n",
       "      <td>2</td>\n",
       "      <td>673229</td>\n",
       "      <td>2.270</td>\n",
       "    </tr>\n",
       "    <tr>\n",
       "      <th>32042</th>\n",
       "      <td>Norte</td>\n",
       "      <td>2DHA</td>\n",
       "      <td>2018-11-30</td>\n",
       "      <td>3</td>\n",
       "      <td>673234</td>\n",
       "      <td>2.117</td>\n",
       "    </tr>\n",
       "    <tr>\n",
       "      <th>32043</th>\n",
       "      <td>Norte</td>\n",
       "      <td>2DHA</td>\n",
       "      <td>2018-11-30</td>\n",
       "      <td>4</td>\n",
       "      <td>673239</td>\n",
       "      <td>2.209</td>\n",
       "    </tr>\n",
       "    <tr>\n",
       "      <th>32044</th>\n",
       "      <td>Norte</td>\n",
       "      <td>2DHA</td>\n",
       "      <td>2018-11-30</td>\n",
       "      <td>5</td>\n",
       "      <td>673244</td>\n",
       "      <td>2.178</td>\n",
       "    </tr>\n",
       "    <tr>\n",
       "      <th>32045</th>\n",
       "      <td>Norte</td>\n",
       "      <td>2DHA</td>\n",
       "      <td>2018-11-30</td>\n",
       "      <td>6</td>\n",
       "      <td>673249</td>\n",
       "      <td>2.111</td>\n",
       "    </tr>\n",
       "    <tr>\n",
       "      <th>32046</th>\n",
       "      <td>Norte</td>\n",
       "      <td>2DHA</td>\n",
       "      <td>2018-11-30</td>\n",
       "      <td>7</td>\n",
       "      <td>673254</td>\n",
       "      <td>2.143</td>\n",
       "    </tr>\n",
       "    <tr>\n",
       "      <th>32047</th>\n",
       "      <td>Norte</td>\n",
       "      <td>2DHA</td>\n",
       "      <td>2018-11-30</td>\n",
       "      <td>8</td>\n",
       "      <td>673259</td>\n",
       "      <td>3.844</td>\n",
       "    </tr>\n",
       "    <tr>\n",
       "      <th>32048</th>\n",
       "      <td>Norte</td>\n",
       "      <td>2DHA</td>\n",
       "      <td>2018-11-30</td>\n",
       "      <td>9</td>\n",
       "      <td>673264</td>\n",
       "      <td>5.716</td>\n",
       "    </tr>\n",
       "    <tr>\n",
       "      <th>32049</th>\n",
       "      <td>Norte</td>\n",
       "      <td>2DHA</td>\n",
       "      <td>2018-11-30</td>\n",
       "      <td>10</td>\n",
       "      <td>673269</td>\n",
       "      <td>5.266</td>\n",
       "    </tr>\n",
       "    <tr>\n",
       "      <th>32050</th>\n",
       "      <td>Norte</td>\n",
       "      <td>2DHA</td>\n",
       "      <td>2018-11-30</td>\n",
       "      <td>11</td>\n",
       "      <td>673274</td>\n",
       "      <td>6.832</td>\n",
       "    </tr>\n",
       "    <tr>\n",
       "      <th>32051</th>\n",
       "      <td>Norte</td>\n",
       "      <td>2DHA</td>\n",
       "      <td>2018-11-30</td>\n",
       "      <td>12</td>\n",
       "      <td>673279</td>\n",
       "      <td>7.301</td>\n",
       "    </tr>\n",
       "    <tr>\n",
       "      <th>32052</th>\n",
       "      <td>Norte</td>\n",
       "      <td>2DHA</td>\n",
       "      <td>2018-11-30</td>\n",
       "      <td>13</td>\n",
       "      <td>673284</td>\n",
       "      <td>7.788</td>\n",
       "    </tr>\n",
       "    <tr>\n",
       "      <th>32053</th>\n",
       "      <td>Norte</td>\n",
       "      <td>2DHA</td>\n",
       "      <td>2018-11-30</td>\n",
       "      <td>14</td>\n",
       "      <td>673289</td>\n",
       "      <td>7.515</td>\n",
       "    </tr>\n",
       "    <tr>\n",
       "      <th>32054</th>\n",
       "      <td>Norte</td>\n",
       "      <td>2DHA</td>\n",
       "      <td>2018-11-30</td>\n",
       "      <td>15</td>\n",
       "      <td>673294</td>\n",
       "      <td>5.541</td>\n",
       "    </tr>\n",
       "    <tr>\n",
       "      <th>32055</th>\n",
       "      <td>Norte</td>\n",
       "      <td>2DHA</td>\n",
       "      <td>2018-11-30</td>\n",
       "      <td>16</td>\n",
       "      <td>673299</td>\n",
       "      <td>7.141</td>\n",
       "    </tr>\n",
       "    <tr>\n",
       "      <th>32056</th>\n",
       "      <td>Norte</td>\n",
       "      <td>2DHA</td>\n",
       "      <td>2018-11-30</td>\n",
       "      <td>17</td>\n",
       "      <td>673304</td>\n",
       "      <td>6.355</td>\n",
       "    </tr>\n",
       "    <tr>\n",
       "      <th>32057</th>\n",
       "      <td>Norte</td>\n",
       "      <td>2DHA</td>\n",
       "      <td>2018-11-30</td>\n",
       "      <td>18</td>\n",
       "      <td>673309</td>\n",
       "      <td>6.460</td>\n",
       "    </tr>\n",
       "    <tr>\n",
       "      <th>32058</th>\n",
       "      <td>Norte</td>\n",
       "      <td>2DHA</td>\n",
       "      <td>2018-11-30</td>\n",
       "      <td>19</td>\n",
       "      <td>673314</td>\n",
       "      <td>6.889</td>\n",
       "    </tr>\n",
       "    <tr>\n",
       "      <th>32059</th>\n",
       "      <td>Norte</td>\n",
       "      <td>2DHA</td>\n",
       "      <td>2018-11-30</td>\n",
       "      <td>20</td>\n",
       "      <td>673319</td>\n",
       "      <td>7.674</td>\n",
       "    </tr>\n",
       "    <tr>\n",
       "      <th>32060</th>\n",
       "      <td>Norte</td>\n",
       "      <td>2DHA</td>\n",
       "      <td>2018-11-30</td>\n",
       "      <td>21</td>\n",
       "      <td>673324</td>\n",
       "      <td>5.343</td>\n",
       "    </tr>\n",
       "    <tr>\n",
       "      <th>32061</th>\n",
       "      <td>Norte</td>\n",
       "      <td>2DHA</td>\n",
       "      <td>2018-11-30</td>\n",
       "      <td>22</td>\n",
       "      <td>673329</td>\n",
       "      <td>3.204</td>\n",
       "    </tr>\n",
       "    <tr>\n",
       "      <th>32062</th>\n",
       "      <td>Norte</td>\n",
       "      <td>2DHA</td>\n",
       "      <td>2018-11-30</td>\n",
       "      <td>23</td>\n",
       "      <td>673334</td>\n",
       "      <td>3.907</td>\n",
       "    </tr>\n",
       "    <tr>\n",
       "      <th>32063</th>\n",
       "      <td>Norte</td>\n",
       "      <td>2DHA</td>\n",
       "      <td>2018-11-30</td>\n",
       "      <td>24</td>\n",
       "      <td>673339</td>\n",
       "      <td>4.511</td>\n",
       "    </tr>\n",
       "  </tbody>\n",
       "</table>\n",
       "<p>32064 rows × 6 columns</p>\n",
       "</div>"
      ],
      "text/plain": [
       "         Zona Tarifa       Fecha  Hora  Unnamed: 0  Active\n",
       "0      Centro     2A  2018-01-01     1     1170336   7.401\n",
       "1      Centro     2A  2018-01-01     2     1170345   7.510\n",
       "2      Centro     2A  2018-01-01     3     1170354   6.951\n",
       "3      Centro     2A  2018-01-01     4     1170363   5.876\n",
       "4      Centro     2A  2018-01-01     5     1170372   6.667\n",
       "5      Centro     2A  2018-01-01     6     1170381   4.560\n",
       "6      Centro     2A  2018-01-01     7     1170390   4.709\n",
       "7      Centro     2A  2018-01-01     8     1170399   5.225\n",
       "8      Centro     2A  2018-01-01     9     1170408   4.185\n",
       "9      Centro     2A  2018-01-01    10     1170417   8.045\n",
       "10     Centro     2A  2018-01-01    11     1170426   5.820\n",
       "11     Centro     2A  2018-01-01    12     1170435   8.299\n",
       "12     Centro     2A  2018-01-01    13     1170444   7.692\n",
       "13     Centro     2A  2018-01-01    14     1170453   9.679\n",
       "14     Centro     2A  2018-01-01    15     1170462   6.860\n",
       "15     Centro     2A  2018-01-01    16     1170471   9.942\n",
       "16     Centro     2A  2018-01-01    17     1170480   8.797\n",
       "17     Centro     2A  2018-01-01    18     1170489   8.376\n",
       "18     Centro     2A  2018-01-01    19     1170498   7.273\n",
       "19     Centro     2A  2018-01-01    20     1170507  10.326\n",
       "20     Centro     2A  2018-01-01    21     1170516   9.704\n",
       "21     Centro     2A  2018-01-01    22     1170525   8.288\n",
       "22     Centro     2A  2018-01-01    23     1170534   7.847\n",
       "23     Centro     2A  2018-01-01    24     1170543   8.732\n",
       "24     Centro     2A  2018-01-02     1     1170552   7.163\n",
       "25     Centro     2A  2018-01-02     2     1170561   5.132\n",
       "26     Centro     2A  2018-01-02     3     1170570   4.859\n",
       "27     Centro     2A  2018-01-02     4     1170579   5.556\n",
       "28     Centro     2A  2018-01-02     5     1170588   7.219\n",
       "29     Centro     2A  2018-01-02     6     1170597  14.772\n",
       "...       ...    ...         ...   ...         ...     ...\n",
       "32034   Norte   2DHA  2018-11-29    19      673194   7.864\n",
       "32035   Norte   2DHA  2018-11-29    20      673199   8.092\n",
       "32036   Norte   2DHA  2018-11-29    21      673204   4.933\n",
       "32037   Norte   2DHA  2018-11-29    22      673209   3.415\n",
       "32038   Norte   2DHA  2018-11-29    23      673214   4.705\n",
       "32039   Norte   2DHA  2018-11-29    24      673219   4.881\n",
       "32040   Norte   2DHA  2018-11-30     1      673224   2.520\n",
       "32041   Norte   2DHA  2018-11-30     2      673229   2.270\n",
       "32042   Norte   2DHA  2018-11-30     3      673234   2.117\n",
       "32043   Norte   2DHA  2018-11-30     4      673239   2.209\n",
       "32044   Norte   2DHA  2018-11-30     5      673244   2.178\n",
       "32045   Norte   2DHA  2018-11-30     6      673249   2.111\n",
       "32046   Norte   2DHA  2018-11-30     7      673254   2.143\n",
       "32047   Norte   2DHA  2018-11-30     8      673259   3.844\n",
       "32048   Norte   2DHA  2018-11-30     9      673264   5.716\n",
       "32049   Norte   2DHA  2018-11-30    10      673269   5.266\n",
       "32050   Norte   2DHA  2018-11-30    11      673274   6.832\n",
       "32051   Norte   2DHA  2018-11-30    12      673279   7.301\n",
       "32052   Norte   2DHA  2018-11-30    13      673284   7.788\n",
       "32053   Norte   2DHA  2018-11-30    14      673289   7.515\n",
       "32054   Norte   2DHA  2018-11-30    15      673294   5.541\n",
       "32055   Norte   2DHA  2018-11-30    16      673299   7.141\n",
       "32056   Norte   2DHA  2018-11-30    17      673304   6.355\n",
       "32057   Norte   2DHA  2018-11-30    18      673309   6.460\n",
       "32058   Norte   2DHA  2018-11-30    19      673314   6.889\n",
       "32059   Norte   2DHA  2018-11-30    20      673319   7.674\n",
       "32060   Norte   2DHA  2018-11-30    21      673324   5.343\n",
       "32061   Norte   2DHA  2018-11-30    22      673329   3.204\n",
       "32062   Norte   2DHA  2018-11-30    23      673334   3.907\n",
       "32063   Norte   2DHA  2018-11-30    24      673339   4.511\n",
       "\n",
       "[32064 rows x 6 columns]"
      ]
     },
     "execution_count": 265,
     "metadata": {},
     "output_type": "execute_result"
    }
   ],
   "source": [
    "df_2018 = df_2018.groupby(['Zona', 'Tarifa', 'Fecha', 'Hora']).sum()\n",
    "\n",
    "df_2018 = df_2018.reset_index()\n"
   ]
  },
  {
   "cell_type": "code",
   "execution_count": 273,
   "metadata": {},
   "outputs": [],
   "source": [
    "df_2018 = df_2018[['Zona', 'Tarifa', 'Fecha', 'Hora', 'Active']]\n"
   ]
  },
  {
   "cell_type": "code",
   "execution_count": 274,
   "metadata": {},
   "outputs": [
    {
     "data": {
      "text/html": [
       "<div>\n",
       "<style scoped>\n",
       "    .dataframe tbody tr th:only-of-type {\n",
       "        vertical-align: middle;\n",
       "    }\n",
       "\n",
       "    .dataframe tbody tr th {\n",
       "        vertical-align: top;\n",
       "    }\n",
       "\n",
       "    .dataframe thead th {\n",
       "        text-align: right;\n",
       "    }\n",
       "</style>\n",
       "<table border=\"1\" class=\"dataframe\">\n",
       "  <thead>\n",
       "    <tr style=\"text-align: right;\">\n",
       "      <th></th>\n",
       "      <th>Zona</th>\n",
       "      <th>Tarifa</th>\n",
       "      <th>Fecha</th>\n",
       "      <th>Hora</th>\n",
       "      <th>Active</th>\n",
       "    </tr>\n",
       "  </thead>\n",
       "  <tbody>\n",
       "    <tr>\n",
       "      <th>0</th>\n",
       "      <td>Centro</td>\n",
       "      <td>2A</td>\n",
       "      <td>2018-01-01</td>\n",
       "      <td>1</td>\n",
       "      <td>7.401</td>\n",
       "    </tr>\n",
       "    <tr>\n",
       "      <th>1</th>\n",
       "      <td>Centro</td>\n",
       "      <td>2A</td>\n",
       "      <td>2018-01-01</td>\n",
       "      <td>2</td>\n",
       "      <td>7.510</td>\n",
       "    </tr>\n",
       "    <tr>\n",
       "      <th>2</th>\n",
       "      <td>Centro</td>\n",
       "      <td>2A</td>\n",
       "      <td>2018-01-01</td>\n",
       "      <td>3</td>\n",
       "      <td>6.951</td>\n",
       "    </tr>\n",
       "    <tr>\n",
       "      <th>3</th>\n",
       "      <td>Centro</td>\n",
       "      <td>2A</td>\n",
       "      <td>2018-01-01</td>\n",
       "      <td>4</td>\n",
       "      <td>5.876</td>\n",
       "    </tr>\n",
       "    <tr>\n",
       "      <th>4</th>\n",
       "      <td>Centro</td>\n",
       "      <td>2A</td>\n",
       "      <td>2018-01-01</td>\n",
       "      <td>5</td>\n",
       "      <td>6.667</td>\n",
       "    </tr>\n",
       "  </tbody>\n",
       "</table>\n",
       "</div>"
      ],
      "text/plain": [
       "     Zona Tarifa       Fecha  Hora  Active\n",
       "0  Centro     2A  2018-01-01     1   7.401\n",
       "1  Centro     2A  2018-01-01     2   7.510\n",
       "2  Centro     2A  2018-01-01     3   6.951\n",
       "3  Centro     2A  2018-01-01     4   5.876\n",
       "4  Centro     2A  2018-01-01     5   6.667"
      ]
     },
     "execution_count": 274,
     "metadata": {},
     "output_type": "execute_result"
    }
   ],
   "source": [
    "df_2018.head()\n"
   ]
  },
  {
   "cell_type": "code",
   "execution_count": 56,
   "metadata": {},
   "outputs": [
    {
     "data": {
      "text/html": [
       "<div>\n",
       "<style scoped>\n",
       "    .dataframe tbody tr th:only-of-type {\n",
       "        vertical-align: middle;\n",
       "    }\n",
       "\n",
       "    .dataframe tbody tr th {\n",
       "        vertical-align: top;\n",
       "    }\n",
       "\n",
       "    .dataframe thead th {\n",
       "        text-align: right;\n",
       "    }\n",
       "</style>\n",
       "<table border=\"1\" class=\"dataframe\">\n",
       "  <thead>\n",
       "    <tr style=\"text-align: right;\">\n",
       "      <th></th>\n",
       "      <th>Unnamed: 0</th>\n",
       "      <th>Zona</th>\n",
       "      <th>Tarifa</th>\n",
       "      <th>Fecha</th>\n",
       "      <th>Hora</th>\n",
       "      <th>Active</th>\n",
       "    </tr>\n",
       "  </thead>\n",
       "  <tbody>\n",
       "    <tr>\n",
       "      <th>0</th>\n",
       "      <td>0</td>\n",
       "      <td>Centro</td>\n",
       "      <td>2A</td>\n",
       "      <td>2018-01-01</td>\n",
       "      <td>1</td>\n",
       "      <td>7.401</td>\n",
       "    </tr>\n",
       "    <tr>\n",
       "      <th>1</th>\n",
       "      <td>1</td>\n",
       "      <td>Centro</td>\n",
       "      <td>2A</td>\n",
       "      <td>2018-01-01</td>\n",
       "      <td>2</td>\n",
       "      <td>7.510</td>\n",
       "    </tr>\n",
       "    <tr>\n",
       "      <th>2</th>\n",
       "      <td>2</td>\n",
       "      <td>Centro</td>\n",
       "      <td>2A</td>\n",
       "      <td>2018-01-01</td>\n",
       "      <td>3</td>\n",
       "      <td>6.951</td>\n",
       "    </tr>\n",
       "    <tr>\n",
       "      <th>3</th>\n",
       "      <td>3</td>\n",
       "      <td>Centro</td>\n",
       "      <td>2A</td>\n",
       "      <td>2018-01-01</td>\n",
       "      <td>4</td>\n",
       "      <td>5.876</td>\n",
       "    </tr>\n",
       "    <tr>\n",
       "      <th>4</th>\n",
       "      <td>4</td>\n",
       "      <td>Centro</td>\n",
       "      <td>2A</td>\n",
       "      <td>2018-01-01</td>\n",
       "      <td>5</td>\n",
       "      <td>6.667</td>\n",
       "    </tr>\n",
       "  </tbody>\n",
       "</table>\n",
       "</div>"
      ],
      "text/plain": [
       "   Unnamed: 0    Zona Tarifa       Fecha  Hora  Active\n",
       "0           0  Centro     2A  2018-01-01     1   7.401\n",
       "1           1  Centro     2A  2018-01-01     2   7.510\n",
       "2           2  Centro     2A  2018-01-01     3   6.951\n",
       "3           3  Centro     2A  2018-01-01     4   5.876\n",
       "4           4  Centro     2A  2018-01-01     5   6.667"
      ]
     },
     "execution_count": 56,
     "metadata": {},
     "output_type": "execute_result"
    }
   ],
   "source": [
    "# df_2018.to_csv('df_2018.csv')\n",
    "#df_2018=pd.read_csv('df_2018.csv')\n",
    "#df_2018.head(5)\n"
   ]
  },
  {
   "cell_type": "markdown",
   "metadata": {},
   "source": [
    "Para que el tratamiento por fechas sea mas sencillo voy a combinar las fechas y las horas, para crearme un único dato que incluya fecha y hora en un mismo valor."
   ]
  },
  {
   "cell_type": "code",
   "execution_count": 58,
   "metadata": {},
   "outputs": [],
   "source": [
    "df_2018['Fecha'] = pd.to_datetime(df_2018['Fecha'], format='%Y-%m-%d')"
   ]
  },
  {
   "cell_type": "code",
   "execution_count": 59,
   "metadata": {},
   "outputs": [],
   "source": [
    "df_2018['Hora'] = pd.to_timedelta(df_2018['Hora'], unit='h')"
   ]
  },
  {
   "cell_type": "code",
   "execution_count": 60,
   "metadata": {},
   "outputs": [
    {
     "data": {
      "text/html": [
       "<div>\n",
       "<style scoped>\n",
       "    .dataframe tbody tr th:only-of-type {\n",
       "        vertical-align: middle;\n",
       "    }\n",
       "\n",
       "    .dataframe tbody tr th {\n",
       "        vertical-align: top;\n",
       "    }\n",
       "\n",
       "    .dataframe thead th {\n",
       "        text-align: right;\n",
       "    }\n",
       "</style>\n",
       "<table border=\"1\" class=\"dataframe\">\n",
       "  <thead>\n",
       "    <tr style=\"text-align: right;\">\n",
       "      <th></th>\n",
       "      <th>Unnamed: 0</th>\n",
       "      <th>Zona</th>\n",
       "      <th>Tarifa</th>\n",
       "      <th>Fecha</th>\n",
       "      <th>Hora</th>\n",
       "      <th>Active</th>\n",
       "    </tr>\n",
       "  </thead>\n",
       "  <tbody>\n",
       "    <tr>\n",
       "      <th>0</th>\n",
       "      <td>0</td>\n",
       "      <td>Centro</td>\n",
       "      <td>2A</td>\n",
       "      <td>2018-01-01</td>\n",
       "      <td>01:00:00</td>\n",
       "      <td>7.401</td>\n",
       "    </tr>\n",
       "    <tr>\n",
       "      <th>1</th>\n",
       "      <td>1</td>\n",
       "      <td>Centro</td>\n",
       "      <td>2A</td>\n",
       "      <td>2018-01-01</td>\n",
       "      <td>02:00:00</td>\n",
       "      <td>7.510</td>\n",
       "    </tr>\n",
       "    <tr>\n",
       "      <th>2</th>\n",
       "      <td>2</td>\n",
       "      <td>Centro</td>\n",
       "      <td>2A</td>\n",
       "      <td>2018-01-01</td>\n",
       "      <td>03:00:00</td>\n",
       "      <td>6.951</td>\n",
       "    </tr>\n",
       "    <tr>\n",
       "      <th>3</th>\n",
       "      <td>3</td>\n",
       "      <td>Centro</td>\n",
       "      <td>2A</td>\n",
       "      <td>2018-01-01</td>\n",
       "      <td>04:00:00</td>\n",
       "      <td>5.876</td>\n",
       "    </tr>\n",
       "    <tr>\n",
       "      <th>4</th>\n",
       "      <td>4</td>\n",
       "      <td>Centro</td>\n",
       "      <td>2A</td>\n",
       "      <td>2018-01-01</td>\n",
       "      <td>05:00:00</td>\n",
       "      <td>6.667</td>\n",
       "    </tr>\n",
       "  </tbody>\n",
       "</table>\n",
       "</div>"
      ],
      "text/plain": [
       "   Unnamed: 0    Zona Tarifa      Fecha     Hora  Active\n",
       "0           0  Centro     2A 2018-01-01 01:00:00   7.401\n",
       "1           1  Centro     2A 2018-01-01 02:00:00   7.510\n",
       "2           2  Centro     2A 2018-01-01 03:00:00   6.951\n",
       "3           3  Centro     2A 2018-01-01 04:00:00   5.876\n",
       "4           4  Centro     2A 2018-01-01 05:00:00   6.667"
      ]
     },
     "execution_count": 60,
     "metadata": {},
     "output_type": "execute_result"
    }
   ],
   "source": [
    "df_2018.head()"
   ]
  },
  {
   "cell_type": "code",
   "execution_count": 61,
   "metadata": {},
   "outputs": [
    {
     "data": {
      "text/plain": [
       "Unnamed: 0              int64\n",
       "Zona                   object\n",
       "Tarifa                 object\n",
       "Fecha          datetime64[ns]\n",
       "Hora          timedelta64[ns]\n",
       "Active                float64\n",
       "dtype: object"
      ]
     },
     "execution_count": 61,
     "metadata": {},
     "output_type": "execute_result"
    }
   ],
   "source": [
    "df_2018.dtypes"
   ]
  },
  {
   "cell_type": "code",
   "execution_count": 63,
   "metadata": {},
   "outputs": [],
   "source": [
    "df_2018['datetime']=df_2018['Fecha']+df_2018['Hora']"
   ]
  },
  {
   "cell_type": "code",
   "execution_count": 65,
   "metadata": {},
   "outputs": [
    {
     "data": {
      "text/html": [
       "<div>\n",
       "<style scoped>\n",
       "    .dataframe tbody tr th:only-of-type {\n",
       "        vertical-align: middle;\n",
       "    }\n",
       "\n",
       "    .dataframe tbody tr th {\n",
       "        vertical-align: top;\n",
       "    }\n",
       "\n",
       "    .dataframe thead th {\n",
       "        text-align: right;\n",
       "    }\n",
       "</style>\n",
       "<table border=\"1\" class=\"dataframe\">\n",
       "  <thead>\n",
       "    <tr style=\"text-align: right;\">\n",
       "      <th></th>\n",
       "      <th>Unnamed: 0</th>\n",
       "      <th>Zona</th>\n",
       "      <th>Tarifa</th>\n",
       "      <th>Fecha</th>\n",
       "      <th>Hora</th>\n",
       "      <th>Active</th>\n",
       "      <th>datetime</th>\n",
       "    </tr>\n",
       "  </thead>\n",
       "  <tbody>\n",
       "    <tr>\n",
       "      <th>0</th>\n",
       "      <td>0</td>\n",
       "      <td>Centro</td>\n",
       "      <td>2A</td>\n",
       "      <td>2018-01-01</td>\n",
       "      <td>01:00:00</td>\n",
       "      <td>7.401</td>\n",
       "      <td>2018-01-01 01:00:00</td>\n",
       "    </tr>\n",
       "    <tr>\n",
       "      <th>1</th>\n",
       "      <td>1</td>\n",
       "      <td>Centro</td>\n",
       "      <td>2A</td>\n",
       "      <td>2018-01-01</td>\n",
       "      <td>02:00:00</td>\n",
       "      <td>7.510</td>\n",
       "      <td>2018-01-01 02:00:00</td>\n",
       "    </tr>\n",
       "    <tr>\n",
       "      <th>2</th>\n",
       "      <td>2</td>\n",
       "      <td>Centro</td>\n",
       "      <td>2A</td>\n",
       "      <td>2018-01-01</td>\n",
       "      <td>03:00:00</td>\n",
       "      <td>6.951</td>\n",
       "      <td>2018-01-01 03:00:00</td>\n",
       "    </tr>\n",
       "    <tr>\n",
       "      <th>3</th>\n",
       "      <td>3</td>\n",
       "      <td>Centro</td>\n",
       "      <td>2A</td>\n",
       "      <td>2018-01-01</td>\n",
       "      <td>04:00:00</td>\n",
       "      <td>5.876</td>\n",
       "      <td>2018-01-01 04:00:00</td>\n",
       "    </tr>\n",
       "    <tr>\n",
       "      <th>4</th>\n",
       "      <td>4</td>\n",
       "      <td>Centro</td>\n",
       "      <td>2A</td>\n",
       "      <td>2018-01-01</td>\n",
       "      <td>05:00:00</td>\n",
       "      <td>6.667</td>\n",
       "      <td>2018-01-01 05:00:00</td>\n",
       "    </tr>\n",
       "  </tbody>\n",
       "</table>\n",
       "</div>"
      ],
      "text/plain": [
       "   Unnamed: 0    Zona Tarifa      Fecha     Hora  Active            datetime\n",
       "0           0  Centro     2A 2018-01-01 01:00:00   7.401 2018-01-01 01:00:00\n",
       "1           1  Centro     2A 2018-01-01 02:00:00   7.510 2018-01-01 02:00:00\n",
       "2           2  Centro     2A 2018-01-01 03:00:00   6.951 2018-01-01 03:00:00\n",
       "3           3  Centro     2A 2018-01-01 04:00:00   5.876 2018-01-01 04:00:00\n",
       "4           4  Centro     2A 2018-01-01 05:00:00   6.667 2018-01-01 05:00:00"
      ]
     },
     "execution_count": 65,
     "metadata": {},
     "output_type": "execute_result"
    }
   ],
   "source": [
    "df_2018.head()"
   ]
  },
  {
   "cell_type": "code",
   "execution_count": 66,
   "metadata": {},
   "outputs": [
    {
     "data": {
      "text/plain": [
       "Unnamed: 0              int64\n",
       "Zona                   object\n",
       "Tarifa                 object\n",
       "Fecha          datetime64[ns]\n",
       "Hora          timedelta64[ns]\n",
       "Active                float64\n",
       "datetime       datetime64[ns]\n",
       "dtype: object"
      ]
     },
     "execution_count": 66,
     "metadata": {},
     "output_type": "execute_result"
    }
   ],
   "source": [
    "df_2018.dtypes"
   ]
  },
  {
   "cell_type": "markdown",
   "metadata": {},
   "source": [
    "Guardamos el fichero y lo conservamos en el formato correcto para poder analizarlo en el proximo notebook. Voy a guardar unicamente las columnas que me interesan a nivel de analisis de datos."
   ]
  },
  {
   "cell_type": "code",
   "execution_count": 69,
   "metadata": {},
   "outputs": [
    {
     "data": {
      "text/plain": [
       "Index(['Unnamed: 0', 'Zona', 'Tarifa', 'Fecha', 'Hora', 'Active', 'datetime'], dtype='object')"
      ]
     },
     "execution_count": 69,
     "metadata": {},
     "output_type": "execute_result"
    }
   ],
   "source": [
    "df_2018.columns"
   ]
  },
  {
   "cell_type": "code",
   "execution_count": 70,
   "metadata": {},
   "outputs": [],
   "source": [
    "df_2018=df_2018[['datetime', 'Zona', 'Tarifa', 'Active']]"
   ]
  },
  {
   "cell_type": "code",
   "execution_count": 74,
   "metadata": {},
   "outputs": [],
   "source": [
    "df_2018.to_csv('./data_processed/df_2018.csv')"
   ]
  }
 ],
 "metadata": {
  "kernelspec": {
   "display_name": "Python 3",
   "language": "python",
   "name": "python3"
  },
  "language_info": {
   "codemirror_mode": {
    "name": "ipython",
    "version": 3
   },
   "file_extension": ".py",
   "mimetype": "text/x-python",
   "name": "python",
   "nbconvert_exporter": "python",
   "pygments_lexer": "ipython3",
   "version": "3.6.8"
  }
 },
 "nbformat": 4,
 "nbformat_minor": 2
}
