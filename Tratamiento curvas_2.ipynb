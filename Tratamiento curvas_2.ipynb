{
 "cells": [
  {
   "cell_type": "markdown",
   "metadata": {},
   "source": [
    "Tras muchos problemas tratando los datos de medida, he decidido simplificar la vida de una comercializadora y reducir mi data set.\n",
    "\n",
    "Me voy a quedar solamente con aquellos puntos de los que tengo curva horaria completa para el periodo de dos años (2017-2018), y lo voy a reducir a tres zonas geograficas (Norte, Centro y Sur)"
   ]
  },
  {
   "cell_type": "markdown",
   "metadata": {},
   "source": [
    "# Importar librerias necesarias"
   ]
  },
  {
   "cell_type": "code",
   "execution_count": 182,
   "metadata": {
    "collapsed": true
   },
   "outputs": [],
   "source": [
    "import pandas as pd\n",
    "import openpyxl\n",
    "import matplotlib.pyplot as plt\n",
    "%matplotlib inline\n",
    "from matplotlib import colors\n",
    "import numpy as np\n",
    "import numpy.ma as ma\n",
    "import seaborn as sns\n",
    "\n",
    "from pandas import Series\n",
    "plt.style.use('ggplot')"
   ]
  },
  {
   "cell_type": "markdown",
   "metadata": {},
   "source": [
    "# Lectura de los datos\n",
    "\n",
    "Tengo toda la información de curvas de medida en dos ficheros excel, cada uno de los ficheros tiene varias pestañas por lo que tengo que unir toda la información en un solo data frame.\n",
    "\n",
    "Lo primero de todo es abrir el primer fichero, ver cuantas pestañas tiene y conocer los nombres de cada una de las pestañas.\n",
    "\n",
    "Por motivos de confidencialidad estos fichero originales de curvas de consumo horarias por cliente no las puedo subir a github, subiré solo la curva final agregada para 2017 y 2018 por comunidad y por tarifa."
   ]
  },
  {
   "cell_type": "code",
   "execution_count": null,
   "metadata": {},
   "outputs": [],
   "source": [
    "excel_document_17 = openpyxl.load_workbook('./data/Cups2017.xlsx')"
   ]
  },
  {
   "cell_type": "code",
   "execution_count": null,
   "metadata": {},
   "outputs": [],
   "source": [
    "excel_document_17.get_sheet_names()"
   ]
  },
  {
   "cell_type": "markdown",
   "metadata": {},
   "source": [
    "### Unificar los datos. \n",
    "\n",
    "Accedemos al fichero excel y creamos un data frame de cada una de las pestaña, a continuación unimos todos los data frame en uno solo."
   ]
  },
  {
   "cell_type": "code",
   "execution_count": 49,
   "metadata": {},
   "outputs": [],
   "source": [
    "xlsx_2017 = pd.ExcelFile('./data/Cups2017.xlsx') \n",
    "\n",
    "df1 = pd.read_excel(xlsx_2017, 'Page 1') \n",
    "df2 = pd.read_excel(xlsx_2017, 'Page 2') \n",
    "df3 = pd.read_excel(xlsx_2017, 'Page 3') \n",
    "df4 = pd.read_excel(xlsx_2017, 'Page 4')"
   ]
  },
  {
   "cell_type": "code",
   "execution_count": 50,
   "metadata": {},
   "outputs": [
    {
     "data": {
      "text/plain": [
       "\u001b[0;31mSignature:\u001b[0m \u001b[0mpd\u001b[0m\u001b[0;34m.\u001b[0m\u001b[0mread_excel\u001b[0m\u001b[0;34m(\u001b[0m\u001b[0mio\u001b[0m\u001b[0;34m,\u001b[0m \u001b[0msheet_name\u001b[0m\u001b[0;34m=\u001b[0m\u001b[0;36m0\u001b[0m\u001b[0;34m,\u001b[0m \u001b[0mheader\u001b[0m\u001b[0;34m=\u001b[0m\u001b[0;36m0\u001b[0m\u001b[0;34m,\u001b[0m \u001b[0mnames\u001b[0m\u001b[0;34m=\u001b[0m\u001b[0;32mNone\u001b[0m\u001b[0;34m,\u001b[0m \u001b[0mindex_col\u001b[0m\u001b[0;34m=\u001b[0m\u001b[0;32mNone\u001b[0m\u001b[0;34m,\u001b[0m \u001b[0musecols\u001b[0m\u001b[0;34m=\u001b[0m\u001b[0;32mNone\u001b[0m\u001b[0;34m,\u001b[0m \u001b[0msqueeze\u001b[0m\u001b[0;34m=\u001b[0m\u001b[0;32mFalse\u001b[0m\u001b[0;34m,\u001b[0m \u001b[0mdtype\u001b[0m\u001b[0;34m=\u001b[0m\u001b[0;32mNone\u001b[0m\u001b[0;34m,\u001b[0m \u001b[0mengine\u001b[0m\u001b[0;34m=\u001b[0m\u001b[0;32mNone\u001b[0m\u001b[0;34m,\u001b[0m \u001b[0mconverters\u001b[0m\u001b[0;34m=\u001b[0m\u001b[0;32mNone\u001b[0m\u001b[0;34m,\u001b[0m \u001b[0mtrue_values\u001b[0m\u001b[0;34m=\u001b[0m\u001b[0;32mNone\u001b[0m\u001b[0;34m,\u001b[0m \u001b[0mfalse_values\u001b[0m\u001b[0;34m=\u001b[0m\u001b[0;32mNone\u001b[0m\u001b[0;34m,\u001b[0m \u001b[0mskiprows\u001b[0m\u001b[0;34m=\u001b[0m\u001b[0;32mNone\u001b[0m\u001b[0;34m,\u001b[0m \u001b[0mnrows\u001b[0m\u001b[0;34m=\u001b[0m\u001b[0;32mNone\u001b[0m\u001b[0;34m,\u001b[0m \u001b[0mna_values\u001b[0m\u001b[0;34m=\u001b[0m\u001b[0;32mNone\u001b[0m\u001b[0;34m,\u001b[0m \u001b[0mparse_dates\u001b[0m\u001b[0;34m=\u001b[0m\u001b[0;32mFalse\u001b[0m\u001b[0;34m,\u001b[0m \u001b[0mdate_parser\u001b[0m\u001b[0;34m=\u001b[0m\u001b[0;32mNone\u001b[0m\u001b[0;34m,\u001b[0m \u001b[0mthousands\u001b[0m\u001b[0;34m=\u001b[0m\u001b[0;32mNone\u001b[0m\u001b[0;34m,\u001b[0m \u001b[0mcomment\u001b[0m\u001b[0;34m=\u001b[0m\u001b[0;32mNone\u001b[0m\u001b[0;34m,\u001b[0m \u001b[0mskipfooter\u001b[0m\u001b[0;34m=\u001b[0m\u001b[0;36m0\u001b[0m\u001b[0;34m,\u001b[0m \u001b[0mconvert_float\u001b[0m\u001b[0;34m=\u001b[0m\u001b[0;32mTrue\u001b[0m\u001b[0;34m,\u001b[0m \u001b[0;34m**\u001b[0m\u001b[0mkwds\u001b[0m\u001b[0;34m)\u001b[0m\u001b[0;34m\u001b[0m\u001b[0;34m\u001b[0m\u001b[0m\n",
       "\u001b[0;31mDocstring:\u001b[0m\n",
       "Read an Excel table into a pandas DataFrame\n",
       "\n",
       "Parameters\n",
       "----------\n",
       "io : string, path object (pathlib.Path or py._path.local.LocalPath),\n",
       "    file-like object, pandas ExcelFile, or xlrd workbook.\n",
       "    The string could be a URL. Valid URL schemes include http, ftp, s3,\n",
       "    and file. For file URLs, a host is expected. For instance, a local\n",
       "    file could be file://localhost/path/to/workbook.xlsx\n",
       "sheet_name : string, int, mixed list of strings/ints, or None, default 0\n",
       "\n",
       "    Strings are used for sheet names, Integers are used in zero-indexed\n",
       "    sheet positions.\n",
       "\n",
       "    Lists of strings/integers are used to request multiple sheets.\n",
       "\n",
       "    Specify None to get all sheets.\n",
       "\n",
       "    str|int -> DataFrame is returned.\n",
       "    list|None -> Dict of DataFrames is returned, with keys representing\n",
       "    sheets.\n",
       "\n",
       "    Available Cases\n",
       "\n",
       "    * Defaults to 0 -> 1st sheet as a DataFrame\n",
       "    * 1 -> 2nd sheet as a DataFrame\n",
       "    * \"Sheet1\" -> 1st sheet as a DataFrame\n",
       "    * [0,1,\"Sheet5\"] -> 1st, 2nd & 5th sheet as a dictionary of DataFrames\n",
       "    * None -> All sheets as a dictionary of DataFrames\n",
       "\n",
       "sheetname : string, int, mixed list of strings/ints, or None, default 0\n",
       "\n",
       "    .. deprecated:: 0.21.0\n",
       "       Use `sheet_name` instead\n",
       "\n",
       "header : int, list of ints, default 0\n",
       "    Row (0-indexed) to use for the column labels of the parsed\n",
       "    DataFrame. If a list of integers is passed those row positions will\n",
       "    be combined into a ``MultiIndex``. Use None if there is no header.\n",
       "names : array-like, default None\n",
       "    List of column names to use. If file contains no header row,\n",
       "    then you should explicitly pass header=None\n",
       "index_col : int, list of ints, default None\n",
       "    Column (0-indexed) to use as the row labels of the DataFrame.\n",
       "    Pass None if there is no such column.  If a list is passed,\n",
       "    those columns will be combined into a ``MultiIndex``.  If a\n",
       "    subset of data is selected with ``usecols``, index_col\n",
       "    is based on the subset.\n",
       "parse_cols : int or list, default None\n",
       "\n",
       "    .. deprecated:: 0.21.0\n",
       "       Pass in `usecols` instead.\n",
       "\n",
       "usecols : int or list, default None\n",
       "    * If None then parse all columns,\n",
       "    * If int then indicates last column to be parsed\n",
       "    * If list of ints then indicates list of column numbers to be parsed\n",
       "    * If string then indicates comma separated list of Excel column letters and\n",
       "      column ranges (e.g. \"A:E\" or \"A,C,E:F\").  Ranges are inclusive of\n",
       "      both sides.\n",
       "squeeze : boolean, default False\n",
       "    If the parsed data only contains one column then return a Series\n",
       "dtype : Type name or dict of column -> type, default None\n",
       "    Data type for data or columns. E.g. {'a': np.float64, 'b': np.int32}\n",
       "    Use `object` to preserve data as stored in Excel and not interpret dtype.\n",
       "    If converters are specified, they will be applied INSTEAD\n",
       "    of dtype conversion.\n",
       "\n",
       "    .. versionadded:: 0.20.0\n",
       "\n",
       "engine: string, default None\n",
       "    If io is not a buffer or path, this must be set to identify io.\n",
       "    Acceptable values are None or xlrd\n",
       "converters : dict, default None\n",
       "    Dict of functions for converting values in certain columns. Keys can\n",
       "    either be integers or column labels, values are functions that take one\n",
       "    input argument, the Excel cell content, and return the transformed\n",
       "    content.\n",
       "true_values : list, default None\n",
       "    Values to consider as True\n",
       "\n",
       "    .. versionadded:: 0.19.0\n",
       "\n",
       "false_values : list, default None\n",
       "    Values to consider as False\n",
       "\n",
       "    .. versionadded:: 0.19.0\n",
       "\n",
       "skiprows : list-like\n",
       "    Rows to skip at the beginning (0-indexed)\n",
       "nrows : int, default None\n",
       "    Number of rows to parse\n",
       "\n",
       "    .. versionadded:: 0.23.0\n",
       "\n",
       "na_values : scalar, str, list-like, or dict, default None\n",
       "    Additional strings to recognize as NA/NaN. If dict passed, specific\n",
       "    per-column NA values. By default the following values are interpreted\n",
       "    as NaN: '', '#N/A', '#N/A N/A', '#NA', '-1.#IND', '-1.#QNAN', '-NaN', '-nan',\n",
       "    '1.#IND', '1.#QNAN', 'N/A', 'NA', 'NULL', 'NaN', 'n/a', 'nan',\n",
       "    'null'.\n",
       "keep_default_na : bool, default True\n",
       "    If na_values are specified and keep_default_na is False the default NaN\n",
       "    values are overridden, otherwise they're appended to.\n",
       "verbose : boolean, default False\n",
       "    Indicate number of NA values placed in non-numeric columns\n",
       "thousands : str, default None\n",
       "    Thousands separator for parsing string columns to numeric.  Note that\n",
       "    this parameter is only necessary for columns stored as TEXT in Excel,\n",
       "    any numeric columns will automatically be parsed, regardless of display\n",
       "    format.\n",
       "comment : str, default None\n",
       "    Comments out remainder of line. Pass a character or characters to this\n",
       "    argument to indicate comments in the input file. Any data between the\n",
       "    comment string and the end of the current line is ignored.\n",
       "skip_footer : int, default 0\n",
       "\n",
       "    .. deprecated:: 0.23.0\n",
       "       Pass in `skipfooter` instead.\n",
       "skipfooter : int, default 0\n",
       "    Rows at the end to skip (0-indexed)\n",
       "convert_float : boolean, default True\n",
       "    convert integral floats to int (i.e., 1.0 --> 1). If False, all numeric\n",
       "    data will be read in as floats: Excel stores all numbers as floats\n",
       "    internally\n",
       "\n",
       "Returns\n",
       "-------\n",
       "parsed : DataFrame or Dict of DataFrames\n",
       "    DataFrame from the passed in Excel file.  See notes in sheet_name\n",
       "    argument for more information on when a Dict of Dataframes is returned.\n",
       "\n",
       "Examples\n",
       "--------\n",
       "\n",
       "An example DataFrame written to a local file\n",
       "\n",
       ">>> df_out = pd.DataFrame([('string1', 1),\n",
       "...                        ('string2', 2),\n",
       "...                        ('string3', 3)],\n",
       "...                       columns=['Name', 'Value'])\n",
       ">>> df_out\n",
       "      Name  Value\n",
       "0  string1      1\n",
       "1  string2      2\n",
       "2  string3      3\n",
       ">>> df_out.to_excel('tmp.xlsx')\n",
       "\n",
       "The file can be read using the file name as string or an open file object:\n",
       "\n",
       ">>> pd.read_excel('tmp.xlsx')\n",
       "      Name  Value\n",
       "0  string1      1\n",
       "1  string2      2\n",
       "2  string3      3\n",
       "\n",
       ">>> pd.read_excel(open('tmp.xlsx','rb'))\n",
       "      Name  Value\n",
       "0  string1      1\n",
       "1  string2      2\n",
       "2  string3      3\n",
       "\n",
       "Index and header can be specified via the `index_col` and `header` arguments\n",
       "\n",
       ">>> pd.read_excel('tmp.xlsx', index_col=None, header=None)\n",
       "     0        1      2\n",
       "0  NaN     Name  Value\n",
       "1  0.0  string1      1\n",
       "2  1.0  string2      2\n",
       "3  2.0  string3      3\n",
       "\n",
       "Column types are inferred but can be explicitly specified\n",
       "\n",
       ">>> pd.read_excel('tmp.xlsx', dtype={'Name':str, 'Value':float})\n",
       "      Name  Value\n",
       "0  string1    1.0\n",
       "1  string2    2.0\n",
       "2  string3    3.0\n",
       "\n",
       "True, False, and NA values, and thousands separators have defaults,\n",
       "but can be explicitly specified, too. Supply the values you would like\n",
       "as strings or lists of strings!\n",
       "\n",
       ">>> pd.read_excel('tmp.xlsx',\n",
       "...               na_values=['string1', 'string2'])\n",
       "      Name  Value\n",
       "0      NaN      1\n",
       "1      NaN      2\n",
       "2  string3      3\n",
       "\n",
       "Comment lines in the excel input file can be skipped using the `comment` kwarg\n",
       "\n",
       ">>> df = pd.DataFrame({'a': ['1', '#2'], 'b': ['2', '3']})\n",
       ">>> df.to_excel('tmp.xlsx', index=False)\n",
       ">>> pd.read_excel('tmp.xlsx')\n",
       "    a  b\n",
       "0   1  2\n",
       "1  #2  3\n",
       "\n",
       ">>> pd.read_excel('tmp.xlsx', comment='#')\n",
       "   a  b\n",
       "0  1  2\n",
       "\u001b[0;31mFile:\u001b[0m      /anaconda3/lib/python3.6/site-packages/pandas/io/excel.py\n",
       "\u001b[0;31mType:\u001b[0m      function\n"
      ]
     },
     "metadata": {},
     "output_type": "display_data"
    }
   ],
   "source": [
    "pd.read_excel?"
   ]
  },
  {
   "cell_type": "code",
   "execution_count": 69,
   "metadata": {},
   "outputs": [
    {
     "data": {
      "text/html": [
       "<div>\n",
       "<style scoped>\n",
       "    .dataframe tbody tr th:only-of-type {\n",
       "        vertical-align: middle;\n",
       "    }\n",
       "\n",
       "    .dataframe tbody tr th {\n",
       "        vertical-align: top;\n",
       "    }\n",
       "\n",
       "    .dataframe thead th {\n",
       "        text-align: right;\n",
       "    }\n",
       "</style>\n",
       "<table border=\"1\" class=\"dataframe\">\n",
       "  <thead>\n",
       "    <tr style=\"text-align: right;\">\n",
       "      <th></th>\n",
       "      <th>--Cups20--</th>\n",
       "      <th>--Line--</th>\n",
       "      <th>--Fecha--</th>\n",
       "      <th>--Hora--</th>\n",
       "      <th>--Active--</th>\n",
       "      <th>--Active With Transport Loss--</th>\n",
       "      <th>--Active With Transform Loss--</th>\n",
       "    </tr>\n",
       "  </thead>\n",
       "  <tbody>\n",
       "    <tr>\n",
       "      <th>0</th>\n",
       "      <td>ES0021000000274345SK</td>\n",
       "      <td>0P</td>\n",
       "      <td>2017-01-01</td>\n",
       "      <td>1</td>\n",
       "      <td>0.330</td>\n",
       "      <td>0.42207</td>\n",
       "      <td>0.330</td>\n",
       "    </tr>\n",
       "    <tr>\n",
       "      <th>1</th>\n",
       "      <td>ES0021000000274345SK</td>\n",
       "      <td>0P</td>\n",
       "      <td>2017-01-01</td>\n",
       "      <td>2</td>\n",
       "      <td>0.152</td>\n",
       "      <td>0.19456</td>\n",
       "      <td>0.152</td>\n",
       "    </tr>\n",
       "    <tr>\n",
       "      <th>2</th>\n",
       "      <td>ES0021000000274345SK</td>\n",
       "      <td>0P</td>\n",
       "      <td>2017-01-01</td>\n",
       "      <td>3</td>\n",
       "      <td>0.273</td>\n",
       "      <td>0.34944</td>\n",
       "      <td>0.273</td>\n",
       "    </tr>\n",
       "    <tr>\n",
       "      <th>3</th>\n",
       "      <td>ES0021000000274345SK</td>\n",
       "      <td>0P</td>\n",
       "      <td>2017-01-01</td>\n",
       "      <td>4</td>\n",
       "      <td>0.156</td>\n",
       "      <td>0.19968</td>\n",
       "      <td>0.156</td>\n",
       "    </tr>\n",
       "    <tr>\n",
       "      <th>4</th>\n",
       "      <td>ES0021000000274345SK</td>\n",
       "      <td>0P</td>\n",
       "      <td>2017-01-01</td>\n",
       "      <td>5</td>\n",
       "      <td>0.311</td>\n",
       "      <td>0.39808</td>\n",
       "      <td>0.311</td>\n",
       "    </tr>\n",
       "  </tbody>\n",
       "</table>\n",
       "</div>"
      ],
      "text/plain": [
       "             --Cups20-- --Line--  --Fecha--  --Hora--  --Active--  \\\n",
       "0  ES0021000000274345SK       0P 2017-01-01         1       0.330   \n",
       "1  ES0021000000274345SK       0P 2017-01-01         2       0.152   \n",
       "2  ES0021000000274345SK       0P 2017-01-01         3       0.273   \n",
       "3  ES0021000000274345SK       0P 2017-01-01         4       0.156   \n",
       "4  ES0021000000274345SK       0P 2017-01-01         5       0.311   \n",
       "\n",
       "   --Active With Transport Loss--  --Active With Transform Loss--  \n",
       "0                         0.42207                           0.330  \n",
       "1                         0.19456                           0.152  \n",
       "2                         0.34944                           0.273  \n",
       "3                         0.19968                           0.156  \n",
       "4                         0.39808                           0.311  "
      ]
     },
     "execution_count": 69,
     "metadata": {},
     "output_type": "execute_result"
    }
   ],
   "source": [
    "df_2017 = pd.concat([df1, df2, df3, df4])\n",
    "df_2017.head(5)"
   ]
  },
  {
   "cell_type": "markdown",
   "metadata": {},
   "source": [
    "Comprobamos que la unión de los ficheros es correcta y que el resultado df_2017 es la suma de los cuatro df anteriores"
   ]
  },
  {
   "cell_type": "code",
   "execution_count": 52,
   "metadata": {},
   "outputs": [
    {
     "data": {
      "text/plain": [
       "--Cups20--                        1018179\n",
       "--Line--                          1018179\n",
       "--Fecha--                         1018179\n",
       "--Hora--                          1018179\n",
       "--Active--                        1018179\n",
       "--Active With Transport Loss--    1018179\n",
       "--Active With Transform Loss--    1018179\n",
       "dtype: int64"
      ]
     },
     "execution_count": 52,
     "metadata": {},
     "output_type": "execute_result"
    }
   ],
   "source": [
    "df1.count()"
   ]
  },
  {
   "cell_type": "code",
   "execution_count": 53,
   "metadata": {},
   "outputs": [
    {
     "data": {
      "text/plain": [
       "--Cups20--                        1030560\n",
       "--Line--                          1030560\n",
       "--Fecha--                         1030560\n",
       "--Hora--                          1030560\n",
       "--Active--                        1030560\n",
       "--Active With Transport Loss--    1030560\n",
       "--Active With Transform Loss--    1030560\n",
       "dtype: int64"
      ]
     },
     "execution_count": 53,
     "metadata": {},
     "output_type": "execute_result"
    }
   ],
   "source": [
    "df2.count()"
   ]
  },
  {
   "cell_type": "code",
   "execution_count": 54,
   "metadata": {},
   "outputs": [
    {
     "data": {
      "text/plain": [
       "--Cups20--                        820335\n",
       "--Line--                          820335\n",
       "--Fecha--                         820335\n",
       "--Hora--                          820335\n",
       "--Active--                        820335\n",
       "--Active With Transport Loss--    820335\n",
       "--Active With Transform Loss--    820335\n",
       "dtype: int64"
      ]
     },
     "execution_count": 54,
     "metadata": {},
     "output_type": "execute_result"
    }
   ],
   "source": [
    "df3.count()"
   ]
  },
  {
   "cell_type": "code",
   "execution_count": 55,
   "metadata": {},
   "outputs": [
    {
     "data": {
      "text/plain": [
       "--Cups20--                        837613\n",
       "--Line--                          837613\n",
       "--Fecha--                         837613\n",
       "--Hora--                          837613\n",
       "--Active--                        837613\n",
       "--Active With Transport Loss--    837613\n",
       "--Active With Transform Loss--    837613\n",
       "dtype: int64"
      ]
     },
     "execution_count": 55,
     "metadata": {},
     "output_type": "execute_result"
    }
   ],
   "source": [
    "df4.count()"
   ]
  },
  {
   "cell_type": "code",
   "execution_count": 56,
   "metadata": {},
   "outputs": [
    {
     "data": {
      "text/plain": [
       "--Cups20--                        3706687\n",
       "--Line--                          3706687\n",
       "--Fecha--                         3706687\n",
       "--Hora--                          3706687\n",
       "--Active--                        3706687\n",
       "--Active With Transport Loss--    3706687\n",
       "--Active With Transform Loss--    3706687\n",
       "dtype: int64"
      ]
     },
     "execution_count": 56,
     "metadata": {},
     "output_type": "execute_result"
    }
   ],
   "source": [
    "df_2017.count()"
   ]
  },
  {
   "cell_type": "markdown",
   "metadata": {},
   "source": [
    "Vamos a crear el data set CUPS_2017 que contiene los CUPS que tengo en mi data set de medidas (df_2017) y el número de horas que tiene para cada uno. Con esto lo que vamos a hacer es quedarnos solamente con aquellos CUPS que tengan una curva completa durante 2017."
   ]
  },
  {
   "cell_type": "code",
   "execution_count": 57,
   "metadata": {},
   "outputs": [],
   "source": [
    "Cups_2017 = df_2017.groupby(['--Cups20--']).count()\n"
   ]
  },
  {
   "cell_type": "code",
   "execution_count": 58,
   "metadata": {},
   "outputs": [],
   "source": [
    "Cups_2017=Cups_2017.reset_index()"
   ]
  },
  {
   "cell_type": "code",
   "execution_count": 59,
   "metadata": {},
   "outputs": [],
   "source": [
    "Cups_2017=Cups_2017[['--Cups20--', '--Hora--']]"
   ]
  },
  {
   "cell_type": "code",
   "execution_count": 60,
   "metadata": {},
   "outputs": [
    {
     "data": {
      "text/html": [
       "<div>\n",
       "<style scoped>\n",
       "    .dataframe tbody tr th:only-of-type {\n",
       "        vertical-align: middle;\n",
       "    }\n",
       "\n",
       "    .dataframe tbody tr th {\n",
       "        vertical-align: top;\n",
       "    }\n",
       "\n",
       "    .dataframe thead th {\n",
       "        text-align: right;\n",
       "    }\n",
       "</style>\n",
       "<table border=\"1\" class=\"dataframe\">\n",
       "  <thead>\n",
       "    <tr style=\"text-align: right;\">\n",
       "      <th></th>\n",
       "      <th>--Cups20--</th>\n",
       "      <th>NºHoras</th>\n",
       "    </tr>\n",
       "  </thead>\n",
       "  <tbody>\n",
       "    <tr>\n",
       "      <th>0</th>\n",
       "      <td>ES0021000000274345SK</td>\n",
       "      <td>8686</td>\n",
       "    </tr>\n",
       "    <tr>\n",
       "      <th>1</th>\n",
       "      <td>ES0021000000274602GW</td>\n",
       "      <td>8018</td>\n",
       "    </tr>\n",
       "    <tr>\n",
       "      <th>2</th>\n",
       "      <td>ES0021000000274886QX</td>\n",
       "      <td>8590</td>\n",
       "    </tr>\n",
       "    <tr>\n",
       "      <th>3</th>\n",
       "      <td>ES0021000000304938NR</td>\n",
       "      <td>8736</td>\n",
       "    </tr>\n",
       "    <tr>\n",
       "      <th>4</th>\n",
       "      <td>ES0021000000506201EZ</td>\n",
       "      <td>8712</td>\n",
       "    </tr>\n",
       "  </tbody>\n",
       "</table>\n",
       "</div>"
      ],
      "text/plain": [
       "             --Cups20--  NºHoras\n",
       "0  ES0021000000274345SK     8686\n",
       "1  ES0021000000274602GW     8018\n",
       "2  ES0021000000274886QX     8590\n",
       "3  ES0021000000304938NR     8736\n",
       "4  ES0021000000506201EZ     8712"
      ]
     },
     "execution_count": 60,
     "metadata": {},
     "output_type": "execute_result"
    }
   ],
   "source": [
    "Cups_2017=Cups_2017.rename(columns={'--Hora--' : 'NºHoras'})\n",
    "Cups_2017.head()"
   ]
  },
  {
   "cell_type": "code",
   "execution_count": 61,
   "metadata": {},
   "outputs": [
    {
     "data": {
      "text/plain": [
       "(3706687, 7)"
      ]
     },
     "execution_count": 61,
     "metadata": {},
     "output_type": "execute_result"
    }
   ],
   "source": [
    "df_2017.shape"
   ]
  },
  {
   "cell_type": "code",
   "execution_count": 70,
   "metadata": {},
   "outputs": [],
   "source": [
    "df_2017=df_2017.merge(Cups_2017, on='--Cups20--', sort=True)"
   ]
  },
  {
   "cell_type": "code",
   "execution_count": 63,
   "metadata": {},
   "outputs": [
    {
     "data": {
      "text/plain": [
       "(3706687, 8)"
      ]
     },
     "execution_count": 63,
     "metadata": {},
     "output_type": "execute_result"
    }
   ],
   "source": [
    "df_2017.shape"
   ]
  },
  {
   "cell_type": "code",
   "execution_count": 71,
   "metadata": {},
   "outputs": [
    {
     "data": {
      "text/html": [
       "<div>\n",
       "<style scoped>\n",
       "    .dataframe tbody tr th:only-of-type {\n",
       "        vertical-align: middle;\n",
       "    }\n",
       "\n",
       "    .dataframe tbody tr th {\n",
       "        vertical-align: top;\n",
       "    }\n",
       "\n",
       "    .dataframe thead th {\n",
       "        text-align: right;\n",
       "    }\n",
       "</style>\n",
       "<table border=\"1\" class=\"dataframe\">\n",
       "  <thead>\n",
       "    <tr style=\"text-align: right;\">\n",
       "      <th></th>\n",
       "      <th>--Cups20--</th>\n",
       "      <th>--Line--</th>\n",
       "      <th>--Fecha--</th>\n",
       "      <th>--Hora--</th>\n",
       "      <th>--Active--</th>\n",
       "      <th>--Active With Transport Loss--</th>\n",
       "      <th>--Active With Transform Loss--</th>\n",
       "      <th>NºHoras</th>\n",
       "    </tr>\n",
       "  </thead>\n",
       "  <tbody>\n",
       "    <tr>\n",
       "      <th>0</th>\n",
       "      <td>ES0021000000274345SK</td>\n",
       "      <td>0P</td>\n",
       "      <td>2017-01-01</td>\n",
       "      <td>1</td>\n",
       "      <td>0.330</td>\n",
       "      <td>0.42207</td>\n",
       "      <td>0.330</td>\n",
       "      <td>8686</td>\n",
       "    </tr>\n",
       "    <tr>\n",
       "      <th>1</th>\n",
       "      <td>ES0021000000274345SK</td>\n",
       "      <td>0P</td>\n",
       "      <td>2017-01-01</td>\n",
       "      <td>2</td>\n",
       "      <td>0.152</td>\n",
       "      <td>0.19456</td>\n",
       "      <td>0.152</td>\n",
       "      <td>8686</td>\n",
       "    </tr>\n",
       "    <tr>\n",
       "      <th>2</th>\n",
       "      <td>ES0021000000274345SK</td>\n",
       "      <td>0P</td>\n",
       "      <td>2017-01-01</td>\n",
       "      <td>3</td>\n",
       "      <td>0.273</td>\n",
       "      <td>0.34944</td>\n",
       "      <td>0.273</td>\n",
       "      <td>8686</td>\n",
       "    </tr>\n",
       "    <tr>\n",
       "      <th>3</th>\n",
       "      <td>ES0021000000274345SK</td>\n",
       "      <td>0P</td>\n",
       "      <td>2017-01-01</td>\n",
       "      <td>4</td>\n",
       "      <td>0.156</td>\n",
       "      <td>0.19968</td>\n",
       "      <td>0.156</td>\n",
       "      <td>8686</td>\n",
       "    </tr>\n",
       "    <tr>\n",
       "      <th>4</th>\n",
       "      <td>ES0021000000274345SK</td>\n",
       "      <td>0P</td>\n",
       "      <td>2017-01-01</td>\n",
       "      <td>5</td>\n",
       "      <td>0.311</td>\n",
       "      <td>0.39808</td>\n",
       "      <td>0.311</td>\n",
       "      <td>8686</td>\n",
       "    </tr>\n",
       "  </tbody>\n",
       "</table>\n",
       "</div>"
      ],
      "text/plain": [
       "             --Cups20-- --Line--  --Fecha--  --Hora--  --Active--  \\\n",
       "0  ES0021000000274345SK       0P 2017-01-01         1       0.330   \n",
       "1  ES0021000000274345SK       0P 2017-01-01         2       0.152   \n",
       "2  ES0021000000274345SK       0P 2017-01-01         3       0.273   \n",
       "3  ES0021000000274345SK       0P 2017-01-01         4       0.156   \n",
       "4  ES0021000000274345SK       0P 2017-01-01         5       0.311   \n",
       "\n",
       "   --Active With Transport Loss--  --Active With Transform Loss--  NºHoras  \n",
       "0                         0.42207                           0.330     8686  \n",
       "1                         0.19456                           0.152     8686  \n",
       "2                         0.34944                           0.273     8686  \n",
       "3                         0.19968                           0.156     8686  \n",
       "4                         0.39808                           0.311     8686  "
      ]
     },
     "execution_count": 71,
     "metadata": {},
     "output_type": "execute_result"
    }
   ],
   "source": [
    "df_2017.head()"
   ]
  },
  {
   "cell_type": "markdown",
   "metadata": {},
   "source": [
    "Me quedo solamente con aquellos puntos que tienen una curva de medida completa para todo el año, eso es, aquellos que tengan 8760 horas\n"
   ]
  },
  {
   "cell_type": "code",
   "execution_count": 103,
   "metadata": {},
   "outputs": [
    {
     "data": {
      "text/plain": [
       "<BarContainer object of 553 artists>"
      ]
     },
     "execution_count": 103,
     "metadata": {},
     "output_type": "execute_result"
    },
    {
     "data": {
      "image/png": "[encoded data removed]",
      "text/plain": [
       "<Figure size 432x288 with 1 Axes>"
      ]
     },
     "metadata": {},
     "output_type": "display_data"
    }
   ],
   "source": [
    "plt.bar(Cups_2017['--Cups20--'], Cups_2017['NºHoras'], width=1/1.5, color='blue')"
   ]
  },
  {
   "cell_type": "markdown",
   "metadata": {},
   "source": [
    "En el grafico podemos ver que para algunos puntos tenemos medida duplicada porque tienen un número de horas anuales mayor del esperado, esto es algo que suele pasar.\n",
    "\n",
    "Para evitar este problema, vamos a descartar también estos puntos y nos quedamos solo con aquellos que tienen curva completa y sin duplicados."
   ]
  },
  {
   "cell_type": "code",
   "execution_count": 77,
   "metadata": {},
   "outputs": [],
   "source": [
    "df_2017=df_2017[(df_2017['NºHoras']==8760)]"
   ]
  },
  {
   "cell_type": "code",
   "execution_count": 78,
   "metadata": {},
   "outputs": [
    {
     "data": {
      "text/html": [
       "<div>\n",
       "<style scoped>\n",
       "    .dataframe tbody tr th:only-of-type {\n",
       "        vertical-align: middle;\n",
       "    }\n",
       "\n",
       "    .dataframe tbody tr th {\n",
       "        vertical-align: top;\n",
       "    }\n",
       "\n",
       "    .dataframe thead th {\n",
       "        text-align: right;\n",
       "    }\n",
       "</style>\n",
       "<table border=\"1\" class=\"dataframe\">\n",
       "  <thead>\n",
       "    <tr style=\"text-align: right;\">\n",
       "      <th></th>\n",
       "      <th>--Hora--</th>\n",
       "      <th>--Active--</th>\n",
       "      <th>--Active With Transport Loss--</th>\n",
       "      <th>--Active With Transform Loss--</th>\n",
       "      <th>NºHoras</th>\n",
       "    </tr>\n",
       "  </thead>\n",
       "  <tbody>\n",
       "    <tr>\n",
       "      <th>count</th>\n",
       "      <td>595680.000000</td>\n",
       "      <td>595680.000000</td>\n",
       "      <td>595680.000000</td>\n",
       "      <td>595680.000000</td>\n",
       "      <td>595680.0</td>\n",
       "    </tr>\n",
       "    <tr>\n",
       "      <th>mean</th>\n",
       "      <td>12.500000</td>\n",
       "      <td>0.747121</td>\n",
       "      <td>0.872294</td>\n",
       "      <td>0.747121</td>\n",
       "      <td>8760.0</td>\n",
       "    </tr>\n",
       "    <tr>\n",
       "      <th>std</th>\n",
       "      <td>6.922192</td>\n",
       "      <td>1.678621</td>\n",
       "      <td>1.952005</td>\n",
       "      <td>1.678621</td>\n",
       "      <td>0.0</td>\n",
       "    </tr>\n",
       "    <tr>\n",
       "      <th>min</th>\n",
       "      <td>1.000000</td>\n",
       "      <td>0.000000</td>\n",
       "      <td>0.000000</td>\n",
       "      <td>0.000000</td>\n",
       "      <td>8760.0</td>\n",
       "    </tr>\n",
       "    <tr>\n",
       "      <th>25%</th>\n",
       "      <td>6.750000</td>\n",
       "      <td>0.029000</td>\n",
       "      <td>0.034100</td>\n",
       "      <td>0.029000</td>\n",
       "      <td>8760.0</td>\n",
       "    </tr>\n",
       "    <tr>\n",
       "      <th>50%</th>\n",
       "      <td>12.500000</td>\n",
       "      <td>0.187000</td>\n",
       "      <td>0.221155</td>\n",
       "      <td>0.187000</td>\n",
       "      <td>8760.0</td>\n",
       "    </tr>\n",
       "    <tr>\n",
       "      <th>75%</th>\n",
       "      <td>18.250000</td>\n",
       "      <td>0.668000</td>\n",
       "      <td>0.786310</td>\n",
       "      <td>0.668000</td>\n",
       "      <td>8760.0</td>\n",
       "    </tr>\n",
       "    <tr>\n",
       "      <th>max</th>\n",
       "      <td>24.000000</td>\n",
       "      <td>46.653000</td>\n",
       "      <td>55.936950</td>\n",
       "      <td>46.653000</td>\n",
       "      <td>8760.0</td>\n",
       "    </tr>\n",
       "  </tbody>\n",
       "</table>\n",
       "</div>"
      ],
      "text/plain": [
       "            --Hora--     --Active--  --Active With Transport Loss--  \\\n",
       "count  595680.000000  595680.000000                   595680.000000   \n",
       "mean       12.500000       0.747121                        0.872294   \n",
       "std         6.922192       1.678621                        1.952005   \n",
       "min         1.000000       0.000000                        0.000000   \n",
       "25%         6.750000       0.029000                        0.034100   \n",
       "50%        12.500000       0.187000                        0.221155   \n",
       "75%        18.250000       0.668000                        0.786310   \n",
       "max        24.000000      46.653000                       55.936950   \n",
       "\n",
       "       --Active With Transform Loss--   NºHoras  \n",
       "count                   595680.000000  595680.0  \n",
       "mean                         0.747121    8760.0  \n",
       "std                          1.678621       0.0  \n",
       "min                          0.000000    8760.0  \n",
       "25%                          0.029000    8760.0  \n",
       "50%                          0.187000    8760.0  \n",
       "75%                          0.668000    8760.0  \n",
       "max                         46.653000    8760.0  "
      ]
     },
     "execution_count": 78,
     "metadata": {},
     "output_type": "execute_result"
    }
   ],
   "source": [
    "df_2017.describe()"
   ]
  },
  {
   "cell_type": "markdown",
   "metadata": {},
   "source": [
    "## Hacemos el mismo proceso con el excel de 2018"
   ]
  },
  {
   "cell_type": "code",
   "execution_count": 79,
   "metadata": {},
   "outputs": [
    {
     "name": "stderr",
     "output_type": "stream",
     "text": [
      "/anaconda3/lib/python3.6/site-packages/ipykernel_launcher.py:2: DeprecationWarning: Call to deprecated function get_sheet_names (Use wb.sheetnames).\n",
      "  \n"
     ]
    },
    {
     "data": {
      "text/plain": [
       "['Page 1', 'Page 2', 'Page 3', 'Page 4', 'Page 5']"
      ]
     },
     "execution_count": 79,
     "metadata": {},
     "output_type": "execute_result"
    }
   ],
   "source": [
    "excel_document_18 = openpyxl.load_workbook('./data/Cups2018.xlsx')\n",
    "excel_document_18.get_sheet_names()"
   ]
  },
  {
   "cell_type": "code",
   "execution_count": 115,
   "metadata": {},
   "outputs": [
    {
     "data": {
      "text/html": [
       "<div>\n",
       "<style scoped>\n",
       "    .dataframe tbody tr th:only-of-type {\n",
       "        vertical-align: middle;\n",
       "    }\n",
       "\n",
       "    .dataframe tbody tr th {\n",
       "        vertical-align: top;\n",
       "    }\n",
       "\n",
       "    .dataframe thead th {\n",
       "        text-align: right;\n",
       "    }\n",
       "</style>\n",
       "<table border=\"1\" class=\"dataframe\">\n",
       "  <thead>\n",
       "    <tr style=\"text-align: right;\">\n",
       "      <th></th>\n",
       "      <th>--Cups20--</th>\n",
       "      <th>--Line--</th>\n",
       "      <th>--Fecha--</th>\n",
       "      <th>--Hora--</th>\n",
       "      <th>--Active--</th>\n",
       "      <th>--Active With Transport Loss--</th>\n",
       "      <th>--Active With Transform Loss--</th>\n",
       "    </tr>\n",
       "  </thead>\n",
       "  <tbody>\n",
       "    <tr>\n",
       "      <th>0</th>\n",
       "      <td>ES0021000004654210GL</td>\n",
       "      <td>0P</td>\n",
       "      <td>2018-01-01</td>\n",
       "      <td>1</td>\n",
       "      <td>0.0</td>\n",
       "      <td>0.0</td>\n",
       "      <td>0.0</td>\n",
       "    </tr>\n",
       "    <tr>\n",
       "      <th>1</th>\n",
       "      <td>ES0021000004654210GL</td>\n",
       "      <td>0P</td>\n",
       "      <td>2018-01-01</td>\n",
       "      <td>2</td>\n",
       "      <td>0.0</td>\n",
       "      <td>0.0</td>\n",
       "      <td>0.0</td>\n",
       "    </tr>\n",
       "    <tr>\n",
       "      <th>2</th>\n",
       "      <td>ES0021000004654210GL</td>\n",
       "      <td>0P</td>\n",
       "      <td>2018-01-01</td>\n",
       "      <td>3</td>\n",
       "      <td>0.0</td>\n",
       "      <td>0.0</td>\n",
       "      <td>0.0</td>\n",
       "    </tr>\n",
       "    <tr>\n",
       "      <th>3</th>\n",
       "      <td>ES0021000004654210GL</td>\n",
       "      <td>0P</td>\n",
       "      <td>2018-01-01</td>\n",
       "      <td>4</td>\n",
       "      <td>0.0</td>\n",
       "      <td>0.0</td>\n",
       "      <td>0.0</td>\n",
       "    </tr>\n",
       "    <tr>\n",
       "      <th>4</th>\n",
       "      <td>ES0021000004654210GL</td>\n",
       "      <td>0P</td>\n",
       "      <td>2018-01-01</td>\n",
       "      <td>5</td>\n",
       "      <td>0.0</td>\n",
       "      <td>0.0</td>\n",
       "      <td>0.0</td>\n",
       "    </tr>\n",
       "  </tbody>\n",
       "</table>\n",
       "</div>"
      ],
      "text/plain": [
       "             --Cups20-- --Line--  --Fecha--  --Hora--  --Active--  \\\n",
       "0  ES0021000004654210GL       0P 2018-01-01         1         0.0   \n",
       "1  ES0021000004654210GL       0P 2018-01-01         2         0.0   \n",
       "2  ES0021000004654210GL       0P 2018-01-01         3         0.0   \n",
       "3  ES0021000004654210GL       0P 2018-01-01         4         0.0   \n",
       "4  ES0021000004654210GL       0P 2018-01-01         5         0.0   \n",
       "\n",
       "   --Active With Transport Loss--  --Active With Transform Loss--  \n",
       "0                             0.0                             0.0  \n",
       "1                             0.0                             0.0  \n",
       "2                             0.0                             0.0  \n",
       "3                             0.0                             0.0  \n",
       "4                             0.0                             0.0  "
      ]
     },
     "execution_count": 115,
     "metadata": {},
     "output_type": "execute_result"
    }
   ],
   "source": [
    "xlsx_18 = pd.ExcelFile('./data/Cups2018.xlsx') \n",
    "df11 = pd.read_excel(xlsx_18, 'Page 1') \n",
    "df22 = pd.read_excel(xlsx_18, 'Page 2') \n",
    "df33 = pd.read_excel(xlsx_18, 'Page 3') \n",
    "df44 = pd.read_excel(xlsx_18, 'Page 4') \n",
    "df55 = pd.read_excel(xlsx_18, 'Page 5')\n",
    "df_2018 = pd.concat([df11, df22, df33, df44, df55])\n",
    "df_2018.head(5)"
   ]
  },
  {
   "cell_type": "code",
   "execution_count": 116,
   "metadata": {},
   "outputs": [],
   "source": [
    "Cups_2018 = df_2018.groupby(['--Cups20--']).count()\n",
    "Cups_2018=Cups_2018.reset_index()\n"
   ]
  },
  {
   "cell_type": "code",
   "execution_count": 117,
   "metadata": {},
   "outputs": [
    {
     "data": {
      "text/html": [
       "<div>\n",
       "<style scoped>\n",
       "    .dataframe tbody tr th:only-of-type {\n",
       "        vertical-align: middle;\n",
       "    }\n",
       "\n",
       "    .dataframe tbody tr th {\n",
       "        vertical-align: top;\n",
       "    }\n",
       "\n",
       "    .dataframe thead th {\n",
       "        text-align: right;\n",
       "    }\n",
       "</style>\n",
       "<table border=\"1\" class=\"dataframe\">\n",
       "  <thead>\n",
       "    <tr style=\"text-align: right;\">\n",
       "      <th></th>\n",
       "      <th>--Cups20--</th>\n",
       "      <th>NºHoras</th>\n",
       "    </tr>\n",
       "  </thead>\n",
       "  <tbody>\n",
       "    <tr>\n",
       "      <th>0</th>\n",
       "      <td>ES0021000000274345SK</td>\n",
       "      <td>7896</td>\n",
       "    </tr>\n",
       "    <tr>\n",
       "      <th>1</th>\n",
       "      <td>ES0021000000274602GW</td>\n",
       "      <td>7224</td>\n",
       "    </tr>\n",
       "    <tr>\n",
       "      <th>2</th>\n",
       "      <td>ES0021000000274886QX</td>\n",
       "      <td>7872</td>\n",
       "    </tr>\n",
       "    <tr>\n",
       "      <th>3</th>\n",
       "      <td>ES0021000000304938NR</td>\n",
       "      <td>7896</td>\n",
       "    </tr>\n",
       "    <tr>\n",
       "      <th>4</th>\n",
       "      <td>ES0021000000506201EZ</td>\n",
       "      <td>7872</td>\n",
       "    </tr>\n",
       "  </tbody>\n",
       "</table>\n",
       "</div>"
      ],
      "text/plain": [
       "             --Cups20--  NºHoras\n",
       "0  ES0021000000274345SK     7896\n",
       "1  ES0021000000274602GW     7224\n",
       "2  ES0021000000274886QX     7872\n",
       "3  ES0021000000304938NR     7896\n",
       "4  ES0021000000506201EZ     7872"
      ]
     },
     "execution_count": 117,
     "metadata": {},
     "output_type": "execute_result"
    }
   ],
   "source": [
    "Cups_2018=Cups_2018[['--Cups20--', '--Hora--']]\n",
    "Cups_2018=Cups_2018.rename(columns={'--Hora--' : 'NºHoras'})\n",
    "Cups_2018.head()\n"
   ]
  },
  {
   "cell_type": "code",
   "execution_count": 118,
   "metadata": {},
   "outputs": [
    {
     "data": {
      "text/plain": [
       "(4118516, 7)"
      ]
     },
     "execution_count": 118,
     "metadata": {},
     "output_type": "execute_result"
    }
   ],
   "source": [
    "df_2018.shape\n"
   ]
  },
  {
   "cell_type": "code",
   "execution_count": 119,
   "metadata": {},
   "outputs": [],
   "source": [
    "df_2018=df_2018.merge(Cups_2018, on='--Cups20--', sort=True)\n"
   ]
  },
  {
   "cell_type": "code",
   "execution_count": 120,
   "metadata": {},
   "outputs": [
    {
     "data": {
      "text/plain": [
       "(4118516, 8)"
      ]
     },
     "execution_count": 120,
     "metadata": {},
     "output_type": "execute_result"
    }
   ],
   "source": [
    "df_2018.shape\n"
   ]
  },
  {
   "cell_type": "code",
   "execution_count": 121,
   "metadata": {},
   "outputs": [
    {
     "data": {
      "text/html": [
       "<div>\n",
       "<style scoped>\n",
       "    .dataframe tbody tr th:only-of-type {\n",
       "        vertical-align: middle;\n",
       "    }\n",
       "\n",
       "    .dataframe tbody tr th {\n",
       "        vertical-align: top;\n",
       "    }\n",
       "\n",
       "    .dataframe thead th {\n",
       "        text-align: right;\n",
       "    }\n",
       "</style>\n",
       "<table border=\"1\" class=\"dataframe\">\n",
       "  <thead>\n",
       "    <tr style=\"text-align: right;\">\n",
       "      <th></th>\n",
       "      <th>--Cups20--</th>\n",
       "      <th>--Line--</th>\n",
       "      <th>--Fecha--</th>\n",
       "      <th>--Hora--</th>\n",
       "      <th>--Active--</th>\n",
       "      <th>--Active With Transport Loss--</th>\n",
       "      <th>--Active With Transform Loss--</th>\n",
       "      <th>NºHoras</th>\n",
       "    </tr>\n",
       "  </thead>\n",
       "  <tbody>\n",
       "    <tr>\n",
       "      <th>0</th>\n",
       "      <td>ES0021000000274345SK</td>\n",
       "      <td>0P</td>\n",
       "      <td>2018-01-01</td>\n",
       "      <td>1</td>\n",
       "      <td>0.467</td>\n",
       "      <td>0.59776</td>\n",
       "      <td>0.467</td>\n",
       "      <td>7896</td>\n",
       "    </tr>\n",
       "    <tr>\n",
       "      <th>1</th>\n",
       "      <td>ES0021000000274345SK</td>\n",
       "      <td>0P</td>\n",
       "      <td>2018-01-01</td>\n",
       "      <td>2</td>\n",
       "      <td>0.479</td>\n",
       "      <td>0.61312</td>\n",
       "      <td>0.479</td>\n",
       "      <td>7896</td>\n",
       "    </tr>\n",
       "    <tr>\n",
       "      <th>2</th>\n",
       "      <td>ES0021000000274345SK</td>\n",
       "      <td>0P</td>\n",
       "      <td>2018-01-01</td>\n",
       "      <td>3</td>\n",
       "      <td>0.500</td>\n",
       "      <td>0.64000</td>\n",
       "      <td>0.500</td>\n",
       "      <td>7896</td>\n",
       "    </tr>\n",
       "    <tr>\n",
       "      <th>3</th>\n",
       "      <td>ES0021000000274345SK</td>\n",
       "      <td>0P</td>\n",
       "      <td>2018-01-01</td>\n",
       "      <td>4</td>\n",
       "      <td>0.457</td>\n",
       "      <td>0.58496</td>\n",
       "      <td>0.457</td>\n",
       "      <td>7896</td>\n",
       "    </tr>\n",
       "    <tr>\n",
       "      <th>4</th>\n",
       "      <td>ES0021000000274345SK</td>\n",
       "      <td>0P</td>\n",
       "      <td>2018-01-01</td>\n",
       "      <td>5</td>\n",
       "      <td>0.499</td>\n",
       "      <td>0.63872</td>\n",
       "      <td>0.499</td>\n",
       "      <td>7896</td>\n",
       "    </tr>\n",
       "  </tbody>\n",
       "</table>\n",
       "</div>"
      ],
      "text/plain": [
       "             --Cups20-- --Line--  --Fecha--  --Hora--  --Active--  \\\n",
       "0  ES0021000000274345SK       0P 2018-01-01         1       0.467   \n",
       "1  ES0021000000274345SK       0P 2018-01-01         2       0.479   \n",
       "2  ES0021000000274345SK       0P 2018-01-01         3       0.500   \n",
       "3  ES0021000000274345SK       0P 2018-01-01         4       0.457   \n",
       "4  ES0021000000274345SK       0P 2018-01-01         5       0.499   \n",
       "\n",
       "   --Active With Transport Loss--  --Active With Transform Loss--  NºHoras  \n",
       "0                         0.59776                           0.467     7896  \n",
       "1                         0.61312                           0.479     7896  \n",
       "2                         0.64000                           0.500     7896  \n",
       "3                         0.58496                           0.457     7896  \n",
       "4                         0.63872                           0.499     7896  "
      ]
     },
     "execution_count": 121,
     "metadata": {},
     "output_type": "execute_result"
    }
   ],
   "source": [
    "df_2018.head()\n"
   ]
  },
  {
   "cell_type": "markdown",
   "metadata": {},
   "source": [
    "Para 2018 solo tengo datos de medidas hasta noviembre, por lo que el número medidas horarias que debe tener cada punto es de 8016"
   ]
  },
  {
   "cell_type": "code",
   "execution_count": 123,
   "metadata": {},
   "outputs": [],
   "source": [
    "df_2018=df_2018[(df_2018['NºHoras']==8016)]\n"
   ]
  },
  {
   "cell_type": "code",
   "execution_count": 124,
   "metadata": {},
   "outputs": [
    {
     "data": {
      "text/html": [
       "<div>\n",
       "<style scoped>\n",
       "    .dataframe tbody tr th:only-of-type {\n",
       "        vertical-align: middle;\n",
       "    }\n",
       "\n",
       "    .dataframe tbody tr th {\n",
       "        vertical-align: top;\n",
       "    }\n",
       "\n",
       "    .dataframe thead th {\n",
       "        text-align: right;\n",
       "    }\n",
       "</style>\n",
       "<table border=\"1\" class=\"dataframe\">\n",
       "  <thead>\n",
       "    <tr style=\"text-align: right;\">\n",
       "      <th></th>\n",
       "      <th>--Hora--</th>\n",
       "      <th>--Active--</th>\n",
       "      <th>--Active With Transport Loss--</th>\n",
       "      <th>--Active With Transform Loss--</th>\n",
       "      <th>NºHoras</th>\n",
       "    </tr>\n",
       "  </thead>\n",
       "  <tbody>\n",
       "    <tr>\n",
       "      <th>count</th>\n",
       "      <td>280560.000000</td>\n",
       "      <td>280560.000000</td>\n",
       "      <td>280560.000000</td>\n",
       "      <td>280560.000000</td>\n",
       "      <td>280560.0</td>\n",
       "    </tr>\n",
       "    <tr>\n",
       "      <th>mean</th>\n",
       "      <td>12.500000</td>\n",
       "      <td>0.994323</td>\n",
       "      <td>1.152116</td>\n",
       "      <td>0.994320</td>\n",
       "      <td>8016.0</td>\n",
       "    </tr>\n",
       "    <tr>\n",
       "      <th>std</th>\n",
       "      <td>6.922199</td>\n",
       "      <td>1.460470</td>\n",
       "      <td>1.688435</td>\n",
       "      <td>1.460472</td>\n",
       "      <td>0.0</td>\n",
       "    </tr>\n",
       "    <tr>\n",
       "      <th>min</th>\n",
       "      <td>1.000000</td>\n",
       "      <td>0.000000</td>\n",
       "      <td>0.000000</td>\n",
       "      <td>0.000000</td>\n",
       "      <td>8016.0</td>\n",
       "    </tr>\n",
       "    <tr>\n",
       "      <th>25%</th>\n",
       "      <td>6.750000</td>\n",
       "      <td>0.112000</td>\n",
       "      <td>0.131040</td>\n",
       "      <td>0.112000</td>\n",
       "      <td>8016.0</td>\n",
       "    </tr>\n",
       "    <tr>\n",
       "      <th>50%</th>\n",
       "      <td>12.500000</td>\n",
       "      <td>0.351000</td>\n",
       "      <td>0.410700</td>\n",
       "      <td>0.351000</td>\n",
       "      <td>8016.0</td>\n",
       "    </tr>\n",
       "    <tr>\n",
       "      <th>75%</th>\n",
       "      <td>18.250000</td>\n",
       "      <td>1.337000</td>\n",
       "      <td>1.561932</td>\n",
       "      <td>1.337000</td>\n",
       "      <td>8016.0</td>\n",
       "    </tr>\n",
       "    <tr>\n",
       "      <th>max</th>\n",
       "      <td>24.000000</td>\n",
       "      <td>19.628000</td>\n",
       "      <td>22.998280</td>\n",
       "      <td>19.628000</td>\n",
       "      <td>8016.0</td>\n",
       "    </tr>\n",
       "  </tbody>\n",
       "</table>\n",
       "</div>"
      ],
      "text/plain": [
       "            --Hora--     --Active--  --Active With Transport Loss--  \\\n",
       "count  280560.000000  280560.000000                   280560.000000   \n",
       "mean       12.500000       0.994323                        1.152116   \n",
       "std         6.922199       1.460470                        1.688435   \n",
       "min         1.000000       0.000000                        0.000000   \n",
       "25%         6.750000       0.112000                        0.131040   \n",
       "50%        12.500000       0.351000                        0.410700   \n",
       "75%        18.250000       1.337000                        1.561932   \n",
       "max        24.000000      19.628000                       22.998280   \n",
       "\n",
       "       --Active With Transform Loss--   NºHoras  \n",
       "count                   280560.000000  280560.0  \n",
       "mean                         0.994320    8016.0  \n",
       "std                          1.460472       0.0  \n",
       "min                          0.000000    8016.0  \n",
       "25%                          0.112000    8016.0  \n",
       "50%                          0.351000    8016.0  \n",
       "75%                          1.337000    8016.0  \n",
       "max                         19.628000    8016.0  "
      ]
     },
     "execution_count": 124,
     "metadata": {},
     "output_type": "execute_result"
    }
   ],
   "source": [
    "df_2018.describe()"
   ]
  },
  {
   "cell_type": "code",
   "execution_count": 125,
   "metadata": {},
   "outputs": [
    {
     "data": {
      "text/plain": [
       "<BarContainer object of 610 artists>"
      ]
     },
     "execution_count": 125,
     "metadata": {},
     "output_type": "execute_result"
    },
    {
     "data": {
      "image/png": "[encoded data removed]",
      "text/plain": [
       "<Figure size 432x288 with 1 Axes>"
      ]
     },
     "metadata": {},
     "output_type": "display_data"
    }
   ],
   "source": [
    "plt.bar(Cups_2018['--Cups20--'], Cups_2018['NºHoras'], width=1/1.5, color='blue')"
   ]
  },
  {
   "cell_type": "markdown",
   "metadata": {},
   "source": [
    "# Unimos tanto el fichero de 2017 como el de 2018 y creamos un único fichero con las medidas de 2017 y 2018\n",
    "\n",
    "Comprobamos que el fichero final es efectivamente la suma de los dos ficheros originales."
   ]
  },
  {
   "cell_type": "code",
   "execution_count": 126,
   "metadata": {},
   "outputs": [],
   "source": [
    "Medidas = pd.concat([df_2017, df_2018])"
   ]
  },
  {
   "cell_type": "code",
   "execution_count": 127,
   "metadata": {},
   "outputs": [
    {
     "data": {
      "text/plain": [
       "(595680, 8)"
      ]
     },
     "execution_count": 127,
     "metadata": {},
     "output_type": "execute_result"
    }
   ],
   "source": [
    "df_2017.shape"
   ]
  },
  {
   "cell_type": "code",
   "execution_count": 128,
   "metadata": {},
   "outputs": [
    {
     "data": {
      "text/plain": [
       "(280560, 8)"
      ]
     },
     "execution_count": 128,
     "metadata": {},
     "output_type": "execute_result"
    }
   ],
   "source": [
    "df_2018.shape"
   ]
  },
  {
   "cell_type": "code",
   "execution_count": 129,
   "metadata": {},
   "outputs": [
    {
     "data": {
      "text/plain": [
       "(876240, 8)"
      ]
     },
     "execution_count": 129,
     "metadata": {},
     "output_type": "execute_result"
    }
   ],
   "source": [
    "Medidas.shape"
   ]
  },
  {
   "cell_type": "code",
   "execution_count": 130,
   "metadata": {},
   "outputs": [
    {
     "data": {
      "text/html": [
       "<div>\n",
       "<style scoped>\n",
       "    .dataframe tbody tr th:only-of-type {\n",
       "        vertical-align: middle;\n",
       "    }\n",
       "\n",
       "    .dataframe tbody tr th {\n",
       "        vertical-align: top;\n",
       "    }\n",
       "\n",
       "    .dataframe thead th {\n",
       "        text-align: right;\n",
       "    }\n",
       "</style>\n",
       "<table border=\"1\" class=\"dataframe\">\n",
       "  <thead>\n",
       "    <tr style=\"text-align: right;\">\n",
       "      <th></th>\n",
       "      <th>--Hora--</th>\n",
       "      <th>--Active--</th>\n",
       "      <th>--Active With Transport Loss--</th>\n",
       "      <th>--Active With Transform Loss--</th>\n",
       "      <th>NºHoras</th>\n",
       "    </tr>\n",
       "  </thead>\n",
       "  <tbody>\n",
       "    <tr>\n",
       "      <th>count</th>\n",
       "      <td>876240.000000</td>\n",
       "      <td>876240.000000</td>\n",
       "      <td>876240.000000</td>\n",
       "      <td>876240.000000</td>\n",
       "      <td>876240.000000</td>\n",
       "    </tr>\n",
       "    <tr>\n",
       "      <th>mean</th>\n",
       "      <td>12.500000</td>\n",
       "      <td>0.826272</td>\n",
       "      <td>0.961889</td>\n",
       "      <td>0.826271</td>\n",
       "      <td>8521.781430</td>\n",
       "    </tr>\n",
       "    <tr>\n",
       "      <th>std</th>\n",
       "      <td>6.922191</td>\n",
       "      <td>1.616108</td>\n",
       "      <td>1.876204</td>\n",
       "      <td>1.616109</td>\n",
       "      <td>347.111893</td>\n",
       "    </tr>\n",
       "    <tr>\n",
       "      <th>min</th>\n",
       "      <td>1.000000</td>\n",
       "      <td>0.000000</td>\n",
       "      <td>0.000000</td>\n",
       "      <td>0.000000</td>\n",
       "      <td>8016.000000</td>\n",
       "    </tr>\n",
       "    <tr>\n",
       "      <th>25%</th>\n",
       "      <td>6.750000</td>\n",
       "      <td>0.045000</td>\n",
       "      <td>0.052990</td>\n",
       "      <td>0.045000</td>\n",
       "      <td>8016.000000</td>\n",
       "    </tr>\n",
       "    <tr>\n",
       "      <th>50%</th>\n",
       "      <td>12.500000</td>\n",
       "      <td>0.223000</td>\n",
       "      <td>0.263120</td>\n",
       "      <td>0.223000</td>\n",
       "      <td>8760.000000</td>\n",
       "    </tr>\n",
       "    <tr>\n",
       "      <th>75%</th>\n",
       "      <td>18.250000</td>\n",
       "      <td>0.885000</td>\n",
       "      <td>1.039192</td>\n",
       "      <td>0.885000</td>\n",
       "      <td>8760.000000</td>\n",
       "    </tr>\n",
       "    <tr>\n",
       "      <th>max</th>\n",
       "      <td>24.000000</td>\n",
       "      <td>46.653000</td>\n",
       "      <td>55.936950</td>\n",
       "      <td>46.653000</td>\n",
       "      <td>8760.000000</td>\n",
       "    </tr>\n",
       "  </tbody>\n",
       "</table>\n",
       "</div>"
      ],
      "text/plain": [
       "            --Hora--     --Active--  --Active With Transport Loss--  \\\n",
       "count  876240.000000  876240.000000                   876240.000000   \n",
       "mean       12.500000       0.826272                        0.961889   \n",
       "std         6.922191       1.616108                        1.876204   \n",
       "min         1.000000       0.000000                        0.000000   \n",
       "25%         6.750000       0.045000                        0.052990   \n",
       "50%        12.500000       0.223000                        0.263120   \n",
       "75%        18.250000       0.885000                        1.039192   \n",
       "max        24.000000      46.653000                       55.936950   \n",
       "\n",
       "       --Active With Transform Loss--        NºHoras  \n",
       "count                   876240.000000  876240.000000  \n",
       "mean                         0.826271    8521.781430  \n",
       "std                          1.616109     347.111893  \n",
       "min                          0.000000    8016.000000  \n",
       "25%                          0.045000    8016.000000  \n",
       "50%                          0.223000    8760.000000  \n",
       "75%                          0.885000    8760.000000  \n",
       "max                         46.653000    8760.000000  "
      ]
     },
     "execution_count": 130,
     "metadata": {},
     "output_type": "execute_result"
    }
   ],
   "source": [
    "Medidas.describe()"
   ]
  },
  {
   "cell_type": "code",
   "execution_count": 131,
   "metadata": {},
   "outputs": [
    {
     "data": {
      "text/html": [
       "<div>\n",
       "<style scoped>\n",
       "    .dataframe tbody tr th:only-of-type {\n",
       "        vertical-align: middle;\n",
       "    }\n",
       "\n",
       "    .dataframe tbody tr th {\n",
       "        vertical-align: top;\n",
       "    }\n",
       "\n",
       "    .dataframe thead th {\n",
       "        text-align: right;\n",
       "    }\n",
       "</style>\n",
       "<table border=\"1\" class=\"dataframe\">\n",
       "  <thead>\n",
       "    <tr style=\"text-align: right;\">\n",
       "      <th></th>\n",
       "      <th>--Cups20--</th>\n",
       "      <th>--Line--</th>\n",
       "      <th>--Fecha--</th>\n",
       "      <th>--Hora--</th>\n",
       "      <th>--Active--</th>\n",
       "      <th>--Active With Transport Loss--</th>\n",
       "      <th>--Active With Transform Loss--</th>\n",
       "      <th>NºHoras</th>\n",
       "    </tr>\n",
       "  </thead>\n",
       "  <tbody>\n",
       "    <tr>\n",
       "      <th>60214</th>\n",
       "      <td>ES0021000000930682DF</td>\n",
       "      <td>0P</td>\n",
       "      <td>2017-01-01</td>\n",
       "      <td>1</td>\n",
       "      <td>0.225</td>\n",
       "      <td>0.28778</td>\n",
       "      <td>0.225</td>\n",
       "      <td>8760</td>\n",
       "    </tr>\n",
       "    <tr>\n",
       "      <th>60215</th>\n",
       "      <td>ES0021000000930682DF</td>\n",
       "      <td>0P</td>\n",
       "      <td>2017-01-01</td>\n",
       "      <td>2</td>\n",
       "      <td>0.197</td>\n",
       "      <td>0.25216</td>\n",
       "      <td>0.197</td>\n",
       "      <td>8760</td>\n",
       "    </tr>\n",
       "    <tr>\n",
       "      <th>60216</th>\n",
       "      <td>ES0021000000930682DF</td>\n",
       "      <td>0P</td>\n",
       "      <td>2017-01-01</td>\n",
       "      <td>3</td>\n",
       "      <td>0.201</td>\n",
       "      <td>0.25728</td>\n",
       "      <td>0.201</td>\n",
       "      <td>8760</td>\n",
       "    </tr>\n",
       "    <tr>\n",
       "      <th>60217</th>\n",
       "      <td>ES0021000000930682DF</td>\n",
       "      <td>0P</td>\n",
       "      <td>2017-01-01</td>\n",
       "      <td>4</td>\n",
       "      <td>0.201</td>\n",
       "      <td>0.25728</td>\n",
       "      <td>0.201</td>\n",
       "      <td>8760</td>\n",
       "    </tr>\n",
       "    <tr>\n",
       "      <th>60218</th>\n",
       "      <td>ES0021000000930682DF</td>\n",
       "      <td>0P</td>\n",
       "      <td>2017-01-01</td>\n",
       "      <td>5</td>\n",
       "      <td>0.198</td>\n",
       "      <td>0.25344</td>\n",
       "      <td>0.198</td>\n",
       "      <td>8760</td>\n",
       "    </tr>\n",
       "  </tbody>\n",
       "</table>\n",
       "</div>"
      ],
      "text/plain": [
       "                 --Cups20-- --Line--  --Fecha--  --Hora--  --Active--  \\\n",
       "60214  ES0021000000930682DF       0P 2017-01-01         1       0.225   \n",
       "60215  ES0021000000930682DF       0P 2017-01-01         2       0.197   \n",
       "60216  ES0021000000930682DF       0P 2017-01-01         3       0.201   \n",
       "60217  ES0021000000930682DF       0P 2017-01-01         4       0.201   \n",
       "60218  ES0021000000930682DF       0P 2017-01-01         5       0.198   \n",
       "\n",
       "       --Active With Transport Loss--  --Active With Transform Loss--  NºHoras  \n",
       "60214                         0.28778                           0.225     8760  \n",
       "60215                         0.25216                           0.197     8760  \n",
       "60216                         0.25728                           0.201     8760  \n",
       "60217                         0.25728                           0.201     8760  \n",
       "60218                         0.25344                           0.198     8760  "
      ]
     },
     "execution_count": 131,
     "metadata": {},
     "output_type": "execute_result"
    }
   ],
   "source": [
    "Medidas.head()"
   ]
  },
  {
   "cell_type": "markdown",
   "metadata": {},
   "source": [
    "### Formato\n",
    "\n",
    "Damos un formato mas amigable al fichero cambiando los nombres de las columnas y dando formato fecha correcto.\n"
   ]
  },
  {
   "cell_type": "code",
   "execution_count": 132,
   "metadata": {},
   "outputs": [],
   "source": [
    "Medidas = Medidas.rename(columns={'--Cups20--' : 'Cups20',\n",
    "                                  '--Line--' : 'Line', \n",
    "                                  '--Fecha--' : 'Fecha', \n",
    "                                  '--Hora--' : 'Hora', \n",
    "                                  '--Active--' : 'Active' , \n",
    "                                  '--Active With Transport Loss--' : 'Active With Transport Loss', \n",
    "                                  '--Active With Transform Loss--' : 'Active With Transform Loss'})"
   ]
  },
  {
   "cell_type": "code",
   "execution_count": 133,
   "metadata": {},
   "outputs": [
    {
     "data": {
      "text/html": [
       "<div>\n",
       "<style scoped>\n",
       "    .dataframe tbody tr th:only-of-type {\n",
       "        vertical-align: middle;\n",
       "    }\n",
       "\n",
       "    .dataframe tbody tr th {\n",
       "        vertical-align: top;\n",
       "    }\n",
       "\n",
       "    .dataframe thead th {\n",
       "        text-align: right;\n",
       "    }\n",
       "</style>\n",
       "<table border=\"1\" class=\"dataframe\">\n",
       "  <thead>\n",
       "    <tr style=\"text-align: right;\">\n",
       "      <th></th>\n",
       "      <th>Cups20</th>\n",
       "      <th>Line</th>\n",
       "      <th>Fecha</th>\n",
       "      <th>Hora</th>\n",
       "      <th>Active</th>\n",
       "      <th>Active With Transport Loss</th>\n",
       "      <th>Active With Transform Loss</th>\n",
       "      <th>NºHoras</th>\n",
       "    </tr>\n",
       "  </thead>\n",
       "  <tbody>\n",
       "    <tr>\n",
       "      <th>60214</th>\n",
       "      <td>ES0021000000930682DF</td>\n",
       "      <td>0P</td>\n",
       "      <td>2017-01-01</td>\n",
       "      <td>1</td>\n",
       "      <td>0.225</td>\n",
       "      <td>0.28778</td>\n",
       "      <td>0.225</td>\n",
       "      <td>8760</td>\n",
       "    </tr>\n",
       "    <tr>\n",
       "      <th>60215</th>\n",
       "      <td>ES0021000000930682DF</td>\n",
       "      <td>0P</td>\n",
       "      <td>2017-01-01</td>\n",
       "      <td>2</td>\n",
       "      <td>0.197</td>\n",
       "      <td>0.25216</td>\n",
       "      <td>0.197</td>\n",
       "      <td>8760</td>\n",
       "    </tr>\n",
       "    <tr>\n",
       "      <th>60216</th>\n",
       "      <td>ES0021000000930682DF</td>\n",
       "      <td>0P</td>\n",
       "      <td>2017-01-01</td>\n",
       "      <td>3</td>\n",
       "      <td>0.201</td>\n",
       "      <td>0.25728</td>\n",
       "      <td>0.201</td>\n",
       "      <td>8760</td>\n",
       "    </tr>\n",
       "    <tr>\n",
       "      <th>60217</th>\n",
       "      <td>ES0021000000930682DF</td>\n",
       "      <td>0P</td>\n",
       "      <td>2017-01-01</td>\n",
       "      <td>4</td>\n",
       "      <td>0.201</td>\n",
       "      <td>0.25728</td>\n",
       "      <td>0.201</td>\n",
       "      <td>8760</td>\n",
       "    </tr>\n",
       "    <tr>\n",
       "      <th>60218</th>\n",
       "      <td>ES0021000000930682DF</td>\n",
       "      <td>0P</td>\n",
       "      <td>2017-01-01</td>\n",
       "      <td>5</td>\n",
       "      <td>0.198</td>\n",
       "      <td>0.25344</td>\n",
       "      <td>0.198</td>\n",
       "      <td>8760</td>\n",
       "    </tr>\n",
       "  </tbody>\n",
       "</table>\n",
       "</div>"
      ],
      "text/plain": [
       "                     Cups20 Line      Fecha  Hora  Active  \\\n",
       "60214  ES0021000000930682DF   0P 2017-01-01     1   0.225   \n",
       "60215  ES0021000000930682DF   0P 2017-01-01     2   0.197   \n",
       "60216  ES0021000000930682DF   0P 2017-01-01     3   0.201   \n",
       "60217  ES0021000000930682DF   0P 2017-01-01     4   0.201   \n",
       "60218  ES0021000000930682DF   0P 2017-01-01     5   0.198   \n",
       "\n",
       "       Active With Transport Loss  Active With Transform Loss  NºHoras  \n",
       "60214                     0.28778                       0.225     8760  \n",
       "60215                     0.25216                       0.197     8760  \n",
       "60216                     0.25728                       0.201     8760  \n",
       "60217                     0.25728                       0.201     8760  \n",
       "60218                     0.25344                       0.198     8760  "
      ]
     },
     "execution_count": 133,
     "metadata": {},
     "output_type": "execute_result"
    }
   ],
   "source": [
    "Medidas.head(5)"
   ]
  },
  {
   "cell_type": "code",
   "execution_count": 134,
   "metadata": {},
   "outputs": [],
   "source": [
    "Medidas['Fecha']=pd.to_datetime(Medidas['Fecha'], yearfirst=True,format='%Y-%m-%d')\n"
   ]
  },
  {
   "cell_type": "code",
   "execution_count": 135,
   "metadata": {},
   "outputs": [
    {
     "data": {
      "text/plain": [
       "Cups20                                object\n",
       "Line                                  object\n",
       "Fecha                         datetime64[ns]\n",
       "Hora                                   int64\n",
       "Active                               float64\n",
       "Active With Transport Loss           float64\n",
       "Active With Transform Loss           float64\n",
       "NºHoras                                int64\n",
       "dtype: object"
      ]
     },
     "execution_count": 135,
     "metadata": {},
     "output_type": "execute_result"
    }
   ],
   "source": [
    "Medidas.dtypes"
   ]
  },
  {
   "cell_type": "code",
   "execution_count": 136,
   "metadata": {},
   "outputs": [
    {
     "data": {
      "text/html": [
       "<div>\n",
       "<style scoped>\n",
       "    .dataframe tbody tr th:only-of-type {\n",
       "        vertical-align: middle;\n",
       "    }\n",
       "\n",
       "    .dataframe tbody tr th {\n",
       "        vertical-align: top;\n",
       "    }\n",
       "\n",
       "    .dataframe thead th {\n",
       "        text-align: right;\n",
       "    }\n",
       "</style>\n",
       "<table border=\"1\" class=\"dataframe\">\n",
       "  <thead>\n",
       "    <tr style=\"text-align: right;\">\n",
       "      <th></th>\n",
       "      <th>Cups20</th>\n",
       "      <th>Line</th>\n",
       "      <th>Fecha</th>\n",
       "      <th>Hora</th>\n",
       "      <th>Active</th>\n",
       "      <th>Active With Transport Loss</th>\n",
       "      <th>Active With Transform Loss</th>\n",
       "      <th>NºHoras</th>\n",
       "    </tr>\n",
       "  </thead>\n",
       "  <tbody>\n",
       "    <tr>\n",
       "      <th>60214</th>\n",
       "      <td>ES0021000000930682DF</td>\n",
       "      <td>0P</td>\n",
       "      <td>2017-01-01</td>\n",
       "      <td>1</td>\n",
       "      <td>0.225</td>\n",
       "      <td>0.28778</td>\n",
       "      <td>0.225</td>\n",
       "      <td>8760</td>\n",
       "    </tr>\n",
       "    <tr>\n",
       "      <th>60215</th>\n",
       "      <td>ES0021000000930682DF</td>\n",
       "      <td>0P</td>\n",
       "      <td>2017-01-01</td>\n",
       "      <td>2</td>\n",
       "      <td>0.197</td>\n",
       "      <td>0.25216</td>\n",
       "      <td>0.197</td>\n",
       "      <td>8760</td>\n",
       "    </tr>\n",
       "    <tr>\n",
       "      <th>60216</th>\n",
       "      <td>ES0021000000930682DF</td>\n",
       "      <td>0P</td>\n",
       "      <td>2017-01-01</td>\n",
       "      <td>3</td>\n",
       "      <td>0.201</td>\n",
       "      <td>0.25728</td>\n",
       "      <td>0.201</td>\n",
       "      <td>8760</td>\n",
       "    </tr>\n",
       "    <tr>\n",
       "      <th>60217</th>\n",
       "      <td>ES0021000000930682DF</td>\n",
       "      <td>0P</td>\n",
       "      <td>2017-01-01</td>\n",
       "      <td>4</td>\n",
       "      <td>0.201</td>\n",
       "      <td>0.25728</td>\n",
       "      <td>0.201</td>\n",
       "      <td>8760</td>\n",
       "    </tr>\n",
       "    <tr>\n",
       "      <th>60218</th>\n",
       "      <td>ES0021000000930682DF</td>\n",
       "      <td>0P</td>\n",
       "      <td>2017-01-01</td>\n",
       "      <td>5</td>\n",
       "      <td>0.198</td>\n",
       "      <td>0.25344</td>\n",
       "      <td>0.198</td>\n",
       "      <td>8760</td>\n",
       "    </tr>\n",
       "  </tbody>\n",
       "</table>\n",
       "</div>"
      ],
      "text/plain": [
       "                     Cups20 Line      Fecha  Hora  Active  \\\n",
       "60214  ES0021000000930682DF   0P 2017-01-01     1   0.225   \n",
       "60215  ES0021000000930682DF   0P 2017-01-01     2   0.197   \n",
       "60216  ES0021000000930682DF   0P 2017-01-01     3   0.201   \n",
       "60217  ES0021000000930682DF   0P 2017-01-01     4   0.201   \n",
       "60218  ES0021000000930682DF   0P 2017-01-01     5   0.198   \n",
       "\n",
       "       Active With Transport Loss  Active With Transform Loss  NºHoras  \n",
       "60214                     0.28778                       0.225     8760  \n",
       "60215                     0.25216                       0.197     8760  \n",
       "60216                     0.25728                       0.201     8760  \n",
       "60217                     0.25728                       0.201     8760  \n",
       "60218                     0.25344                       0.198     8760  "
      ]
     },
     "execution_count": 136,
     "metadata": {},
     "output_type": "execute_result"
    }
   ],
   "source": [
    "Medidas.head(5)"
   ]
  },
  {
   "cell_type": "markdown",
   "metadata": {},
   "source": [
    "# Contratos\n",
    "\n",
    "A este fichero de medidas le falta información como la provincia por cliente, la tarifa contratada, o la potencia. Todos estos datos los conseguimos del excel de contratos que vamos a unir a este fichero según el CUPS."
   ]
  },
  {
   "cell_type": "code",
   "execution_count": 137,
   "metadata": {},
   "outputs": [
    {
     "data": {
      "text/html": [
       "<div>\n",
       "<style scoped>\n",
       "    .dataframe tbody tr th:only-of-type {\n",
       "        vertical-align: middle;\n",
       "    }\n",
       "\n",
       "    .dataframe tbody tr th {\n",
       "        vertical-align: top;\n",
       "    }\n",
       "\n",
       "    .dataframe thead th {\n",
       "        text-align: right;\n",
       "    }\n",
       "</style>\n",
       "<table border=\"1\" class=\"dataframe\">\n",
       "  <thead>\n",
       "    <tr style=\"text-align: right;\">\n",
       "      <th></th>\n",
       "      <th>CUPS 20</th>\n",
       "      <th>Tarifa</th>\n",
       "      <th>Provincia</th>\n",
       "      <th>Potencia</th>\n",
       "    </tr>\n",
       "  </thead>\n",
       "  <tbody>\n",
       "    <tr>\n",
       "      <th>0</th>\n",
       "      <td>ES0021000000472013PG</td>\n",
       "      <td>2.0.A</td>\n",
       "      <td>Alicante</td>\n",
       "      <td>6.60</td>\n",
       "    </tr>\n",
       "    <tr>\n",
       "      <th>1</th>\n",
       "      <td>ES0021000000951307DR</td>\n",
       "      <td>2.1.A</td>\n",
       "      <td>Alicante</td>\n",
       "      <td>13.20</td>\n",
       "    </tr>\n",
       "    <tr>\n",
       "      <th>2</th>\n",
       "      <td>ES0021000003992036XS</td>\n",
       "      <td>2.0.A</td>\n",
       "      <td>Madrid</td>\n",
       "      <td>3.30</td>\n",
       "    </tr>\n",
       "    <tr>\n",
       "      <th>3</th>\n",
       "      <td>ES0021000004049366LY</td>\n",
       "      <td>2.0.A</td>\n",
       "      <td>Madrid</td>\n",
       "      <td>3.45</td>\n",
       "    </tr>\n",
       "    <tr>\n",
       "      <th>4</th>\n",
       "      <td>ES0021000004146547NN</td>\n",
       "      <td>2.0.A</td>\n",
       "      <td>Madrid</td>\n",
       "      <td>3.45</td>\n",
       "    </tr>\n",
       "  </tbody>\n",
       "</table>\n",
       "</div>"
      ],
      "text/plain": [
       "                CUPS 20 Tarifa Provincia  Potencia \n",
       "0  ES0021000000472013PG  2.0.A  Alicante       6.60\n",
       "1  ES0021000000951307DR  2.1.A  Alicante      13.20\n",
       "2  ES0021000003992036XS  2.0.A    Madrid       3.30\n",
       "3  ES0021000004049366LY  2.0.A    Madrid       3.45\n",
       "4  ES0021000004146547NN  2.0.A    Madrid       3.45"
      ]
     },
     "execution_count": 137,
     "metadata": {},
     "output_type": "execute_result"
    }
   ],
   "source": [
    "contratos = pd.read_excel('./data/Contratos.xlsx')\n",
    "contratos.head(5)"
   ]
  },
  {
   "cell_type": "code",
   "execution_count": 138,
   "metadata": {},
   "outputs": [
    {
     "data": {
      "text/html": [
       "<div>\n",
       "<style scoped>\n",
       "    .dataframe tbody tr th:only-of-type {\n",
       "        vertical-align: middle;\n",
       "    }\n",
       "\n",
       "    .dataframe tbody tr th {\n",
       "        vertical-align: top;\n",
       "    }\n",
       "\n",
       "    .dataframe thead th {\n",
       "        text-align: right;\n",
       "    }\n",
       "</style>\n",
       "<table border=\"1\" class=\"dataframe\">\n",
       "  <thead>\n",
       "    <tr style=\"text-align: right;\">\n",
       "      <th></th>\n",
       "      <th>Cups20</th>\n",
       "      <th>Tarifa</th>\n",
       "      <th>Provincia</th>\n",
       "      <th>Potencia</th>\n",
       "    </tr>\n",
       "  </thead>\n",
       "  <tbody>\n",
       "    <tr>\n",
       "      <th>0</th>\n",
       "      <td>ES0021000000472013PG</td>\n",
       "      <td>2.0.A</td>\n",
       "      <td>Alicante</td>\n",
       "      <td>6.60</td>\n",
       "    </tr>\n",
       "    <tr>\n",
       "      <th>1</th>\n",
       "      <td>ES0021000000951307DR</td>\n",
       "      <td>2.1.A</td>\n",
       "      <td>Alicante</td>\n",
       "      <td>13.20</td>\n",
       "    </tr>\n",
       "    <tr>\n",
       "      <th>2</th>\n",
       "      <td>ES0021000003992036XS</td>\n",
       "      <td>2.0.A</td>\n",
       "      <td>Madrid</td>\n",
       "      <td>3.30</td>\n",
       "    </tr>\n",
       "    <tr>\n",
       "      <th>3</th>\n",
       "      <td>ES0021000004049366LY</td>\n",
       "      <td>2.0.A</td>\n",
       "      <td>Madrid</td>\n",
       "      <td>3.45</td>\n",
       "    </tr>\n",
       "    <tr>\n",
       "      <th>4</th>\n",
       "      <td>ES0021000004146547NN</td>\n",
       "      <td>2.0.A</td>\n",
       "      <td>Madrid</td>\n",
       "      <td>3.45</td>\n",
       "    </tr>\n",
       "  </tbody>\n",
       "</table>\n",
       "</div>"
      ],
      "text/plain": [
       "                 Cups20 Tarifa Provincia  Potencia \n",
       "0  ES0021000000472013PG  2.0.A  Alicante       6.60\n",
       "1  ES0021000000951307DR  2.1.A  Alicante      13.20\n",
       "2  ES0021000003992036XS  2.0.A    Madrid       3.30\n",
       "3  ES0021000004049366LY  2.0.A    Madrid       3.45\n",
       "4  ES0021000004146547NN  2.0.A    Madrid       3.45"
      ]
     },
     "execution_count": 138,
     "metadata": {},
     "output_type": "execute_result"
    }
   ],
   "source": [
    "contratos = contratos.rename(columns={'CUPS 20' : 'Cups20'})\n",
    "contratos.head(5)"
   ]
  },
  {
   "cell_type": "code",
   "execution_count": 139,
   "metadata": {},
   "outputs": [
    {
     "data": {
      "text/plain": [
       "(876240, 8)"
      ]
     },
     "execution_count": 139,
     "metadata": {},
     "output_type": "execute_result"
    }
   ],
   "source": [
    "Medidas.shape"
   ]
  },
  {
   "cell_type": "markdown",
   "metadata": {},
   "source": [
    "Comprobamos que despues del merge tengo las mismas líneas que tenía antes, y que no tengo ningún valor NaN"
   ]
  },
  {
   "cell_type": "code",
   "execution_count": 140,
   "metadata": {},
   "outputs": [],
   "source": [
    "Medidas = Medidas.merge(contratos, on='Cups20', how='left')\n"
   ]
  },
  {
   "cell_type": "code",
   "execution_count": 141,
   "metadata": {},
   "outputs": [
    {
     "data": {
      "text/plain": [
       "(876240, 11)"
      ]
     },
     "execution_count": 141,
     "metadata": {},
     "output_type": "execute_result"
    }
   ],
   "source": [
    "Medidas.shape"
   ]
  },
  {
   "cell_type": "code",
   "execution_count": 142,
   "metadata": {},
   "outputs": [
    {
     "data": {
      "text/plain": [
       "False"
      ]
     },
     "execution_count": 142,
     "metadata": {},
     "output_type": "execute_result"
    }
   ],
   "source": [
    "Medidas.isnull().any().any()"
   ]
  },
  {
   "cell_type": "markdown",
   "metadata": {},
   "source": [
    "\n",
    "### Limpieza de datos\n",
    "\n",
    "Vamos a ver las columnas que tiene el data frame y vamos a quedarnos solo con las necesarias para el analisis.\n"
   ]
  },
  {
   "cell_type": "code",
   "execution_count": 143,
   "metadata": {},
   "outputs": [
    {
     "data": {
      "text/plain": [
       "Index(['Cups20', 'Line', 'Fecha', 'Hora', 'Active',\n",
       "       'Active With Transport Loss', 'Active With Transform Loss', 'NºHoras',\n",
       "       'Tarifa', 'Provincia', 'Potencia '],\n",
       "      dtype='object')"
      ]
     },
     "execution_count": 143,
     "metadata": {},
     "output_type": "execute_result"
    }
   ],
   "source": [
    "Medidas.columns"
   ]
  },
  {
   "cell_type": "code",
   "execution_count": 144,
   "metadata": {},
   "outputs": [
    {
     "data": {
      "text/html": [
       "<div>\n",
       "<style scoped>\n",
       "    .dataframe tbody tr th:only-of-type {\n",
       "        vertical-align: middle;\n",
       "    }\n",
       "\n",
       "    .dataframe tbody tr th {\n",
       "        vertical-align: top;\n",
       "    }\n",
       "\n",
       "    .dataframe thead th {\n",
       "        text-align: right;\n",
       "    }\n",
       "</style>\n",
       "<table border=\"1\" class=\"dataframe\">\n",
       "  <thead>\n",
       "    <tr style=\"text-align: right;\">\n",
       "      <th></th>\n",
       "      <th>Provincia</th>\n",
       "      <th>Cups20</th>\n",
       "      <th>Tarifa</th>\n",
       "      <th>Fecha</th>\n",
       "      <th>Hora</th>\n",
       "      <th>Active</th>\n",
       "      <th>NºHoras</th>\n",
       "    </tr>\n",
       "  </thead>\n",
       "  <tbody>\n",
       "    <tr>\n",
       "      <th>0</th>\n",
       "      <td>Alicante</td>\n",
       "      <td>ES0021000000930682DF</td>\n",
       "      <td>2.0.A</td>\n",
       "      <td>2017-01-01</td>\n",
       "      <td>1</td>\n",
       "      <td>0.225</td>\n",
       "      <td>8760</td>\n",
       "    </tr>\n",
       "    <tr>\n",
       "      <th>1</th>\n",
       "      <td>Alicante</td>\n",
       "      <td>ES0021000000930682DF</td>\n",
       "      <td>2.0.A</td>\n",
       "      <td>2017-01-01</td>\n",
       "      <td>2</td>\n",
       "      <td>0.197</td>\n",
       "      <td>8760</td>\n",
       "    </tr>\n",
       "    <tr>\n",
       "      <th>2</th>\n",
       "      <td>Alicante</td>\n",
       "      <td>ES0021000000930682DF</td>\n",
       "      <td>2.0.A</td>\n",
       "      <td>2017-01-01</td>\n",
       "      <td>3</td>\n",
       "      <td>0.201</td>\n",
       "      <td>8760</td>\n",
       "    </tr>\n",
       "    <tr>\n",
       "      <th>3</th>\n",
       "      <td>Alicante</td>\n",
       "      <td>ES0021000000930682DF</td>\n",
       "      <td>2.0.A</td>\n",
       "      <td>2017-01-01</td>\n",
       "      <td>4</td>\n",
       "      <td>0.201</td>\n",
       "      <td>8760</td>\n",
       "    </tr>\n",
       "    <tr>\n",
       "      <th>4</th>\n",
       "      <td>Alicante</td>\n",
       "      <td>ES0021000000930682DF</td>\n",
       "      <td>2.0.A</td>\n",
       "      <td>2017-01-01</td>\n",
       "      <td>5</td>\n",
       "      <td>0.198</td>\n",
       "      <td>8760</td>\n",
       "    </tr>\n",
       "  </tbody>\n",
       "</table>\n",
       "</div>"
      ],
      "text/plain": [
       "  Provincia                Cups20 Tarifa      Fecha  Hora  Active  NºHoras\n",
       "0  Alicante  ES0021000000930682DF  2.0.A 2017-01-01     1   0.225     8760\n",
       "1  Alicante  ES0021000000930682DF  2.0.A 2017-01-01     2   0.197     8760\n",
       "2  Alicante  ES0021000000930682DF  2.0.A 2017-01-01     3   0.201     8760\n",
       "3  Alicante  ES0021000000930682DF  2.0.A 2017-01-01     4   0.201     8760\n",
       "4  Alicante  ES0021000000930682DF  2.0.A 2017-01-01     5   0.198     8760"
      ]
     },
     "execution_count": 144,
     "metadata": {},
     "output_type": "execute_result"
    }
   ],
   "source": [
    "Medidas = Medidas[[ 'Provincia', 'Cups20', 'Tarifa','Fecha', 'Hora', 'Active', 'NºHoras']]\n",
    "Medidas.head(5)"
   ]
  },
  {
   "cell_type": "markdown",
   "metadata": {},
   "source": [
    "Voy a crear una sola fila de Fecha_Hora y voy a crear ademas una columna con el año, y con el mes. Para esto voy a guardar el fichero y lo voy a leer parseando la fecha para que me la una automaticamente."
   ]
  },
  {
   "cell_type": "code",
   "execution_count": 145,
   "metadata": {},
   "outputs": [],
   "source": [
    "Medidas.to_csv('Medidas.csv')"
   ]
  },
  {
   "cell_type": "code",
   "execution_count": 155,
   "metadata": {},
   "outputs": [],
   "source": [
    "#Medidas_p = pd.read_csv('./Medidas.csv', parse_dates=[['Fecha', 'Hora']]) "
   ]
  },
  {
   "cell_type": "code",
   "execution_count": 156,
   "metadata": {},
   "outputs": [
    {
     "data": {
      "text/html": [
       "<div>\n",
       "<style scoped>\n",
       "    .dataframe tbody tr th:only-of-type {\n",
       "        vertical-align: middle;\n",
       "    }\n",
       "\n",
       "    .dataframe tbody tr th {\n",
       "        vertical-align: top;\n",
       "    }\n",
       "\n",
       "    .dataframe thead th {\n",
       "        text-align: right;\n",
       "    }\n",
       "</style>\n",
       "<table border=\"1\" class=\"dataframe\">\n",
       "  <thead>\n",
       "    <tr style=\"text-align: right;\">\n",
       "      <th></th>\n",
       "      <th>Fecha_Hora</th>\n",
       "      <th>Unnamed: 0</th>\n",
       "      <th>Provincia</th>\n",
       "      <th>Cups20</th>\n",
       "      <th>Tarifa</th>\n",
       "      <th>Active</th>\n",
       "      <th>NºHoras</th>\n",
       "    </tr>\n",
       "  </thead>\n",
       "  <tbody>\n",
       "    <tr>\n",
       "      <th>0</th>\n",
       "      <td>2017-01-01 1</td>\n",
       "      <td>0</td>\n",
       "      <td>Alicante</td>\n",
       "      <td>ES0021000000930682DF</td>\n",
       "      <td>2.0.A</td>\n",
       "      <td>0.225</td>\n",
       "      <td>8760</td>\n",
       "    </tr>\n",
       "    <tr>\n",
       "      <th>1</th>\n",
       "      <td>2017-01-01 2</td>\n",
       "      <td>1</td>\n",
       "      <td>Alicante</td>\n",
       "      <td>ES0021000000930682DF</td>\n",
       "      <td>2.0.A</td>\n",
       "      <td>0.197</td>\n",
       "      <td>8760</td>\n",
       "    </tr>\n",
       "    <tr>\n",
       "      <th>2</th>\n",
       "      <td>2017-01-01 3</td>\n",
       "      <td>2</td>\n",
       "      <td>Alicante</td>\n",
       "      <td>ES0021000000930682DF</td>\n",
       "      <td>2.0.A</td>\n",
       "      <td>0.201</td>\n",
       "      <td>8760</td>\n",
       "    </tr>\n",
       "    <tr>\n",
       "      <th>3</th>\n",
       "      <td>2017-01-01 4</td>\n",
       "      <td>3</td>\n",
       "      <td>Alicante</td>\n",
       "      <td>ES0021000000930682DF</td>\n",
       "      <td>2.0.A</td>\n",
       "      <td>0.201</td>\n",
       "      <td>8760</td>\n",
       "    </tr>\n",
       "    <tr>\n",
       "      <th>4</th>\n",
       "      <td>2017-01-01 5</td>\n",
       "      <td>4</td>\n",
       "      <td>Alicante</td>\n",
       "      <td>ES0021000000930682DF</td>\n",
       "      <td>2.0.A</td>\n",
       "      <td>0.198</td>\n",
       "      <td>8760</td>\n",
       "    </tr>\n",
       "  </tbody>\n",
       "</table>\n",
       "</div>"
      ],
      "text/plain": [
       "     Fecha_Hora  Unnamed: 0 Provincia                Cups20 Tarifa  Active  \\\n",
       "0  2017-01-01 1           0  Alicante  ES0021000000930682DF  2.0.A   0.225   \n",
       "1  2017-01-01 2           1  Alicante  ES0021000000930682DF  2.0.A   0.197   \n",
       "2  2017-01-01 3           2  Alicante  ES0021000000930682DF  2.0.A   0.201   \n",
       "3  2017-01-01 4           3  Alicante  ES0021000000930682DF  2.0.A   0.201   \n",
       "4  2017-01-01 5           4  Alicante  ES0021000000930682DF  2.0.A   0.198   \n",
       "\n",
       "   NºHoras  \n",
       "0     8760  \n",
       "1     8760  \n",
       "2     8760  \n",
       "3     8760  \n",
       "4     8760  "
      ]
     },
     "execution_count": 156,
     "metadata": {},
     "output_type": "execute_result"
    }
   ],
   "source": [
    "#Medidas_p.head()"
   ]
  },
  {
   "cell_type": "code",
   "execution_count": 153,
   "metadata": {},
   "outputs": [
    {
     "data": {
      "text/plain": [
       "Fecha_Hora     object\n",
       "Unnamed: 0      int64\n",
       "Provincia      object\n",
       "Cups20         object\n",
       "Tarifa         object\n",
       "Active        float64\n",
       "NºHoras         int64\n",
       "dtype: object"
      ]
     },
     "execution_count": 153,
     "metadata": {},
     "output_type": "execute_result"
    }
   ],
   "source": [
    "#Medidas_p.dtypes"
   ]
  },
  {
   "cell_type": "code",
   "execution_count": 150,
   "metadata": {},
   "outputs": [
    {
     "ename": "ValueError",
     "evalue": "time data 2017-01-01 1 doesn't match format specified",
     "output_type": "error",
     "traceback": [
      "\u001b[0;31m---------------------------------------------------------------------------\u001b[0m",
      "\u001b[0;31mTypeError\u001b[0m                                 Traceback (most recent call last)",
      "\u001b[0;32m/anaconda3/lib/python3.6/site-packages/pandas/core/tools/datetimes.py\u001b[0m in \u001b[0;36m_convert_listlike\u001b[0;34m(arg, box, format, name, tz)\u001b[0m\n\u001b[1;32m    376\u001b[0m             \u001b[0;32mtry\u001b[0m\u001b[0;34m:\u001b[0m\u001b[0;34m\u001b[0m\u001b[0;34m\u001b[0m\u001b[0m\n\u001b[0;32m--> 377\u001b[0;31m                 \u001b[0mvalues\u001b[0m\u001b[0;34m,\u001b[0m \u001b[0mtz\u001b[0m \u001b[0;34m=\u001b[0m \u001b[0mconversion\u001b[0m\u001b[0;34m.\u001b[0m\u001b[0mdatetime_to_datetime64\u001b[0m\u001b[0;34m(\u001b[0m\u001b[0marg\u001b[0m\u001b[0;34m)\u001b[0m\u001b[0;34m\u001b[0m\u001b[0;34m\u001b[0m\u001b[0m\n\u001b[0m\u001b[1;32m    378\u001b[0m                 \u001b[0;32mreturn\u001b[0m \u001b[0mDatetimeIndex\u001b[0m\u001b[0;34m.\u001b[0m\u001b[0m_simple_new\u001b[0m\u001b[0;34m(\u001b[0m\u001b[0mvalues\u001b[0m\u001b[0;34m,\u001b[0m \u001b[0mname\u001b[0m\u001b[0;34m=\u001b[0m\u001b[0mname\u001b[0m\u001b[0;34m,\u001b[0m \u001b[0mtz\u001b[0m\u001b[0;34m=\u001b[0m\u001b[0mtz\u001b[0m\u001b[0;34m)\u001b[0m\u001b[0;34m\u001b[0m\u001b[0;34m\u001b[0m\u001b[0m\n",
      "\u001b[0;32mpandas/_libs/tslibs/conversion.pyx\u001b[0m in \u001b[0;36mpandas._libs.tslibs.conversion.datetime_to_datetime64\u001b[0;34m()\u001b[0m\n",
      "\u001b[0;31mTypeError\u001b[0m: Unrecognized value type: <class 'str'>",
      "\nDuring handling of the above exception, another exception occurred:\n",
      "\u001b[0;31mValueError\u001b[0m                                Traceback (most recent call last)",
      "\u001b[0;32m<ipython-input-150-88e40eee2593>\u001b[0m in \u001b[0;36m<module>\u001b[0;34m()\u001b[0m\n\u001b[0;32m----> 1\u001b[0;31m \u001b[0mMedidas_p\u001b[0m\u001b[0;34m[\u001b[0m\u001b[0;34m'Fecha_Hora'\u001b[0m\u001b[0;34m]\u001b[0m\u001b[0;34m=\u001b[0m\u001b[0mpd\u001b[0m\u001b[0;34m.\u001b[0m\u001b[0mto_datetime\u001b[0m\u001b[0;34m(\u001b[0m\u001b[0mMedidas_p\u001b[0m\u001b[0;34m[\u001b[0m\u001b[0;34m'Fecha_Hora'\u001b[0m\u001b[0;34m]\u001b[0m\u001b[0;34m,\u001b[0m \u001b[0myearfirst\u001b[0m\u001b[0;34m=\u001b[0m\u001b[0;32mTrue\u001b[0m\u001b[0;34m,\u001b[0m\u001b[0mformat\u001b[0m\u001b[0;34m=\u001b[0m\u001b[0;34m'%Y/%m/%d %H'\u001b[0m\u001b[0;34m)\u001b[0m\u001b[0;34m\u001b[0m\u001b[0;34m\u001b[0m\u001b[0m\n\u001b[0m",
      "\u001b[0;32m/anaconda3/lib/python3.6/site-packages/pandas/core/tools/datetimes.py\u001b[0m in \u001b[0;36mto_datetime\u001b[0;34m(arg, errors, dayfirst, yearfirst, utc, box, format, exact, unit, infer_datetime_format, origin, cache)\u001b[0m\n\u001b[1;32m    449\u001b[0m         \u001b[0;32melse\u001b[0m\u001b[0;34m:\u001b[0m\u001b[0;34m\u001b[0m\u001b[0;34m\u001b[0m\u001b[0m\n\u001b[1;32m    450\u001b[0m             \u001b[0;32mfrom\u001b[0m \u001b[0mpandas\u001b[0m \u001b[0;32mimport\u001b[0m \u001b[0mSeries\u001b[0m\u001b[0;34m\u001b[0m\u001b[0;34m\u001b[0m\u001b[0m\n\u001b[0;32m--> 451\u001b[0;31m             \u001b[0mvalues\u001b[0m \u001b[0;34m=\u001b[0m \u001b[0m_convert_listlike\u001b[0m\u001b[0;34m(\u001b[0m\u001b[0marg\u001b[0m\u001b[0;34m.\u001b[0m\u001b[0m_values\u001b[0m\u001b[0;34m,\u001b[0m \u001b[0;32mTrue\u001b[0m\u001b[0;34m,\u001b[0m \u001b[0mformat\u001b[0m\u001b[0;34m)\u001b[0m\u001b[0;34m\u001b[0m\u001b[0;34m\u001b[0m\u001b[0m\n\u001b[0m\u001b[1;32m    452\u001b[0m             \u001b[0mresult\u001b[0m \u001b[0;34m=\u001b[0m \u001b[0mSeries\u001b[0m\u001b[0;34m(\u001b[0m\u001b[0mvalues\u001b[0m\u001b[0;34m,\u001b[0m \u001b[0mindex\u001b[0m\u001b[0;34m=\u001b[0m\u001b[0marg\u001b[0m\u001b[0;34m.\u001b[0m\u001b[0mindex\u001b[0m\u001b[0;34m,\u001b[0m \u001b[0mname\u001b[0m\u001b[0;34m=\u001b[0m\u001b[0marg\u001b[0m\u001b[0;34m.\u001b[0m\u001b[0mname\u001b[0m\u001b[0;34m)\u001b[0m\u001b[0;34m\u001b[0m\u001b[0;34m\u001b[0m\u001b[0m\n\u001b[1;32m    453\u001b[0m     \u001b[0;32melif\u001b[0m \u001b[0misinstance\u001b[0m\u001b[0;34m(\u001b[0m\u001b[0marg\u001b[0m\u001b[0;34m,\u001b[0m \u001b[0;34m(\u001b[0m\u001b[0mABCDataFrame\u001b[0m\u001b[0;34m,\u001b[0m \u001b[0mMutableMapping\u001b[0m\u001b[0;34m)\u001b[0m\u001b[0;34m)\u001b[0m\u001b[0;34m:\u001b[0m\u001b[0;34m\u001b[0m\u001b[0;34m\u001b[0m\u001b[0m\n",
      "\u001b[0;32m/anaconda3/lib/python3.6/site-packages/pandas/core/tools/datetimes.py\u001b[0m in \u001b[0;36m_convert_listlike\u001b[0;34m(arg, box, format, name, tz)\u001b[0m\n\u001b[1;32m    378\u001b[0m                 \u001b[0;32mreturn\u001b[0m \u001b[0mDatetimeIndex\u001b[0m\u001b[0;34m.\u001b[0m\u001b[0m_simple_new\u001b[0m\u001b[0;34m(\u001b[0m\u001b[0mvalues\u001b[0m\u001b[0;34m,\u001b[0m \u001b[0mname\u001b[0m\u001b[0;34m=\u001b[0m\u001b[0mname\u001b[0m\u001b[0;34m,\u001b[0m \u001b[0mtz\u001b[0m\u001b[0;34m=\u001b[0m\u001b[0mtz\u001b[0m\u001b[0;34m)\u001b[0m\u001b[0;34m\u001b[0m\u001b[0;34m\u001b[0m\u001b[0m\n\u001b[1;32m    379\u001b[0m             \u001b[0;32mexcept\u001b[0m \u001b[0;34m(\u001b[0m\u001b[0mValueError\u001b[0m\u001b[0;34m,\u001b[0m \u001b[0mTypeError\u001b[0m\u001b[0;34m)\u001b[0m\u001b[0;34m:\u001b[0m\u001b[0;34m\u001b[0m\u001b[0;34m\u001b[0m\u001b[0m\n\u001b[0;32m--> 380\u001b[0;31m                 \u001b[0;32mraise\u001b[0m \u001b[0me\u001b[0m\u001b[0;34m\u001b[0m\u001b[0;34m\u001b[0m\u001b[0m\n\u001b[0m\u001b[1;32m    381\u001b[0m \u001b[0;34m\u001b[0m\u001b[0m\n\u001b[1;32m    382\u001b[0m     \u001b[0;32mif\u001b[0m \u001b[0marg\u001b[0m \u001b[0;32mis\u001b[0m \u001b[0;32mNone\u001b[0m\u001b[0;34m:\u001b[0m\u001b[0;34m\u001b[0m\u001b[0;34m\u001b[0m\u001b[0m\n",
      "\u001b[0;32m/anaconda3/lib/python3.6/site-packages/pandas/core/tools/datetimes.py\u001b[0m in \u001b[0;36m_convert_listlike\u001b[0;34m(arg, box, format, name, tz)\u001b[0m\n\u001b[1;32m    366\u001b[0m                     \u001b[0mdayfirst\u001b[0m\u001b[0;34m=\u001b[0m\u001b[0mdayfirst\u001b[0m\u001b[0;34m,\u001b[0m\u001b[0;34m\u001b[0m\u001b[0;34m\u001b[0m\u001b[0m\n\u001b[1;32m    367\u001b[0m                     \u001b[0myearfirst\u001b[0m\u001b[0;34m=\u001b[0m\u001b[0myearfirst\u001b[0m\u001b[0;34m,\u001b[0m\u001b[0;34m\u001b[0m\u001b[0;34m\u001b[0m\u001b[0m\n\u001b[0;32m--> 368\u001b[0;31m                     \u001b[0mrequire_iso8601\u001b[0m\u001b[0;34m=\u001b[0m\u001b[0mrequire_iso8601\u001b[0m\u001b[0;34m\u001b[0m\u001b[0;34m\u001b[0m\u001b[0m\n\u001b[0m\u001b[1;32m    369\u001b[0m                 )\n\u001b[1;32m    370\u001b[0m \u001b[0;34m\u001b[0m\u001b[0m\n",
      "\u001b[0;32mpandas/_libs/tslib.pyx\u001b[0m in \u001b[0;36mpandas._libs.tslib.array_to_datetime\u001b[0;34m()\u001b[0m\n",
      "\u001b[0;32mpandas/_libs/tslib.pyx\u001b[0m in \u001b[0;36mpandas._libs.tslib.array_to_datetime\u001b[0;34m()\u001b[0m\n",
      "\u001b[0;31mValueError\u001b[0m: time data 2017-01-01 1 doesn't match format specified"
     ]
    }
   ],
   "source": [
    "#Medidas_p['Fecha_Hora']=pd.to_datetime(Medidas_p['Fecha_Hora'], yearfirst=True,format='%Y/%m/%d %H')\n"
   ]
  },
  {
   "cell_type": "code",
   "execution_count": 149,
   "metadata": {},
   "outputs": [
    {
     "data": {
      "text/html": [
       "<div>\n",
       "<style scoped>\n",
       "    .dataframe tbody tr th:only-of-type {\n",
       "        vertical-align: middle;\n",
       "    }\n",
       "\n",
       "    .dataframe tbody tr th {\n",
       "        vertical-align: top;\n",
       "    }\n",
       "\n",
       "    .dataframe thead th {\n",
       "        text-align: right;\n",
       "    }\n",
       "</style>\n",
       "<table border=\"1\" class=\"dataframe\">\n",
       "  <thead>\n",
       "    <tr style=\"text-align: right;\">\n",
       "      <th></th>\n",
       "      <th>Fecha_Hora</th>\n",
       "      <th>Unnamed: 0</th>\n",
       "      <th>Provincia</th>\n",
       "      <th>Cups20</th>\n",
       "      <th>Tarifa</th>\n",
       "      <th>Active</th>\n",
       "      <th>NºHoras</th>\n",
       "    </tr>\n",
       "  </thead>\n",
       "  <tbody>\n",
       "    <tr>\n",
       "      <th>0</th>\n",
       "      <td>2017-01-01 1</td>\n",
       "      <td>0</td>\n",
       "      <td>Alicante</td>\n",
       "      <td>ES0021000000930682DF</td>\n",
       "      <td>2.0.A</td>\n",
       "      <td>0.225</td>\n",
       "      <td>8760</td>\n",
       "    </tr>\n",
       "    <tr>\n",
       "      <th>1</th>\n",
       "      <td>2017-01-01 2</td>\n",
       "      <td>1</td>\n",
       "      <td>Alicante</td>\n",
       "      <td>ES0021000000930682DF</td>\n",
       "      <td>2.0.A</td>\n",
       "      <td>0.197</td>\n",
       "      <td>8760</td>\n",
       "    </tr>\n",
       "    <tr>\n",
       "      <th>2</th>\n",
       "      <td>2017-01-01 3</td>\n",
       "      <td>2</td>\n",
       "      <td>Alicante</td>\n",
       "      <td>ES0021000000930682DF</td>\n",
       "      <td>2.0.A</td>\n",
       "      <td>0.201</td>\n",
       "      <td>8760</td>\n",
       "    </tr>\n",
       "    <tr>\n",
       "      <th>3</th>\n",
       "      <td>2017-01-01 4</td>\n",
       "      <td>3</td>\n",
       "      <td>Alicante</td>\n",
       "      <td>ES0021000000930682DF</td>\n",
       "      <td>2.0.A</td>\n",
       "      <td>0.201</td>\n",
       "      <td>8760</td>\n",
       "    </tr>\n",
       "    <tr>\n",
       "      <th>4</th>\n",
       "      <td>2017-01-01 5</td>\n",
       "      <td>4</td>\n",
       "      <td>Alicante</td>\n",
       "      <td>ES0021000000930682DF</td>\n",
       "      <td>2.0.A</td>\n",
       "      <td>0.198</td>\n",
       "      <td>8760</td>\n",
       "    </tr>\n",
       "  </tbody>\n",
       "</table>\n",
       "</div>"
      ],
      "text/plain": [
       "     Fecha_Hora  Unnamed: 0 Provincia                Cups20 Tarifa  Active  \\\n",
       "0  2017-01-01 1           0  Alicante  ES0021000000930682DF  2.0.A   0.225   \n",
       "1  2017-01-01 2           1  Alicante  ES0021000000930682DF  2.0.A   0.197   \n",
       "2  2017-01-01 3           2  Alicante  ES0021000000930682DF  2.0.A   0.201   \n",
       "3  2017-01-01 4           3  Alicante  ES0021000000930682DF  2.0.A   0.201   \n",
       "4  2017-01-01 5           4  Alicante  ES0021000000930682DF  2.0.A   0.198   \n",
       "\n",
       "   NºHoras  \n",
       "0     8760  \n",
       "1     8760  \n",
       "2     8760  \n",
       "3     8760  \n",
       "4     8760  "
      ]
     },
     "execution_count": 149,
     "metadata": {},
     "output_type": "execute_result"
    }
   ],
   "source": [
    "#Medidas_p.head()"
   ]
  },
  {
   "cell_type": "markdown",
   "metadata": {},
   "source": [
    "Para que un CUPS tenga medida completa en los dos años de estudio debe tener 16.776 horas de consumo, vamos a analiar cuantos puntos tenemos y de cuantos de ellos tenemos medida completa."
   ]
  },
  {
   "cell_type": "code",
   "execution_count": 159,
   "metadata": {},
   "outputs": [
    {
     "data": {
      "text/plain": [
       "Index(['Provincia', 'Cups20', 'Tarifa', 'Fecha', 'Hora', 'Active', 'NºHoras'], dtype='object')"
      ]
     },
     "execution_count": 159,
     "metadata": {},
     "output_type": "execute_result"
    }
   ],
   "source": [
    "Medidas.columns"
   ]
  },
  {
   "cell_type": "code",
   "execution_count": 172,
   "metadata": {},
   "outputs": [],
   "source": [
    "Cups = Medidas.groupby(['Cups20']).count()\n",
    "\n"
   ]
  },
  {
   "cell_type": "code",
   "execution_count": 173,
   "metadata": {},
   "outputs": [],
   "source": [
    "Cups=Cups.reset_index()"
   ]
  },
  {
   "cell_type": "code",
   "execution_count": 174,
   "metadata": {},
   "outputs": [
    {
     "data": {
      "text/html": [
       "<div>\n",
       "<style scoped>\n",
       "    .dataframe tbody tr th:only-of-type {\n",
       "        vertical-align: middle;\n",
       "    }\n",
       "\n",
       "    .dataframe tbody tr th {\n",
       "        vertical-align: top;\n",
       "    }\n",
       "\n",
       "    .dataframe thead th {\n",
       "        text-align: right;\n",
       "    }\n",
       "</style>\n",
       "<table border=\"1\" class=\"dataframe\">\n",
       "  <thead>\n",
       "    <tr style=\"text-align: right;\">\n",
       "      <th></th>\n",
       "      <th>Cups20</th>\n",
       "      <th>Provincia</th>\n",
       "      <th>Tarifa</th>\n",
       "      <th>Fecha</th>\n",
       "      <th>Hora</th>\n",
       "      <th>Active</th>\n",
       "      <th>NºHoras</th>\n",
       "    </tr>\n",
       "  </thead>\n",
       "  <tbody>\n",
       "    <tr>\n",
       "      <th>0</th>\n",
       "      <td>ES0021000000930682DF</td>\n",
       "      <td>8760</td>\n",
       "      <td>8760</td>\n",
       "      <td>8760</td>\n",
       "      <td>8760</td>\n",
       "      <td>8760</td>\n",
       "      <td>8760</td>\n",
       "    </tr>\n",
       "    <tr>\n",
       "      <th>1</th>\n",
       "      <td>ES0021000000930683DP</td>\n",
       "      <td>8760</td>\n",
       "      <td>8760</td>\n",
       "      <td>8760</td>\n",
       "      <td>8760</td>\n",
       "      <td>8760</td>\n",
       "      <td>8760</td>\n",
       "    </tr>\n",
       "    <tr>\n",
       "      <th>2</th>\n",
       "      <td>ES0021000000930684DD</td>\n",
       "      <td>8760</td>\n",
       "      <td>8760</td>\n",
       "      <td>8760</td>\n",
       "      <td>8760</td>\n",
       "      <td>8760</td>\n",
       "      <td>8760</td>\n",
       "    </tr>\n",
       "    <tr>\n",
       "      <th>3</th>\n",
       "      <td>ES0021000000930685DX</td>\n",
       "      <td>8760</td>\n",
       "      <td>8760</td>\n",
       "      <td>8760</td>\n",
       "      <td>8760</td>\n",
       "      <td>8760</td>\n",
       "      <td>8760</td>\n",
       "    </tr>\n",
       "    <tr>\n",
       "      <th>4</th>\n",
       "      <td>ES0021000000930686DB</td>\n",
       "      <td>8760</td>\n",
       "      <td>8760</td>\n",
       "      <td>8760</td>\n",
       "      <td>8760</td>\n",
       "      <td>8760</td>\n",
       "      <td>8760</td>\n",
       "    </tr>\n",
       "  </tbody>\n",
       "</table>\n",
       "</div>"
      ],
      "text/plain": [
       "                 Cups20  Provincia  Tarifa  Fecha  Hora  Active  NºHoras\n",
       "0  ES0021000000930682DF       8760    8760   8760  8760    8760     8760\n",
       "1  ES0021000000930683DP       8760    8760   8760  8760    8760     8760\n",
       "2  ES0021000000930684DD       8760    8760   8760  8760    8760     8760\n",
       "3  ES0021000000930685DX       8760    8760   8760  8760    8760     8760\n",
       "4  ES0021000000930686DB       8760    8760   8760  8760    8760     8760"
      ]
     },
     "execution_count": 174,
     "metadata": {},
     "output_type": "execute_result"
    }
   ],
   "source": [
    "Cups.head()"
   ]
  },
  {
   "cell_type": "code",
   "execution_count": 178,
   "metadata": {},
   "outputs": [],
   "source": [
    "Cups.to_csv('Cups.csv')"
   ]
  },
  {
   "cell_type": "code",
   "execution_count": 175,
   "metadata": {},
   "outputs": [],
   "source": [
    "Cups=Cups[['Cups20', 'Hora']]\n",
    "Cups=Cups.rename(columns={'Hora' : 'NºHoras'})\n"
   ]
  },
  {
   "cell_type": "code",
   "execution_count": 176,
   "metadata": {},
   "outputs": [
    {
     "data": {
      "text/html": [
       "<div>\n",
       "<style scoped>\n",
       "    .dataframe tbody tr th:only-of-type {\n",
       "        vertical-align: middle;\n",
       "    }\n",
       "\n",
       "    .dataframe tbody tr th {\n",
       "        vertical-align: top;\n",
       "    }\n",
       "\n",
       "    .dataframe thead th {\n",
       "        text-align: right;\n",
       "    }\n",
       "</style>\n",
       "<table border=\"1\" class=\"dataframe\">\n",
       "  <thead>\n",
       "    <tr style=\"text-align: right;\">\n",
       "      <th></th>\n",
       "      <th>Cups20</th>\n",
       "      <th>NºHoras</th>\n",
       "    </tr>\n",
       "  </thead>\n",
       "  <tbody>\n",
       "    <tr>\n",
       "      <th>98</th>\n",
       "      <td>ES0022000008679229GM</td>\n",
       "      <td>8016</td>\n",
       "    </tr>\n",
       "    <tr>\n",
       "      <th>99</th>\n",
       "      <td>ES0022000008755602NH</td>\n",
       "      <td>8016</td>\n",
       "    </tr>\n",
       "    <tr>\n",
       "      <th>100</th>\n",
       "      <td>ES0022000008940620FR</td>\n",
       "      <td>8016</td>\n",
       "    </tr>\n",
       "    <tr>\n",
       "      <th>101</th>\n",
       "      <td>ES0022000008993984GM</td>\n",
       "      <td>8016</td>\n",
       "    </tr>\n",
       "    <tr>\n",
       "      <th>102</th>\n",
       "      <td>ES0022000009045140CD</td>\n",
       "      <td>8016</td>\n",
       "    </tr>\n",
       "  </tbody>\n",
       "</table>\n",
       "</div>"
      ],
      "text/plain": [
       "                   Cups20  NºHoras\n",
       "98   ES0022000008679229GM     8016\n",
       "99   ES0022000008755602NH     8016\n",
       "100  ES0022000008940620FR     8016\n",
       "101  ES0022000008993984GM     8016\n",
       "102  ES0022000009045140CD     8016"
      ]
     },
     "execution_count": 176,
     "metadata": {},
     "output_type": "execute_result"
    }
   ],
   "source": [
    "Cups.tail()"
   ]
  },
  {
   "cell_type": "code",
   "execution_count": 177,
   "metadata": {},
   "outputs": [
    {
     "data": {
      "text/html": [
       "<div>\n",
       "<style scoped>\n",
       "    .dataframe tbody tr th:only-of-type {\n",
       "        vertical-align: middle;\n",
       "    }\n",
       "\n",
       "    .dataframe tbody tr th {\n",
       "        vertical-align: top;\n",
       "    }\n",
       "\n",
       "    .dataframe thead th {\n",
       "        text-align: right;\n",
       "    }\n",
       "</style>\n",
       "<table border=\"1\" class=\"dataframe\">\n",
       "  <thead>\n",
       "    <tr style=\"text-align: right;\">\n",
       "      <th></th>\n",
       "      <th>NºHoras</th>\n",
       "    </tr>\n",
       "  </thead>\n",
       "  <tbody>\n",
       "    <tr>\n",
       "      <th>count</th>\n",
       "      <td>103.000000</td>\n",
       "    </tr>\n",
       "    <tr>\n",
       "      <th>mean</th>\n",
       "      <td>8507.184466</td>\n",
       "    </tr>\n",
       "    <tr>\n",
       "      <th>std</th>\n",
       "      <td>354.113689</td>\n",
       "    </tr>\n",
       "    <tr>\n",
       "      <th>min</th>\n",
       "      <td>8016.000000</td>\n",
       "    </tr>\n",
       "    <tr>\n",
       "      <th>25%</th>\n",
       "      <td>8016.000000</td>\n",
       "    </tr>\n",
       "    <tr>\n",
       "      <th>50%</th>\n",
       "      <td>8760.000000</td>\n",
       "    </tr>\n",
       "    <tr>\n",
       "      <th>75%</th>\n",
       "      <td>8760.000000</td>\n",
       "    </tr>\n",
       "    <tr>\n",
       "      <th>max</th>\n",
       "      <td>8760.000000</td>\n",
       "    </tr>\n",
       "  </tbody>\n",
       "</table>\n",
       "</div>"
      ],
      "text/plain": [
       "           NºHoras\n",
       "count   103.000000\n",
       "mean   8507.184466\n",
       "std     354.113689\n",
       "min    8016.000000\n",
       "25%    8016.000000\n",
       "50%    8760.000000\n",
       "75%    8760.000000\n",
       "max    8760.000000"
      ]
     },
     "execution_count": 177,
     "metadata": {},
     "output_type": "execute_result"
    }
   ],
   "source": [
    "Cups.describe()"
   ]
  },
  {
   "cell_type": "markdown",
   "metadata": {},
   "source": [
    "Lo que vemos con esto, es que no tenemos níngún punto para el que tengamos medida comleta para 2017 y para 2018, lo cual es un problema en nuestro planteamiento inicial. \n",
    "\n",
    "Por tanto replantemaos y nos quedamos solo con las medidas que tenemos desde el 01/01/2018 al 30/11/2018, descartando toda la medida de 2017, para, poro un lado, simplificar el problema, y por otro lado poder obtener una solución a nuestro planteamiento inicial."
   ]
  },
  {
   "cell_type": "markdown",
   "metadata": {},
   "source": [
    "### Guardamos el fichero como un csv con las medidas de todos nuestros clientes durante dos años."
   ]
  },
  {
   "cell_type": "code",
   "execution_count": 179,
   "metadata": {},
   "outputs": [
    {
     "data": {
      "text/html": [
       "<div>\n",
       "<style scoped>\n",
       "    .dataframe tbody tr th:only-of-type {\n",
       "        vertical-align: middle;\n",
       "    }\n",
       "\n",
       "    .dataframe tbody tr th {\n",
       "        vertical-align: top;\n",
       "    }\n",
       "\n",
       "    .dataframe thead th {\n",
       "        text-align: right;\n",
       "    }\n",
       "</style>\n",
       "<table border=\"1\" class=\"dataframe\">\n",
       "  <thead>\n",
       "    <tr style=\"text-align: right;\">\n",
       "      <th></th>\n",
       "      <th>--Cups20--</th>\n",
       "      <th>--Line--</th>\n",
       "      <th>--Fecha--</th>\n",
       "      <th>--Hora--</th>\n",
       "      <th>--Active--</th>\n",
       "      <th>--Active With Transport Loss--</th>\n",
       "      <th>--Active With Transform Loss--</th>\n",
       "      <th>NºHoras</th>\n",
       "    </tr>\n",
       "  </thead>\n",
       "  <tbody>\n",
       "    <tr>\n",
       "      <th>2378357</th>\n",
       "      <td>ES0022000004023788QV</td>\n",
       "      <td>1P</td>\n",
       "      <td>2018-01-01</td>\n",
       "      <td>1</td>\n",
       "      <td>0.206</td>\n",
       "      <td>0.26368</td>\n",
       "      <td>0.206</td>\n",
       "      <td>8016</td>\n",
       "    </tr>\n",
       "    <tr>\n",
       "      <th>2378358</th>\n",
       "      <td>ES0022000004023788QV</td>\n",
       "      <td>1P</td>\n",
       "      <td>2018-01-01</td>\n",
       "      <td>2</td>\n",
       "      <td>0.205</td>\n",
       "      <td>0.26240</td>\n",
       "      <td>0.205</td>\n",
       "      <td>8016</td>\n",
       "    </tr>\n",
       "    <tr>\n",
       "      <th>2378359</th>\n",
       "      <td>ES0022000004023788QV</td>\n",
       "      <td>1P</td>\n",
       "      <td>2018-01-01</td>\n",
       "      <td>3</td>\n",
       "      <td>0.207</td>\n",
       "      <td>0.26496</td>\n",
       "      <td>0.207</td>\n",
       "      <td>8016</td>\n",
       "    </tr>\n",
       "    <tr>\n",
       "      <th>2378360</th>\n",
       "      <td>ES0022000004023788QV</td>\n",
       "      <td>1P</td>\n",
       "      <td>2018-01-01</td>\n",
       "      <td>4</td>\n",
       "      <td>0.206</td>\n",
       "      <td>0.26368</td>\n",
       "      <td>0.206</td>\n",
       "      <td>8016</td>\n",
       "    </tr>\n",
       "    <tr>\n",
       "      <th>2378361</th>\n",
       "      <td>ES0022000004023788QV</td>\n",
       "      <td>1P</td>\n",
       "      <td>2018-01-01</td>\n",
       "      <td>5</td>\n",
       "      <td>0.205</td>\n",
       "      <td>0.26240</td>\n",
       "      <td>0.205</td>\n",
       "      <td>8016</td>\n",
       "    </tr>\n",
       "  </tbody>\n",
       "</table>\n",
       "</div>"
      ],
      "text/plain": [
       "                   --Cups20-- --Line--  --Fecha--  --Hora--  --Active--  \\\n",
       "2378357  ES0022000004023788QV       1P 2018-01-01         1       0.206   \n",
       "2378358  ES0022000004023788QV       1P 2018-01-01         2       0.205   \n",
       "2378359  ES0022000004023788QV       1P 2018-01-01         3       0.207   \n",
       "2378360  ES0022000004023788QV       1P 2018-01-01         4       0.206   \n",
       "2378361  ES0022000004023788QV       1P 2018-01-01         5       0.205   \n",
       "\n",
       "         --Active With Transport Loss--  --Active With Transform Loss--  \\\n",
       "2378357                         0.26368                           0.206   \n",
       "2378358                         0.26240                           0.205   \n",
       "2378359                         0.26496                           0.207   \n",
       "2378360                         0.26368                           0.206   \n",
       "2378361                         0.26240                           0.205   \n",
       "\n",
       "         NºHoras  \n",
       "2378357     8016  \n",
       "2378358     8016  \n",
       "2378359     8016  \n",
       "2378360     8016  \n",
       "2378361     8016  "
      ]
     },
     "execution_count": 179,
     "metadata": {},
     "output_type": "execute_result"
    }
   ],
   "source": [
    "df_2018.head()"
   ]
  },
  {
   "cell_type": "code",
   "execution_count": 180,
   "metadata": {},
   "outputs": [
    {
     "data": {
      "text/html": [
       "<div>\n",
       "<style scoped>\n",
       "    .dataframe tbody tr th:only-of-type {\n",
       "        vertical-align: middle;\n",
       "    }\n",
       "\n",
       "    .dataframe tbody tr th {\n",
       "        vertical-align: top;\n",
       "    }\n",
       "\n",
       "    .dataframe thead th {\n",
       "        text-align: right;\n",
       "    }\n",
       "</style>\n",
       "<table border=\"1\" class=\"dataframe\">\n",
       "  <thead>\n",
       "    <tr style=\"text-align: right;\">\n",
       "      <th></th>\n",
       "      <th>--Hora--</th>\n",
       "      <th>--Active--</th>\n",
       "      <th>--Active With Transport Loss--</th>\n",
       "      <th>--Active With Transform Loss--</th>\n",
       "      <th>NºHoras</th>\n",
       "    </tr>\n",
       "  </thead>\n",
       "  <tbody>\n",
       "    <tr>\n",
       "      <th>count</th>\n",
       "      <td>280560.000000</td>\n",
       "      <td>280560.000000</td>\n",
       "      <td>280560.000000</td>\n",
       "      <td>280560.000000</td>\n",
       "      <td>280560.0</td>\n",
       "    </tr>\n",
       "    <tr>\n",
       "      <th>mean</th>\n",
       "      <td>12.500000</td>\n",
       "      <td>0.994323</td>\n",
       "      <td>1.152116</td>\n",
       "      <td>0.994320</td>\n",
       "      <td>8016.0</td>\n",
       "    </tr>\n",
       "    <tr>\n",
       "      <th>std</th>\n",
       "      <td>6.922199</td>\n",
       "      <td>1.460470</td>\n",
       "      <td>1.688435</td>\n",
       "      <td>1.460472</td>\n",
       "      <td>0.0</td>\n",
       "    </tr>\n",
       "    <tr>\n",
       "      <th>min</th>\n",
       "      <td>1.000000</td>\n",
       "      <td>0.000000</td>\n",
       "      <td>0.000000</td>\n",
       "      <td>0.000000</td>\n",
       "      <td>8016.0</td>\n",
       "    </tr>\n",
       "    <tr>\n",
       "      <th>25%</th>\n",
       "      <td>6.750000</td>\n",
       "      <td>0.112000</td>\n",
       "      <td>0.131040</td>\n",
       "      <td>0.112000</td>\n",
       "      <td>8016.0</td>\n",
       "    </tr>\n",
       "    <tr>\n",
       "      <th>50%</th>\n",
       "      <td>12.500000</td>\n",
       "      <td>0.351000</td>\n",
       "      <td>0.410700</td>\n",
       "      <td>0.351000</td>\n",
       "      <td>8016.0</td>\n",
       "    </tr>\n",
       "    <tr>\n",
       "      <th>75%</th>\n",
       "      <td>18.250000</td>\n",
       "      <td>1.337000</td>\n",
       "      <td>1.561932</td>\n",
       "      <td>1.337000</td>\n",
       "      <td>8016.0</td>\n",
       "    </tr>\n",
       "    <tr>\n",
       "      <th>max</th>\n",
       "      <td>24.000000</td>\n",
       "      <td>19.628000</td>\n",
       "      <td>22.998280</td>\n",
       "      <td>19.628000</td>\n",
       "      <td>8016.0</td>\n",
       "    </tr>\n",
       "  </tbody>\n",
       "</table>\n",
       "</div>"
      ],
      "text/plain": [
       "            --Hora--     --Active--  --Active With Transport Loss--  \\\n",
       "count  280560.000000  280560.000000                   280560.000000   \n",
       "mean       12.500000       0.994323                        1.152116   \n",
       "std         6.922199       1.460470                        1.688435   \n",
       "min         1.000000       0.000000                        0.000000   \n",
       "25%         6.750000       0.112000                        0.131040   \n",
       "50%        12.500000       0.351000                        0.410700   \n",
       "75%        18.250000       1.337000                        1.561932   \n",
       "max        24.000000      19.628000                       22.998280   \n",
       "\n",
       "       --Active With Transform Loss--   NºHoras  \n",
       "count                   280560.000000  280560.0  \n",
       "mean                         0.994320    8016.0  \n",
       "std                          1.460472       0.0  \n",
       "min                          0.000000    8016.0  \n",
       "25%                          0.112000    8016.0  \n",
       "50%                          0.351000    8016.0  \n",
       "75%                          1.337000    8016.0  \n",
       "max                         19.628000    8016.0  "
      ]
     },
     "execution_count": 180,
     "metadata": {},
     "output_type": "execute_result"
    }
   ],
   "source": [
    "df_2018.describe()"
   ]
  },
  {
   "cell_type": "code",
   "execution_count": 183,
   "metadata": {},
   "outputs": [],
   "source": [
    "df_2017.to_csv('df_2017.csv')"
   ]
  },
  {
   "cell_type": "code",
   "execution_count": 184,
   "metadata": {},
   "outputs": [
    {
     "name": "stderr",
     "output_type": "stream",
     "text": [
      "/anaconda3/lib/python3.6/site-packages/pandas/core/series.py:3724: FutureWarning: from_csv is deprecated. Please use read_csv(...) instead. Note that some of the default arguments are different, so please refer to the documentation for from_csv when changing your function calls\n",
      "  infer_datetime_format=infer_datetime_format)\n"
     ]
    },
    {
     "ename": "TypeError",
     "evalue": "Empty 'DataFrame': no numeric data to plot",
     "output_type": "error",
     "traceback": [
      "\u001b[0;31m---------------------------------------------------------------------------\u001b[0m",
      "\u001b[0;31mTypeError\u001b[0m                                 Traceback (most recent call last)",
      "\u001b[0;32m<ipython-input-184-8d7207e8823c>\u001b[0m in \u001b[0;36m<module>\u001b[0;34m()\u001b[0m\n\u001b[1;32m      1\u001b[0m \u001b[0mseries\u001b[0m \u001b[0;34m=\u001b[0m \u001b[0mSeries\u001b[0m\u001b[0;34m.\u001b[0m\u001b[0mfrom_csv\u001b[0m\u001b[0;34m(\u001b[0m\u001b[0;34m'df_2017.csv'\u001b[0m\u001b[0;34m,\u001b[0m \u001b[0mheader\u001b[0m\u001b[0;34m=\u001b[0m\u001b[0;36m0\u001b[0m\u001b[0;34m)\u001b[0m\u001b[0;34m\u001b[0m\u001b[0;34m\u001b[0m\u001b[0m\n\u001b[0;32m----> 2\u001b[0;31m \u001b[0mseries\u001b[0m\u001b[0;34m.\u001b[0m\u001b[0mplot\u001b[0m\u001b[0;34m(\u001b[0m\u001b[0;34m)\u001b[0m\u001b[0;34m\u001b[0m\u001b[0;34m\u001b[0m\u001b[0m\n\u001b[0m\u001b[1;32m      3\u001b[0m \u001b[0mpyplot\u001b[0m\u001b[0;34m.\u001b[0m\u001b[0mshow\u001b[0m\u001b[0;34m(\u001b[0m\u001b[0;34m)\u001b[0m\u001b[0;34m\u001b[0m\u001b[0;34m\u001b[0m\u001b[0m\n",
      "\u001b[0;32m/anaconda3/lib/python3.6/site-packages/pandas/plotting/_core.py\u001b[0m in \u001b[0;36m__call__\u001b[0;34m(self, kind, ax, figsize, use_index, title, grid, legend, style, logx, logy, loglog, xticks, yticks, xlim, ylim, rot, fontsize, colormap, table, yerr, xerr, label, secondary_y, **kwds)\u001b[0m\n\u001b[1;32m   2739\u001b[0m                            \u001b[0mcolormap\u001b[0m\u001b[0;34m=\u001b[0m\u001b[0mcolormap\u001b[0m\u001b[0;34m,\u001b[0m \u001b[0mtable\u001b[0m\u001b[0;34m=\u001b[0m\u001b[0mtable\u001b[0m\u001b[0;34m,\u001b[0m \u001b[0myerr\u001b[0m\u001b[0;34m=\u001b[0m\u001b[0myerr\u001b[0m\u001b[0;34m,\u001b[0m\u001b[0;34m\u001b[0m\u001b[0;34m\u001b[0m\u001b[0m\n\u001b[1;32m   2740\u001b[0m                            \u001b[0mxerr\u001b[0m\u001b[0;34m=\u001b[0m\u001b[0mxerr\u001b[0m\u001b[0;34m,\u001b[0m \u001b[0mlabel\u001b[0m\u001b[0;34m=\u001b[0m\u001b[0mlabel\u001b[0m\u001b[0;34m,\u001b[0m \u001b[0msecondary_y\u001b[0m\u001b[0;34m=\u001b[0m\u001b[0msecondary_y\u001b[0m\u001b[0;34m,\u001b[0m\u001b[0;34m\u001b[0m\u001b[0;34m\u001b[0m\u001b[0m\n\u001b[0;32m-> 2741\u001b[0;31m                            **kwds)\n\u001b[0m\u001b[1;32m   2742\u001b[0m     \u001b[0m__call__\u001b[0m\u001b[0;34m.\u001b[0m\u001b[0m__doc__\u001b[0m \u001b[0;34m=\u001b[0m \u001b[0mplot_series\u001b[0m\u001b[0;34m.\u001b[0m\u001b[0m__doc__\u001b[0m\u001b[0;34m\u001b[0m\u001b[0;34m\u001b[0m\u001b[0m\n\u001b[1;32m   2743\u001b[0m \u001b[0;34m\u001b[0m\u001b[0m\n",
      "\u001b[0;32m/anaconda3/lib/python3.6/site-packages/pandas/plotting/_core.py\u001b[0m in \u001b[0;36mplot_series\u001b[0;34m(data, kind, ax, figsize, use_index, title, grid, legend, style, logx, logy, loglog, xticks, yticks, xlim, ylim, rot, fontsize, colormap, table, yerr, xerr, label, secondary_y, **kwds)\u001b[0m\n\u001b[1;32m   2000\u001b[0m                  \u001b[0myerr\u001b[0m\u001b[0;34m=\u001b[0m\u001b[0myerr\u001b[0m\u001b[0;34m,\u001b[0m \u001b[0mxerr\u001b[0m\u001b[0;34m=\u001b[0m\u001b[0mxerr\u001b[0m\u001b[0;34m,\u001b[0m\u001b[0;34m\u001b[0m\u001b[0;34m\u001b[0m\u001b[0m\n\u001b[1;32m   2001\u001b[0m                  \u001b[0mlabel\u001b[0m\u001b[0;34m=\u001b[0m\u001b[0mlabel\u001b[0m\u001b[0;34m,\u001b[0m \u001b[0msecondary_y\u001b[0m\u001b[0;34m=\u001b[0m\u001b[0msecondary_y\u001b[0m\u001b[0;34m,\u001b[0m\u001b[0;34m\u001b[0m\u001b[0;34m\u001b[0m\u001b[0m\n\u001b[0;32m-> 2002\u001b[0;31m                  **kwds)\n\u001b[0m\u001b[1;32m   2003\u001b[0m \u001b[0;34m\u001b[0m\u001b[0m\n\u001b[1;32m   2004\u001b[0m \u001b[0;34m\u001b[0m\u001b[0m\n",
      "\u001b[0;32m/anaconda3/lib/python3.6/site-packages/pandas/plotting/_core.py\u001b[0m in \u001b[0;36m_plot\u001b[0;34m(data, x, y, subplots, ax, kind, **kwds)\u001b[0m\n\u001b[1;32m   1802\u001b[0m         \u001b[0mplot_obj\u001b[0m \u001b[0;34m=\u001b[0m \u001b[0mklass\u001b[0m\u001b[0;34m(\u001b[0m\u001b[0mdata\u001b[0m\u001b[0;34m,\u001b[0m \u001b[0msubplots\u001b[0m\u001b[0;34m=\u001b[0m\u001b[0msubplots\u001b[0m\u001b[0;34m,\u001b[0m \u001b[0max\u001b[0m\u001b[0;34m=\u001b[0m\u001b[0max\u001b[0m\u001b[0;34m,\u001b[0m \u001b[0mkind\u001b[0m\u001b[0;34m=\u001b[0m\u001b[0mkind\u001b[0m\u001b[0;34m,\u001b[0m \u001b[0;34m**\u001b[0m\u001b[0mkwds\u001b[0m\u001b[0;34m)\u001b[0m\u001b[0;34m\u001b[0m\u001b[0;34m\u001b[0m\u001b[0m\n\u001b[1;32m   1803\u001b[0m \u001b[0;34m\u001b[0m\u001b[0m\n\u001b[0;32m-> 1804\u001b[0;31m     \u001b[0mplot_obj\u001b[0m\u001b[0;34m.\u001b[0m\u001b[0mgenerate\u001b[0m\u001b[0;34m(\u001b[0m\u001b[0;34m)\u001b[0m\u001b[0;34m\u001b[0m\u001b[0;34m\u001b[0m\u001b[0m\n\u001b[0m\u001b[1;32m   1805\u001b[0m     \u001b[0mplot_obj\u001b[0m\u001b[0;34m.\u001b[0m\u001b[0mdraw\u001b[0m\u001b[0;34m(\u001b[0m\u001b[0;34m)\u001b[0m\u001b[0;34m\u001b[0m\u001b[0;34m\u001b[0m\u001b[0m\n\u001b[1;32m   1806\u001b[0m     \u001b[0;32mreturn\u001b[0m \u001b[0mplot_obj\u001b[0m\u001b[0;34m.\u001b[0m\u001b[0mresult\u001b[0m\u001b[0;34m\u001b[0m\u001b[0;34m\u001b[0m\u001b[0m\n",
      "\u001b[0;32m/anaconda3/lib/python3.6/site-packages/pandas/plotting/_core.py\u001b[0m in \u001b[0;36mgenerate\u001b[0;34m(self)\u001b[0m\n\u001b[1;32m    256\u001b[0m     \u001b[0;32mdef\u001b[0m \u001b[0mgenerate\u001b[0m\u001b[0;34m(\u001b[0m\u001b[0mself\u001b[0m\u001b[0;34m)\u001b[0m\u001b[0;34m:\u001b[0m\u001b[0;34m\u001b[0m\u001b[0;34m\u001b[0m\u001b[0m\n\u001b[1;32m    257\u001b[0m         \u001b[0mself\u001b[0m\u001b[0;34m.\u001b[0m\u001b[0m_args_adjust\u001b[0m\u001b[0;34m(\u001b[0m\u001b[0;34m)\u001b[0m\u001b[0;34m\u001b[0m\u001b[0;34m\u001b[0m\u001b[0m\n\u001b[0;32m--> 258\u001b[0;31m         \u001b[0mself\u001b[0m\u001b[0;34m.\u001b[0m\u001b[0m_compute_plot_data\u001b[0m\u001b[0;34m(\u001b[0m\u001b[0;34m)\u001b[0m\u001b[0;34m\u001b[0m\u001b[0;34m\u001b[0m\u001b[0m\n\u001b[0m\u001b[1;32m    259\u001b[0m         \u001b[0mself\u001b[0m\u001b[0;34m.\u001b[0m\u001b[0m_setup_subplots\u001b[0m\u001b[0;34m(\u001b[0m\u001b[0;34m)\u001b[0m\u001b[0;34m\u001b[0m\u001b[0;34m\u001b[0m\u001b[0m\n\u001b[1;32m    260\u001b[0m         \u001b[0mself\u001b[0m\u001b[0;34m.\u001b[0m\u001b[0m_make_plot\u001b[0m\u001b[0;34m(\u001b[0m\u001b[0;34m)\u001b[0m\u001b[0;34m\u001b[0m\u001b[0;34m\u001b[0m\u001b[0m\n",
      "\u001b[0;32m/anaconda3/lib/python3.6/site-packages/pandas/plotting/_core.py\u001b[0m in \u001b[0;36m_compute_plot_data\u001b[0;34m(self)\u001b[0m\n\u001b[1;32m    371\u001b[0m         \u001b[0;32mif\u001b[0m \u001b[0mis_empty\u001b[0m\u001b[0;34m:\u001b[0m\u001b[0;34m\u001b[0m\u001b[0;34m\u001b[0m\u001b[0m\n\u001b[1;32m    372\u001b[0m             raise TypeError('Empty {0!r}: no numeric data to '\n\u001b[0;32m--> 373\u001b[0;31m                             'plot'.format(numeric_data.__class__.__name__))\n\u001b[0m\u001b[1;32m    374\u001b[0m \u001b[0;34m\u001b[0m\u001b[0m\n\u001b[1;32m    375\u001b[0m         \u001b[0mself\u001b[0m\u001b[0;34m.\u001b[0m\u001b[0mdata\u001b[0m \u001b[0;34m=\u001b[0m \u001b[0mnumeric_data\u001b[0m\u001b[0;34m\u001b[0m\u001b[0;34m\u001b[0m\u001b[0m\n",
      "\u001b[0;31mTypeError\u001b[0m: Empty 'DataFrame': no numeric data to plot"
     ]
    }
   ],
   "source": [
    "series = Series.from_csv('df_2017.csv', header=0)\n",
    "series.plot()\n",
    "pyplot.show()"
   ]
  },
  {
   "cell_type": "code",
   "execution_count": 186,
   "metadata": {},
   "outputs": [
    {
     "data": {
      "text/plain": [
       "[<matplotlib.lines.Line2D at 0x1e10f29048>]"
      ]
     },
     "execution_count": 186,
     "metadata": {},
     "output_type": "execute_result"
    },
    {
     "data": {
      "image/png": "[encoded data removed]",
      "text/plain": [
       "<Figure size 432x288 with 1 Axes>"
      ]
     },
     "metadata": {},
     "output_type": "display_data"
    }
   ],
   "source": [
    "\n",
    "plt.plot(df_2018['--Fecha--'], df_2018['--Active--'])"
   ]
  },
  {
   "cell_type": "code",
   "execution_count": null,
   "metadata": {},
   "outputs": [],
   "source": [
    "# Lo edito para no volver a cargarme el fichero bueno y tener que procesar todo el notebook otra vez que es un infierno.\n",
    "\n",
    "# Medidas.to_csv('Medidas.csv')"
   ]
  },
  {
   "cell_type": "code",
   "execution_count": null,
   "metadata": {},
   "outputs": [],
   "source": [
    "# Solo para evitar procesar todo lo anterior, si no hace falta comentar lineas\n",
    "\n",
    "Medidas = pd.read_csv('./Medidas.csv')\n",
    "Medidas.head(5)"
   ]
  },
  {
   "cell_type": "code",
   "execution_count": null,
   "metadata": {},
   "outputs": [],
   "source": [
    "# Medidas_p=pd.read_csv('./Medidas.csv', parse_dates=[['Fecha', 'Hora']], index_col=None)"
   ]
  },
  {
   "cell_type": "markdown",
   "metadata": {},
   "source": [
    "# Agrupamos por Fecha, Hora, Provincia, Tarifa\n",
    "\n",
    "Por motivmos de confidencialidad no puedo mostrar el origen de los datos, que son curvas de consumo horario por CUPS. Sin embargo a partir de ahora trabajermos con curvas de consumo horario agrupadas por estos campos que son suficientes para el desarrollo del modelo.\n"
   ]
  },
  {
   "cell_type": "code",
   "execution_count": null,
   "metadata": {},
   "outputs": [],
   "source": [
    "Medidas.shape"
   ]
  },
  {
   "cell_type": "markdown",
   "metadata": {},
   "source": [
    "Como no tengo curva de consumo completa para todos los puntos para todas las horas de los dos años, voy a calcular el número de puntos por hora y la suma de la energía para cada hora, de esta manera si divido la suma de la energía entre el número de puntos, tendría un consumo medio para cada uno de los grupos que voy a tener."
   ]
  },
  {
   "cell_type": "code",
   "execution_count": null,
   "metadata": {},
   "outputs": [],
   "source": [
    "puntos = Medidas.groupby(['Provincia', 'Fecha', 'Hora'], sort=True).count()\n",
    "\n",
    "puntos = puntos.reset_index()\n",
    "\n",
    "puntos.to_csv('puntos.csv')"
   ]
  },
  {
   "cell_type": "code",
   "execution_count": null,
   "metadata": {},
   "outputs": [],
   "source": [
    "puntos.head()"
   ]
  },
  {
   "cell_type": "code",
   "execution_count": null,
   "metadata": {},
   "outputs": [],
   "source": [
    "# !conda update seaborn"
   ]
  },
  {
   "cell_type": "code",
   "execution_count": null,
   "metadata": {},
   "outputs": [],
   "source": [
    "sns.__version__"
   ]
  },
  {
   "cell_type": "code",
   "execution_count": null,
   "metadata": {},
   "outputs": [],
   "source": [
    "sns.catplot('Cups20',data=puntos,kind='count',\n",
    "            hue='Fecha',col='Provincia',\n",
    "            palette='Set1');"
   ]
  },
  {
   "cell_type": "code",
   "execution_count": null,
   "metadata": {},
   "outputs": [],
   "source": [
    "plt.plot(puntos['Cups20'])"
   ]
  },
  {
   "cell_type": "code",
   "execution_count": null,
   "metadata": {},
   "outputs": [],
   "source": [
    "Medidas_procesadas=Medidas.groupby(['Provincia', 'Fecha', 'Hora']).agg[{'Cups20': np.sum, 'Active': [np.sum, np.mean]}]"
   ]
  },
  {
   "cell_type": "code",
   "execution_count": null,
   "metadata": {},
   "outputs": [],
   "source": [
    "Medidas_procesadas=Medidas.groupby(['Provincia', 'Fecha', 'Hora'])[['Active']].agg(['sum', 'count'])"
   ]
  },
  {
   "cell_type": "code",
   "execution_count": null,
   "metadata": {},
   "outputs": [],
   "source": [
    "Medidas_procesadas=Medidas_procesadas.reset_index()\n",
    "\n"
   ]
  },
  {
   "cell_type": "code",
   "execution_count": null,
   "metadata": {},
   "outputs": [],
   "source": [
    "Medidas_procesadas.head()\n",
    "Medidas_procesadas.to_excel('Medidas_procesadas.xlsx')"
   ]
  },
  {
   "cell_type": "code",
   "execution_count": null,
   "metadata": {},
   "outputs": [],
   "source": [
    "puntos = Medidas.groupby(['Provincia', 'Fecha', 'Hora'], sort=True)\n",
    "Medida_procesada=(puntos['Active'].agg([ma.count, np.sum]).rename(columns={'count':'NºClientes','sum':'Activa'}) )\n",
    "Medida_procesada['Tanto1']=Medida_procesada['Activa']/Medida_procesada['NºClientes']\n",
    "\n",
    "Medida_procesada.describe()"
   ]
  },
  {
   "cell_type": "code",
   "execution_count": null,
   "metadata": {},
   "outputs": [],
   "source": [
    "Medida_procesada=Medida_procesada.reset_index()\n",
    "Medida_procesada.head(5)"
   ]
  },
  {
   "cell_type": "code",
   "execution_count": null,
   "metadata": {},
   "outputs": [],
   "source": [
    "Medida_procesada.to_excel('Medida_procesada.xlsx')"
   ]
  },
  {
   "cell_type": "code",
   "execution_count": null,
   "metadata": {},
   "outputs": [],
   "source": [
    "Comunidad = pd.read_excel('./data/Comunidades.xlsx')\n",
    "Comunidad.head(5)"
   ]
  },
  {
   "cell_type": "code",
   "execution_count": null,
   "metadata": {},
   "outputs": [],
   "source": [
    "Medida_procesada = pd.merge(Medida_procesada, Comunidad, on='Provincia')\n",
    "Medida_procesada.head(5)"
   ]
  },
  {
   "cell_type": "code",
   "execution_count": null,
   "metadata": {},
   "outputs": [],
   "source": [
    "Medida_procesada.index=Medida_procesada['Fecha']\n",
    "Medida_procesada.head(5)"
   ]
  },
  {
   "cell_type": "code",
   "execution_count": null,
   "metadata": {},
   "outputs": [],
   "source": [
    "Medida_procesada['Fecha']=pd.to_datetime(Medida_procesada['Fecha'], yearfirst=True,format='%Y-%m-%d')"
   ]
  },
  {
   "cell_type": "code",
   "execution_count": null,
   "metadata": {},
   "outputs": [],
   "source": [
    "Medida_procesada.head(5)"
   ]
  },
  {
   "cell_type": "code",
   "execution_count": null,
   "metadata": {},
   "outputs": [],
   "source": [
    "Medida_procesada.cumsum()"
   ]
  },
  {
   "cell_type": "code",
   "execution_count": null,
   "metadata": {},
   "outputs": [],
   "source": [
    "plt.plot(Medida_procesada['Tanto1'])"
   ]
  },
  {
   "cell_type": "code",
   "execution_count": null,
   "metadata": {},
   "outputs": [],
   "source": [
    "Medida_procesada.to_csv('Medida_procesada.csv')"
   ]
  },
  {
   "cell_type": "code",
   "execution_count": null,
   "metadata": {},
   "outputs": [],
   "source": [
    "Medida_procesada.to_excel('Medida_procesada.xlsx')"
   ]
  },
  {
   "cell_type": "code",
   "execution_count": null,
   "metadata": {},
   "outputs": [],
   "source": []
  },
  {
   "cell_type": "code",
   "execution_count": null,
   "metadata": {},
   "outputs": [],
   "source": []
  },
  {
   "cell_type": "code",
   "execution_count": null,
   "metadata": {},
   "outputs": [],
   "source": []
  },
  {
   "cell_type": "code",
   "execution_count": null,
   "metadata": {},
   "outputs": [],
   "source": []
  },
  {
   "cell_type": "code",
   "execution_count": null,
   "metadata": {},
   "outputs": [],
   "source": []
  },
  {
   "cell_type": "code",
   "execution_count": null,
   "metadata": {},
   "outputs": [],
   "source": []
  },
  {
   "cell_type": "code",
   "execution_count": null,
   "metadata": {},
   "outputs": [],
   "source": []
  },
  {
   "cell_type": "code",
   "execution_count": null,
   "metadata": {},
   "outputs": [],
   "source": []
  },
  {
   "cell_type": "code",
   "execution_count": null,
   "metadata": {},
   "outputs": [],
   "source": []
  },
  {
   "cell_type": "code",
   "execution_count": null,
   "metadata": {},
   "outputs": [],
   "source": []
  },
  {
   "cell_type": "code",
   "execution_count": null,
   "metadata": {},
   "outputs": [],
   "source": []
  },
  {
   "cell_type": "code",
   "execution_count": null,
   "metadata": {},
   "outputs": [],
   "source": []
  },
  {
   "cell_type": "code",
   "execution_count": null,
   "metadata": {},
   "outputs": [],
   "source": []
  },
  {
   "cell_type": "code",
   "execution_count": null,
   "metadata": {},
   "outputs": [],
   "source": []
  },
  {
   "cell_type": "code",
   "execution_count": null,
   "metadata": {},
   "outputs": [],
   "source": []
  },
  {
   "cell_type": "code",
   "execution_count": null,
   "metadata": {},
   "outputs": [],
   "source": []
  },
  {
   "cell_type": "code",
   "execution_count": null,
   "metadata": {},
   "outputs": [],
   "source": []
  },
  {
   "cell_type": "code",
   "execution_count": null,
   "metadata": {},
   "outputs": [],
   "source": []
  },
  {
   "cell_type": "code",
   "execution_count": null,
   "metadata": {},
   "outputs": [],
   "source": []
  },
  {
   "cell_type": "code",
   "execution_count": null,
   "metadata": {},
   "outputs": [],
   "source": []
  },
  {
   "cell_type": "code",
   "execution_count": null,
   "metadata": {},
   "outputs": [],
   "source": []
  },
  {
   "cell_type": "code",
   "execution_count": null,
   "metadata": {},
   "outputs": [],
   "source": [
    "# Quitamos la linea del CUPS para quedarnos con el CUPS 20\n",
    "#df['CUPS 22'] = df['CUPS 22'].str.split('0P', expand=True)\n",
    "#df['CUPS 20'] = df['CUPS 22']\n",
    "#df.head(3)"
   ]
  },
  {
   "cell_type": "code",
   "execution_count": null,
   "metadata": {
    "collapsed": true
   },
   "outputs": [],
   "source": []
  },
  {
   "cell_type": "code",
   "execution_count": null,
   "metadata": {},
   "outputs": [],
   "source": []
  },
  {
   "cell_type": "code",
   "execution_count": null,
   "metadata": {},
   "outputs": [],
   "source": []
  },
  {
   "cell_type": "code",
   "execution_count": null,
   "metadata": {},
   "outputs": [],
   "source": []
  },
  {
   "cell_type": "code",
   "execution_count": null,
   "metadata": {},
   "outputs": [],
   "source": []
  },
  {
   "cell_type": "code",
   "execution_count": null,
   "metadata": {},
   "outputs": [],
   "source": []
  },
  {
   "cell_type": "code",
   "execution_count": null,
   "metadata": {},
   "outputs": [],
   "source": []
  },
  {
   "cell_type": "code",
   "execution_count": null,
   "metadata": {},
   "outputs": [],
   "source": []
  },
  {
   "cell_type": "code",
   "execution_count": null,
   "metadata": {},
   "outputs": [],
   "source": []
  },
  {
   "cell_type": "code",
   "execution_count": null,
   "metadata": {},
   "outputs": [],
   "source": []
  },
  {
   "cell_type": "code",
   "execution_count": null,
   "metadata": {},
   "outputs": [],
   "source": []
  }
 ],
 "metadata": {
  "kernelspec": {
   "display_name": "Python 3",
   "language": "python",
   "name": "python3"
  },
  "language_info": {
   "codemirror_mode": {
    "name": "ipython",
    "version": 3
   },
   "file_extension": ".py",
   "mimetype": "text/x-python",
   "name": "python",
   "nbconvert_exporter": "python",
   "pygments_lexer": "ipython3",
   "version": "3.6.8"
  }
 },
 "nbformat": 4,
 "nbformat_minor": 2
}
