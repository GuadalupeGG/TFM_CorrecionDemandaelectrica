{
 "cells": [
  {
   "cell_type": "markdown",
   "metadata": {},
   "source": [
    "# ANALISIS DE DATOS"
   ]
  },
  {
   "cell_type": "markdown",
   "metadata": {},
   "source": [
    "Una vez leidos los datos de medidas y de temperaturas tenemos todos los datos necesarios para intentar analizar si hay un cambio en la demanda electrica según la climatología.\n",
    "\n",
    "Vamos a plotear las medidas horarias de los grupos que hemos obtenido.\n"
   ]
  },
  {
   "cell_type": "code",
   "execution_count": 2,
   "metadata": {},
   "outputs": [],
   "source": [
    "import pandas as pd\n",
    "import matplotlib.pyplot as plt\n",
    "%matplotlib inline"
   ]
  },
  {
   "cell_type": "code",
   "execution_count": 37,
   "metadata": {},
   "outputs": [],
   "source": [
    "Medida=pd.read_csv('./Medida_procesada.csv')"
   ]
  },
  {
   "cell_type": "code",
   "execution_count": 38,
   "metadata": {},
   "outputs": [
    {
     "data": {
      "text/html": [
       "<div>\n",
       "<style scoped>\n",
       "    .dataframe tbody tr th:only-of-type {\n",
       "        vertical-align: middle;\n",
       "    }\n",
       "\n",
       "    .dataframe tbody tr th {\n",
       "        vertical-align: top;\n",
       "    }\n",
       "\n",
       "    .dataframe thead th {\n",
       "        text-align: right;\n",
       "    }\n",
       "</style>\n",
       "<table border=\"1\" class=\"dataframe\">\n",
       "  <thead>\n",
       "    <tr style=\"text-align: right;\">\n",
       "      <th></th>\n",
       "      <th>Fecha</th>\n",
       "      <th>Provincia</th>\n",
       "      <th>Tarifa</th>\n",
       "      <th>Fecha.1</th>\n",
       "      <th>Hora</th>\n",
       "      <th>NºClientes</th>\n",
       "      <th>Activa</th>\n",
       "      <th>Tanto1</th>\n",
       "      <th>Comunidad</th>\n",
       "    </tr>\n",
       "  </thead>\n",
       "  <tbody>\n",
       "    <tr>\n",
       "      <th>0</th>\n",
       "      <td>2017-01-01</td>\n",
       "      <td>Albacete</td>\n",
       "      <td>2.0.A</td>\n",
       "      <td>2017-01-01</td>\n",
       "      <td>1</td>\n",
       "      <td>2.0</td>\n",
       "      <td>3.333</td>\n",
       "      <td>1.6665</td>\n",
       "      <td>Castilla la Mancha</td>\n",
       "    </tr>\n",
       "    <tr>\n",
       "      <th>1</th>\n",
       "      <td>2017-01-01</td>\n",
       "      <td>Albacete</td>\n",
       "      <td>2.0.A</td>\n",
       "      <td>2017-01-01</td>\n",
       "      <td>2</td>\n",
       "      <td>2.0</td>\n",
       "      <td>3.177</td>\n",
       "      <td>1.5885</td>\n",
       "      <td>Castilla la Mancha</td>\n",
       "    </tr>\n",
       "    <tr>\n",
       "      <th>2</th>\n",
       "      <td>2017-01-01</td>\n",
       "      <td>Albacete</td>\n",
       "      <td>2.0.A</td>\n",
       "      <td>2017-01-01</td>\n",
       "      <td>3</td>\n",
       "      <td>2.0</td>\n",
       "      <td>1.953</td>\n",
       "      <td>0.9765</td>\n",
       "      <td>Castilla la Mancha</td>\n",
       "    </tr>\n",
       "    <tr>\n",
       "      <th>3</th>\n",
       "      <td>2017-01-01</td>\n",
       "      <td>Albacete</td>\n",
       "      <td>2.0.A</td>\n",
       "      <td>2017-01-01</td>\n",
       "      <td>4</td>\n",
       "      <td>2.0</td>\n",
       "      <td>1.831</td>\n",
       "      <td>0.9155</td>\n",
       "      <td>Castilla la Mancha</td>\n",
       "    </tr>\n",
       "    <tr>\n",
       "      <th>4</th>\n",
       "      <td>2017-01-01</td>\n",
       "      <td>Albacete</td>\n",
       "      <td>2.0.A</td>\n",
       "      <td>2017-01-01</td>\n",
       "      <td>5</td>\n",
       "      <td>2.0</td>\n",
       "      <td>1.274</td>\n",
       "      <td>0.6370</td>\n",
       "      <td>Castilla la Mancha</td>\n",
       "    </tr>\n",
       "  </tbody>\n",
       "</table>\n",
       "</div>"
      ],
      "text/plain": [
       "        Fecha Provincia Tarifa     Fecha.1  Hora  NºClientes  Activa  Tanto1  \\\n",
       "0  2017-01-01  Albacete  2.0.A  2017-01-01     1         2.0   3.333  1.6665   \n",
       "1  2017-01-01  Albacete  2.0.A  2017-01-01     2         2.0   3.177  1.5885   \n",
       "2  2017-01-01  Albacete  2.0.A  2017-01-01     3         2.0   1.953  0.9765   \n",
       "3  2017-01-01  Albacete  2.0.A  2017-01-01     4         2.0   1.831  0.9155   \n",
       "4  2017-01-01  Albacete  2.0.A  2017-01-01     5         2.0   1.274  0.6370   \n",
       "\n",
       "            Comunidad  \n",
       "0  Castilla la Mancha  \n",
       "1  Castilla la Mancha  \n",
       "2  Castilla la Mancha  \n",
       "3  Castilla la Mancha  \n",
       "4  Castilla la Mancha  "
      ]
     },
     "execution_count": 38,
     "metadata": {},
     "output_type": "execute_result"
    }
   ],
   "source": [
    "Medida.head(5)"
   ]
  },
  {
   "cell_type": "code",
   "execution_count": 21,
   "metadata": {},
   "outputs": [],
   "source": [
    "Temperatura=pd.read_csv('./Temperaturas.csv', index_col=False)"
   ]
  },
  {
   "cell_type": "code",
   "execution_count": 23,
   "metadata": {},
   "outputs": [
    {
     "data": {
      "text/html": [
       "<div>\n",
       "<style scoped>\n",
       "    .dataframe tbody tr th:only-of-type {\n",
       "        vertical-align: middle;\n",
       "    }\n",
       "\n",
       "    .dataframe tbody tr th {\n",
       "        vertical-align: top;\n",
       "    }\n",
       "\n",
       "    .dataframe thead th {\n",
       "        text-align: right;\n",
       "    }\n",
       "</style>\n",
       "<table border=\"1\" class=\"dataframe\">\n",
       "  <thead>\n",
       "    <tr style=\"text-align: right;\">\n",
       "      <th></th>\n",
       "      <th>Unnamed: 0</th>\n",
       "      <th>Provincia</th>\n",
       "      <th>Fecha</th>\n",
       "      <th>Temperatura</th>\n",
       "      <th>Comunidad</th>\n",
       "    </tr>\n",
       "  </thead>\n",
       "  <tbody>\n",
       "    <tr>\n",
       "      <th>0</th>\n",
       "      <td>0</td>\n",
       "      <td>Albacete</td>\n",
       "      <td>2017-01-11 07:00:00</td>\n",
       "      <td>3.5</td>\n",
       "      <td>Castilla la Mancha</td>\n",
       "    </tr>\n",
       "    <tr>\n",
       "      <th>1</th>\n",
       "      <td>1</td>\n",
       "      <td>Albacete</td>\n",
       "      <td>2017-01-11 08:00:00</td>\n",
       "      <td>4.0</td>\n",
       "      <td>Castilla la Mancha</td>\n",
       "    </tr>\n",
       "    <tr>\n",
       "      <th>2</th>\n",
       "      <td>2</td>\n",
       "      <td>Albacete</td>\n",
       "      <td>2017-01-11 09:00:00</td>\n",
       "      <td>4.5</td>\n",
       "      <td>Castilla la Mancha</td>\n",
       "    </tr>\n",
       "    <tr>\n",
       "      <th>3</th>\n",
       "      <td>3</td>\n",
       "      <td>Albacete</td>\n",
       "      <td>2017-01-11 10:00:00</td>\n",
       "      <td>5.5</td>\n",
       "      <td>Castilla la Mancha</td>\n",
       "    </tr>\n",
       "    <tr>\n",
       "      <th>4</th>\n",
       "      <td>4</td>\n",
       "      <td>Albacete</td>\n",
       "      <td>2017-01-11 11:00:00</td>\n",
       "      <td>7.0</td>\n",
       "      <td>Castilla la Mancha</td>\n",
       "    </tr>\n",
       "  </tbody>\n",
       "</table>\n",
       "</div>"
      ],
      "text/plain": [
       "   Unnamed: 0 Provincia                Fecha  Temperatura           Comunidad\n",
       "0           0  Albacete  2017-01-11 07:00:00          3.5  Castilla la Mancha\n",
       "1           1  Albacete  2017-01-11 08:00:00          4.0  Castilla la Mancha\n",
       "2           2  Albacete  2017-01-11 09:00:00          4.5  Castilla la Mancha\n",
       "3           3  Albacete  2017-01-11 10:00:00          5.5  Castilla la Mancha\n",
       "4           4  Albacete  2017-01-11 11:00:00          7.0  Castilla la Mancha"
      ]
     },
     "execution_count": 23,
     "metadata": {},
     "output_type": "execute_result"
    }
   ],
   "source": [
    "Temperatura.head(5)"
   ]
  },
  {
   "cell_type": "code",
   "execution_count": null,
   "metadata": {},
   "outputs": [],
   "source": []
  }
 ],
 "metadata": {
  "kernelspec": {
   "display_name": "Python 3",
   "language": "python",
   "name": "python3"
  },
  "language_info": {
   "codemirror_mode": {
    "name": "ipython",
    "version": 3
   },
   "file_extension": ".py",
   "mimetype": "text/x-python",
   "name": "python",
   "nbconvert_exporter": "python",
   "pygments_lexer": "ipython3",
   "version": "3.6.5"
  }
 },
 "nbformat": 4,
 "nbformat_minor": 2
}
