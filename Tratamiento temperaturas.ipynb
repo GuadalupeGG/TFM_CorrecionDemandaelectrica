{
 "cells": [
  {
   "cell_type": "markdown",
   "metadata": {},
   "source": [
    "# Cargamos las librerias necesarias"
   ]
  },
  {
   "cell_type": "code",
   "execution_count": 51,
   "metadata": {},
   "outputs": [],
   "source": [
    "import pandas as pd\n",
    "import matplotlib.pyplot as plt"
   ]
  },
  {
   "cell_type": "markdown",
   "metadata": {},
   "source": [
    "# Leemos los datos de temperaturas\n",
    "\n",
    "Los datos de temperaturas vienen de AEMET de una base de datos del trabajo, los datos los extraigo desde el notebook 'Temperaturas_SGE'. Para no tener problemas con la base de datos descargamos los datos en dos grupos, por un lado 2017 y por otro 2018"
   ]
  },
  {
   "cell_type": "code",
   "execution_count": 52,
   "metadata": {},
   "outputs": [
    {
     "data": {
      "text/plain": [
       "Fecha          datetime64[ns]\n",
       "Localidad              object\n",
       "Temperatura            object\n",
       "dtype: object"
      ]
     },
     "execution_count": 52,
     "metadata": {},
     "output_type": "execute_result"
    }
   ],
   "source": [
    "Temperaturas_2017 = pd.read_csv('./data/medidas_temp_2017.csv', sep=';', \n",
    "                                encoding='cp1252', \n",
    "                                parse_dates=[\"Fecha\"],\n",
    "                                index_col=False)\n",
    "Temperaturas_2017.dtypes"
   ]
  },
  {
   "cell_type": "markdown",
   "metadata": {},
   "source": [
    "Comprobamos que tenemos todas las columnas rellenas y que no hay NaN"
   ]
  },
  {
   "cell_type": "code",
   "execution_count": 53,
   "metadata": {},
   "outputs": [
    {
     "data": {
      "text/plain": [
       "False"
      ]
     },
     "execution_count": 53,
     "metadata": {},
     "output_type": "execute_result"
    }
   ],
   "source": [
    "Temperaturas_2017.isnull().any().any()"
   ]
  },
  {
   "cell_type": "code",
   "execution_count": 54,
   "metadata": {},
   "outputs": [
    {
     "data": {
      "text/html": [
       "<div>\n",
       "<style scoped>\n",
       "    .dataframe tbody tr th:only-of-type {\n",
       "        vertical-align: middle;\n",
       "    }\n",
       "\n",
       "    .dataframe tbody tr th {\n",
       "        vertical-align: top;\n",
       "    }\n",
       "\n",
       "    .dataframe thead th {\n",
       "        text-align: right;\n",
       "    }\n",
       "</style>\n",
       "<table border=\"1\" class=\"dataframe\">\n",
       "  <thead>\n",
       "    <tr style=\"text-align: right;\">\n",
       "      <th></th>\n",
       "      <th>Fecha</th>\n",
       "      <th>Localidad</th>\n",
       "      <th>Temperatura</th>\n",
       "    </tr>\n",
       "  </thead>\n",
       "  <tbody>\n",
       "    <tr>\n",
       "      <th>0</th>\n",
       "      <td>2017-01-11 07:00:00</td>\n",
       "      <td>A Coruña-Cambre</td>\n",
       "      <td>11,0</td>\n",
       "    </tr>\n",
       "    <tr>\n",
       "      <th>1</th>\n",
       "      <td>2017-01-11 07:00:00</td>\n",
       "      <td>A Coruña-Culleredo</td>\n",
       "      <td>11,0</td>\n",
       "    </tr>\n",
       "    <tr>\n",
       "      <th>2</th>\n",
       "      <td>2017-01-11 07:00:00</td>\n",
       "      <td>Albacete-Albacete</td>\n",
       "      <td>4,0</td>\n",
       "    </tr>\n",
       "    <tr>\n",
       "      <th>3</th>\n",
       "      <td>2017-01-11 07:00:00</td>\n",
       "      <td>Albacete-Chinchilla de Monte-Aragón</td>\n",
       "      <td>3,0</td>\n",
       "    </tr>\n",
       "    <tr>\n",
       "      <th>4</th>\n",
       "      <td>2017-01-11 07:00:00</td>\n",
       "      <td>Badajoz-Badajoz</td>\n",
       "      <td>5,0</td>\n",
       "    </tr>\n",
       "  </tbody>\n",
       "</table>\n",
       "</div>"
      ],
      "text/plain": [
       "                Fecha                            Localidad Temperatura\n",
       "0 2017-01-11 07:00:00                      A Coruña-Cambre        11,0\n",
       "1 2017-01-11 07:00:00                   A Coruña-Culleredo        11,0\n",
       "2 2017-01-11 07:00:00                    Albacete-Albacete         4,0\n",
       "3 2017-01-11 07:00:00  Albacete-Chinchilla de Monte-Aragón         3,0\n",
       "4 2017-01-11 07:00:00                      Badajoz-Badajoz         5,0"
      ]
     },
     "execution_count": 54,
     "metadata": {},
     "output_type": "execute_result"
    }
   ],
   "source": [
    "Temperaturas_2017.head(5)"
   ]
  },
  {
   "cell_type": "markdown",
   "metadata": {},
   "source": [
    "Para pasar los datos de la columna Temperatura a números, les voy a quitar el decimal, ya que en realidad ningún dato trae decimales, y le voy a dar formato de número entero a esa columna."
   ]
  },
  {
   "cell_type": "code",
   "execution_count": 55,
   "metadata": {},
   "outputs": [],
   "source": [
    "Temperaturas_2017['Temperatura']=Temperaturas_2017['Temperatura'].str.split(',0', expand=True)"
   ]
  },
  {
   "cell_type": "code",
   "execution_count": 56,
   "metadata": {},
   "outputs": [
    {
     "data": {
      "text/plain": [
       "Fecha          datetime64[ns]\n",
       "Localidad              object\n",
       "Temperatura            object\n",
       "dtype: object"
      ]
     },
     "execution_count": 56,
     "metadata": {},
     "output_type": "execute_result"
    }
   ],
   "source": [
    "Temperaturas_2017.dtypes"
   ]
  },
  {
   "cell_type": "code",
   "execution_count": 57,
   "metadata": {},
   "outputs": [],
   "source": [
    "Temperaturas_2017['Temperatura']=Temperaturas_2017['Temperatura'].astype(int)"
   ]
  },
  {
   "cell_type": "code",
   "execution_count": 58,
   "metadata": {},
   "outputs": [
    {
     "data": {
      "text/html": [
       "<div>\n",
       "<style scoped>\n",
       "    .dataframe tbody tr th:only-of-type {\n",
       "        vertical-align: middle;\n",
       "    }\n",
       "\n",
       "    .dataframe tbody tr th {\n",
       "        vertical-align: top;\n",
       "    }\n",
       "\n",
       "    .dataframe thead th {\n",
       "        text-align: right;\n",
       "    }\n",
       "</style>\n",
       "<table border=\"1\" class=\"dataframe\">\n",
       "  <thead>\n",
       "    <tr style=\"text-align: right;\">\n",
       "      <th></th>\n",
       "      <th>Fecha</th>\n",
       "      <th>Localidad</th>\n",
       "      <th>Temperatura</th>\n",
       "    </tr>\n",
       "  </thead>\n",
       "  <tbody>\n",
       "    <tr>\n",
       "      <th>0</th>\n",
       "      <td>2017-01-11 07:00:00</td>\n",
       "      <td>A Coruña-Cambre</td>\n",
       "      <td>11</td>\n",
       "    </tr>\n",
       "    <tr>\n",
       "      <th>1</th>\n",
       "      <td>2017-01-11 07:00:00</td>\n",
       "      <td>A Coruña-Culleredo</td>\n",
       "      <td>11</td>\n",
       "    </tr>\n",
       "    <tr>\n",
       "      <th>2</th>\n",
       "      <td>2017-01-11 07:00:00</td>\n",
       "      <td>Albacete-Albacete</td>\n",
       "      <td>4</td>\n",
       "    </tr>\n",
       "    <tr>\n",
       "      <th>3</th>\n",
       "      <td>2017-01-11 07:00:00</td>\n",
       "      <td>Albacete-Chinchilla de Monte-Aragón</td>\n",
       "      <td>3</td>\n",
       "    </tr>\n",
       "    <tr>\n",
       "      <th>4</th>\n",
       "      <td>2017-01-11 07:00:00</td>\n",
       "      <td>Badajoz-Badajoz</td>\n",
       "      <td>5</td>\n",
       "    </tr>\n",
       "  </tbody>\n",
       "</table>\n",
       "</div>"
      ],
      "text/plain": [
       "                Fecha                            Localidad  Temperatura\n",
       "0 2017-01-11 07:00:00                      A Coruña-Cambre           11\n",
       "1 2017-01-11 07:00:00                   A Coruña-Culleredo           11\n",
       "2 2017-01-11 07:00:00                    Albacete-Albacete            4\n",
       "3 2017-01-11 07:00:00  Albacete-Chinchilla de Monte-Aragón            3\n",
       "4 2017-01-11 07:00:00                      Badajoz-Badajoz            5"
      ]
     },
     "execution_count": 58,
     "metadata": {},
     "output_type": "execute_result"
    }
   ],
   "source": [
    "Temperaturas_2017.head()"
   ]
  },
  {
   "cell_type": "code",
   "execution_count": 59,
   "metadata": {},
   "outputs": [
    {
     "data": {
      "text/plain": [
       "Fecha          datetime64[ns]\n",
       "Localidad              object\n",
       "Temperatura             int64\n",
       "dtype: object"
      ]
     },
     "execution_count": 59,
     "metadata": {},
     "output_type": "execute_result"
    }
   ],
   "source": [
    "Temperaturas_2017.dtypes"
   ]
  },
  {
   "cell_type": "markdown",
   "metadata": {},
   "source": [
    "### Hacemos lo mismo con el fichero de 2018"
   ]
  },
  {
   "cell_type": "code",
   "execution_count": 60,
   "metadata": {},
   "outputs": [
    {
     "data": {
      "text/plain": [
       "Fecha          datetime64[ns]\n",
       "Localidad              object\n",
       "Temperatura            object\n",
       "dtype: object"
      ]
     },
     "execution_count": 60,
     "metadata": {},
     "output_type": "execute_result"
    }
   ],
   "source": [
    "Temperaturas_2018 = pd.read_csv('./data/medidas_temp_2018.csv', sep=';', encoding='cp1252', parse_dates=[\"Fecha\"],index_col=False)\n",
    "Temperaturas_2018.dtypes\n"
   ]
  },
  {
   "cell_type": "code",
   "execution_count": 61,
   "metadata": {},
   "outputs": [
    {
     "data": {
      "text/plain": [
       "False"
      ]
     },
     "execution_count": 61,
     "metadata": {},
     "output_type": "execute_result"
    }
   ],
   "source": [
    "Temperaturas_2018.isnull().any().any()"
   ]
  },
  {
   "cell_type": "code",
   "execution_count": 62,
   "metadata": {},
   "outputs": [
    {
     "data": {
      "text/plain": [
       "Fecha          datetime64[ns]\n",
       "Localidad              object\n",
       "Temperatura             int64\n",
       "dtype: object"
      ]
     },
     "execution_count": 62,
     "metadata": {},
     "output_type": "execute_result"
    }
   ],
   "source": [
    "Temperaturas_2018['Temperatura']=Temperaturas_2018['Temperatura'].str.split(',0', expand=True)\n",
    "Temperaturas_2018['Temperatura']=Temperaturas_2018['Temperatura'].astype(int)\n",
    "Temperaturas_2018.dtypes"
   ]
  },
  {
   "cell_type": "markdown",
   "metadata": {},
   "source": [
    "# Procesado de los ficheros de temperaturas\n",
    "\n",
    "### Ya tenemos tanto el data set con las temperaturas de 2017 como las de 2018.\n",
    "\n",
    "A continuacíón vamos a unir ambos data set para tener uno solo, vamos a tratar la columna de Localidad y vamos a hacer la media de las temperaturas por comunidad para tenerlo al mismo nivel que tenemos el data set de Medidas."
   ]
  },
  {
   "cell_type": "code",
   "execution_count": 63,
   "metadata": {},
   "outputs": [
    {
     "data": {
      "text/html": [
       "<div>\n",
       "<style scoped>\n",
       "    .dataframe tbody tr th:only-of-type {\n",
       "        vertical-align: middle;\n",
       "    }\n",
       "\n",
       "    .dataframe tbody tr th {\n",
       "        vertical-align: top;\n",
       "    }\n",
       "\n",
       "    .dataframe thead th {\n",
       "        text-align: right;\n",
       "    }\n",
       "</style>\n",
       "<table border=\"1\" class=\"dataframe\">\n",
       "  <thead>\n",
       "    <tr style=\"text-align: right;\">\n",
       "      <th></th>\n",
       "      <th>Fecha</th>\n",
       "      <th>Localidad</th>\n",
       "      <th>Temperatura</th>\n",
       "    </tr>\n",
       "  </thead>\n",
       "  <tbody>\n",
       "    <tr>\n",
       "      <th>0</th>\n",
       "      <td>2017-01-11 07:00:00</td>\n",
       "      <td>A Coruña-Cambre</td>\n",
       "      <td>11</td>\n",
       "    </tr>\n",
       "    <tr>\n",
       "      <th>1</th>\n",
       "      <td>2017-01-11 07:00:00</td>\n",
       "      <td>A Coruña-Culleredo</td>\n",
       "      <td>11</td>\n",
       "    </tr>\n",
       "    <tr>\n",
       "      <th>2</th>\n",
       "      <td>2017-01-11 07:00:00</td>\n",
       "      <td>Albacete-Albacete</td>\n",
       "      <td>4</td>\n",
       "    </tr>\n",
       "    <tr>\n",
       "      <th>3</th>\n",
       "      <td>2017-01-11 07:00:00</td>\n",
       "      <td>Albacete-Chinchilla de Monte-Aragón</td>\n",
       "      <td>3</td>\n",
       "    </tr>\n",
       "    <tr>\n",
       "      <th>4</th>\n",
       "      <td>2017-01-11 07:00:00</td>\n",
       "      <td>Badajoz-Badajoz</td>\n",
       "      <td>5</td>\n",
       "    </tr>\n",
       "  </tbody>\n",
       "</table>\n",
       "</div>"
      ],
      "text/plain": [
       "                Fecha                            Localidad  Temperatura\n",
       "0 2017-01-11 07:00:00                      A Coruña-Cambre           11\n",
       "1 2017-01-11 07:00:00                   A Coruña-Culleredo           11\n",
       "2 2017-01-11 07:00:00                    Albacete-Albacete            4\n",
       "3 2017-01-11 07:00:00  Albacete-Chinchilla de Monte-Aragón            3\n",
       "4 2017-01-11 07:00:00                      Badajoz-Badajoz            5"
      ]
     },
     "execution_count": 63,
     "metadata": {},
     "output_type": "execute_result"
    }
   ],
   "source": [
    "Temperaturas = pd.concat([Temperaturas_2017, Temperaturas_2018])\n",
    "\n",
    "Temperaturas.head(5)"
   ]
  },
  {
   "cell_type": "code",
   "execution_count": 64,
   "metadata": {},
   "outputs": [
    {
     "data": {
      "text/plain": [
       "Fecha          datetime64[ns]\n",
       "Localidad              object\n",
       "Temperatura             int64\n",
       "dtype: object"
      ]
     },
     "execution_count": 64,
     "metadata": {},
     "output_type": "execute_result"
    }
   ],
   "source": [
    "Temperaturas.dtypes"
   ]
  },
  {
   "cell_type": "markdown",
   "metadata": {},
   "source": [
    "Vamos a validar que los datos tienen sentido y que no tengo outliers en las temperaturas."
   ]
  },
  {
   "cell_type": "code",
   "execution_count": 65,
   "metadata": {},
   "outputs": [
    {
     "data": {
      "text/html": [
       "<div>\n",
       "<style scoped>\n",
       "    .dataframe tbody tr th:only-of-type {\n",
       "        vertical-align: middle;\n",
       "    }\n",
       "\n",
       "    .dataframe tbody tr th {\n",
       "        vertical-align: top;\n",
       "    }\n",
       "\n",
       "    .dataframe thead th {\n",
       "        text-align: right;\n",
       "    }\n",
       "</style>\n",
       "<table border=\"1\" class=\"dataframe\">\n",
       "  <thead>\n",
       "    <tr style=\"text-align: right;\">\n",
       "      <th></th>\n",
       "      <th>Temperatura</th>\n",
       "    </tr>\n",
       "  </thead>\n",
       "  <tbody>\n",
       "    <tr>\n",
       "      <th>count</th>\n",
       "      <td>27434.000000</td>\n",
       "    </tr>\n",
       "    <tr>\n",
       "      <th>mean</th>\n",
       "      <td>7.036961</td>\n",
       "    </tr>\n",
       "    <tr>\n",
       "      <th>std</th>\n",
       "      <td>4.711471</td>\n",
       "    </tr>\n",
       "    <tr>\n",
       "      <th>min</th>\n",
       "      <td>-8.000000</td>\n",
       "    </tr>\n",
       "    <tr>\n",
       "      <th>25%</th>\n",
       "      <td>4.000000</td>\n",
       "    </tr>\n",
       "    <tr>\n",
       "      <th>50%</th>\n",
       "      <td>7.000000</td>\n",
       "    </tr>\n",
       "    <tr>\n",
       "      <th>75%</th>\n",
       "      <td>10.000000</td>\n",
       "    </tr>\n",
       "    <tr>\n",
       "      <th>max</th>\n",
       "      <td>21.000000</td>\n",
       "    </tr>\n",
       "  </tbody>\n",
       "</table>\n",
       "</div>"
      ],
      "text/plain": [
       "        Temperatura\n",
       "count  27434.000000\n",
       "mean       7.036961\n",
       "std        4.711471\n",
       "min       -8.000000\n",
       "25%        4.000000\n",
       "50%        7.000000\n",
       "75%       10.000000\n",
       "max       21.000000"
      ]
     },
     "execution_count": 65,
     "metadata": {},
     "output_type": "execute_result"
    }
   ],
   "source": [
    "Temperaturas.describe()"
   ]
  },
  {
   "cell_type": "code",
   "execution_count": 66,
   "metadata": {},
   "outputs": [],
   "source": [
    "Temperaturas['Fecha']=pd.to_datetime(Temperaturas['Fecha'], yearfirst=True,format='%Y-%m-%d %H:%M:%S')"
   ]
  },
  {
   "cell_type": "code",
   "execution_count": 67,
   "metadata": {},
   "outputs": [
    {
     "data": {
      "text/html": [
       "<div>\n",
       "<style scoped>\n",
       "    .dataframe tbody tr th:only-of-type {\n",
       "        vertical-align: middle;\n",
       "    }\n",
       "\n",
       "    .dataframe tbody tr th {\n",
       "        vertical-align: top;\n",
       "    }\n",
       "\n",
       "    .dataframe thead th {\n",
       "        text-align: right;\n",
       "    }\n",
       "</style>\n",
       "<table border=\"1\" class=\"dataframe\">\n",
       "  <thead>\n",
       "    <tr style=\"text-align: right;\">\n",
       "      <th></th>\n",
       "      <th>Fecha</th>\n",
       "      <th>Localidad</th>\n",
       "      <th>Temperatura</th>\n",
       "    </tr>\n",
       "  </thead>\n",
       "  <tbody>\n",
       "    <tr>\n",
       "      <th>0</th>\n",
       "      <td>2017-01-11 07:00:00</td>\n",
       "      <td>A Coruña-Cambre</td>\n",
       "      <td>11</td>\n",
       "    </tr>\n",
       "    <tr>\n",
       "      <th>1</th>\n",
       "      <td>2017-01-11 07:00:00</td>\n",
       "      <td>A Coruña-Culleredo</td>\n",
       "      <td>11</td>\n",
       "    </tr>\n",
       "    <tr>\n",
       "      <th>2</th>\n",
       "      <td>2017-01-11 07:00:00</td>\n",
       "      <td>Albacete-Albacete</td>\n",
       "      <td>4</td>\n",
       "    </tr>\n",
       "    <tr>\n",
       "      <th>3</th>\n",
       "      <td>2017-01-11 07:00:00</td>\n",
       "      <td>Albacete-Chinchilla de Monte-Aragón</td>\n",
       "      <td>3</td>\n",
       "    </tr>\n",
       "    <tr>\n",
       "      <th>4</th>\n",
       "      <td>2017-01-11 07:00:00</td>\n",
       "      <td>Badajoz-Badajoz</td>\n",
       "      <td>5</td>\n",
       "    </tr>\n",
       "  </tbody>\n",
       "</table>\n",
       "</div>"
      ],
      "text/plain": [
       "                Fecha                            Localidad  Temperatura\n",
       "0 2017-01-11 07:00:00                      A Coruña-Cambre           11\n",
       "1 2017-01-11 07:00:00                   A Coruña-Culleredo           11\n",
       "2 2017-01-11 07:00:00                    Albacete-Albacete            4\n",
       "3 2017-01-11 07:00:00  Albacete-Chinchilla de Monte-Aragón            3\n",
       "4 2017-01-11 07:00:00                      Badajoz-Badajoz            5"
      ]
     },
     "execution_count": 67,
     "metadata": {},
     "output_type": "execute_result"
    }
   ],
   "source": [
    "Temperaturas.head(5)"
   ]
  },
  {
   "cell_type": "code",
   "execution_count": 68,
   "metadata": {},
   "outputs": [
    {
     "data": {
      "text/plain": [
       "[<matplotlib.lines.Line2D at 0x118985320>]"
      ]
     },
     "execution_count": 68,
     "metadata": {},
     "output_type": "execute_result"
    },
    {
     "data": {
      "image/png": "[encoded data removed]",
      "text/plain": [
       "<Figure size 432x288 with 1 Axes>"
      ]
     },
     "metadata": {},
     "output_type": "display_data"
    }
   ],
   "source": [
    "plt.plot(Temperaturas['Temperatura'])"
   ]
  },
  {
   "cell_type": "code",
   "execution_count": 69,
   "metadata": {},
   "outputs": [
    {
     "data": {
      "text/plain": [
       "\u001b[0;31mDocstring:\u001b[0m\n",
       "S.split(sep=None, maxsplit=-1) -> list of strings\n",
       "\n",
       "Return a list of the words in S, using sep as the\n",
       "delimiter string.  If maxsplit is given, at most maxsplit\n",
       "splits are done. If sep is not specified or is None, any\n",
       "whitespace string is a separator and empty strings are\n",
       "removed from the result.\n",
       "\u001b[0;31mType:\u001b[0m      method_descriptor\n"
      ]
     },
     "metadata": {},
     "output_type": "display_data"
    }
   ],
   "source": [
    "str.split?"
   ]
  },
  {
   "cell_type": "markdown",
   "metadata": {},
   "source": [
    "Vamos a crear una nueva Columna en nuestro data set, en un principio será la misma que la Localidad, y desués utilizaremos la función str.split para quedarnos solo con la provincia aprovechando que está separada en todos casos por un guión (-)."
   ]
  },
  {
   "cell_type": "code",
   "execution_count": 70,
   "metadata": {},
   "outputs": [],
   "source": [
    "Temperaturas['Provincia']=Temperaturas['Localidad']"
   ]
  },
  {
   "cell_type": "code",
   "execution_count": 71,
   "metadata": {},
   "outputs": [],
   "source": [
    "Temperaturas['Provincia']=Temperaturas['Localidad'].str.split('-', 1, expand=True)"
   ]
  },
  {
   "cell_type": "code",
   "execution_count": 72,
   "metadata": {},
   "outputs": [
    {
     "data": {
      "text/html": [
       "<div>\n",
       "<style scoped>\n",
       "    .dataframe tbody tr th:only-of-type {\n",
       "        vertical-align: middle;\n",
       "    }\n",
       "\n",
       "    .dataframe tbody tr th {\n",
       "        vertical-align: top;\n",
       "    }\n",
       "\n",
       "    .dataframe thead th {\n",
       "        text-align: right;\n",
       "    }\n",
       "</style>\n",
       "<table border=\"1\" class=\"dataframe\">\n",
       "  <thead>\n",
       "    <tr style=\"text-align: right;\">\n",
       "      <th></th>\n",
       "      <th>Fecha</th>\n",
       "      <th>Localidad</th>\n",
       "      <th>Temperatura</th>\n",
       "      <th>Provincia</th>\n",
       "    </tr>\n",
       "  </thead>\n",
       "  <tbody>\n",
       "    <tr>\n",
       "      <th>0</th>\n",
       "      <td>2017-01-11 07:00:00</td>\n",
       "      <td>A Coruña-Cambre</td>\n",
       "      <td>11</td>\n",
       "      <td>A Coruña</td>\n",
       "    </tr>\n",
       "    <tr>\n",
       "      <th>1</th>\n",
       "      <td>2017-01-11 07:00:00</td>\n",
       "      <td>A Coruña-Culleredo</td>\n",
       "      <td>11</td>\n",
       "      <td>A Coruña</td>\n",
       "    </tr>\n",
       "    <tr>\n",
       "      <th>2</th>\n",
       "      <td>2017-01-11 07:00:00</td>\n",
       "      <td>Albacete-Albacete</td>\n",
       "      <td>4</td>\n",
       "      <td>Albacete</td>\n",
       "    </tr>\n",
       "    <tr>\n",
       "      <th>3</th>\n",
       "      <td>2017-01-11 07:00:00</td>\n",
       "      <td>Albacete-Chinchilla de Monte-Aragón</td>\n",
       "      <td>3</td>\n",
       "      <td>Albacete</td>\n",
       "    </tr>\n",
       "    <tr>\n",
       "      <th>4</th>\n",
       "      <td>2017-01-11 07:00:00</td>\n",
       "      <td>Badajoz-Badajoz</td>\n",
       "      <td>5</td>\n",
       "      <td>Badajoz</td>\n",
       "    </tr>\n",
       "  </tbody>\n",
       "</table>\n",
       "</div>"
      ],
      "text/plain": [
       "                Fecha                            Localidad  Temperatura  \\\n",
       "0 2017-01-11 07:00:00                      A Coruña-Cambre           11   \n",
       "1 2017-01-11 07:00:00                   A Coruña-Culleredo           11   \n",
       "2 2017-01-11 07:00:00                    Albacete-Albacete            4   \n",
       "3 2017-01-11 07:00:00  Albacete-Chinchilla de Monte-Aragón            3   \n",
       "4 2017-01-11 07:00:00                      Badajoz-Badajoz            5   \n",
       "\n",
       "  Provincia  \n",
       "0  A Coruña  \n",
       "1  A Coruña  \n",
       "2  Albacete  \n",
       "3  Albacete  \n",
       "4   Badajoz  "
      ]
     },
     "execution_count": 72,
     "metadata": {},
     "output_type": "execute_result"
    }
   ],
   "source": [
    "Temperaturas.head(5)"
   ]
  },
  {
   "cell_type": "code",
   "execution_count": 73,
   "metadata": {},
   "outputs": [
    {
     "data": {
      "text/html": [
       "<div>\n",
       "<style scoped>\n",
       "    .dataframe tbody tr th:only-of-type {\n",
       "        vertical-align: middle;\n",
       "    }\n",
       "\n",
       "    .dataframe tbody tr th {\n",
       "        vertical-align: top;\n",
       "    }\n",
       "\n",
       "    .dataframe thead th {\n",
       "        text-align: right;\n",
       "    }\n",
       "</style>\n",
       "<table border=\"1\" class=\"dataframe\">\n",
       "  <thead>\n",
       "    <tr style=\"text-align: right;\">\n",
       "      <th></th>\n",
       "      <th>index</th>\n",
       "      <th>Provincia</th>\n",
       "      <th>Fecha</th>\n",
       "      <th>Temperatura</th>\n",
       "    </tr>\n",
       "  </thead>\n",
       "  <tbody>\n",
       "    <tr>\n",
       "      <th>0</th>\n",
       "      <td>0</td>\n",
       "      <td>Albacete</td>\n",
       "      <td>2017-01-11 07:00:00</td>\n",
       "      <td>3.5</td>\n",
       "    </tr>\n",
       "    <tr>\n",
       "      <th>1</th>\n",
       "      <td>1</td>\n",
       "      <td>Albacete</td>\n",
       "      <td>2017-01-11 08:00:00</td>\n",
       "      <td>4.0</td>\n",
       "    </tr>\n",
       "    <tr>\n",
       "      <th>2</th>\n",
       "      <td>2</td>\n",
       "      <td>Albacete</td>\n",
       "      <td>2017-01-11 09:00:00</td>\n",
       "      <td>4.5</td>\n",
       "    </tr>\n",
       "    <tr>\n",
       "      <th>3</th>\n",
       "      <td>3</td>\n",
       "      <td>Albacete</td>\n",
       "      <td>2017-01-11 10:00:00</td>\n",
       "      <td>5.5</td>\n",
       "    </tr>\n",
       "    <tr>\n",
       "      <th>4</th>\n",
       "      <td>4</td>\n",
       "      <td>Albacete</td>\n",
       "      <td>2017-01-11 11:00:00</td>\n",
       "      <td>7.0</td>\n",
       "    </tr>\n",
       "    <tr>\n",
       "      <th>5</th>\n",
       "      <td>5</td>\n",
       "      <td>Albacete</td>\n",
       "      <td>2017-01-11 12:00:00</td>\n",
       "      <td>8.5</td>\n",
       "    </tr>\n",
       "    <tr>\n",
       "      <th>6</th>\n",
       "      <td>6</td>\n",
       "      <td>Albacete</td>\n",
       "      <td>2017-01-11 13:00:00</td>\n",
       "      <td>8.5</td>\n",
       "    </tr>\n",
       "    <tr>\n",
       "      <th>7</th>\n",
       "      <td>7</td>\n",
       "      <td>Albacete</td>\n",
       "      <td>2017-01-11 14:00:00</td>\n",
       "      <td>9.5</td>\n",
       "    </tr>\n",
       "    <tr>\n",
       "      <th>8</th>\n",
       "      <td>8</td>\n",
       "      <td>Albacete</td>\n",
       "      <td>2017-01-11 15:00:00</td>\n",
       "      <td>9.5</td>\n",
       "    </tr>\n",
       "    <tr>\n",
       "      <th>9</th>\n",
       "      <td>9</td>\n",
       "      <td>Albacete</td>\n",
       "      <td>2017-01-11 16:00:00</td>\n",
       "      <td>9.0</td>\n",
       "    </tr>\n",
       "  </tbody>\n",
       "</table>\n",
       "</div>"
      ],
      "text/plain": [
       "   index Provincia               Fecha  Temperatura\n",
       "0      0  Albacete 2017-01-11 07:00:00          3.5\n",
       "1      1  Albacete 2017-01-11 08:00:00          4.0\n",
       "2      2  Albacete 2017-01-11 09:00:00          4.5\n",
       "3      3  Albacete 2017-01-11 10:00:00          5.5\n",
       "4      4  Albacete 2017-01-11 11:00:00          7.0\n",
       "5      5  Albacete 2017-01-11 12:00:00          8.5\n",
       "6      6  Albacete 2017-01-11 13:00:00          8.5\n",
       "7      7  Albacete 2017-01-11 14:00:00          9.5\n",
       "8      8  Albacete 2017-01-11 15:00:00          9.5\n",
       "9      9  Albacete 2017-01-11 16:00:00          9.0"
      ]
     },
     "execution_count": 73,
     "metadata": {},
     "output_type": "execute_result"
    }
   ],
   "source": [
    "Temperaturas=Temperaturas.groupby(['Provincia', 'Fecha']).mean()\n",
    "Temperaturas=Temperaturas_2.reset_index()\n",
    "\n",
    "\n",
    "Temperaturas.head(10)"
   ]
  },
  {
   "cell_type": "code",
   "execution_count": 74,
   "metadata": {},
   "outputs": [],
   "source": [
    "Temperaturas.drop('index', 1, inplace=True)"
   ]
  },
  {
   "cell_type": "code",
   "execution_count": 75,
   "metadata": {},
   "outputs": [
    {
     "data": {
      "text/html": [
       "<div>\n",
       "<style scoped>\n",
       "    .dataframe tbody tr th:only-of-type {\n",
       "        vertical-align: middle;\n",
       "    }\n",
       "\n",
       "    .dataframe tbody tr th {\n",
       "        vertical-align: top;\n",
       "    }\n",
       "\n",
       "    .dataframe thead th {\n",
       "        text-align: right;\n",
       "    }\n",
       "</style>\n",
       "<table border=\"1\" class=\"dataframe\">\n",
       "  <thead>\n",
       "    <tr style=\"text-align: right;\">\n",
       "      <th></th>\n",
       "      <th>Provincia</th>\n",
       "      <th>Fecha</th>\n",
       "      <th>Temperatura</th>\n",
       "    </tr>\n",
       "  </thead>\n",
       "  <tbody>\n",
       "    <tr>\n",
       "      <th>0</th>\n",
       "      <td>Albacete</td>\n",
       "      <td>2017-01-11 07:00:00</td>\n",
       "      <td>3.5</td>\n",
       "    </tr>\n",
       "    <tr>\n",
       "      <th>1</th>\n",
       "      <td>Albacete</td>\n",
       "      <td>2017-01-11 08:00:00</td>\n",
       "      <td>4.0</td>\n",
       "    </tr>\n",
       "    <tr>\n",
       "      <th>2</th>\n",
       "      <td>Albacete</td>\n",
       "      <td>2017-01-11 09:00:00</td>\n",
       "      <td>4.5</td>\n",
       "    </tr>\n",
       "    <tr>\n",
       "      <th>3</th>\n",
       "      <td>Albacete</td>\n",
       "      <td>2017-01-11 10:00:00</td>\n",
       "      <td>5.5</td>\n",
       "    </tr>\n",
       "    <tr>\n",
       "      <th>4</th>\n",
       "      <td>Albacete</td>\n",
       "      <td>2017-01-11 11:00:00</td>\n",
       "      <td>7.0</td>\n",
       "    </tr>\n",
       "  </tbody>\n",
       "</table>\n",
       "</div>"
      ],
      "text/plain": [
       "  Provincia               Fecha  Temperatura\n",
       "0  Albacete 2017-01-11 07:00:00          3.5\n",
       "1  Albacete 2017-01-11 08:00:00          4.0\n",
       "2  Albacete 2017-01-11 09:00:00          4.5\n",
       "3  Albacete 2017-01-11 10:00:00          5.5\n",
       "4  Albacete 2017-01-11 11:00:00          7.0"
      ]
     },
     "execution_count": 75,
     "metadata": {},
     "output_type": "execute_result"
    }
   ],
   "source": [
    "Temperaturas.head(5)"
   ]
  },
  {
   "cell_type": "code",
   "execution_count": 76,
   "metadata": {},
   "outputs": [
    {
     "data": {
      "text/html": [
       "<div>\n",
       "<style scoped>\n",
       "    .dataframe tbody tr th:only-of-type {\n",
       "        vertical-align: middle;\n",
       "    }\n",
       "\n",
       "    .dataframe tbody tr th {\n",
       "        vertical-align: top;\n",
       "    }\n",
       "\n",
       "    .dataframe thead th {\n",
       "        text-align: right;\n",
       "    }\n",
       "</style>\n",
       "<table border=\"1\" class=\"dataframe\">\n",
       "  <thead>\n",
       "    <tr style=\"text-align: right;\">\n",
       "      <th></th>\n",
       "      <th>Provincia</th>\n",
       "      <th>Comunidad</th>\n",
       "    </tr>\n",
       "  </thead>\n",
       "  <tbody>\n",
       "    <tr>\n",
       "      <th>0</th>\n",
       "      <td>Albacete</td>\n",
       "      <td>Castilla la Mancha</td>\n",
       "    </tr>\n",
       "    <tr>\n",
       "      <th>1</th>\n",
       "      <td>Alicante</td>\n",
       "      <td>Comunidad Valenciana</td>\n",
       "    </tr>\n",
       "    <tr>\n",
       "      <th>2</th>\n",
       "      <td>Almería</td>\n",
       "      <td>Andalucía</td>\n",
       "    </tr>\n",
       "    <tr>\n",
       "      <th>3</th>\n",
       "      <td>Badajoz</td>\n",
       "      <td>Extremadura</td>\n",
       "    </tr>\n",
       "    <tr>\n",
       "      <th>4</th>\n",
       "      <td>Barcelona</td>\n",
       "      <td>Cataluña</td>\n",
       "    </tr>\n",
       "  </tbody>\n",
       "</table>\n",
       "</div>"
      ],
      "text/plain": [
       "   Provincia             Comunidad\n",
       "0   Albacete    Castilla la Mancha\n",
       "1   Alicante  Comunidad Valenciana\n",
       "2    Almería             Andalucía\n",
       "3    Badajoz           Extremadura\n",
       "4  Barcelona              Cataluña"
      ]
     },
     "execution_count": 76,
     "metadata": {},
     "output_type": "execute_result"
    }
   ],
   "source": [
    "Comunidades=pd.read_excel('./data/Comunidades.xlsx')\n",
    "Comunidades.head(5)"
   ]
  },
  {
   "cell_type": "code",
   "execution_count": 77,
   "metadata": {},
   "outputs": [
    {
     "data": {
      "text/html": [
       "<div>\n",
       "<style scoped>\n",
       "    .dataframe tbody tr th:only-of-type {\n",
       "        vertical-align: middle;\n",
       "    }\n",
       "\n",
       "    .dataframe tbody tr th {\n",
       "        vertical-align: top;\n",
       "    }\n",
       "\n",
       "    .dataframe thead th {\n",
       "        text-align: right;\n",
       "    }\n",
       "</style>\n",
       "<table border=\"1\" class=\"dataframe\">\n",
       "  <thead>\n",
       "    <tr style=\"text-align: right;\">\n",
       "      <th></th>\n",
       "      <th>Provincia</th>\n",
       "      <th>Fecha</th>\n",
       "      <th>Temperatura</th>\n",
       "      <th>Comunidad</th>\n",
       "    </tr>\n",
       "  </thead>\n",
       "  <tbody>\n",
       "    <tr>\n",
       "      <th>0</th>\n",
       "      <td>Albacete</td>\n",
       "      <td>2017-01-11 07:00:00</td>\n",
       "      <td>3.5</td>\n",
       "      <td>Castilla la Mancha</td>\n",
       "    </tr>\n",
       "    <tr>\n",
       "      <th>1</th>\n",
       "      <td>Albacete</td>\n",
       "      <td>2017-01-11 08:00:00</td>\n",
       "      <td>4.0</td>\n",
       "      <td>Castilla la Mancha</td>\n",
       "    </tr>\n",
       "    <tr>\n",
       "      <th>2</th>\n",
       "      <td>Albacete</td>\n",
       "      <td>2017-01-11 09:00:00</td>\n",
       "      <td>4.5</td>\n",
       "      <td>Castilla la Mancha</td>\n",
       "    </tr>\n",
       "    <tr>\n",
       "      <th>3</th>\n",
       "      <td>Albacete</td>\n",
       "      <td>2017-01-11 10:00:00</td>\n",
       "      <td>5.5</td>\n",
       "      <td>Castilla la Mancha</td>\n",
       "    </tr>\n",
       "    <tr>\n",
       "      <th>4</th>\n",
       "      <td>Albacete</td>\n",
       "      <td>2017-01-11 11:00:00</td>\n",
       "      <td>7.0</td>\n",
       "      <td>Castilla la Mancha</td>\n",
       "    </tr>\n",
       "  </tbody>\n",
       "</table>\n",
       "</div>"
      ],
      "text/plain": [
       "  Provincia               Fecha  Temperatura           Comunidad\n",
       "0  Albacete 2017-01-11 07:00:00          3.5  Castilla la Mancha\n",
       "1  Albacete 2017-01-11 08:00:00          4.0  Castilla la Mancha\n",
       "2  Albacete 2017-01-11 09:00:00          4.5  Castilla la Mancha\n",
       "3  Albacete 2017-01-11 10:00:00          5.5  Castilla la Mancha\n",
       "4  Albacete 2017-01-11 11:00:00          7.0  Castilla la Mancha"
      ]
     },
     "execution_count": 77,
     "metadata": {},
     "output_type": "execute_result"
    }
   ],
   "source": [
    "Temperaturas = pd.merge(Temperaturas, Comunidades, on='Provincia')\n",
    "Temperaturas.head(5)"
   ]
  },
  {
   "cell_type": "code",
   "execution_count": 78,
   "metadata": {},
   "outputs": [
    {
     "data": {
      "text/plain": [
       "[<matplotlib.lines.Line2D at 0x1187cdb00>]"
      ]
     },
     "execution_count": 78,
     "metadata": {},
     "output_type": "execute_result"
    },
    {
     "data": {
      "image/png": "[encoded data removed]",
      "text/plain": [
       "<Figure size 432x288 with 1 Axes>"
      ]
     },
     "metadata": {},
     "output_type": "display_data"
    }
   ],
   "source": [
    "plt.plot(Temperaturas_2['Temperatura'])"
   ]
  },
  {
   "cell_type": "code",
   "execution_count": 79,
   "metadata": {},
   "outputs": [],
   "source": [
    "Temperaturas.to_csv('Temperaturas.csv')"
   ]
  },
  {
   "cell_type": "code",
   "execution_count": null,
   "metadata": {},
   "outputs": [],
   "source": []
  },
  {
   "cell_type": "code",
   "execution_count": null,
   "metadata": {},
   "outputs": [],
   "source": []
  }
 ],
 "metadata": {
  "kernelspec": {
   "display_name": "Python 3",
   "language": "python",
   "name": "python3"
  },
  "language_info": {
   "codemirror_mode": {
    "name": "ipython",
    "version": 3
   },
   "file_extension": ".py",
   "mimetype": "text/x-python",
   "name": "python",
   "nbconvert_exporter": "python",
   "pygments_lexer": "ipython3",
   "version": "3.6.5"
  }
 },
 "nbformat": 4,
 "nbformat_minor": 2
}
