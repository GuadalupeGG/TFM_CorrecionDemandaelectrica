{
 "cells": [
  {
   "cell_type": "markdown",
   "metadata": {},
   "source": [
    "# Importar librerias necesarias"
   ]
  },
  {
   "cell_type": "code",
   "execution_count": 2,
   "metadata": {
    "collapsed": true
   },
   "outputs": [],
   "source": [
    "import pandas as pd\n",
    "import openpyxl\n",
    "import matplotlib.pyplot as plt\n",
    "%matplotlib inline\n",
    "import numpy as np\n",
    "import numpy.ma as ma\n",
    "import seaborn as sns"
   ]
  },
  {
   "cell_type": "markdown",
   "metadata": {},
   "source": [
    "# Lectura de los datos\n",
    "\n",
    "Tengo toda la información de curvas de medida en dos ficheros excel, cada uno de los ficheros tiene varias pestañas por lo que tengo que unir toda la información en un solo data frame.\n",
    "\n",
    "Lo primero de todo es abrir el primer fichero, ver cuantas pestañas tiene y conocer los nombres de cada una de las pestañas.\n",
    "\n",
    "Por motivos de confidencialidad estos ficheros originales de curvas de consumo horarias por cliente no las puedo subir a github, subiré solo la curva final agregada para 2017 y 2018 por comunidad y por tarifa."
   ]
  },
  {
   "cell_type": "code",
   "execution_count": 2,
   "metadata": {},
   "outputs": [],
   "source": [
    "excel_document_17 = openpyxl.load_workbook('./data/Cups2017.xlsx')"
   ]
  },
  {
   "cell_type": "code",
   "execution_count": 3,
   "metadata": {},
   "outputs": [
    {
     "name": "stderr",
     "output_type": "stream",
     "text": [
      "/anaconda3/lib/python3.6/site-packages/ipykernel_launcher.py:1: DeprecationWarning: Call to deprecated function get_sheet_names (Use wb.sheetnames).\n",
      "  \"\"\"Entry point for launching an IPython kernel.\n"
     ]
    },
    {
     "data": {
      "text/plain": [
       "['Page 1', 'Page 2', 'Page 3', 'Page 4']"
      ]
     },
     "execution_count": 3,
     "metadata": {},
     "output_type": "execute_result"
    }
   ],
   "source": [
    "excel_document_17.get_sheet_names()"
   ]
  },
  {
   "cell_type": "markdown",
   "metadata": {},
   "source": [
    "### Unificar los datos. \n",
    "\n",
    "Accedemos al fichero excel y creamos un data frame de cada una de las pestaña, a continuación unimos todos los data frame en uno solo."
   ]
  },
  {
   "cell_type": "code",
   "execution_count": 3,
   "metadata": {},
   "outputs": [],
   "source": [
    "xlsx_2017 = pd.ExcelFile('./data/Cups2017.xlsx') \n",
    "\n",
    "df1 = pd.read_excel(xlsx_2017, 'Page 1') \n",
    "df2 = pd.read_excel(xlsx_2017, 'Page 2') \n",
    "df3 = pd.read_excel(xlsx_2017, 'Page 3') \n",
    "df4 = pd.read_excel(xlsx_2017, 'Page 4')"
   ]
  },
  {
   "cell_type": "code",
   "execution_count": 4,
   "metadata": {},
   "outputs": [
    {
     "data": {
      "text/plain": [
       "\u001b[0;31mSignature:\u001b[0m \u001b[0mpd\u001b[0m\u001b[0;34m.\u001b[0m\u001b[0mread_excel\u001b[0m\u001b[0;34m(\u001b[0m\u001b[0mio\u001b[0m\u001b[0;34m,\u001b[0m \u001b[0msheet_name\u001b[0m\u001b[0;34m=\u001b[0m\u001b[0;36m0\u001b[0m\u001b[0;34m,\u001b[0m \u001b[0mheader\u001b[0m\u001b[0;34m=\u001b[0m\u001b[0;36m0\u001b[0m\u001b[0;34m,\u001b[0m \u001b[0mnames\u001b[0m\u001b[0;34m=\u001b[0m\u001b[0;32mNone\u001b[0m\u001b[0;34m,\u001b[0m \u001b[0mindex_col\u001b[0m\u001b[0;34m=\u001b[0m\u001b[0;32mNone\u001b[0m\u001b[0;34m,\u001b[0m \u001b[0musecols\u001b[0m\u001b[0;34m=\u001b[0m\u001b[0;32mNone\u001b[0m\u001b[0;34m,\u001b[0m \u001b[0msqueeze\u001b[0m\u001b[0;34m=\u001b[0m\u001b[0;32mFalse\u001b[0m\u001b[0;34m,\u001b[0m \u001b[0mdtype\u001b[0m\u001b[0;34m=\u001b[0m\u001b[0;32mNone\u001b[0m\u001b[0;34m,\u001b[0m \u001b[0mengine\u001b[0m\u001b[0;34m=\u001b[0m\u001b[0;32mNone\u001b[0m\u001b[0;34m,\u001b[0m \u001b[0mconverters\u001b[0m\u001b[0;34m=\u001b[0m\u001b[0;32mNone\u001b[0m\u001b[0;34m,\u001b[0m \u001b[0mtrue_values\u001b[0m\u001b[0;34m=\u001b[0m\u001b[0;32mNone\u001b[0m\u001b[0;34m,\u001b[0m \u001b[0mfalse_values\u001b[0m\u001b[0;34m=\u001b[0m\u001b[0;32mNone\u001b[0m\u001b[0;34m,\u001b[0m \u001b[0mskiprows\u001b[0m\u001b[0;34m=\u001b[0m\u001b[0;32mNone\u001b[0m\u001b[0;34m,\u001b[0m \u001b[0mnrows\u001b[0m\u001b[0;34m=\u001b[0m\u001b[0;32mNone\u001b[0m\u001b[0;34m,\u001b[0m \u001b[0mna_values\u001b[0m\u001b[0;34m=\u001b[0m\u001b[0;32mNone\u001b[0m\u001b[0;34m,\u001b[0m \u001b[0mparse_dates\u001b[0m\u001b[0;34m=\u001b[0m\u001b[0;32mFalse\u001b[0m\u001b[0;34m,\u001b[0m \u001b[0mdate_parser\u001b[0m\u001b[0;34m=\u001b[0m\u001b[0;32mNone\u001b[0m\u001b[0;34m,\u001b[0m \u001b[0mthousands\u001b[0m\u001b[0;34m=\u001b[0m\u001b[0;32mNone\u001b[0m\u001b[0;34m,\u001b[0m \u001b[0mcomment\u001b[0m\u001b[0;34m=\u001b[0m\u001b[0;32mNone\u001b[0m\u001b[0;34m,\u001b[0m \u001b[0mskipfooter\u001b[0m\u001b[0;34m=\u001b[0m\u001b[0;36m0\u001b[0m\u001b[0;34m,\u001b[0m \u001b[0mconvert_float\u001b[0m\u001b[0;34m=\u001b[0m\u001b[0;32mTrue\u001b[0m\u001b[0;34m,\u001b[0m \u001b[0;34m**\u001b[0m\u001b[0mkwds\u001b[0m\u001b[0;34m)\u001b[0m\u001b[0;34m\u001b[0m\u001b[0;34m\u001b[0m\u001b[0m\n",
       "\u001b[0;31mDocstring:\u001b[0m\n",
       "Read an Excel table into a pandas DataFrame\n",
       "\n",
       "Parameters\n",
       "----------\n",
       "io : string, path object (pathlib.Path or py._path.local.LocalPath),\n",
       "    file-like object, pandas ExcelFile, or xlrd workbook.\n",
       "    The string could be a URL. Valid URL schemes include http, ftp, s3,\n",
       "    and file. For file URLs, a host is expected. For instance, a local\n",
       "    file could be file://localhost/path/to/workbook.xlsx\n",
       "sheet_name : string, int, mixed list of strings/ints, or None, default 0\n",
       "\n",
       "    Strings are used for sheet names, Integers are used in zero-indexed\n",
       "    sheet positions.\n",
       "\n",
       "    Lists of strings/integers are used to request multiple sheets.\n",
       "\n",
       "    Specify None to get all sheets.\n",
       "\n",
       "    str|int -> DataFrame is returned.\n",
       "    list|None -> Dict of DataFrames is returned, with keys representing\n",
       "    sheets.\n",
       "\n",
       "    Available Cases\n",
       "\n",
       "    * Defaults to 0 -> 1st sheet as a DataFrame\n",
       "    * 1 -> 2nd sheet as a DataFrame\n",
       "    * \"Sheet1\" -> 1st sheet as a DataFrame\n",
       "    * [0,1,\"Sheet5\"] -> 1st, 2nd & 5th sheet as a dictionary of DataFrames\n",
       "    * None -> All sheets as a dictionary of DataFrames\n",
       "\n",
       "sheetname : string, int, mixed list of strings/ints, or None, default 0\n",
       "\n",
       "    .. deprecated:: 0.21.0\n",
       "       Use `sheet_name` instead\n",
       "\n",
       "header : int, list of ints, default 0\n",
       "    Row (0-indexed) to use for the column labels of the parsed\n",
       "    DataFrame. If a list of integers is passed those row positions will\n",
       "    be combined into a ``MultiIndex``. Use None if there is no header.\n",
       "names : array-like, default None\n",
       "    List of column names to use. If file contains no header row,\n",
       "    then you should explicitly pass header=None\n",
       "index_col : int, list of ints, default None\n",
       "    Column (0-indexed) to use as the row labels of the DataFrame.\n",
       "    Pass None if there is no such column.  If a list is passed,\n",
       "    those columns will be combined into a ``MultiIndex``.  If a\n",
       "    subset of data is selected with ``usecols``, index_col\n",
       "    is based on the subset.\n",
       "parse_cols : int or list, default None\n",
       "\n",
       "    .. deprecated:: 0.21.0\n",
       "       Pass in `usecols` instead.\n",
       "\n",
       "usecols : int or list, default None\n",
       "    * If None then parse all columns,\n",
       "    * If int then indicates last column to be parsed\n",
       "    * If list of ints then indicates list of column numbers to be parsed\n",
       "    * If string then indicates comma separated list of Excel column letters and\n",
       "      column ranges (e.g. \"A:E\" or \"A,C,E:F\").  Ranges are inclusive of\n",
       "      both sides.\n",
       "squeeze : boolean, default False\n",
       "    If the parsed data only contains one column then return a Series\n",
       "dtype : Type name or dict of column -> type, default None\n",
       "    Data type for data or columns. E.g. {'a': np.float64, 'b': np.int32}\n",
       "    Use `object` to preserve data as stored in Excel and not interpret dtype.\n",
       "    If converters are specified, they will be applied INSTEAD\n",
       "    of dtype conversion.\n",
       "\n",
       "    .. versionadded:: 0.20.0\n",
       "\n",
       "engine: string, default None\n",
       "    If io is not a buffer or path, this must be set to identify io.\n",
       "    Acceptable values are None or xlrd\n",
       "converters : dict, default None\n",
       "    Dict of functions for converting values in certain columns. Keys can\n",
       "    either be integers or column labels, values are functions that take one\n",
       "    input argument, the Excel cell content, and return the transformed\n",
       "    content.\n",
       "true_values : list, default None\n",
       "    Values to consider as True\n",
       "\n",
       "    .. versionadded:: 0.19.0\n",
       "\n",
       "false_values : list, default None\n",
       "    Values to consider as False\n",
       "\n",
       "    .. versionadded:: 0.19.0\n",
       "\n",
       "skiprows : list-like\n",
       "    Rows to skip at the beginning (0-indexed)\n",
       "nrows : int, default None\n",
       "    Number of rows to parse\n",
       "\n",
       "    .. versionadded:: 0.23.0\n",
       "\n",
       "na_values : scalar, str, list-like, or dict, default None\n",
       "    Additional strings to recognize as NA/NaN. If dict passed, specific\n",
       "    per-column NA values. By default the following values are interpreted\n",
       "    as NaN: '', '#N/A', '#N/A N/A', '#NA', '-1.#IND', '-1.#QNAN', '-NaN', '-nan',\n",
       "    '1.#IND', '1.#QNAN', 'N/A', 'NA', 'NULL', 'NaN', 'n/a', 'nan',\n",
       "    'null'.\n",
       "keep_default_na : bool, default True\n",
       "    If na_values are specified and keep_default_na is False the default NaN\n",
       "    values are overridden, otherwise they're appended to.\n",
       "verbose : boolean, default False\n",
       "    Indicate number of NA values placed in non-numeric columns\n",
       "thousands : str, default None\n",
       "    Thousands separator for parsing string columns to numeric.  Note that\n",
       "    this parameter is only necessary for columns stored as TEXT in Excel,\n",
       "    any numeric columns will automatically be parsed, regardless of display\n",
       "    format.\n",
       "comment : str, default None\n",
       "    Comments out remainder of line. Pass a character or characters to this\n",
       "    argument to indicate comments in the input file. Any data between the\n",
       "    comment string and the end of the current line is ignored.\n",
       "skip_footer : int, default 0\n",
       "\n",
       "    .. deprecated:: 0.23.0\n",
       "       Pass in `skipfooter` instead.\n",
       "skipfooter : int, default 0\n",
       "    Rows at the end to skip (0-indexed)\n",
       "convert_float : boolean, default True\n",
       "    convert integral floats to int (i.e., 1.0 --> 1). If False, all numeric\n",
       "    data will be read in as floats: Excel stores all numbers as floats\n",
       "    internally\n",
       "\n",
       "Returns\n",
       "-------\n",
       "parsed : DataFrame or Dict of DataFrames\n",
       "    DataFrame from the passed in Excel file.  See notes in sheet_name\n",
       "    argument for more information on when a Dict of Dataframes is returned.\n",
       "\n",
       "Examples\n",
       "--------\n",
       "\n",
       "An example DataFrame written to a local file\n",
       "\n",
       ">>> df_out = pd.DataFrame([('string1', 1),\n",
       "...                        ('string2', 2),\n",
       "...                        ('string3', 3)],\n",
       "...                       columns=['Name', 'Value'])\n",
       ">>> df_out\n",
       "      Name  Value\n",
       "0  string1      1\n",
       "1  string2      2\n",
       "2  string3      3\n",
       ">>> df_out.to_excel('tmp.xlsx')\n",
       "\n",
       "The file can be read using the file name as string or an open file object:\n",
       "\n",
       ">>> pd.read_excel('tmp.xlsx')\n",
       "      Name  Value\n",
       "0  string1      1\n",
       "1  string2      2\n",
       "2  string3      3\n",
       "\n",
       ">>> pd.read_excel(open('tmp.xlsx','rb'))\n",
       "      Name  Value\n",
       "0  string1      1\n",
       "1  string2      2\n",
       "2  string3      3\n",
       "\n",
       "Index and header can be specified via the `index_col` and `header` arguments\n",
       "\n",
       ">>> pd.read_excel('tmp.xlsx', index_col=None, header=None)\n",
       "     0        1      2\n",
       "0  NaN     Name  Value\n",
       "1  0.0  string1      1\n",
       "2  1.0  string2      2\n",
       "3  2.0  string3      3\n",
       "\n",
       "Column types are inferred but can be explicitly specified\n",
       "\n",
       ">>> pd.read_excel('tmp.xlsx', dtype={'Name':str, 'Value':float})\n",
       "      Name  Value\n",
       "0  string1    1.0\n",
       "1  string2    2.0\n",
       "2  string3    3.0\n",
       "\n",
       "True, False, and NA values, and thousands separators have defaults,\n",
       "but can be explicitly specified, too. Supply the values you would like\n",
       "as strings or lists of strings!\n",
       "\n",
       ">>> pd.read_excel('tmp.xlsx',\n",
       "...               na_values=['string1', 'string2'])\n",
       "      Name  Value\n",
       "0      NaN      1\n",
       "1      NaN      2\n",
       "2  string3      3\n",
       "\n",
       "Comment lines in the excel input file can be skipped using the `comment` kwarg\n",
       "\n",
       ">>> df = pd.DataFrame({'a': ['1', '#2'], 'b': ['2', '3']})\n",
       ">>> df.to_excel('tmp.xlsx', index=False)\n",
       ">>> pd.read_excel('tmp.xlsx')\n",
       "    a  b\n",
       "0   1  2\n",
       "1  #2  3\n",
       "\n",
       ">>> pd.read_excel('tmp.xlsx', comment='#')\n",
       "   a  b\n",
       "0  1  2\n",
       "\u001b[0;31mFile:\u001b[0m      /anaconda3/lib/python3.6/site-packages/pandas/io/excel.py\n",
       "\u001b[0;31mType:\u001b[0m      function\n"
      ]
     },
     "metadata": {},
     "output_type": "display_data"
    }
   ],
   "source": [
    "pd.read_excel?"
   ]
  },
  {
   "cell_type": "code",
   "execution_count": 5,
   "metadata": {},
   "outputs": [
    {
     "data": {
      "text/html": [
       "<div>\n",
       "<style scoped>\n",
       "    .dataframe tbody tr th:only-of-type {\n",
       "        vertical-align: middle;\n",
       "    }\n",
       "\n",
       "    .dataframe tbody tr th {\n",
       "        vertical-align: top;\n",
       "    }\n",
       "\n",
       "    .dataframe thead th {\n",
       "        text-align: right;\n",
       "    }\n",
       "</style>\n",
       "<table border=\"1\" class=\"dataframe\">\n",
       "  <thead>\n",
       "    <tr style=\"text-align: right;\">\n",
       "      <th></th>\n",
       "      <th>--Cups20--</th>\n",
       "      <th>--Line--</th>\n",
       "      <th>--Fecha--</th>\n",
       "      <th>--Hora--</th>\n",
       "      <th>--Active--</th>\n",
       "      <th>--Active With Transport Loss--</th>\n",
       "      <th>--Active With Transform Loss--</th>\n",
       "    </tr>\n",
       "  </thead>\n",
       "  <tbody>\n",
       "    <tr>\n",
       "      <th>0</th>\n",
       "      <td>ES0021000000274345SK</td>\n",
       "      <td>0P</td>\n",
       "      <td>2017-01-01</td>\n",
       "      <td>1</td>\n",
       "      <td>0.330</td>\n",
       "      <td>0.42207</td>\n",
       "      <td>0.330</td>\n",
       "    </tr>\n",
       "    <tr>\n",
       "      <th>1</th>\n",
       "      <td>ES0021000000274345SK</td>\n",
       "      <td>0P</td>\n",
       "      <td>2017-01-01</td>\n",
       "      <td>2</td>\n",
       "      <td>0.152</td>\n",
       "      <td>0.19456</td>\n",
       "      <td>0.152</td>\n",
       "    </tr>\n",
       "    <tr>\n",
       "      <th>2</th>\n",
       "      <td>ES0021000000274345SK</td>\n",
       "      <td>0P</td>\n",
       "      <td>2017-01-01</td>\n",
       "      <td>3</td>\n",
       "      <td>0.273</td>\n",
       "      <td>0.34944</td>\n",
       "      <td>0.273</td>\n",
       "    </tr>\n",
       "    <tr>\n",
       "      <th>3</th>\n",
       "      <td>ES0021000000274345SK</td>\n",
       "      <td>0P</td>\n",
       "      <td>2017-01-01</td>\n",
       "      <td>4</td>\n",
       "      <td>0.156</td>\n",
       "      <td>0.19968</td>\n",
       "      <td>0.156</td>\n",
       "    </tr>\n",
       "    <tr>\n",
       "      <th>4</th>\n",
       "      <td>ES0021000000274345SK</td>\n",
       "      <td>0P</td>\n",
       "      <td>2017-01-01</td>\n",
       "      <td>5</td>\n",
       "      <td>0.311</td>\n",
       "      <td>0.39808</td>\n",
       "      <td>0.311</td>\n",
       "    </tr>\n",
       "  </tbody>\n",
       "</table>\n",
       "</div>"
      ],
      "text/plain": [
       "             --Cups20-- --Line--  --Fecha--  --Hora--  --Active--  \\\n",
       "0  ES0021000000274345SK       0P 2017-01-01         1       0.330   \n",
       "1  ES0021000000274345SK       0P 2017-01-01         2       0.152   \n",
       "2  ES0021000000274345SK       0P 2017-01-01         3       0.273   \n",
       "3  ES0021000000274345SK       0P 2017-01-01         4       0.156   \n",
       "4  ES0021000000274345SK       0P 2017-01-01         5       0.311   \n",
       "\n",
       "   --Active With Transport Loss--  --Active With Transform Loss--  \n",
       "0                         0.42207                           0.330  \n",
       "1                         0.19456                           0.152  \n",
       "2                         0.34944                           0.273  \n",
       "3                         0.19968                           0.156  \n",
       "4                         0.39808                           0.311  "
      ]
     },
     "execution_count": 5,
     "metadata": {},
     "output_type": "execute_result"
    }
   ],
   "source": [
    "df_2017 = pd.concat([df1, df2, df3, df4])\n",
    "df_2017.head(5)"
   ]
  },
  {
   "cell_type": "markdown",
   "metadata": {},
   "source": [
    "Comprobamos que la unión de los ficheros es correcta y que el resultado df_2017 es la suma de los cuatro df anteriores"
   ]
  },
  {
   "cell_type": "code",
   "execution_count": 6,
   "metadata": {},
   "outputs": [
    {
     "data": {
      "text/plain": [
       "--Cups20--                        1018179\n",
       "--Line--                          1018179\n",
       "--Fecha--                         1018179\n",
       "--Hora--                          1018179\n",
       "--Active--                        1018179\n",
       "--Active With Transport Loss--    1018179\n",
       "--Active With Transform Loss--    1018179\n",
       "dtype: int64"
      ]
     },
     "execution_count": 6,
     "metadata": {},
     "output_type": "execute_result"
    }
   ],
   "source": [
    "df1.count()"
   ]
  },
  {
   "cell_type": "code",
   "execution_count": 7,
   "metadata": {},
   "outputs": [
    {
     "data": {
      "text/plain": [
       "--Cups20--                        1030560\n",
       "--Line--                          1030560\n",
       "--Fecha--                         1030560\n",
       "--Hora--                          1030560\n",
       "--Active--                        1030560\n",
       "--Active With Transport Loss--    1030560\n",
       "--Active With Transform Loss--    1030560\n",
       "dtype: int64"
      ]
     },
     "execution_count": 7,
     "metadata": {},
     "output_type": "execute_result"
    }
   ],
   "source": [
    "df2.count()"
   ]
  },
  {
   "cell_type": "code",
   "execution_count": 8,
   "metadata": {},
   "outputs": [
    {
     "data": {
      "text/plain": [
       "--Cups20--                        820335\n",
       "--Line--                          820335\n",
       "--Fecha--                         820335\n",
       "--Hora--                          820335\n",
       "--Active--                        820335\n",
       "--Active With Transport Loss--    820335\n",
       "--Active With Transform Loss--    820335\n",
       "dtype: int64"
      ]
     },
     "execution_count": 8,
     "metadata": {},
     "output_type": "execute_result"
    }
   ],
   "source": [
    "df3.count()"
   ]
  },
  {
   "cell_type": "code",
   "execution_count": 9,
   "metadata": {},
   "outputs": [
    {
     "data": {
      "text/plain": [
       "--Cups20--                        837613\n",
       "--Line--                          837613\n",
       "--Fecha--                         837613\n",
       "--Hora--                          837613\n",
       "--Active--                        837613\n",
       "--Active With Transport Loss--    837613\n",
       "--Active With Transform Loss--    837613\n",
       "dtype: int64"
      ]
     },
     "execution_count": 9,
     "metadata": {},
     "output_type": "execute_result"
    }
   ],
   "source": [
    "df4.count()"
   ]
  },
  {
   "cell_type": "code",
   "execution_count": 10,
   "metadata": {},
   "outputs": [
    {
     "data": {
      "text/plain": [
       "--Cups20--                        3706687\n",
       "--Line--                          3706687\n",
       "--Fecha--                         3706687\n",
       "--Hora--                          3706687\n",
       "--Active--                        3706687\n",
       "--Active With Transport Loss--    3706687\n",
       "--Active With Transform Loss--    3706687\n",
       "dtype: int64"
      ]
     },
     "execution_count": 10,
     "metadata": {},
     "output_type": "execute_result"
    }
   ],
   "source": [
    "df_2017.count()"
   ]
  },
  {
   "cell_type": "markdown",
   "metadata": {},
   "source": [
    "## Hacemos el mismo proceso con el excel de 2018"
   ]
  },
  {
   "cell_type": "code",
   "execution_count": 11,
   "metadata": {},
   "outputs": [
    {
     "name": "stderr",
     "output_type": "stream",
     "text": [
      "/anaconda3/lib/python3.6/site-packages/ipykernel_launcher.py:2: DeprecationWarning: Call to deprecated function get_sheet_names (Use wb.sheetnames).\n",
      "  \n"
     ]
    },
    {
     "data": {
      "text/plain": [
       "['Page 1', 'Page 2', 'Page 3', 'Page 4', 'Page 5']"
      ]
     },
     "execution_count": 11,
     "metadata": {},
     "output_type": "execute_result"
    }
   ],
   "source": [
    "excel_document_18 = openpyxl.load_workbook('./data/Cups2018.xlsx')\n",
    "excel_document_18.get_sheet_names()"
   ]
  },
  {
   "cell_type": "code",
   "execution_count": 12,
   "metadata": {},
   "outputs": [
    {
     "data": {
      "text/html": [
       "<div>\n",
       "<style scoped>\n",
       "    .dataframe tbody tr th:only-of-type {\n",
       "        vertical-align: middle;\n",
       "    }\n",
       "\n",
       "    .dataframe tbody tr th {\n",
       "        vertical-align: top;\n",
       "    }\n",
       "\n",
       "    .dataframe thead th {\n",
       "        text-align: right;\n",
       "    }\n",
       "</style>\n",
       "<table border=\"1\" class=\"dataframe\">\n",
       "  <thead>\n",
       "    <tr style=\"text-align: right;\">\n",
       "      <th></th>\n",
       "      <th>--Cups20--</th>\n",
       "      <th>--Line--</th>\n",
       "      <th>--Fecha--</th>\n",
       "      <th>--Hora--</th>\n",
       "      <th>--Active--</th>\n",
       "      <th>--Active With Transport Loss--</th>\n",
       "      <th>--Active With Transform Loss--</th>\n",
       "    </tr>\n",
       "  </thead>\n",
       "  <tbody>\n",
       "    <tr>\n",
       "      <th>0</th>\n",
       "      <td>ES0021000004654210GL</td>\n",
       "      <td>0P</td>\n",
       "      <td>2018-01-01</td>\n",
       "      <td>1</td>\n",
       "      <td>0.0</td>\n",
       "      <td>0.0</td>\n",
       "      <td>0.0</td>\n",
       "    </tr>\n",
       "    <tr>\n",
       "      <th>1</th>\n",
       "      <td>ES0021000004654210GL</td>\n",
       "      <td>0P</td>\n",
       "      <td>2018-01-01</td>\n",
       "      <td>2</td>\n",
       "      <td>0.0</td>\n",
       "      <td>0.0</td>\n",
       "      <td>0.0</td>\n",
       "    </tr>\n",
       "    <tr>\n",
       "      <th>2</th>\n",
       "      <td>ES0021000004654210GL</td>\n",
       "      <td>0P</td>\n",
       "      <td>2018-01-01</td>\n",
       "      <td>3</td>\n",
       "      <td>0.0</td>\n",
       "      <td>0.0</td>\n",
       "      <td>0.0</td>\n",
       "    </tr>\n",
       "    <tr>\n",
       "      <th>3</th>\n",
       "      <td>ES0021000004654210GL</td>\n",
       "      <td>0P</td>\n",
       "      <td>2018-01-01</td>\n",
       "      <td>4</td>\n",
       "      <td>0.0</td>\n",
       "      <td>0.0</td>\n",
       "      <td>0.0</td>\n",
       "    </tr>\n",
       "    <tr>\n",
       "      <th>4</th>\n",
       "      <td>ES0021000004654210GL</td>\n",
       "      <td>0P</td>\n",
       "      <td>2018-01-01</td>\n",
       "      <td>5</td>\n",
       "      <td>0.0</td>\n",
       "      <td>0.0</td>\n",
       "      <td>0.0</td>\n",
       "    </tr>\n",
       "  </tbody>\n",
       "</table>\n",
       "</div>"
      ],
      "text/plain": [
       "             --Cups20-- --Line--  --Fecha--  --Hora--  --Active--  \\\n",
       "0  ES0021000004654210GL       0P 2018-01-01         1         0.0   \n",
       "1  ES0021000004654210GL       0P 2018-01-01         2         0.0   \n",
       "2  ES0021000004654210GL       0P 2018-01-01         3         0.0   \n",
       "3  ES0021000004654210GL       0P 2018-01-01         4         0.0   \n",
       "4  ES0021000004654210GL       0P 2018-01-01         5         0.0   \n",
       "\n",
       "   --Active With Transport Loss--  --Active With Transform Loss--  \n",
       "0                             0.0                             0.0  \n",
       "1                             0.0                             0.0  \n",
       "2                             0.0                             0.0  \n",
       "3                             0.0                             0.0  \n",
       "4                             0.0                             0.0  "
      ]
     },
     "execution_count": 12,
     "metadata": {},
     "output_type": "execute_result"
    }
   ],
   "source": [
    "xlsx_18 = pd.ExcelFile('./data/Cups2018.xlsx') \n",
    "df11 = pd.read_excel(xlsx_18, 'Page 1') \n",
    "df22 = pd.read_excel(xlsx_18, 'Page 2') \n",
    "df33 = pd.read_excel(xlsx_18, 'Page 3') \n",
    "df44 = pd.read_excel(xlsx_18, 'Page 4') \n",
    "df55 = pd.read_excel(xlsx_18, 'Page 5')\n",
    "df_2018 = pd.concat([df11, df22, df33, df44, df55])\n",
    "df_2018.head(5)"
   ]
  },
  {
   "cell_type": "markdown",
   "metadata": {},
   "source": [
    "# Unimos tanto el fichero de 2017 como el de 2018 y creamos un único fichero con las medidas de ambos años\n",
    "\n",
    "Comprobamos que el fichero final es efectivamente la suma de los dos ficheros originales."
   ]
  },
  {
   "cell_type": "code",
   "execution_count": 13,
   "metadata": {},
   "outputs": [],
   "source": [
    "Medidas = pd.concat([df_2017, df_2018])"
   ]
  },
  {
   "cell_type": "code",
   "execution_count": 14,
   "metadata": {},
   "outputs": [
    {
     "data": {
      "text/plain": [
       "(3706687, 7)"
      ]
     },
     "execution_count": 14,
     "metadata": {},
     "output_type": "execute_result"
    }
   ],
   "source": [
    "df_2017.shape"
   ]
  },
  {
   "cell_type": "code",
   "execution_count": 15,
   "metadata": {},
   "outputs": [
    {
     "data": {
      "text/plain": [
       "(4118516, 7)"
      ]
     },
     "execution_count": 15,
     "metadata": {},
     "output_type": "execute_result"
    }
   ],
   "source": [
    "df_2018.shape"
   ]
  },
  {
   "cell_type": "code",
   "execution_count": 16,
   "metadata": {},
   "outputs": [
    {
     "data": {
      "text/plain": [
       "(7825203, 7)"
      ]
     },
     "execution_count": 16,
     "metadata": {},
     "output_type": "execute_result"
    }
   ],
   "source": [
    "Medidas.shape"
   ]
  },
  {
   "cell_type": "markdown",
   "metadata": {},
   "source": [
    "### Formato\n",
    "\n",
    "Damos un formato mas amigable al fichero cambiando los nombres de las columnas y dando formato fecha correcto.\n"
   ]
  },
  {
   "cell_type": "code",
   "execution_count": 17,
   "metadata": {},
   "outputs": [],
   "source": [
    "Medidas = Medidas.rename(columns={'--Cups20--' : 'Cups20',\n",
    "                                  '--Line--' : 'Line', \n",
    "                                  '--Fecha--' : 'Fecha', \n",
    "                                  '--Hora--' : 'Hora', \n",
    "                                  '--Active--' : 'Active' , \n",
    "                                  '--Active With Transport Loss--' : 'Active With Transport Loss', \n",
    "                                  '--Active With Transform Loss--' : 'Active With Transform Loss'})"
   ]
  },
  {
   "cell_type": "code",
   "execution_count": 18,
   "metadata": {},
   "outputs": [
    {
     "data": {
      "text/html": [
       "<div>\n",
       "<style scoped>\n",
       "    .dataframe tbody tr th:only-of-type {\n",
       "        vertical-align: middle;\n",
       "    }\n",
       "\n",
       "    .dataframe tbody tr th {\n",
       "        vertical-align: top;\n",
       "    }\n",
       "\n",
       "    .dataframe thead th {\n",
       "        text-align: right;\n",
       "    }\n",
       "</style>\n",
       "<table border=\"1\" class=\"dataframe\">\n",
       "  <thead>\n",
       "    <tr style=\"text-align: right;\">\n",
       "      <th></th>\n",
       "      <th>Cups20</th>\n",
       "      <th>Line</th>\n",
       "      <th>Fecha</th>\n",
       "      <th>Hora</th>\n",
       "      <th>Active</th>\n",
       "      <th>Active With Transport Loss</th>\n",
       "      <th>Active With Transform Loss</th>\n",
       "    </tr>\n",
       "  </thead>\n",
       "  <tbody>\n",
       "    <tr>\n",
       "      <th>0</th>\n",
       "      <td>ES0021000000274345SK</td>\n",
       "      <td>0P</td>\n",
       "      <td>2017-01-01</td>\n",
       "      <td>1</td>\n",
       "      <td>0.330</td>\n",
       "      <td>0.42207</td>\n",
       "      <td>0.330</td>\n",
       "    </tr>\n",
       "    <tr>\n",
       "      <th>1</th>\n",
       "      <td>ES0021000000274345SK</td>\n",
       "      <td>0P</td>\n",
       "      <td>2017-01-01</td>\n",
       "      <td>2</td>\n",
       "      <td>0.152</td>\n",
       "      <td>0.19456</td>\n",
       "      <td>0.152</td>\n",
       "    </tr>\n",
       "    <tr>\n",
       "      <th>2</th>\n",
       "      <td>ES0021000000274345SK</td>\n",
       "      <td>0P</td>\n",
       "      <td>2017-01-01</td>\n",
       "      <td>3</td>\n",
       "      <td>0.273</td>\n",
       "      <td>0.34944</td>\n",
       "      <td>0.273</td>\n",
       "    </tr>\n",
       "    <tr>\n",
       "      <th>3</th>\n",
       "      <td>ES0021000000274345SK</td>\n",
       "      <td>0P</td>\n",
       "      <td>2017-01-01</td>\n",
       "      <td>4</td>\n",
       "      <td>0.156</td>\n",
       "      <td>0.19968</td>\n",
       "      <td>0.156</td>\n",
       "    </tr>\n",
       "    <tr>\n",
       "      <th>4</th>\n",
       "      <td>ES0021000000274345SK</td>\n",
       "      <td>0P</td>\n",
       "      <td>2017-01-01</td>\n",
       "      <td>5</td>\n",
       "      <td>0.311</td>\n",
       "      <td>0.39808</td>\n",
       "      <td>0.311</td>\n",
       "    </tr>\n",
       "  </tbody>\n",
       "</table>\n",
       "</div>"
      ],
      "text/plain": [
       "                 Cups20 Line      Fecha  Hora  Active  \\\n",
       "0  ES0021000000274345SK   0P 2017-01-01     1   0.330   \n",
       "1  ES0021000000274345SK   0P 2017-01-01     2   0.152   \n",
       "2  ES0021000000274345SK   0P 2017-01-01     3   0.273   \n",
       "3  ES0021000000274345SK   0P 2017-01-01     4   0.156   \n",
       "4  ES0021000000274345SK   0P 2017-01-01     5   0.311   \n",
       "\n",
       "   Active With Transport Loss  Active With Transform Loss  \n",
       "0                     0.42207                       0.330  \n",
       "1                     0.19456                       0.152  \n",
       "2                     0.34944                       0.273  \n",
       "3                     0.19968                       0.156  \n",
       "4                     0.39808                       0.311  "
      ]
     },
     "execution_count": 18,
     "metadata": {},
     "output_type": "execute_result"
    }
   ],
   "source": [
    "Medidas.head(5)"
   ]
  },
  {
   "cell_type": "code",
   "execution_count": 19,
   "metadata": {},
   "outputs": [],
   "source": [
    "Medidas['Fecha']=pd.to_datetime(Medidas['Fecha'], yearfirst=True,format='%Y-%m-%d')\n"
   ]
  },
  {
   "cell_type": "code",
   "execution_count": 20,
   "metadata": {},
   "outputs": [
    {
     "data": {
      "text/plain": [
       "Cups20                                object\n",
       "Line                                  object\n",
       "Fecha                         datetime64[ns]\n",
       "Hora                                   int64\n",
       "Active                               float64\n",
       "Active With Transport Loss           float64\n",
       "Active With Transform Loss           float64\n",
       "dtype: object"
      ]
     },
     "execution_count": 20,
     "metadata": {},
     "output_type": "execute_result"
    }
   ],
   "source": [
    "Medidas.dtypes"
   ]
  },
  {
   "cell_type": "code",
   "execution_count": 21,
   "metadata": {},
   "outputs": [
    {
     "data": {
      "text/html": [
       "<div>\n",
       "<style scoped>\n",
       "    .dataframe tbody tr th:only-of-type {\n",
       "        vertical-align: middle;\n",
       "    }\n",
       "\n",
       "    .dataframe tbody tr th {\n",
       "        vertical-align: top;\n",
       "    }\n",
       "\n",
       "    .dataframe thead th {\n",
       "        text-align: right;\n",
       "    }\n",
       "</style>\n",
       "<table border=\"1\" class=\"dataframe\">\n",
       "  <thead>\n",
       "    <tr style=\"text-align: right;\">\n",
       "      <th></th>\n",
       "      <th>Cups20</th>\n",
       "      <th>Line</th>\n",
       "      <th>Fecha</th>\n",
       "      <th>Hora</th>\n",
       "      <th>Active</th>\n",
       "      <th>Active With Transport Loss</th>\n",
       "      <th>Active With Transform Loss</th>\n",
       "    </tr>\n",
       "  </thead>\n",
       "  <tbody>\n",
       "    <tr>\n",
       "      <th>0</th>\n",
       "      <td>ES0021000000274345SK</td>\n",
       "      <td>0P</td>\n",
       "      <td>2017-01-01</td>\n",
       "      <td>1</td>\n",
       "      <td>0.330</td>\n",
       "      <td>0.42207</td>\n",
       "      <td>0.330</td>\n",
       "    </tr>\n",
       "    <tr>\n",
       "      <th>1</th>\n",
       "      <td>ES0021000000274345SK</td>\n",
       "      <td>0P</td>\n",
       "      <td>2017-01-01</td>\n",
       "      <td>2</td>\n",
       "      <td>0.152</td>\n",
       "      <td>0.19456</td>\n",
       "      <td>0.152</td>\n",
       "    </tr>\n",
       "    <tr>\n",
       "      <th>2</th>\n",
       "      <td>ES0021000000274345SK</td>\n",
       "      <td>0P</td>\n",
       "      <td>2017-01-01</td>\n",
       "      <td>3</td>\n",
       "      <td>0.273</td>\n",
       "      <td>0.34944</td>\n",
       "      <td>0.273</td>\n",
       "    </tr>\n",
       "    <tr>\n",
       "      <th>3</th>\n",
       "      <td>ES0021000000274345SK</td>\n",
       "      <td>0P</td>\n",
       "      <td>2017-01-01</td>\n",
       "      <td>4</td>\n",
       "      <td>0.156</td>\n",
       "      <td>0.19968</td>\n",
       "      <td>0.156</td>\n",
       "    </tr>\n",
       "    <tr>\n",
       "      <th>4</th>\n",
       "      <td>ES0021000000274345SK</td>\n",
       "      <td>0P</td>\n",
       "      <td>2017-01-01</td>\n",
       "      <td>5</td>\n",
       "      <td>0.311</td>\n",
       "      <td>0.39808</td>\n",
       "      <td>0.311</td>\n",
       "    </tr>\n",
       "  </tbody>\n",
       "</table>\n",
       "</div>"
      ],
      "text/plain": [
       "                 Cups20 Line      Fecha  Hora  Active  \\\n",
       "0  ES0021000000274345SK   0P 2017-01-01     1   0.330   \n",
       "1  ES0021000000274345SK   0P 2017-01-01     2   0.152   \n",
       "2  ES0021000000274345SK   0P 2017-01-01     3   0.273   \n",
       "3  ES0021000000274345SK   0P 2017-01-01     4   0.156   \n",
       "4  ES0021000000274345SK   0P 2017-01-01     5   0.311   \n",
       "\n",
       "   Active With Transport Loss  Active With Transform Loss  \n",
       "0                     0.42207                       0.330  \n",
       "1                     0.19456                       0.152  \n",
       "2                     0.34944                       0.273  \n",
       "3                     0.19968                       0.156  \n",
       "4                     0.39808                       0.311  "
      ]
     },
     "execution_count": 21,
     "metadata": {},
     "output_type": "execute_result"
    }
   ],
   "source": [
    "Medidas.head(5)"
   ]
  },
  {
   "cell_type": "markdown",
   "metadata": {},
   "source": [
    "# Contratos\n",
    "\n",
    "A este fichero de medidas le falta información, como la provincia por cliente, la tarifa contratada, o la potencia. Todos estos datos los conseguimos del excel de contratos que vamos a unir a este fichero según el CUPS."
   ]
  },
  {
   "cell_type": "code",
   "execution_count": 22,
   "metadata": {},
   "outputs": [
    {
     "data": {
      "text/html": [
       "<div>\n",
       "<style scoped>\n",
       "    .dataframe tbody tr th:only-of-type {\n",
       "        vertical-align: middle;\n",
       "    }\n",
       "\n",
       "    .dataframe tbody tr th {\n",
       "        vertical-align: top;\n",
       "    }\n",
       "\n",
       "    .dataframe thead th {\n",
       "        text-align: right;\n",
       "    }\n",
       "</style>\n",
       "<table border=\"1\" class=\"dataframe\">\n",
       "  <thead>\n",
       "    <tr style=\"text-align: right;\">\n",
       "      <th></th>\n",
       "      <th>CUPS 20</th>\n",
       "      <th>Tarifa</th>\n",
       "      <th>Provincia</th>\n",
       "      <th>Potencia</th>\n",
       "    </tr>\n",
       "  </thead>\n",
       "  <tbody>\n",
       "    <tr>\n",
       "      <th>0</th>\n",
       "      <td>ES0021000000472013PG</td>\n",
       "      <td>2.0.A</td>\n",
       "      <td>Alicante</td>\n",
       "      <td>6.60</td>\n",
       "    </tr>\n",
       "    <tr>\n",
       "      <th>1</th>\n",
       "      <td>ES0021000000951307DR</td>\n",
       "      <td>2.1.A</td>\n",
       "      <td>Alicante</td>\n",
       "      <td>13.20</td>\n",
       "    </tr>\n",
       "    <tr>\n",
       "      <th>2</th>\n",
       "      <td>ES0021000003992036XS</td>\n",
       "      <td>2.0.A</td>\n",
       "      <td>Madrid</td>\n",
       "      <td>3.30</td>\n",
       "    </tr>\n",
       "    <tr>\n",
       "      <th>3</th>\n",
       "      <td>ES0021000004049366LY</td>\n",
       "      <td>2.0.A</td>\n",
       "      <td>Madrid</td>\n",
       "      <td>3.45</td>\n",
       "    </tr>\n",
       "    <tr>\n",
       "      <th>4</th>\n",
       "      <td>ES0021000004146547NN</td>\n",
       "      <td>2.0.A</td>\n",
       "      <td>Madrid</td>\n",
       "      <td>3.45</td>\n",
       "    </tr>\n",
       "  </tbody>\n",
       "</table>\n",
       "</div>"
      ],
      "text/plain": [
       "                CUPS 20 Tarifa Provincia  Potencia \n",
       "0  ES0021000000472013PG  2.0.A  Alicante       6.60\n",
       "1  ES0021000000951307DR  2.1.A  Alicante      13.20\n",
       "2  ES0021000003992036XS  2.0.A    Madrid       3.30\n",
       "3  ES0021000004049366LY  2.0.A    Madrid       3.45\n",
       "4  ES0021000004146547NN  2.0.A    Madrid       3.45"
      ]
     },
     "execution_count": 22,
     "metadata": {},
     "output_type": "execute_result"
    }
   ],
   "source": [
    "contratos = pd.read_excel('./data/Contratos.xlsx')\n",
    "contratos.head(5)"
   ]
  },
  {
   "cell_type": "code",
   "execution_count": 23,
   "metadata": {},
   "outputs": [
    {
     "data": {
      "text/html": [
       "<div>\n",
       "<style scoped>\n",
       "    .dataframe tbody tr th:only-of-type {\n",
       "        vertical-align: middle;\n",
       "    }\n",
       "\n",
       "    .dataframe tbody tr th {\n",
       "        vertical-align: top;\n",
       "    }\n",
       "\n",
       "    .dataframe thead th {\n",
       "        text-align: right;\n",
       "    }\n",
       "</style>\n",
       "<table border=\"1\" class=\"dataframe\">\n",
       "  <thead>\n",
       "    <tr style=\"text-align: right;\">\n",
       "      <th></th>\n",
       "      <th>Cups20</th>\n",
       "      <th>Tarifa</th>\n",
       "      <th>Provincia</th>\n",
       "      <th>Potencia</th>\n",
       "    </tr>\n",
       "  </thead>\n",
       "  <tbody>\n",
       "    <tr>\n",
       "      <th>0</th>\n",
       "      <td>ES0021000000472013PG</td>\n",
       "      <td>2.0.A</td>\n",
       "      <td>Alicante</td>\n",
       "      <td>6.60</td>\n",
       "    </tr>\n",
       "    <tr>\n",
       "      <th>1</th>\n",
       "      <td>ES0021000000951307DR</td>\n",
       "      <td>2.1.A</td>\n",
       "      <td>Alicante</td>\n",
       "      <td>13.20</td>\n",
       "    </tr>\n",
       "    <tr>\n",
       "      <th>2</th>\n",
       "      <td>ES0021000003992036XS</td>\n",
       "      <td>2.0.A</td>\n",
       "      <td>Madrid</td>\n",
       "      <td>3.30</td>\n",
       "    </tr>\n",
       "    <tr>\n",
       "      <th>3</th>\n",
       "      <td>ES0021000004049366LY</td>\n",
       "      <td>2.0.A</td>\n",
       "      <td>Madrid</td>\n",
       "      <td>3.45</td>\n",
       "    </tr>\n",
       "    <tr>\n",
       "      <th>4</th>\n",
       "      <td>ES0021000004146547NN</td>\n",
       "      <td>2.0.A</td>\n",
       "      <td>Madrid</td>\n",
       "      <td>3.45</td>\n",
       "    </tr>\n",
       "  </tbody>\n",
       "</table>\n",
       "</div>"
      ],
      "text/plain": [
       "                 Cups20 Tarifa Provincia  Potencia \n",
       "0  ES0021000000472013PG  2.0.A  Alicante       6.60\n",
       "1  ES0021000000951307DR  2.1.A  Alicante      13.20\n",
       "2  ES0021000003992036XS  2.0.A    Madrid       3.30\n",
       "3  ES0021000004049366LY  2.0.A    Madrid       3.45\n",
       "4  ES0021000004146547NN  2.0.A    Madrid       3.45"
      ]
     },
     "execution_count": 23,
     "metadata": {},
     "output_type": "execute_result"
    }
   ],
   "source": [
    "contratos = contratos.rename(columns={'CUPS 20' : 'Cups20'})\n",
    "contratos.head(5)"
   ]
  },
  {
   "cell_type": "code",
   "execution_count": 24,
   "metadata": {},
   "outputs": [
    {
     "data": {
      "text/plain": [
       "(7825203, 7)"
      ]
     },
     "execution_count": 24,
     "metadata": {},
     "output_type": "execute_result"
    }
   ],
   "source": [
    "Medidas.shape"
   ]
  },
  {
   "cell_type": "markdown",
   "metadata": {},
   "source": [
    "Comprobamos que despues del merge tengo las mismas líneas que tenía antes, y que no tengo ningún valor NaN"
   ]
  },
  {
   "cell_type": "code",
   "execution_count": 25,
   "metadata": {},
   "outputs": [],
   "source": [
    "Medidas = Medidas.merge(contratos, on='Cups20', how='left')\n"
   ]
  },
  {
   "cell_type": "code",
   "execution_count": 26,
   "metadata": {},
   "outputs": [
    {
     "data": {
      "text/plain": [
       "(7825203, 10)"
      ]
     },
     "execution_count": 26,
     "metadata": {},
     "output_type": "execute_result"
    }
   ],
   "source": [
    "Medidas.shape"
   ]
  },
  {
   "cell_type": "code",
   "execution_count": 27,
   "metadata": {},
   "outputs": [
    {
     "data": {
      "text/plain": [
       "False"
      ]
     },
     "execution_count": 27,
     "metadata": {},
     "output_type": "execute_result"
    }
   ],
   "source": [
    "Medidas.isnull().any().any()"
   ]
  },
  {
   "cell_type": "markdown",
   "metadata": {},
   "source": [
    "\n",
    "### Limpieza de datos\n",
    "\n",
    "Vamos a ver las columnas que tiene el data frame y vamos a quedarnos solo con las necesarias para el analisis.\n"
   ]
  },
  {
   "cell_type": "code",
   "execution_count": 28,
   "metadata": {},
   "outputs": [
    {
     "data": {
      "text/plain": [
       "Index(['Cups20', 'Line', 'Fecha', 'Hora', 'Active',\n",
       "       'Active With Transport Loss', 'Active With Transform Loss', 'Tarifa',\n",
       "       'Provincia', 'Potencia '],\n",
       "      dtype='object')"
      ]
     },
     "execution_count": 28,
     "metadata": {},
     "output_type": "execute_result"
    }
   ],
   "source": [
    "Medidas.columns"
   ]
  },
  {
   "cell_type": "code",
   "execution_count": 29,
   "metadata": {},
   "outputs": [
    {
     "data": {
      "text/html": [
       "<div>\n",
       "<style scoped>\n",
       "    .dataframe tbody tr th:only-of-type {\n",
       "        vertical-align: middle;\n",
       "    }\n",
       "\n",
       "    .dataframe tbody tr th {\n",
       "        vertical-align: top;\n",
       "    }\n",
       "\n",
       "    .dataframe thead th {\n",
       "        text-align: right;\n",
       "    }\n",
       "</style>\n",
       "<table border=\"1\" class=\"dataframe\">\n",
       "  <thead>\n",
       "    <tr style=\"text-align: right;\">\n",
       "      <th></th>\n",
       "      <th>Cups20</th>\n",
       "      <th>Tarifa</th>\n",
       "      <th>Provincia</th>\n",
       "      <th>Fecha</th>\n",
       "      <th>Hora</th>\n",
       "      <th>Active</th>\n",
       "      <th>Potencia</th>\n",
       "    </tr>\n",
       "  </thead>\n",
       "  <tbody>\n",
       "    <tr>\n",
       "      <th>0</th>\n",
       "      <td>ES0021000000274345SK</td>\n",
       "      <td>2.1.A</td>\n",
       "      <td>Albacete</td>\n",
       "      <td>2017-01-01</td>\n",
       "      <td>1</td>\n",
       "      <td>0.330</td>\n",
       "      <td>13.2</td>\n",
       "    </tr>\n",
       "    <tr>\n",
       "      <th>1</th>\n",
       "      <td>ES0021000000274345SK</td>\n",
       "      <td>2.1.A</td>\n",
       "      <td>Albacete</td>\n",
       "      <td>2017-01-01</td>\n",
       "      <td>2</td>\n",
       "      <td>0.152</td>\n",
       "      <td>13.2</td>\n",
       "    </tr>\n",
       "    <tr>\n",
       "      <th>2</th>\n",
       "      <td>ES0021000000274345SK</td>\n",
       "      <td>2.1.A</td>\n",
       "      <td>Albacete</td>\n",
       "      <td>2017-01-01</td>\n",
       "      <td>3</td>\n",
       "      <td>0.273</td>\n",
       "      <td>13.2</td>\n",
       "    </tr>\n",
       "    <tr>\n",
       "      <th>3</th>\n",
       "      <td>ES0021000000274345SK</td>\n",
       "      <td>2.1.A</td>\n",
       "      <td>Albacete</td>\n",
       "      <td>2017-01-01</td>\n",
       "      <td>4</td>\n",
       "      <td>0.156</td>\n",
       "      <td>13.2</td>\n",
       "    </tr>\n",
       "    <tr>\n",
       "      <th>4</th>\n",
       "      <td>ES0021000000274345SK</td>\n",
       "      <td>2.1.A</td>\n",
       "      <td>Albacete</td>\n",
       "      <td>2017-01-01</td>\n",
       "      <td>5</td>\n",
       "      <td>0.311</td>\n",
       "      <td>13.2</td>\n",
       "    </tr>\n",
       "  </tbody>\n",
       "</table>\n",
       "</div>"
      ],
      "text/plain": [
       "                 Cups20 Tarifa Provincia      Fecha  Hora  Active  Potencia \n",
       "0  ES0021000000274345SK  2.1.A  Albacete 2017-01-01     1   0.330       13.2\n",
       "1  ES0021000000274345SK  2.1.A  Albacete 2017-01-01     2   0.152       13.2\n",
       "2  ES0021000000274345SK  2.1.A  Albacete 2017-01-01     3   0.273       13.2\n",
       "3  ES0021000000274345SK  2.1.A  Albacete 2017-01-01     4   0.156       13.2\n",
       "4  ES0021000000274345SK  2.1.A  Albacete 2017-01-01     5   0.311       13.2"
      ]
     },
     "execution_count": 29,
     "metadata": {},
     "output_type": "execute_result"
    }
   ],
   "source": [
    "Medidas = Medidas[['Cups20', 'Tarifa', 'Provincia','Fecha', 'Hora', 'Active', 'Potencia ']]\n",
    "Medidas.head(5)"
   ]
  },
  {
   "cell_type": "markdown",
   "metadata": {},
   "source": [
    "\n",
    "\n",
    "# Agrupamos por Fecha, Hora, Provincia, Tarifa\n",
    "\n",
    "Por motivmos de confidencialidad no puedo mostrar el origen de los datos, que son curvas de consumo horario por CUPS. Sin embargo a partir de ahora trabajermos con curvas de consumo horario agrupadas por estos campos que son suficientes para el desarrollo del modelo.\n"
   ]
  },
  {
   "cell_type": "code",
   "execution_count": 30,
   "metadata": {},
   "outputs": [
    {
     "data": {
      "text/plain": [
       "(7825203, 7)"
      ]
     },
     "execution_count": 30,
     "metadata": {},
     "output_type": "execute_result"
    }
   ],
   "source": [
    "Medidas.shape"
   ]
  },
  {
   "cell_type": "markdown",
   "metadata": {},
   "source": [
    "Como no tengo curva de consumo completa para todos los puntos para todas las horas de los dos años, voy a calcular el número de puntos por hora y la suma de la energía para cada hora, de esta manera si divido la suma de la energía entre el número de puntos, tendría un consumo medio para cada uno de los grupos que voy a tener."
   ]
  },
  {
   "cell_type": "code",
   "execution_count": 31,
   "metadata": {},
   "outputs": [],
   "source": [
    "puntos = Medidas.groupby(['Provincia', 'Fecha', 'Hora'], sort=True).count()\n",
    "\n",
    "puntos = puntos.reset_index()\n"
   ]
  },
  {
   "cell_type": "code",
   "execution_count": 32,
   "metadata": {},
   "outputs": [
    {
     "data": {
      "text/html": [
       "<div>\n",
       "<style scoped>\n",
       "    .dataframe tbody tr th:only-of-type {\n",
       "        vertical-align: middle;\n",
       "    }\n",
       "\n",
       "    .dataframe tbody tr th {\n",
       "        vertical-align: top;\n",
       "    }\n",
       "\n",
       "    .dataframe thead th {\n",
       "        text-align: right;\n",
       "    }\n",
       "</style>\n",
       "<table border=\"1\" class=\"dataframe\">\n",
       "  <thead>\n",
       "    <tr style=\"text-align: right;\">\n",
       "      <th></th>\n",
       "      <th>Provincia</th>\n",
       "      <th>Fecha</th>\n",
       "      <th>Hora</th>\n",
       "      <th>Cups20</th>\n",
       "      <th>Tarifa</th>\n",
       "      <th>Active</th>\n",
       "      <th>Potencia</th>\n",
       "    </tr>\n",
       "  </thead>\n",
       "  <tbody>\n",
       "    <tr>\n",
       "      <th>0</th>\n",
       "      <td>Albacete</td>\n",
       "      <td>2017-01-01</td>\n",
       "      <td>1</td>\n",
       "      <td>6</td>\n",
       "      <td>6</td>\n",
       "      <td>6</td>\n",
       "      <td>6</td>\n",
       "    </tr>\n",
       "    <tr>\n",
       "      <th>1</th>\n",
       "      <td>Albacete</td>\n",
       "      <td>2017-01-01</td>\n",
       "      <td>2</td>\n",
       "      <td>6</td>\n",
       "      <td>6</td>\n",
       "      <td>6</td>\n",
       "      <td>6</td>\n",
       "    </tr>\n",
       "    <tr>\n",
       "      <th>2</th>\n",
       "      <td>Albacete</td>\n",
       "      <td>2017-01-01</td>\n",
       "      <td>3</td>\n",
       "      <td>6</td>\n",
       "      <td>6</td>\n",
       "      <td>6</td>\n",
       "      <td>6</td>\n",
       "    </tr>\n",
       "    <tr>\n",
       "      <th>3</th>\n",
       "      <td>Albacete</td>\n",
       "      <td>2017-01-01</td>\n",
       "      <td>4</td>\n",
       "      <td>6</td>\n",
       "      <td>6</td>\n",
       "      <td>6</td>\n",
       "      <td>6</td>\n",
       "    </tr>\n",
       "    <tr>\n",
       "      <th>4</th>\n",
       "      <td>Albacete</td>\n",
       "      <td>2017-01-01</td>\n",
       "      <td>5</td>\n",
       "      <td>6</td>\n",
       "      <td>6</td>\n",
       "      <td>6</td>\n",
       "      <td>6</td>\n",
       "    </tr>\n",
       "  </tbody>\n",
       "</table>\n",
       "</div>"
      ],
      "text/plain": [
       "  Provincia      Fecha  Hora  Cups20  Tarifa  Active  Potencia \n",
       "0  Albacete 2017-01-01     1       6       6       6          6\n",
       "1  Albacete 2017-01-01     2       6       6       6          6\n",
       "2  Albacete 2017-01-01     3       6       6       6          6\n",
       "3  Albacete 2017-01-01     4       6       6       6          6\n",
       "4  Albacete 2017-01-01     5       6       6       6          6"
      ]
     },
     "execution_count": 32,
     "metadata": {},
     "output_type": "execute_result"
    }
   ],
   "source": [
    "puntos.head()"
   ]
  },
  {
   "cell_type": "code",
   "execution_count": 33,
   "metadata": {},
   "outputs": [],
   "source": [
    "Medidas_procesadas=Medidas.groupby(['Provincia', 'Fecha', 'Hora'])[['Active']].agg(['sum', 'count'])"
   ]
  },
  {
   "cell_type": "code",
   "execution_count": 34,
   "metadata": {},
   "outputs": [],
   "source": [
    "Medidas_procesadas=Medidas_procesadas.reset_index()\n"
   ]
  },
  {
   "cell_type": "code",
   "execution_count": 35,
   "metadata": {},
   "outputs": [],
   "source": [
    "Medidas_procesadas.head()\n",
    "Medidas_procesadas.to_excel('Medidas_procesadas.xlsx')"
   ]
  },
  {
   "cell_type": "code",
   "execution_count": 36,
   "metadata": {},
   "outputs": [
    {
     "data": {
      "text/html": [
       "<div>\n",
       "<style scoped>\n",
       "    .dataframe tbody tr th:only-of-type {\n",
       "        vertical-align: middle;\n",
       "    }\n",
       "\n",
       "    .dataframe tbody tr th {\n",
       "        vertical-align: top;\n",
       "    }\n",
       "\n",
       "    .dataframe thead th {\n",
       "        text-align: right;\n",
       "    }\n",
       "</style>\n",
       "<table border=\"1\" class=\"dataframe\">\n",
       "  <thead>\n",
       "    <tr style=\"text-align: right;\">\n",
       "      <th></th>\n",
       "      <th>NºClientes</th>\n",
       "      <th>Activa</th>\n",
       "      <th>Tanto1</th>\n",
       "    </tr>\n",
       "  </thead>\n",
       "  <tbody>\n",
       "    <tr>\n",
       "      <th>count</th>\n",
       "      <td>455212.000000</td>\n",
       "      <td>455212.000000</td>\n",
       "      <td>455212.000000</td>\n",
       "    </tr>\n",
       "    <tr>\n",
       "      <th>mean</th>\n",
       "      <td>17.190239</td>\n",
       "      <td>1082.425789</td>\n",
       "      <td>21.187453</td>\n",
       "    </tr>\n",
       "    <tr>\n",
       "      <th>std</th>\n",
       "      <td>21.293400</td>\n",
       "      <td>9862.110741</td>\n",
       "      <td>147.957102</td>\n",
       "    </tr>\n",
       "    <tr>\n",
       "      <th>min</th>\n",
       "      <td>1.000000</td>\n",
       "      <td>0.000000</td>\n",
       "      <td>0.000000</td>\n",
       "    </tr>\n",
       "    <tr>\n",
       "      <th>25%</th>\n",
       "      <td>2.000000</td>\n",
       "      <td>1.638000</td>\n",
       "      <td>0.340500</td>\n",
       "    </tr>\n",
       "    <tr>\n",
       "      <th>50%</th>\n",
       "      <td>7.000000</td>\n",
       "      <td>5.298000</td>\n",
       "      <td>0.732256</td>\n",
       "    </tr>\n",
       "    <tr>\n",
       "      <th>75%</th>\n",
       "      <td>26.000000</td>\n",
       "      <td>17.596250</td>\n",
       "      <td>1.545513</td>\n",
       "    </tr>\n",
       "    <tr>\n",
       "      <th>max</th>\n",
       "      <td>92.000000</td>\n",
       "      <td>159104.177000</td>\n",
       "      <td>3578.000000</td>\n",
       "    </tr>\n",
       "  </tbody>\n",
       "</table>\n",
       "</div>"
      ],
      "text/plain": [
       "          NºClientes         Activa         Tanto1\n",
       "count  455212.000000  455212.000000  455212.000000\n",
       "mean       17.190239    1082.425789      21.187453\n",
       "std        21.293400    9862.110741     147.957102\n",
       "min         1.000000       0.000000       0.000000\n",
       "25%         2.000000       1.638000       0.340500\n",
       "50%         7.000000       5.298000       0.732256\n",
       "75%        26.000000      17.596250       1.545513\n",
       "max        92.000000  159104.177000    3578.000000"
      ]
     },
     "execution_count": 36,
     "metadata": {},
     "output_type": "execute_result"
    }
   ],
   "source": [
    "puntos = Medidas.groupby(['Provincia', 'Fecha', 'Hora'], sort=True)\n",
    "Medida_procesada=(puntos['Active'].agg([ma.count, np.sum]).rename(columns={'count':'NºClientes','sum':'Activa'}) )\n",
    "Medida_procesada['Tanto1']=Medida_procesada['Activa']/Medida_procesada['NºClientes']\n",
    "\n",
    "Medida_procesada.describe()"
   ]
  },
  {
   "cell_type": "code",
   "execution_count": 37,
   "metadata": {},
   "outputs": [
    {
     "data": {
      "text/html": [
       "<div>\n",
       "<style scoped>\n",
       "    .dataframe tbody tr th:only-of-type {\n",
       "        vertical-align: middle;\n",
       "    }\n",
       "\n",
       "    .dataframe tbody tr th {\n",
       "        vertical-align: top;\n",
       "    }\n",
       "\n",
       "    .dataframe thead th {\n",
       "        text-align: right;\n",
       "    }\n",
       "</style>\n",
       "<table border=\"1\" class=\"dataframe\">\n",
       "  <thead>\n",
       "    <tr style=\"text-align: right;\">\n",
       "      <th></th>\n",
       "      <th>Provincia</th>\n",
       "      <th>Fecha</th>\n",
       "      <th>Hora</th>\n",
       "      <th>NºClientes</th>\n",
       "      <th>Activa</th>\n",
       "      <th>Tanto1</th>\n",
       "    </tr>\n",
       "  </thead>\n",
       "  <tbody>\n",
       "    <tr>\n",
       "      <th>0</th>\n",
       "      <td>Albacete</td>\n",
       "      <td>2017-01-01</td>\n",
       "      <td>1</td>\n",
       "      <td>6.0</td>\n",
       "      <td>5.655</td>\n",
       "      <td>0.942500</td>\n",
       "    </tr>\n",
       "    <tr>\n",
       "      <th>1</th>\n",
       "      <td>Albacete</td>\n",
       "      <td>2017-01-01</td>\n",
       "      <td>2</td>\n",
       "      <td>6.0</td>\n",
       "      <td>5.413</td>\n",
       "      <td>0.902167</td>\n",
       "    </tr>\n",
       "    <tr>\n",
       "      <th>2</th>\n",
       "      <td>Albacete</td>\n",
       "      <td>2017-01-01</td>\n",
       "      <td>3</td>\n",
       "      <td>6.0</td>\n",
       "      <td>4.190</td>\n",
       "      <td>0.698333</td>\n",
       "    </tr>\n",
       "    <tr>\n",
       "      <th>3</th>\n",
       "      <td>Albacete</td>\n",
       "      <td>2017-01-01</td>\n",
       "      <td>4</td>\n",
       "      <td>6.0</td>\n",
       "      <td>3.974</td>\n",
       "      <td>0.662333</td>\n",
       "    </tr>\n",
       "    <tr>\n",
       "      <th>4</th>\n",
       "      <td>Albacete</td>\n",
       "      <td>2017-01-01</td>\n",
       "      <td>5</td>\n",
       "      <td>6.0</td>\n",
       "      <td>3.645</td>\n",
       "      <td>0.607500</td>\n",
       "    </tr>\n",
       "  </tbody>\n",
       "</table>\n",
       "</div>"
      ],
      "text/plain": [
       "  Provincia      Fecha  Hora  NºClientes  Activa    Tanto1\n",
       "0  Albacete 2017-01-01     1         6.0   5.655  0.942500\n",
       "1  Albacete 2017-01-01     2         6.0   5.413  0.902167\n",
       "2  Albacete 2017-01-01     3         6.0   4.190  0.698333\n",
       "3  Albacete 2017-01-01     4         6.0   3.974  0.662333\n",
       "4  Albacete 2017-01-01     5         6.0   3.645  0.607500"
      ]
     },
     "execution_count": 37,
     "metadata": {},
     "output_type": "execute_result"
    }
   ],
   "source": [
    "Medida_procesada=Medida_procesada.reset_index()\n",
    "Medida_procesada.head(5)"
   ]
  },
  {
   "cell_type": "code",
   "execution_count": 38,
   "metadata": {},
   "outputs": [
    {
     "data": {
      "text/html": [
       "<div>\n",
       "<style scoped>\n",
       "    .dataframe tbody tr th:only-of-type {\n",
       "        vertical-align: middle;\n",
       "    }\n",
       "\n",
       "    .dataframe tbody tr th {\n",
       "        vertical-align: top;\n",
       "    }\n",
       "\n",
       "    .dataframe thead th {\n",
       "        text-align: right;\n",
       "    }\n",
       "</style>\n",
       "<table border=\"1\" class=\"dataframe\">\n",
       "  <thead>\n",
       "    <tr style=\"text-align: right;\">\n",
       "      <th></th>\n",
       "      <th>Provincia</th>\n",
       "      <th>Comunidad</th>\n",
       "      <th>Zona</th>\n",
       "    </tr>\n",
       "  </thead>\n",
       "  <tbody>\n",
       "    <tr>\n",
       "      <th>0</th>\n",
       "      <td>Albacete</td>\n",
       "      <td>Castilla la Mancha</td>\n",
       "      <td>Centro</td>\n",
       "    </tr>\n",
       "    <tr>\n",
       "      <th>1</th>\n",
       "      <td>Alicante</td>\n",
       "      <td>Comunidad Valenciana</td>\n",
       "      <td>Centro</td>\n",
       "    </tr>\n",
       "    <tr>\n",
       "      <th>2</th>\n",
       "      <td>Almería</td>\n",
       "      <td>Andalucía</td>\n",
       "      <td>Sur</td>\n",
       "    </tr>\n",
       "    <tr>\n",
       "      <th>3</th>\n",
       "      <td>Badajoz</td>\n",
       "      <td>Extremadura</td>\n",
       "      <td>Centro</td>\n",
       "    </tr>\n",
       "    <tr>\n",
       "      <th>4</th>\n",
       "      <td>Barcelona</td>\n",
       "      <td>Cataluña</td>\n",
       "      <td>Norte</td>\n",
       "    </tr>\n",
       "  </tbody>\n",
       "</table>\n",
       "</div>"
      ],
      "text/plain": [
       "   Provincia             Comunidad    Zona\n",
       "0   Albacete    Castilla la Mancha  Centro\n",
       "1   Alicante  Comunidad Valenciana  Centro\n",
       "2    Almería             Andalucía     Sur\n",
       "3    Badajoz           Extremadura  Centro\n",
       "4  Barcelona              Cataluña   Norte"
      ]
     },
     "execution_count": 38,
     "metadata": {},
     "output_type": "execute_result"
    }
   ],
   "source": [
    "Comunidad = pd.read_excel('./data/Comunidades.xlsx')\n",
    "Comunidad.head(5)"
   ]
  },
  {
   "cell_type": "code",
   "execution_count": 39,
   "metadata": {},
   "outputs": [
    {
     "data": {
      "text/html": [
       "<div>\n",
       "<style scoped>\n",
       "    .dataframe tbody tr th:only-of-type {\n",
       "        vertical-align: middle;\n",
       "    }\n",
       "\n",
       "    .dataframe tbody tr th {\n",
       "        vertical-align: top;\n",
       "    }\n",
       "\n",
       "    .dataframe thead th {\n",
       "        text-align: right;\n",
       "    }\n",
       "</style>\n",
       "<table border=\"1\" class=\"dataframe\">\n",
       "  <thead>\n",
       "    <tr style=\"text-align: right;\">\n",
       "      <th></th>\n",
       "      <th>Provincia</th>\n",
       "      <th>Fecha</th>\n",
       "      <th>Hora</th>\n",
       "      <th>NºClientes</th>\n",
       "      <th>Activa</th>\n",
       "      <th>Tanto1</th>\n",
       "      <th>Comunidad</th>\n",
       "      <th>Zona</th>\n",
       "    </tr>\n",
       "  </thead>\n",
       "  <tbody>\n",
       "    <tr>\n",
       "      <th>0</th>\n",
       "      <td>Albacete</td>\n",
       "      <td>2017-01-01</td>\n",
       "      <td>1</td>\n",
       "      <td>6.0</td>\n",
       "      <td>5.655</td>\n",
       "      <td>0.942500</td>\n",
       "      <td>Castilla la Mancha</td>\n",
       "      <td>Centro</td>\n",
       "    </tr>\n",
       "    <tr>\n",
       "      <th>1</th>\n",
       "      <td>Albacete</td>\n",
       "      <td>2017-01-01</td>\n",
       "      <td>2</td>\n",
       "      <td>6.0</td>\n",
       "      <td>5.413</td>\n",
       "      <td>0.902167</td>\n",
       "      <td>Castilla la Mancha</td>\n",
       "      <td>Centro</td>\n",
       "    </tr>\n",
       "    <tr>\n",
       "      <th>2</th>\n",
       "      <td>Albacete</td>\n",
       "      <td>2017-01-01</td>\n",
       "      <td>3</td>\n",
       "      <td>6.0</td>\n",
       "      <td>4.190</td>\n",
       "      <td>0.698333</td>\n",
       "      <td>Castilla la Mancha</td>\n",
       "      <td>Centro</td>\n",
       "    </tr>\n",
       "    <tr>\n",
       "      <th>3</th>\n",
       "      <td>Albacete</td>\n",
       "      <td>2017-01-01</td>\n",
       "      <td>4</td>\n",
       "      <td>6.0</td>\n",
       "      <td>3.974</td>\n",
       "      <td>0.662333</td>\n",
       "      <td>Castilla la Mancha</td>\n",
       "      <td>Centro</td>\n",
       "    </tr>\n",
       "    <tr>\n",
       "      <th>4</th>\n",
       "      <td>Albacete</td>\n",
       "      <td>2017-01-01</td>\n",
       "      <td>5</td>\n",
       "      <td>6.0</td>\n",
       "      <td>3.645</td>\n",
       "      <td>0.607500</td>\n",
       "      <td>Castilla la Mancha</td>\n",
       "      <td>Centro</td>\n",
       "    </tr>\n",
       "  </tbody>\n",
       "</table>\n",
       "</div>"
      ],
      "text/plain": [
       "  Provincia      Fecha  Hora  NºClientes  Activa    Tanto1  \\\n",
       "0  Albacete 2017-01-01     1         6.0   5.655  0.942500   \n",
       "1  Albacete 2017-01-01     2         6.0   5.413  0.902167   \n",
       "2  Albacete 2017-01-01     3         6.0   4.190  0.698333   \n",
       "3  Albacete 2017-01-01     4         6.0   3.974  0.662333   \n",
       "4  Albacete 2017-01-01     5         6.0   3.645  0.607500   \n",
       "\n",
       "            Comunidad    Zona  \n",
       "0  Castilla la Mancha  Centro  \n",
       "1  Castilla la Mancha  Centro  \n",
       "2  Castilla la Mancha  Centro  \n",
       "3  Castilla la Mancha  Centro  \n",
       "4  Castilla la Mancha  Centro  "
      ]
     },
     "execution_count": 39,
     "metadata": {},
     "output_type": "execute_result"
    }
   ],
   "source": [
    "Medida_procesada = pd.merge(Medida_procesada, Comunidad, on='Provincia')\n",
    "Medida_procesada.head(5)"
   ]
  },
  {
   "cell_type": "code",
   "execution_count": 40,
   "metadata": {},
   "outputs": [
    {
     "data": {
      "text/html": [
       "<div>\n",
       "<style scoped>\n",
       "    .dataframe tbody tr th:only-of-type {\n",
       "        vertical-align: middle;\n",
       "    }\n",
       "\n",
       "    .dataframe tbody tr th {\n",
       "        vertical-align: top;\n",
       "    }\n",
       "\n",
       "    .dataframe thead th {\n",
       "        text-align: right;\n",
       "    }\n",
       "</style>\n",
       "<table border=\"1\" class=\"dataframe\">\n",
       "  <thead>\n",
       "    <tr style=\"text-align: right;\">\n",
       "      <th></th>\n",
       "      <th>Provincia</th>\n",
       "      <th>Fecha</th>\n",
       "      <th>Hora</th>\n",
       "      <th>NºClientes</th>\n",
       "      <th>Activa</th>\n",
       "      <th>Tanto1</th>\n",
       "      <th>Comunidad</th>\n",
       "      <th>Zona</th>\n",
       "    </tr>\n",
       "    <tr>\n",
       "      <th>Fecha</th>\n",
       "      <th></th>\n",
       "      <th></th>\n",
       "      <th></th>\n",
       "      <th></th>\n",
       "      <th></th>\n",
       "      <th></th>\n",
       "      <th></th>\n",
       "      <th></th>\n",
       "    </tr>\n",
       "  </thead>\n",
       "  <tbody>\n",
       "    <tr>\n",
       "      <th>2017-01-01</th>\n",
       "      <td>Albacete</td>\n",
       "      <td>2017-01-01</td>\n",
       "      <td>1</td>\n",
       "      <td>6.0</td>\n",
       "      <td>5.655</td>\n",
       "      <td>0.942500</td>\n",
       "      <td>Castilla la Mancha</td>\n",
       "      <td>Centro</td>\n",
       "    </tr>\n",
       "    <tr>\n",
       "      <th>2017-01-01</th>\n",
       "      <td>Albacete</td>\n",
       "      <td>2017-01-01</td>\n",
       "      <td>2</td>\n",
       "      <td>6.0</td>\n",
       "      <td>5.413</td>\n",
       "      <td>0.902167</td>\n",
       "      <td>Castilla la Mancha</td>\n",
       "      <td>Centro</td>\n",
       "    </tr>\n",
       "    <tr>\n",
       "      <th>2017-01-01</th>\n",
       "      <td>Albacete</td>\n",
       "      <td>2017-01-01</td>\n",
       "      <td>3</td>\n",
       "      <td>6.0</td>\n",
       "      <td>4.190</td>\n",
       "      <td>0.698333</td>\n",
       "      <td>Castilla la Mancha</td>\n",
       "      <td>Centro</td>\n",
       "    </tr>\n",
       "    <tr>\n",
       "      <th>2017-01-01</th>\n",
       "      <td>Albacete</td>\n",
       "      <td>2017-01-01</td>\n",
       "      <td>4</td>\n",
       "      <td>6.0</td>\n",
       "      <td>3.974</td>\n",
       "      <td>0.662333</td>\n",
       "      <td>Castilla la Mancha</td>\n",
       "      <td>Centro</td>\n",
       "    </tr>\n",
       "    <tr>\n",
       "      <th>2017-01-01</th>\n",
       "      <td>Albacete</td>\n",
       "      <td>2017-01-01</td>\n",
       "      <td>5</td>\n",
       "      <td>6.0</td>\n",
       "      <td>3.645</td>\n",
       "      <td>0.607500</td>\n",
       "      <td>Castilla la Mancha</td>\n",
       "      <td>Centro</td>\n",
       "    </tr>\n",
       "  </tbody>\n",
       "</table>\n",
       "</div>"
      ],
      "text/plain": [
       "           Provincia      Fecha  Hora  NºClientes  Activa    Tanto1  \\\n",
       "Fecha                                                                 \n",
       "2017-01-01  Albacete 2017-01-01     1         6.0   5.655  0.942500   \n",
       "2017-01-01  Albacete 2017-01-01     2         6.0   5.413  0.902167   \n",
       "2017-01-01  Albacete 2017-01-01     3         6.0   4.190  0.698333   \n",
       "2017-01-01  Albacete 2017-01-01     4         6.0   3.974  0.662333   \n",
       "2017-01-01  Albacete 2017-01-01     5         6.0   3.645  0.607500   \n",
       "\n",
       "                     Comunidad    Zona  \n",
       "Fecha                                   \n",
       "2017-01-01  Castilla la Mancha  Centro  \n",
       "2017-01-01  Castilla la Mancha  Centro  \n",
       "2017-01-01  Castilla la Mancha  Centro  \n",
       "2017-01-01  Castilla la Mancha  Centro  \n",
       "2017-01-01  Castilla la Mancha  Centro  "
      ]
     },
     "execution_count": 40,
     "metadata": {},
     "output_type": "execute_result"
    }
   ],
   "source": [
    "Medida_procesada.index=Medida_procesada['Fecha']\n",
    "Medida_procesada.head(5)"
   ]
  },
  {
   "cell_type": "code",
   "execution_count": 41,
   "metadata": {},
   "outputs": [],
   "source": [
    "Medida_procesada['Fecha']=pd.to_datetime(Medida_procesada['Fecha'], yearfirst=True,format='%Y-%m-%d')"
   ]
  },
  {
   "cell_type": "code",
   "execution_count": 42,
   "metadata": {},
   "outputs": [
    {
     "data": {
      "text/html": [
       "<div>\n",
       "<style scoped>\n",
       "    .dataframe tbody tr th:only-of-type {\n",
       "        vertical-align: middle;\n",
       "    }\n",
       "\n",
       "    .dataframe tbody tr th {\n",
       "        vertical-align: top;\n",
       "    }\n",
       "\n",
       "    .dataframe thead th {\n",
       "        text-align: right;\n",
       "    }\n",
       "</style>\n",
       "<table border=\"1\" class=\"dataframe\">\n",
       "  <thead>\n",
       "    <tr style=\"text-align: right;\">\n",
       "      <th></th>\n",
       "      <th>Provincia</th>\n",
       "      <th>Fecha</th>\n",
       "      <th>Hora</th>\n",
       "      <th>NºClientes</th>\n",
       "      <th>Activa</th>\n",
       "      <th>Tanto1</th>\n",
       "      <th>Comunidad</th>\n",
       "      <th>Zona</th>\n",
       "    </tr>\n",
       "    <tr>\n",
       "      <th>Fecha</th>\n",
       "      <th></th>\n",
       "      <th></th>\n",
       "      <th></th>\n",
       "      <th></th>\n",
       "      <th></th>\n",
       "      <th></th>\n",
       "      <th></th>\n",
       "      <th></th>\n",
       "    </tr>\n",
       "  </thead>\n",
       "  <tbody>\n",
       "    <tr>\n",
       "      <th>2017-01-01</th>\n",
       "      <td>Albacete</td>\n",
       "      <td>2017-01-01</td>\n",
       "      <td>1</td>\n",
       "      <td>6.0</td>\n",
       "      <td>5.655</td>\n",
       "      <td>0.942500</td>\n",
       "      <td>Castilla la Mancha</td>\n",
       "      <td>Centro</td>\n",
       "    </tr>\n",
       "    <tr>\n",
       "      <th>2017-01-01</th>\n",
       "      <td>Albacete</td>\n",
       "      <td>2017-01-01</td>\n",
       "      <td>2</td>\n",
       "      <td>6.0</td>\n",
       "      <td>5.413</td>\n",
       "      <td>0.902167</td>\n",
       "      <td>Castilla la Mancha</td>\n",
       "      <td>Centro</td>\n",
       "    </tr>\n",
       "    <tr>\n",
       "      <th>2017-01-01</th>\n",
       "      <td>Albacete</td>\n",
       "      <td>2017-01-01</td>\n",
       "      <td>3</td>\n",
       "      <td>6.0</td>\n",
       "      <td>4.190</td>\n",
       "      <td>0.698333</td>\n",
       "      <td>Castilla la Mancha</td>\n",
       "      <td>Centro</td>\n",
       "    </tr>\n",
       "    <tr>\n",
       "      <th>2017-01-01</th>\n",
       "      <td>Albacete</td>\n",
       "      <td>2017-01-01</td>\n",
       "      <td>4</td>\n",
       "      <td>6.0</td>\n",
       "      <td>3.974</td>\n",
       "      <td>0.662333</td>\n",
       "      <td>Castilla la Mancha</td>\n",
       "      <td>Centro</td>\n",
       "    </tr>\n",
       "    <tr>\n",
       "      <th>2017-01-01</th>\n",
       "      <td>Albacete</td>\n",
       "      <td>2017-01-01</td>\n",
       "      <td>5</td>\n",
       "      <td>6.0</td>\n",
       "      <td>3.645</td>\n",
       "      <td>0.607500</td>\n",
       "      <td>Castilla la Mancha</td>\n",
       "      <td>Centro</td>\n",
       "    </tr>\n",
       "  </tbody>\n",
       "</table>\n",
       "</div>"
      ],
      "text/plain": [
       "           Provincia      Fecha  Hora  NºClientes  Activa    Tanto1  \\\n",
       "Fecha                                                                 \n",
       "2017-01-01  Albacete 2017-01-01     1         6.0   5.655  0.942500   \n",
       "2017-01-01  Albacete 2017-01-01     2         6.0   5.413  0.902167   \n",
       "2017-01-01  Albacete 2017-01-01     3         6.0   4.190  0.698333   \n",
       "2017-01-01  Albacete 2017-01-01     4         6.0   3.974  0.662333   \n",
       "2017-01-01  Albacete 2017-01-01     5         6.0   3.645  0.607500   \n",
       "\n",
       "                     Comunidad    Zona  \n",
       "Fecha                                   \n",
       "2017-01-01  Castilla la Mancha  Centro  \n",
       "2017-01-01  Castilla la Mancha  Centro  \n",
       "2017-01-01  Castilla la Mancha  Centro  \n",
       "2017-01-01  Castilla la Mancha  Centro  \n",
       "2017-01-01  Castilla la Mancha  Centro  "
      ]
     },
     "execution_count": 42,
     "metadata": {},
     "output_type": "execute_result"
    }
   ],
   "source": [
    "Medida_procesada.head(5)"
   ]
  },
  {
   "cell_type": "code",
   "execution_count": 43,
   "metadata": {},
   "outputs": [
    {
     "data": {
      "text/plain": [
       "[<matplotlib.lines.Line2D at 0x1d0f090588>]"
      ]
     },
     "execution_count": 43,
     "metadata": {},
     "output_type": "execute_result"
    },
    {
     "data": {
      "image/png": "[encoded data removed]",
      "text/plain": [
       "<Figure size 432x288 with 1 Axes>"
      ]
     },
     "metadata": {},
     "output_type": "display_data"
    }
   ],
   "source": [
    "plt.plot(Medida_procesada['Tanto1'])"
   ]
  },
  {
   "cell_type": "markdown",
   "metadata": {},
   "source": [
    "En el grafico podemos ver claramente que nuestros datos no son lo esperado, que esta curva no tienen ningún sentido, y que ni mucho menos tiene estacionalidad."
   ]
  },
  {
   "cell_type": "code",
   "execution_count": 44,
   "metadata": {},
   "outputs": [],
   "source": [
    "Medida_procesada.to_csv('./data_processed/Medida_procesada.csv')"
   ]
  },
  {
   "cell_type": "code",
   "execution_count": null,
   "metadata": {},
   "outputs": [],
   "source": []
  }
 ],
 "metadata": {
  "kernelspec": {
   "display_name": "Python 3",
   "language": "python",
   "name": "python3"
  },
  "language_info": {
   "codemirror_mode": {
    "name": "ipython",
    "version": 3
   },
   "file_extension": ".py",
   "mimetype": "text/x-python",
   "name": "python",
   "nbconvert_exporter": "python",
   "pygments_lexer": "ipython3",
   "version": "3.6.8"
  }
 },
 "nbformat": 4,
 "nbformat_minor": 2
}
